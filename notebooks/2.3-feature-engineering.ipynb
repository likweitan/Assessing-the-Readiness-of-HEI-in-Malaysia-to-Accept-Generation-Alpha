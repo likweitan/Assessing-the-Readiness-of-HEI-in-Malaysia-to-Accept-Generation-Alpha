{
 "cells": [
  {
   "cell_type": "markdown",
   "metadata": {},
   "source": [
    "## Setting Environment"
   ]
  },
  {
   "cell_type": "code",
   "execution_count": 1,
   "metadata": {},
   "outputs": [],
   "source": [
    "import pandas as pd\n",
    "import numpy as np"
   ]
  },
  {
   "cell_type": "markdown",
   "metadata": {},
   "source": [
    "## Importing Data"
   ]
  },
  {
   "cell_type": "code",
   "execution_count": 2,
   "metadata": {},
   "outputs": [
    {
     "name": "stdout",
     "output_type": "stream",
     "text": [
      "Wall time: 16.4 s\n"
     ]
    }
   ],
   "source": [
    "%%time\n",
    "info_content_df = pd.read_csv('../data/interim/Info_Content.csv', index_col='ucid')\n",
    "info_userdata_df = pd.read_csv('../data/interim/Info_UserData.csv', index_col='uuid')\n",
    "log_problem_df = pd.read_csv('../data/interim/Log_Problem.csv', index_col='upid')"
   ]
  },
  {
   "cell_type": "markdown",
   "metadata": {},
   "source": [
    "## Merging Dataframe"
   ]
  },
  {
   "cell_type": "code",
   "execution_count": 3,
   "metadata": {},
   "outputs": [],
   "source": [
    "merge_df = log_problem_df.merge(info_userdata_df,how='left',on='uuid')"
   ]
  },
  {
   "cell_type": "code",
   "execution_count": 4,
   "metadata": {},
   "outputs": [],
   "source": [
    "merge_df = merge_df.merge(info_content_df,how='left',on='ucid')"
   ]
  },
  {
   "cell_type": "code",
   "execution_count": 5,
   "metadata": {},
   "outputs": [
    {
     "data": {
      "text/html": [
       "<div>\n",
       "<style scoped>\n",
       "    .dataframe tbody tr th:only-of-type {\n",
       "        vertical-align: middle;\n",
       "    }\n",
       "\n",
       "    .dataframe tbody tr th {\n",
       "        vertical-align: top;\n",
       "    }\n",
       "\n",
       "    .dataframe thead th {\n",
       "        text-align: right;\n",
       "    }\n",
       "</style>\n",
       "<table border=\"1\" class=\"dataframe\">\n",
       "  <thead>\n",
       "    <tr style=\"text-align: right;\">\n",
       "      <th></th>\n",
       "      <th>datetime_attempt</th>\n",
       "      <th>uuid</th>\n",
       "      <th>ucid</th>\n",
       "      <th>problem_number</th>\n",
       "      <th>exercise_problem_repeat_session</th>\n",
       "      <th>is_correct</th>\n",
       "      <th>total_sec_taken</th>\n",
       "      <th>total_attempt_cnt</th>\n",
       "      <th>used_hint_cnt</th>\n",
       "      <th>is_hint_used</th>\n",
       "      <th>...</th>\n",
       "      <th>user_city_phc</th>\n",
       "      <th>user_city_ptc</th>\n",
       "      <th>user_city_tc</th>\n",
       "      <th>user_city_tn</th>\n",
       "      <th>user_city_tp</th>\n",
       "      <th>user_city_ttct</th>\n",
       "      <th>user_city_ty</th>\n",
       "      <th>content_pretty_name</th>\n",
       "      <th>difficulty</th>\n",
       "      <th>learning_stage</th>\n",
       "    </tr>\n",
       "  </thead>\n",
       "  <tbody>\n",
       "    <tr>\n",
       "      <th>0</th>\n",
       "      <td>2018-09-28 20:00:00+00:00</td>\n",
       "      <td>Kpq2q+eKw/O+6/jLs3XJosgmI7weEJxJZdnkKTbbF8I=</td>\n",
       "      <td>Ps4dfShfpeMF3VG030HqZ2bsbD7PaVxvJYFTtroeSzQ=</td>\n",
       "      <td>2</td>\n",
       "      <td>1</td>\n",
       "      <td>True</td>\n",
       "      <td>11</td>\n",
       "      <td>1</td>\n",
       "      <td>0</td>\n",
       "      <td>False</td>\n",
       "      <td>...</td>\n",
       "      <td>0</td>\n",
       "      <td>0</td>\n",
       "      <td>0</td>\n",
       "      <td>0</td>\n",
       "      <td>0</td>\n",
       "      <td>0</td>\n",
       "      <td>0</td>\n",
       "      <td>【基礎】倍數的應用</td>\n",
       "      <td>1</td>\n",
       "      <td>1</td>\n",
       "    </tr>\n",
       "    <tr>\n",
       "      <th>1</th>\n",
       "      <td>2018-09-28 10:15:00+00:00</td>\n",
       "      <td>0+VU/Zb0Q96uoByuRhl7r9bJuJO6CKWpsmNMEuijSzc=</td>\n",
       "      <td>/d39FzqaM3PZzpoMXxA80PMICsVhzfL6MGSCqZtsQOo=</td>\n",
       "      <td>6</td>\n",
       "      <td>1</td>\n",
       "      <td>True</td>\n",
       "      <td>26</td>\n",
       "      <td>1</td>\n",
       "      <td>0</td>\n",
       "      <td>False</td>\n",
       "      <td>...</td>\n",
       "      <td>0</td>\n",
       "      <td>0</td>\n",
       "      <td>0</td>\n",
       "      <td>0</td>\n",
       "      <td>0</td>\n",
       "      <td>0</td>\n",
       "      <td>0</td>\n",
       "      <td>【基礎】找出最小公倍數</td>\n",
       "      <td>1</td>\n",
       "      <td>1</td>\n",
       "    </tr>\n",
       "    <tr>\n",
       "      <th>2</th>\n",
       "      <td>2018-09-05 20:00:00+00:00</td>\n",
       "      <td>g8DnYvIqpolw10XlwWeIWv6NbDPByUbmgH8EshJqBns=</td>\n",
       "      <td>YuGOmB+frbM8rfAa0RJE882R+IoMf9N89OiVqLbAHBw=</td>\n",
       "      <td>4</td>\n",
       "      <td>1</td>\n",
       "      <td>True</td>\n",
       "      <td>78</td>\n",
       "      <td>1</td>\n",
       "      <td>0</td>\n",
       "      <td>False</td>\n",
       "      <td>...</td>\n",
       "      <td>0</td>\n",
       "      <td>0</td>\n",
       "      <td>0</td>\n",
       "      <td>0</td>\n",
       "      <td>0</td>\n",
       "      <td>0</td>\n",
       "      <td>1</td>\n",
       "      <td>【基礎】尋找質因數</td>\n",
       "      <td>1</td>\n",
       "      <td>1</td>\n",
       "    </tr>\n",
       "    <tr>\n",
       "      <th>3</th>\n",
       "      <td>2018-09-14 16:30:00+00:00</td>\n",
       "      <td>kSyUTFlepsYUD723IPL/jEZ520xaKbscrBmNtBUFR1o=</td>\n",
       "      <td>BG1RsWojzEHzV28RBm/1iKi1NyZgDcDomLYEJSV6lmo=</td>\n",
       "      <td>3</td>\n",
       "      <td>1</td>\n",
       "      <td>True</td>\n",
       "      <td>7</td>\n",
       "      <td>1</td>\n",
       "      <td>0</td>\n",
       "      <td>False</td>\n",
       "      <td>...</td>\n",
       "      <td>0</td>\n",
       "      <td>0</td>\n",
       "      <td>0</td>\n",
       "      <td>0</td>\n",
       "      <td>0</td>\n",
       "      <td>0</td>\n",
       "      <td>0</td>\n",
       "      <td>【基礎】數的相關名詞介紹</td>\n",
       "      <td>1</td>\n",
       "      <td>2</td>\n",
       "    </tr>\n",
       "    <tr>\n",
       "      <th>4</th>\n",
       "      <td>2018-09-13 16:00:00+00:00</td>\n",
       "      <td>XMFbFA7C49+LRhUddhelfPpA6F5dbOoxeyL3eYbuTlY=</td>\n",
       "      <td>qPHR8aBqOhKij9IS/Y8IR8prwWruoDBGU1tVUhXDJkE=</td>\n",
       "      <td>12</td>\n",
       "      <td>1</td>\n",
       "      <td>True</td>\n",
       "      <td>48</td>\n",
       "      <td>1</td>\n",
       "      <td>0</td>\n",
       "      <td>False</td>\n",
       "      <td>...</td>\n",
       "      <td>0</td>\n",
       "      <td>0</td>\n",
       "      <td>0</td>\n",
       "      <td>0</td>\n",
       "      <td>0</td>\n",
       "      <td>0</td>\n",
       "      <td>1</td>\n",
       "      <td>【基礎】大數的加減</td>\n",
       "      <td>1</td>\n",
       "      <td>1</td>\n",
       "    </tr>\n",
       "  </tbody>\n",
       "</table>\n",
       "<p>5 rows × 46 columns</p>\n",
       "</div>"
      ],
      "text/plain": [
       "            datetime_attempt                                          uuid  \\\n",
       "0  2018-09-28 20:00:00+00:00  Kpq2q+eKw/O+6/jLs3XJosgmI7weEJxJZdnkKTbbF8I=   \n",
       "1  2018-09-28 10:15:00+00:00  0+VU/Zb0Q96uoByuRhl7r9bJuJO6CKWpsmNMEuijSzc=   \n",
       "2  2018-09-05 20:00:00+00:00  g8DnYvIqpolw10XlwWeIWv6NbDPByUbmgH8EshJqBns=   \n",
       "3  2018-09-14 16:30:00+00:00  kSyUTFlepsYUD723IPL/jEZ520xaKbscrBmNtBUFR1o=   \n",
       "4  2018-09-13 16:00:00+00:00  XMFbFA7C49+LRhUddhelfPpA6F5dbOoxeyL3eYbuTlY=   \n",
       "\n",
       "                                           ucid  problem_number  \\\n",
       "0  Ps4dfShfpeMF3VG030HqZ2bsbD7PaVxvJYFTtroeSzQ=               2   \n",
       "1  /d39FzqaM3PZzpoMXxA80PMICsVhzfL6MGSCqZtsQOo=               6   \n",
       "2  YuGOmB+frbM8rfAa0RJE882R+IoMf9N89OiVqLbAHBw=               4   \n",
       "3  BG1RsWojzEHzV28RBm/1iKi1NyZgDcDomLYEJSV6lmo=               3   \n",
       "4  qPHR8aBqOhKij9IS/Y8IR8prwWruoDBGU1tVUhXDJkE=              12   \n",
       "\n",
       "   exercise_problem_repeat_session  is_correct  total_sec_taken  \\\n",
       "0                                1        True               11   \n",
       "1                                1        True               26   \n",
       "2                                1        True               78   \n",
       "3                                1        True                7   \n",
       "4                                1        True               48   \n",
       "\n",
       "   total_attempt_cnt  used_hint_cnt  is_hint_used  ...  user_city_phc  \\\n",
       "0                  1              0         False  ...              0   \n",
       "1                  1              0         False  ...              0   \n",
       "2                  1              0         False  ...              0   \n",
       "3                  1              0         False  ...              0   \n",
       "4                  1              0         False  ...              0   \n",
       "\n",
       "   user_city_ptc  user_city_tc  user_city_tn  user_city_tp user_city_ttct  \\\n",
       "0              0             0             0             0              0   \n",
       "1              0             0             0             0              0   \n",
       "2              0             0             0             0              0   \n",
       "3              0             0             0             0              0   \n",
       "4              0             0             0             0              0   \n",
       "\n",
       "   user_city_ty  content_pretty_name  difficulty  learning_stage  \n",
       "0             0            【基礎】倍數的應用           1               1  \n",
       "1             0          【基礎】找出最小公倍數           1               1  \n",
       "2             1            【基礎】尋找質因數           1               1  \n",
       "3             0         【基礎】數的相關名詞介紹           1               2  \n",
       "4             1            【基礎】大數的加減           1               1  \n",
       "\n",
       "[5 rows x 46 columns]"
      ]
     },
     "execution_count": 5,
     "metadata": {},
     "output_type": "execute_result"
    }
   ],
   "source": [
    "# preview merge data\n",
    "merge_df.head()"
   ]
  },
  {
   "cell_type": "markdown",
   "metadata": {},
   "source": [
    "## Create Proficiency"
   ]
  },
  {
   "cell_type": "code",
   "execution_count": 6,
   "metadata": {},
   "outputs": [
    {
     "data": {
      "text/plain": [
       "upid\n",
       "ZmKEZ0F2WFqhlL7KFfJcHEnZCZu0e4p+CVG5rSlyKYk=    0\n",
       "tO9dyvadKWMVQgEx/BXtRIYJ2TRJFQgwvcsBwFb4+xI=    0\n",
       "6Lxz6aXvgyw3vZd3v8g6jgoCRDPOQzVPx/dnEC0o7DQ=    0\n",
       "1fIjdakTApQp5PfWog87uOmM6JuoNE/oQq2y5/fMmfw=    0\n",
       "8V/NT6M+er2I3V3ZIWRNo4Qbo3Iad89PHbeeZeoZeF0=    1\n",
       "                                               ..\n",
       "YW9ic0LNvF8VT64lGCeXV+8LW0yfZk6G+FWUs3BZOK4=    1\n",
       "E5ptHhadL0CWGKIWrolM5Ovli6khhvp/fu/do/0qUC8=    0\n",
       "CZGEcAjZmnJWpgcAnwFUFLpAElrIa1GCp6GyTYsPUIA=    0\n",
       "I87Qgm2jCymIb907izeL0DeZGRkpDetYpPWWKbdDrt8=    0\n",
       "boVeJmNRnhK2ErAZZ1dNhsQ4uNUTCenC8IIvEdl9XSA=    0\n",
       "Name: level, Length: 7064114, dtype: int64"
      ]
     },
     "execution_count": 6,
     "metadata": {},
     "output_type": "execute_result"
    }
   ],
   "source": [
    "log_problem_df.level[log_problem_df['level']<4]"
   ]
  },
  {
   "cell_type": "code",
   "execution_count": 7,
   "metadata": {},
   "outputs": [],
   "source": [
    "def create_proficient_col(row):\n",
    "    if row['level'] < 4:\n",
    "        val = 0\n",
    "    else:\n",
    "        val = 1\n",
    "    return val"
   ]
  },
  {
   "cell_type": "code",
   "execution_count": 8,
   "metadata": {},
   "outputs": [],
   "source": [
    "log_problem_df['is_proficient'] = log_problem_df.apply(create_proficient_col, axis=1)"
   ]
  },
  {
   "cell_type": "code",
   "execution_count": 9,
   "metadata": {},
   "outputs": [
    {
     "data": {
      "text/html": [
       "<div>\n",
       "<style scoped>\n",
       "    .dataframe tbody tr th:only-of-type {\n",
       "        vertical-align: middle;\n",
       "    }\n",
       "\n",
       "    .dataframe tbody tr th {\n",
       "        vertical-align: top;\n",
       "    }\n",
       "\n",
       "    .dataframe thead th {\n",
       "        text-align: right;\n",
       "    }\n",
       "</style>\n",
       "<table border=\"1\" class=\"dataframe\">\n",
       "  <thead>\n",
       "    <tr style=\"text-align: right;\">\n",
       "      <th></th>\n",
       "      <th>datetime_attempt</th>\n",
       "      <th>uuid</th>\n",
       "      <th>ucid</th>\n",
       "      <th>problem_number</th>\n",
       "      <th>exercise_problem_repeat_session</th>\n",
       "      <th>is_correct</th>\n",
       "      <th>total_sec_taken</th>\n",
       "      <th>total_attempt_cnt</th>\n",
       "      <th>used_hint_cnt</th>\n",
       "      <th>is_hint_used</th>\n",
       "      <th>is_downgrade</th>\n",
       "      <th>is_upgrade</th>\n",
       "      <th>level</th>\n",
       "      <th>is_proficient</th>\n",
       "    </tr>\n",
       "    <tr>\n",
       "      <th>upid</th>\n",
       "      <th></th>\n",
       "      <th></th>\n",
       "      <th></th>\n",
       "      <th></th>\n",
       "      <th></th>\n",
       "      <th></th>\n",
       "      <th></th>\n",
       "      <th></th>\n",
       "      <th></th>\n",
       "      <th></th>\n",
       "      <th></th>\n",
       "      <th></th>\n",
       "      <th></th>\n",
       "      <th></th>\n",
       "    </tr>\n",
       "  </thead>\n",
       "  <tbody>\n",
       "    <tr>\n",
       "      <th>ZmKEZ0F2WFqhlL7KFfJcHEnZCZu0e4p+CVG5rSlyKYk=</th>\n",
       "      <td>2018-09-28 20:00:00+00:00</td>\n",
       "      <td>Kpq2q+eKw/O+6/jLs3XJosgmI7weEJxJZdnkKTbbF8I=</td>\n",
       "      <td>Ps4dfShfpeMF3VG030HqZ2bsbD7PaVxvJYFTtroeSzQ=</td>\n",
       "      <td>2</td>\n",
       "      <td>1</td>\n",
       "      <td>True</td>\n",
       "      <td>11</td>\n",
       "      <td>1</td>\n",
       "      <td>0</td>\n",
       "      <td>False</td>\n",
       "      <td>0</td>\n",
       "      <td>0</td>\n",
       "      <td>0</td>\n",
       "      <td>0</td>\n",
       "    </tr>\n",
       "    <tr>\n",
       "      <th>tO9dyvadKWMVQgEx/BXtRIYJ2TRJFQgwvcsBwFb4+xI=</th>\n",
       "      <td>2018-09-28 10:15:00+00:00</td>\n",
       "      <td>0+VU/Zb0Q96uoByuRhl7r9bJuJO6CKWpsmNMEuijSzc=</td>\n",
       "      <td>/d39FzqaM3PZzpoMXxA80PMICsVhzfL6MGSCqZtsQOo=</td>\n",
       "      <td>6</td>\n",
       "      <td>1</td>\n",
       "      <td>True</td>\n",
       "      <td>26</td>\n",
       "      <td>1</td>\n",
       "      <td>0</td>\n",
       "      <td>False</td>\n",
       "      <td>0</td>\n",
       "      <td>0</td>\n",
       "      <td>0</td>\n",
       "      <td>0</td>\n",
       "    </tr>\n",
       "    <tr>\n",
       "      <th>6Lxz6aXvgyw3vZd3v8g6jgoCRDPOQzVPx/dnEC0o7DQ=</th>\n",
       "      <td>2018-09-05 20:00:00+00:00</td>\n",
       "      <td>g8DnYvIqpolw10XlwWeIWv6NbDPByUbmgH8EshJqBns=</td>\n",
       "      <td>YuGOmB+frbM8rfAa0RJE882R+IoMf9N89OiVqLbAHBw=</td>\n",
       "      <td>4</td>\n",
       "      <td>1</td>\n",
       "      <td>True</td>\n",
       "      <td>78</td>\n",
       "      <td>1</td>\n",
       "      <td>0</td>\n",
       "      <td>False</td>\n",
       "      <td>0</td>\n",
       "      <td>0</td>\n",
       "      <td>0</td>\n",
       "      <td>0</td>\n",
       "    </tr>\n",
       "    <tr>\n",
       "      <th>1fIjdakTApQp5PfWog87uOmM6JuoNE/oQq2y5/fMmfw=</th>\n",
       "      <td>2018-09-14 16:30:00+00:00</td>\n",
       "      <td>kSyUTFlepsYUD723IPL/jEZ520xaKbscrBmNtBUFR1o=</td>\n",
       "      <td>BG1RsWojzEHzV28RBm/1iKi1NyZgDcDomLYEJSV6lmo=</td>\n",
       "      <td>3</td>\n",
       "      <td>1</td>\n",
       "      <td>True</td>\n",
       "      <td>7</td>\n",
       "      <td>1</td>\n",
       "      <td>0</td>\n",
       "      <td>False</td>\n",
       "      <td>0</td>\n",
       "      <td>0</td>\n",
       "      <td>0</td>\n",
       "      <td>0</td>\n",
       "    </tr>\n",
       "    <tr>\n",
       "      <th>8V/NT6M+er2I3V3ZIWRNo4Qbo3Iad89PHbeeZeoZeF0=</th>\n",
       "      <td>2018-09-13 16:00:00+00:00</td>\n",
       "      <td>XMFbFA7C49+LRhUddhelfPpA6F5dbOoxeyL3eYbuTlY=</td>\n",
       "      <td>qPHR8aBqOhKij9IS/Y8IR8prwWruoDBGU1tVUhXDJkE=</td>\n",
       "      <td>12</td>\n",
       "      <td>1</td>\n",
       "      <td>True</td>\n",
       "      <td>48</td>\n",
       "      <td>1</td>\n",
       "      <td>0</td>\n",
       "      <td>False</td>\n",
       "      <td>0</td>\n",
       "      <td>1</td>\n",
       "      <td>1</td>\n",
       "      <td>0</td>\n",
       "    </tr>\n",
       "  </tbody>\n",
       "</table>\n",
       "</div>"
      ],
      "text/plain": [
       "                                                       datetime_attempt  \\\n",
       "upid                                                                      \n",
       "ZmKEZ0F2WFqhlL7KFfJcHEnZCZu0e4p+CVG5rSlyKYk=  2018-09-28 20:00:00+00:00   \n",
       "tO9dyvadKWMVQgEx/BXtRIYJ2TRJFQgwvcsBwFb4+xI=  2018-09-28 10:15:00+00:00   \n",
       "6Lxz6aXvgyw3vZd3v8g6jgoCRDPOQzVPx/dnEC0o7DQ=  2018-09-05 20:00:00+00:00   \n",
       "1fIjdakTApQp5PfWog87uOmM6JuoNE/oQq2y5/fMmfw=  2018-09-14 16:30:00+00:00   \n",
       "8V/NT6M+er2I3V3ZIWRNo4Qbo3Iad89PHbeeZeoZeF0=  2018-09-13 16:00:00+00:00   \n",
       "\n",
       "                                                                                      uuid  \\\n",
       "upid                                                                                         \n",
       "ZmKEZ0F2WFqhlL7KFfJcHEnZCZu0e4p+CVG5rSlyKYk=  Kpq2q+eKw/O+6/jLs3XJosgmI7weEJxJZdnkKTbbF8I=   \n",
       "tO9dyvadKWMVQgEx/BXtRIYJ2TRJFQgwvcsBwFb4+xI=  0+VU/Zb0Q96uoByuRhl7r9bJuJO6CKWpsmNMEuijSzc=   \n",
       "6Lxz6aXvgyw3vZd3v8g6jgoCRDPOQzVPx/dnEC0o7DQ=  g8DnYvIqpolw10XlwWeIWv6NbDPByUbmgH8EshJqBns=   \n",
       "1fIjdakTApQp5PfWog87uOmM6JuoNE/oQq2y5/fMmfw=  kSyUTFlepsYUD723IPL/jEZ520xaKbscrBmNtBUFR1o=   \n",
       "8V/NT6M+er2I3V3ZIWRNo4Qbo3Iad89PHbeeZeoZeF0=  XMFbFA7C49+LRhUddhelfPpA6F5dbOoxeyL3eYbuTlY=   \n",
       "\n",
       "                                                                                      ucid  \\\n",
       "upid                                                                                         \n",
       "ZmKEZ0F2WFqhlL7KFfJcHEnZCZu0e4p+CVG5rSlyKYk=  Ps4dfShfpeMF3VG030HqZ2bsbD7PaVxvJYFTtroeSzQ=   \n",
       "tO9dyvadKWMVQgEx/BXtRIYJ2TRJFQgwvcsBwFb4+xI=  /d39FzqaM3PZzpoMXxA80PMICsVhzfL6MGSCqZtsQOo=   \n",
       "6Lxz6aXvgyw3vZd3v8g6jgoCRDPOQzVPx/dnEC0o7DQ=  YuGOmB+frbM8rfAa0RJE882R+IoMf9N89OiVqLbAHBw=   \n",
       "1fIjdakTApQp5PfWog87uOmM6JuoNE/oQq2y5/fMmfw=  BG1RsWojzEHzV28RBm/1iKi1NyZgDcDomLYEJSV6lmo=   \n",
       "8V/NT6M+er2I3V3ZIWRNo4Qbo3Iad89PHbeeZeoZeF0=  qPHR8aBqOhKij9IS/Y8IR8prwWruoDBGU1tVUhXDJkE=   \n",
       "\n",
       "                                              problem_number  \\\n",
       "upid                                                           \n",
       "ZmKEZ0F2WFqhlL7KFfJcHEnZCZu0e4p+CVG5rSlyKYk=               2   \n",
       "tO9dyvadKWMVQgEx/BXtRIYJ2TRJFQgwvcsBwFb4+xI=               6   \n",
       "6Lxz6aXvgyw3vZd3v8g6jgoCRDPOQzVPx/dnEC0o7DQ=               4   \n",
       "1fIjdakTApQp5PfWog87uOmM6JuoNE/oQq2y5/fMmfw=               3   \n",
       "8V/NT6M+er2I3V3ZIWRNo4Qbo3Iad89PHbeeZeoZeF0=              12   \n",
       "\n",
       "                                              exercise_problem_repeat_session  \\\n",
       "upid                                                                            \n",
       "ZmKEZ0F2WFqhlL7KFfJcHEnZCZu0e4p+CVG5rSlyKYk=                                1   \n",
       "tO9dyvadKWMVQgEx/BXtRIYJ2TRJFQgwvcsBwFb4+xI=                                1   \n",
       "6Lxz6aXvgyw3vZd3v8g6jgoCRDPOQzVPx/dnEC0o7DQ=                                1   \n",
       "1fIjdakTApQp5PfWog87uOmM6JuoNE/oQq2y5/fMmfw=                                1   \n",
       "8V/NT6M+er2I3V3ZIWRNo4Qbo3Iad89PHbeeZeoZeF0=                                1   \n",
       "\n",
       "                                              is_correct  total_sec_taken  \\\n",
       "upid                                                                        \n",
       "ZmKEZ0F2WFqhlL7KFfJcHEnZCZu0e4p+CVG5rSlyKYk=        True               11   \n",
       "tO9dyvadKWMVQgEx/BXtRIYJ2TRJFQgwvcsBwFb4+xI=        True               26   \n",
       "6Lxz6aXvgyw3vZd3v8g6jgoCRDPOQzVPx/dnEC0o7DQ=        True               78   \n",
       "1fIjdakTApQp5PfWog87uOmM6JuoNE/oQq2y5/fMmfw=        True                7   \n",
       "8V/NT6M+er2I3V3ZIWRNo4Qbo3Iad89PHbeeZeoZeF0=        True               48   \n",
       "\n",
       "                                              total_attempt_cnt  \\\n",
       "upid                                                              \n",
       "ZmKEZ0F2WFqhlL7KFfJcHEnZCZu0e4p+CVG5rSlyKYk=                  1   \n",
       "tO9dyvadKWMVQgEx/BXtRIYJ2TRJFQgwvcsBwFb4+xI=                  1   \n",
       "6Lxz6aXvgyw3vZd3v8g6jgoCRDPOQzVPx/dnEC0o7DQ=                  1   \n",
       "1fIjdakTApQp5PfWog87uOmM6JuoNE/oQq2y5/fMmfw=                  1   \n",
       "8V/NT6M+er2I3V3ZIWRNo4Qbo3Iad89PHbeeZeoZeF0=                  1   \n",
       "\n",
       "                                              used_hint_cnt  is_hint_used  \\\n",
       "upid                                                                        \n",
       "ZmKEZ0F2WFqhlL7KFfJcHEnZCZu0e4p+CVG5rSlyKYk=              0         False   \n",
       "tO9dyvadKWMVQgEx/BXtRIYJ2TRJFQgwvcsBwFb4+xI=              0         False   \n",
       "6Lxz6aXvgyw3vZd3v8g6jgoCRDPOQzVPx/dnEC0o7DQ=              0         False   \n",
       "1fIjdakTApQp5PfWog87uOmM6JuoNE/oQq2y5/fMmfw=              0         False   \n",
       "8V/NT6M+er2I3V3ZIWRNo4Qbo3Iad89PHbeeZeoZeF0=              0         False   \n",
       "\n",
       "                                              is_downgrade  is_upgrade  level  \\\n",
       "upid                                                                            \n",
       "ZmKEZ0F2WFqhlL7KFfJcHEnZCZu0e4p+CVG5rSlyKYk=             0           0      0   \n",
       "tO9dyvadKWMVQgEx/BXtRIYJ2TRJFQgwvcsBwFb4+xI=             0           0      0   \n",
       "6Lxz6aXvgyw3vZd3v8g6jgoCRDPOQzVPx/dnEC0o7DQ=             0           0      0   \n",
       "1fIjdakTApQp5PfWog87uOmM6JuoNE/oQq2y5/fMmfw=             0           0      0   \n",
       "8V/NT6M+er2I3V3ZIWRNo4Qbo3Iad89PHbeeZeoZeF0=             0           1      1   \n",
       "\n",
       "                                              is_proficient  \n",
       "upid                                                         \n",
       "ZmKEZ0F2WFqhlL7KFfJcHEnZCZu0e4p+CVG5rSlyKYk=              0  \n",
       "tO9dyvadKWMVQgEx/BXtRIYJ2TRJFQgwvcsBwFb4+xI=              0  \n",
       "6Lxz6aXvgyw3vZd3v8g6jgoCRDPOQzVPx/dnEC0o7DQ=              0  \n",
       "1fIjdakTApQp5PfWog87uOmM6JuoNE/oQq2y5/fMmfw=              0  \n",
       "8V/NT6M+er2I3V3ZIWRNo4Qbo3Iad89PHbeeZeoZeF0=              0  "
      ]
     },
     "execution_count": 9,
     "metadata": {},
     "output_type": "execute_result"
    }
   ],
   "source": [
    "log_problem_df.head()"
   ]
  },
  {
   "cell_type": "code",
   "execution_count": 10,
   "metadata": {},
   "outputs": [
    {
     "data": {
      "text/plain": [
       "0    7064114\n",
       "1     133295\n",
       "Name: is_proficient, dtype: int64"
      ]
     },
     "execution_count": 10,
     "metadata": {},
     "output_type": "execute_result"
    }
   ],
   "source": [
    "log_problem_df.is_proficient.value_counts()"
   ]
  },
  {
   "cell_type": "code",
   "execution_count": 11,
   "metadata": {},
   "outputs": [
    {
     "data": {
      "text/plain": [
       "<matplotlib.axes._subplots.AxesSubplot at 0x1ea60581e08>"
      ]
     },
     "execution_count": 11,
     "metadata": {},
     "output_type": "execute_result"
    },
    {
     "data": {
      "image/png": "[encoded data removed]",
      "text/plain": [
       "<Figure size 432x288 with 1 Axes>"
      ]
     },
     "metadata": {
      "needs_background": "light"
     },
     "output_type": "display_data"
    }
   ],
   "source": [
    "log_problem_df['level'].value_counts().plot.bar()"
   ]
  },
  {
   "cell_type": "markdown",
   "metadata": {},
   "source": [
    "## Create Content Correct Rate"
   ]
  },
  {
   "cell_type": "code",
   "execution_count": 12,
   "metadata": {},
   "outputs": [
    {
     "data": {
      "text/html": [
       "<div>\n",
       "<style scoped>\n",
       "    .dataframe tbody tr th:only-of-type {\n",
       "        vertical-align: middle;\n",
       "    }\n",
       "\n",
       "    .dataframe tbody tr th {\n",
       "        vertical-align: top;\n",
       "    }\n",
       "\n",
       "    .dataframe thead th {\n",
       "        text-align: right;\n",
       "    }\n",
       "</style>\n",
       "<table border=\"1\" class=\"dataframe\">\n",
       "  <thead>\n",
       "    <tr style=\"text-align: right;\">\n",
       "      <th></th>\n",
       "      <th>ucid</th>\n",
       "      <th>is_correct</th>\n",
       "    </tr>\n",
       "  </thead>\n",
       "  <tbody>\n",
       "    <tr>\n",
       "      <th>0</th>\n",
       "      <td>+DlgHAr1GtoQgtGqwoen6pt4/ayVRO+rMaCVZ7jGCHE=</td>\n",
       "      <td>0.481413</td>\n",
       "    </tr>\n",
       "    <tr>\n",
       "      <th>1</th>\n",
       "      <td>+IgBffWedJpxG6Zo/kHbrgIRR4jwwTwa6nV03GLwX5A=</td>\n",
       "      <td>0.496226</td>\n",
       "    </tr>\n",
       "    <tr>\n",
       "      <th>2</th>\n",
       "      <td>+Lgj0Me9/8gtiruGKq8KxemAD15kU4yCfb6nteNDWjw=</td>\n",
       "      <td>0.676692</td>\n",
       "    </tr>\n",
       "    <tr>\n",
       "      <th>3</th>\n",
       "      <td>+N+e7SzcUVowUo7D4udR8rBKRmR1H7yuu5Tleqlhv48=</td>\n",
       "      <td>0.642150</td>\n",
       "    </tr>\n",
       "    <tr>\n",
       "      <th>4</th>\n",
       "      <td>+ZVl8HEbTM1GOoCTt2wxAfzQswvAWL3L8e5mLuyy1dY=</td>\n",
       "      <td>0.628628</td>\n",
       "    </tr>\n",
       "  </tbody>\n",
       "</table>\n",
       "</div>"
      ],
      "text/plain": [
       "                                           ucid  is_correct\n",
       "0  +DlgHAr1GtoQgtGqwoen6pt4/ayVRO+rMaCVZ7jGCHE=    0.481413\n",
       "1  +IgBffWedJpxG6Zo/kHbrgIRR4jwwTwa6nV03GLwX5A=    0.496226\n",
       "2  +Lgj0Me9/8gtiruGKq8KxemAD15kU4yCfb6nteNDWjw=    0.676692\n",
       "3  +N+e7SzcUVowUo7D4udR8rBKRmR1H7yuu5Tleqlhv48=    0.642150\n",
       "4  +ZVl8HEbTM1GOoCTt2wxAfzQswvAWL3L8e5mLuyy1dY=    0.628628"
      ]
     },
     "execution_count": 12,
     "metadata": {},
     "output_type": "execute_result"
    }
   ],
   "source": [
    "content_correct = merge_df.groupby('ucid')['is_correct'].apply(lambda x: np.sum(x)/len(x)).reset_index()\n",
    "content_correct.head()"
   ]
  },
  {
   "cell_type": "code",
   "execution_count": 13,
   "metadata": {},
   "outputs": [],
   "source": [
    "content_correct.rename(columns={'is_correct': 'content_correct_rate'}, inplace=True)"
   ]
  },
  {
   "cell_type": "code",
   "execution_count": 14,
   "metadata": {},
   "outputs": [],
   "source": [
    "info_content_df = pd.merge(info_content_df, content_correct, how='left', on=['ucid'])"
   ]
  },
  {
   "cell_type": "code",
   "execution_count": 15,
   "metadata": {},
   "outputs": [
    {
     "data": {
      "text/html": [
       "<div>\n",
       "<style scoped>\n",
       "    .dataframe tbody tr th:only-of-type {\n",
       "        vertical-align: middle;\n",
       "    }\n",
       "\n",
       "    .dataframe tbody tr th {\n",
       "        vertical-align: top;\n",
       "    }\n",
       "\n",
       "    .dataframe thead th {\n",
       "        text-align: right;\n",
       "    }\n",
       "</style>\n",
       "<table border=\"1\" class=\"dataframe\">\n",
       "  <thead>\n",
       "    <tr style=\"text-align: right;\">\n",
       "      <th></th>\n",
       "      <th>ucid</th>\n",
       "      <th>content_pretty_name</th>\n",
       "      <th>difficulty</th>\n",
       "      <th>learning_stage</th>\n",
       "      <th>content_correct_rate</th>\n",
       "    </tr>\n",
       "  </thead>\n",
       "  <tbody>\n",
       "    <tr>\n",
       "      <th>0</th>\n",
       "      <td>odIwFdIiecFwVUAEEV40K3MSuCSlIZkbq92Zp9tkZq8=</td>\n",
       "      <td>【基礎】怎樣解題：數量關係</td>\n",
       "      <td>1</td>\n",
       "      <td>1</td>\n",
       "      <td>0.670543</td>\n",
       "    </tr>\n",
       "    <tr>\n",
       "      <th>1</th>\n",
       "      <td>dfeeBaa8zDhWS6nu7zeXKwLyi4zqEajI3tJM9/fSBPM=</td>\n",
       "      <td>【基礎】和差問題 1</td>\n",
       "      <td>1</td>\n",
       "      <td>1</td>\n",
       "      <td>0.614334</td>\n",
       "    </tr>\n",
       "    <tr>\n",
       "      <th>2</th>\n",
       "      <td>C2AT0OBTUn+PRxEVd39enhW/DJtka1Tk90DUAR6yVdA=</td>\n",
       "      <td>【基礎】雞兔問題 1</td>\n",
       "      <td>1</td>\n",
       "      <td>1</td>\n",
       "      <td>0.623229</td>\n",
       "    </tr>\n",
       "    <tr>\n",
       "      <th>3</th>\n",
       "      <td>jZvYpEa6VB/WrlKKmQHnfbv/xJ4OypBzq0epVcn500Q=</td>\n",
       "      <td>【基礎】年齡問題 1</td>\n",
       "      <td>1</td>\n",
       "      <td>1</td>\n",
       "      <td>0.684831</td>\n",
       "    </tr>\n",
       "    <tr>\n",
       "      <th>4</th>\n",
       "      <td>M+UxJPgRIW57a0YS3eik8A9YDj+AwaMpTa5yWYn/kAw=</td>\n",
       "      <td>【基礎】追趕問題</td>\n",
       "      <td>1</td>\n",
       "      <td>1</td>\n",
       "      <td>0.710526</td>\n",
       "    </tr>\n",
       "  </tbody>\n",
       "</table>\n",
       "</div>"
      ],
      "text/plain": [
       "                                           ucid content_pretty_name  \\\n",
       "0  odIwFdIiecFwVUAEEV40K3MSuCSlIZkbq92Zp9tkZq8=       【基礎】怎樣解題：數量關係   \n",
       "1  dfeeBaa8zDhWS6nu7zeXKwLyi4zqEajI3tJM9/fSBPM=          【基礎】和差問題 1   \n",
       "2  C2AT0OBTUn+PRxEVd39enhW/DJtka1Tk90DUAR6yVdA=          【基礎】雞兔問題 1   \n",
       "3  jZvYpEa6VB/WrlKKmQHnfbv/xJ4OypBzq0epVcn500Q=          【基礎】年齡問題 1   \n",
       "4  M+UxJPgRIW57a0YS3eik8A9YDj+AwaMpTa5yWYn/kAw=            【基礎】追趕問題   \n",
       "\n",
       "   difficulty  learning_stage  content_correct_rate  \n",
       "0           1               1              0.670543  \n",
       "1           1               1              0.614334  \n",
       "2           1               1              0.623229  \n",
       "3           1               1              0.684831  \n",
       "4           1               1              0.710526  "
      ]
     },
     "execution_count": 15,
     "metadata": {},
     "output_type": "execute_result"
    }
   ],
   "source": [
    "info_content_df.head()"
   ]
  },
  {
   "cell_type": "code",
   "execution_count": 16,
   "metadata": {},
   "outputs": [
    {
     "data": {
      "text/plain": [
       "count    1315.000000\n",
       "mean        0.662686\n",
       "std         0.145005\n",
       "min         0.000000\n",
       "25%         0.562178\n",
       "50%         0.678512\n",
       "75%         0.767450\n",
       "max         1.000000\n",
       "Name: content_correct_rate, dtype: float64"
      ]
     },
     "execution_count": 16,
     "metadata": {},
     "output_type": "execute_result"
    }
   ],
   "source": [
    "info_content_df['content_correct_rate'].describe()"
   ]
  },
  {
   "cell_type": "code",
   "execution_count": 17,
   "metadata": {},
   "outputs": [
    {
     "data": {
      "text/plain": [
       "<matplotlib.axes._subplots.AxesSubplot at 0x1ea4d3c6788>"
      ]
     },
     "execution_count": 17,
     "metadata": {},
     "output_type": "execute_result"
    },
    {
     "data": {
      "image/png": "[encoded data removed]",
      "text/plain": [
       "<Figure size 432x288 with 1 Axes>"
      ]
     },
     "metadata": {
      "needs_background": "light"
     },
     "output_type": "display_data"
    }
   ],
   "source": [
    "info_content_df['content_correct_rate'].plot.hist()"
   ]
  },
  {
   "cell_type": "code",
   "execution_count": 18,
   "metadata": {},
   "outputs": [
    {
     "data": {
      "text/html": [
       "<div>\n",
       "<style scoped>\n",
       "    .dataframe tbody tr th:only-of-type {\n",
       "        vertical-align: middle;\n",
       "    }\n",
       "\n",
       "    .dataframe tbody tr th {\n",
       "        vertical-align: top;\n",
       "    }\n",
       "\n",
       "    .dataframe thead th {\n",
       "        text-align: right;\n",
       "    }\n",
       "</style>\n",
       "<table border=\"1\" class=\"dataframe\">\n",
       "  <thead>\n",
       "    <tr style=\"text-align: right;\">\n",
       "      <th></th>\n",
       "      <th>ucid</th>\n",
       "      <th>problem_number</th>\n",
       "      <th>is_correct</th>\n",
       "    </tr>\n",
       "  </thead>\n",
       "  <tbody>\n",
       "    <tr>\n",
       "      <th>0</th>\n",
       "      <td>+DlgHAr1GtoQgtGqwoen6pt4/ayVRO+rMaCVZ7jGCHE=</td>\n",
       "      <td>1</td>\n",
       "      <td>0.561404</td>\n",
       "    </tr>\n",
       "    <tr>\n",
       "      <th>1</th>\n",
       "      <td>+DlgHAr1GtoQgtGqwoen6pt4/ayVRO+rMaCVZ7jGCHE=</td>\n",
       "      <td>2</td>\n",
       "      <td>0.528302</td>\n",
       "    </tr>\n",
       "    <tr>\n",
       "      <th>2</th>\n",
       "      <td>+DlgHAr1GtoQgtGqwoen6pt4/ayVRO+rMaCVZ7jGCHE=</td>\n",
       "      <td>3</td>\n",
       "      <td>0.627451</td>\n",
       "    </tr>\n",
       "    <tr>\n",
       "      <th>3</th>\n",
       "      <td>+DlgHAr1GtoQgtGqwoen6pt4/ayVRO+rMaCVZ7jGCHE=</td>\n",
       "      <td>4</td>\n",
       "      <td>0.521739</td>\n",
       "    </tr>\n",
       "    <tr>\n",
       "      <th>4</th>\n",
       "      <td>+DlgHAr1GtoQgtGqwoen6pt4/ayVRO+rMaCVZ7jGCHE=</td>\n",
       "      <td>5</td>\n",
       "      <td>0.522727</td>\n",
       "    </tr>\n",
       "  </tbody>\n",
       "</table>\n",
       "</div>"
      ],
      "text/plain": [
       "                                           ucid  problem_number  is_correct\n",
       "0  +DlgHAr1GtoQgtGqwoen6pt4/ayVRO+rMaCVZ7jGCHE=               1    0.561404\n",
       "1  +DlgHAr1GtoQgtGqwoen6pt4/ayVRO+rMaCVZ7jGCHE=               2    0.528302\n",
       "2  +DlgHAr1GtoQgtGqwoen6pt4/ayVRO+rMaCVZ7jGCHE=               3    0.627451\n",
       "3  +DlgHAr1GtoQgtGqwoen6pt4/ayVRO+rMaCVZ7jGCHE=               4    0.521739\n",
       "4  +DlgHAr1GtoQgtGqwoen6pt4/ayVRO+rMaCVZ7jGCHE=               5    0.522727"
      ]
     },
     "execution_count": 18,
     "metadata": {},
     "output_type": "execute_result"
    }
   ],
   "source": [
    "problem_correct = log_problem_df.groupby(['ucid','problem_number'])['is_correct'].apply(lambda x: np.sum(x)/len(x)).reset_index()\n",
    "problem_correct.head()"
   ]
  },
  {
   "cell_type": "code",
   "execution_count": 19,
   "metadata": {},
   "outputs": [],
   "source": [
    "problem_correct.rename(columns={'is_correct': 'problem_correct_rate'}, inplace=True)"
   ]
  },
  {
   "cell_type": "code",
   "execution_count": 20,
   "metadata": {},
   "outputs": [
    {
     "data": {
      "text/plain": [
       "0         0.561404\n",
       "1         0.528302\n",
       "2         0.627451\n",
       "3         0.521739\n",
       "4         0.522727\n",
       "            ...   \n",
       "105844    1.000000\n",
       "105845    0.000000\n",
       "105846    1.000000\n",
       "105847    1.000000\n",
       "105848    1.000000\n",
       "Name: problem_correct_rate, Length: 105849, dtype: float64"
      ]
     },
     "execution_count": 20,
     "metadata": {},
     "output_type": "execute_result"
    }
   ],
   "source": [
    "problem_correct['problem_correct_rate']"
   ]
  },
  {
   "cell_type": "code",
   "execution_count": 21,
   "metadata": {},
   "outputs": [],
   "source": [
    "log_problem_df = pd.merge(log_problem_df, problem_correct, how='left', on=['ucid','problem_number'])"
   ]
  },
  {
   "cell_type": "code",
   "execution_count": 22,
   "metadata": {},
   "outputs": [
    {
     "data": {
      "text/html": [
       "<div>\n",
       "<style scoped>\n",
       "    .dataframe tbody tr th:only-of-type {\n",
       "        vertical-align: middle;\n",
       "    }\n",
       "\n",
       "    .dataframe tbody tr th {\n",
       "        vertical-align: top;\n",
       "    }\n",
       "\n",
       "    .dataframe thead th {\n",
       "        text-align: right;\n",
       "    }\n",
       "</style>\n",
       "<table border=\"1\" class=\"dataframe\">\n",
       "  <thead>\n",
       "    <tr style=\"text-align: right;\">\n",
       "      <th></th>\n",
       "      <th>datetime_attempt</th>\n",
       "      <th>uuid</th>\n",
       "      <th>ucid</th>\n",
       "      <th>problem_number</th>\n",
       "      <th>exercise_problem_repeat_session</th>\n",
       "      <th>is_correct</th>\n",
       "      <th>total_sec_taken</th>\n",
       "      <th>total_attempt_cnt</th>\n",
       "      <th>used_hint_cnt</th>\n",
       "      <th>is_hint_used</th>\n",
       "      <th>is_downgrade</th>\n",
       "      <th>is_upgrade</th>\n",
       "      <th>level</th>\n",
       "      <th>is_proficient</th>\n",
       "      <th>problem_correct_rate</th>\n",
       "    </tr>\n",
       "  </thead>\n",
       "  <tbody>\n",
       "    <tr>\n",
       "      <th>0</th>\n",
       "      <td>2018-09-28 20:00:00+00:00</td>\n",
       "      <td>Kpq2q+eKw/O+6/jLs3XJosgmI7weEJxJZdnkKTbbF8I=</td>\n",
       "      <td>Ps4dfShfpeMF3VG030HqZ2bsbD7PaVxvJYFTtroeSzQ=</td>\n",
       "      <td>2</td>\n",
       "      <td>1</td>\n",
       "      <td>True</td>\n",
       "      <td>11</td>\n",
       "      <td>1</td>\n",
       "      <td>0</td>\n",
       "      <td>False</td>\n",
       "      <td>0</td>\n",
       "      <td>0</td>\n",
       "      <td>0</td>\n",
       "      <td>0</td>\n",
       "      <td>0.619795</td>\n",
       "    </tr>\n",
       "    <tr>\n",
       "      <th>1</th>\n",
       "      <td>2018-09-28 10:15:00+00:00</td>\n",
       "      <td>0+VU/Zb0Q96uoByuRhl7r9bJuJO6CKWpsmNMEuijSzc=</td>\n",
       "      <td>/d39FzqaM3PZzpoMXxA80PMICsVhzfL6MGSCqZtsQOo=</td>\n",
       "      <td>6</td>\n",
       "      <td>1</td>\n",
       "      <td>True</td>\n",
       "      <td>26</td>\n",
       "      <td>1</td>\n",
       "      <td>0</td>\n",
       "      <td>False</td>\n",
       "      <td>0</td>\n",
       "      <td>0</td>\n",
       "      <td>0</td>\n",
       "      <td>0</td>\n",
       "      <td>0.712617</td>\n",
       "    </tr>\n",
       "    <tr>\n",
       "      <th>2</th>\n",
       "      <td>2018-09-05 20:00:00+00:00</td>\n",
       "      <td>g8DnYvIqpolw10XlwWeIWv6NbDPByUbmgH8EshJqBns=</td>\n",
       "      <td>YuGOmB+frbM8rfAa0RJE882R+IoMf9N89OiVqLbAHBw=</td>\n",
       "      <td>4</td>\n",
       "      <td>1</td>\n",
       "      <td>True</td>\n",
       "      <td>78</td>\n",
       "      <td>1</td>\n",
       "      <td>0</td>\n",
       "      <td>False</td>\n",
       "      <td>0</td>\n",
       "      <td>0</td>\n",
       "      <td>0</td>\n",
       "      <td>0</td>\n",
       "      <td>0.856749</td>\n",
       "    </tr>\n",
       "    <tr>\n",
       "      <th>3</th>\n",
       "      <td>2018-09-14 16:30:00+00:00</td>\n",
       "      <td>kSyUTFlepsYUD723IPL/jEZ520xaKbscrBmNtBUFR1o=</td>\n",
       "      <td>BG1RsWojzEHzV28RBm/1iKi1NyZgDcDomLYEJSV6lmo=</td>\n",
       "      <td>3</td>\n",
       "      <td>1</td>\n",
       "      <td>True</td>\n",
       "      <td>7</td>\n",
       "      <td>1</td>\n",
       "      <td>0</td>\n",
       "      <td>False</td>\n",
       "      <td>0</td>\n",
       "      <td>0</td>\n",
       "      <td>0</td>\n",
       "      <td>0</td>\n",
       "      <td>0.780895</td>\n",
       "    </tr>\n",
       "    <tr>\n",
       "      <th>4</th>\n",
       "      <td>2018-09-13 16:00:00+00:00</td>\n",
       "      <td>XMFbFA7C49+LRhUddhelfPpA6F5dbOoxeyL3eYbuTlY=</td>\n",
       "      <td>qPHR8aBqOhKij9IS/Y8IR8prwWruoDBGU1tVUhXDJkE=</td>\n",
       "      <td>12</td>\n",
       "      <td>1</td>\n",
       "      <td>True</td>\n",
       "      <td>48</td>\n",
       "      <td>1</td>\n",
       "      <td>0</td>\n",
       "      <td>False</td>\n",
       "      <td>0</td>\n",
       "      <td>1</td>\n",
       "      <td>1</td>\n",
       "      <td>0</td>\n",
       "      <td>0.737624</td>\n",
       "    </tr>\n",
       "  </tbody>\n",
       "</table>\n",
       "</div>"
      ],
      "text/plain": [
       "            datetime_attempt                                          uuid  \\\n",
       "0  2018-09-28 20:00:00+00:00  Kpq2q+eKw/O+6/jLs3XJosgmI7weEJxJZdnkKTbbF8I=   \n",
       "1  2018-09-28 10:15:00+00:00  0+VU/Zb0Q96uoByuRhl7r9bJuJO6CKWpsmNMEuijSzc=   \n",
       "2  2018-09-05 20:00:00+00:00  g8DnYvIqpolw10XlwWeIWv6NbDPByUbmgH8EshJqBns=   \n",
       "3  2018-09-14 16:30:00+00:00  kSyUTFlepsYUD723IPL/jEZ520xaKbscrBmNtBUFR1o=   \n",
       "4  2018-09-13 16:00:00+00:00  XMFbFA7C49+LRhUddhelfPpA6F5dbOoxeyL3eYbuTlY=   \n",
       "\n",
       "                                           ucid  problem_number  \\\n",
       "0  Ps4dfShfpeMF3VG030HqZ2bsbD7PaVxvJYFTtroeSzQ=               2   \n",
       "1  /d39FzqaM3PZzpoMXxA80PMICsVhzfL6MGSCqZtsQOo=               6   \n",
       "2  YuGOmB+frbM8rfAa0RJE882R+IoMf9N89OiVqLbAHBw=               4   \n",
       "3  BG1RsWojzEHzV28RBm/1iKi1NyZgDcDomLYEJSV6lmo=               3   \n",
       "4  qPHR8aBqOhKij9IS/Y8IR8prwWruoDBGU1tVUhXDJkE=              12   \n",
       "\n",
       "   exercise_problem_repeat_session  is_correct  total_sec_taken  \\\n",
       "0                                1        True               11   \n",
       "1                                1        True               26   \n",
       "2                                1        True               78   \n",
       "3                                1        True                7   \n",
       "4                                1        True               48   \n",
       "\n",
       "   total_attempt_cnt  used_hint_cnt  is_hint_used  is_downgrade  is_upgrade  \\\n",
       "0                  1              0         False             0           0   \n",
       "1                  1              0         False             0           0   \n",
       "2                  1              0         False             0           0   \n",
       "3                  1              0         False             0           0   \n",
       "4                  1              0         False             0           1   \n",
       "\n",
       "   level  is_proficient  problem_correct_rate  \n",
       "0      0              0              0.619795  \n",
       "1      0              0              0.712617  \n",
       "2      0              0              0.856749  \n",
       "3      0              0              0.780895  \n",
       "4      1              0              0.737624  "
      ]
     },
     "execution_count": 22,
     "metadata": {},
     "output_type": "execute_result"
    }
   ],
   "source": [
    "log_problem_df.head()"
   ]
  },
  {
   "cell_type": "code",
   "execution_count": 23,
   "metadata": {},
   "outputs": [
    {
     "data": {
      "text/plain": [
       "count    7.197409e+06\n",
       "mean     7.202336e-01\n",
       "std      1.461684e-01\n",
       "min      0.000000e+00\n",
       "25%      6.355140e-01\n",
       "50%      7.360000e-01\n",
       "75%      8.244898e-01\n",
       "max      1.000000e+00\n",
       "Name: problem_correct_rate, dtype: float64"
      ]
     },
     "execution_count": 23,
     "metadata": {},
     "output_type": "execute_result"
    }
   ],
   "source": [
    "log_problem_df['problem_correct_rate'].describe()"
   ]
  },
  {
   "cell_type": "code",
   "execution_count": 24,
   "metadata": {},
   "outputs": [
    {
     "data": {
      "text/plain": [
       "<matplotlib.axes._subplots.AxesSubplot at 0x1ea6302b088>"
      ]
     },
     "execution_count": 24,
     "metadata": {},
     "output_type": "execute_result"
    },
    {
     "data": {
      "image/png": "[encoded data removed]",
      "text/plain": [
       "<Figure size 432x288 with 1 Axes>"
      ]
     },
     "metadata": {
      "needs_background": "light"
     },
     "output_type": "display_data"
    }
   ],
   "source": [
    "log_problem_df['problem_correct_rate'].plot.hist()"
   ]
  },
  {
   "cell_type": "markdown",
   "metadata": {},
   "source": [
    "From the histogram above, it shows that the average problem correct rate is at 0.7 which is 70%."
   ]
  },
  {
   "cell_type": "code",
   "execution_count": 25,
   "metadata": {},
   "outputs": [
    {
     "data": {
      "text/plain": [
       "True     4935647\n",
       "False    1663834\n",
       "Name: is_correct, dtype: int64"
      ]
     },
     "execution_count": 25,
     "metadata": {},
     "output_type": "execute_result"
    }
   ],
   "source": [
    "log_problem_df.is_correct[log_problem_df['problem_correct_rate']>0.5].value_counts()"
   ]
  },
  {
   "cell_type": "code",
   "execution_count": 26,
   "metadata": {},
   "outputs": [
    {
     "data": {
      "text/plain": [
       "<matplotlib.axes._subplots.AxesSubplot at 0x1ea4eaddb48>"
      ]
     },
     "execution_count": 26,
     "metadata": {},
     "output_type": "execute_result"
    },
    {
     "data": {
      "image/png": "[encoded data removed]",
      "text/plain": [
       "<Figure size 432x288 with 1 Axes>"
      ]
     },
     "metadata": {
      "needs_background": "light"
     },
     "output_type": "display_data"
    }
   ],
   "source": [
    "log_problem_df.is_correct[log_problem_df['problem_correct_rate']>0.5].value_counts().plot.bar()"
   ]
  },
  {
   "cell_type": "code",
   "execution_count": 27,
   "metadata": {},
   "outputs": [
    {
     "data": {
      "text/plain": [
       "False    326824\n",
       "True     225234\n",
       "Name: is_correct, dtype: int64"
      ]
     },
     "execution_count": 27,
     "metadata": {},
     "output_type": "execute_result"
    }
   ],
   "source": [
    "log_problem_df.is_correct[log_problem_df['problem_correct_rate']<0.5].value_counts()"
   ]
  },
  {
   "cell_type": "code",
   "execution_count": 28,
   "metadata": {},
   "outputs": [
    {
     "data": {
      "text/plain": [
       "<matplotlib.axes._subplots.AxesSubplot at 0x1ea63016948>"
      ]
     },
     "execution_count": 28,
     "metadata": {},
     "output_type": "execute_result"
    },
    {
     "data": {
      "image/png": "[encoded data removed]",
      "text/plain": [
       "<Figure size 432x288 with 1 Axes>"
      ]
     },
     "metadata": {
      "needs_background": "light"
     },
     "output_type": "display_data"
    }
   ],
   "source": [
    "log_problem_df.is_correct[log_problem_df['problem_correct_rate']<0.5].value_counts().plot.bar()"
   ]
  },
  {
   "cell_type": "markdown",
   "metadata": {},
   "source": [
    "## Exporting Dataframes"
   ]
  },
  {
   "cell_type": "code",
   "execution_count": 29,
   "metadata": {},
   "outputs": [],
   "source": [
    "info_content_df.to_csv('../data/interim/Info_Content.csv')\n",
    "info_userdata_df.to_csv('../data/interim/Info_UserData.csv')\n",
    "log_problem_df.to_csv('../data/interim/Log_Problem.csv')"
   ]
  }
 ],
 "metadata": {
  "kernelspec": {
   "display_name": "Python 3",
   "language": "python",
   "name": "python3"
  },
  "language_info": {
   "codemirror_mode": {
    "name": "ipython",
    "version": 3
   },
   "file_extension": ".py",
   "mimetype": "text/x-python",
   "name": "python",
   "nbconvert_exporter": "python",
   "pygments_lexer": "ipython3",
   "version": "3.7.6"
  }
 },
 "nbformat": 4,
 "nbformat_minor": 4
}

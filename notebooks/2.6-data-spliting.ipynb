{
 "cells": [
  {
   "cell_type": "markdown",
   "metadata": {},
   "source": [
    "# Data Spliting"
   ]
  },
  {
   "cell_type": "markdown",
   "metadata": {},
   "source": [
    "## Setting Environment"
   ]
  },
  {
   "cell_type": "code",
   "execution_count": 1,
   "metadata": {},
   "outputs": [],
   "source": [
    "import pandas as pd\n",
    "import numpy as np"
   ]
  },
  {
   "cell_type": "markdown",
   "metadata": {},
   "source": [
    "## Importing Data"
   ]
  },
  {
   "cell_type": "code",
   "execution_count": 2,
   "metadata": {},
   "outputs": [
    {
     "name": "stdout",
     "output_type": "stream",
     "text": [
      "Wall time: 10.3 s\n"
     ]
    }
   ],
   "source": [
    "%%time\n",
    "merge_df = pd.read_csv('../data/processed/Merged_Data.csv')"
   ]
  },
  {
   "cell_type": "code",
   "execution_count": 3,
   "metadata": {},
   "outputs": [
    {
     "data": {
      "text/html": [
       "<div>\n",
       "<style scoped>\n",
       "    .dataframe tbody tr th:only-of-type {\n",
       "        vertical-align: middle;\n",
       "    }\n",
       "\n",
       "    .dataframe tbody tr th {\n",
       "        vertical-align: top;\n",
       "    }\n",
       "\n",
       "    .dataframe thead th {\n",
       "        text-align: right;\n",
       "    }\n",
       "</style>\n",
       "<table border=\"1\" class=\"dataframe\">\n",
       "  <thead>\n",
       "    <tr style=\"text-align: right;\">\n",
       "      <th></th>\n",
       "      <th>problem_number</th>\n",
       "      <th>exercise_problem_repeat_session</th>\n",
       "      <th>is_correct</th>\n",
       "      <th>total_sec_taken</th>\n",
       "      <th>total_attempt_cnt</th>\n",
       "      <th>used_hint_cnt</th>\n",
       "      <th>is_hint_used</th>\n",
       "      <th>is_downgrade</th>\n",
       "      <th>is_upgrade</th>\n",
       "      <th>level</th>\n",
       "      <th>...</th>\n",
       "      <th>user_city_phc</th>\n",
       "      <th>user_city_ptc</th>\n",
       "      <th>user_city_tc</th>\n",
       "      <th>user_city_tn</th>\n",
       "      <th>user_city_tp</th>\n",
       "      <th>user_city_ttct</th>\n",
       "      <th>user_city_ty</th>\n",
       "      <th>difficulty</th>\n",
       "      <th>learning_stage</th>\n",
       "      <th>content_correct_rate</th>\n",
       "    </tr>\n",
       "  </thead>\n",
       "  <tbody>\n",
       "    <tr>\n",
       "      <th>0</th>\n",
       "      <td>2</td>\n",
       "      <td>1</td>\n",
       "      <td>True</td>\n",
       "      <td>11</td>\n",
       "      <td>1</td>\n",
       "      <td>0</td>\n",
       "      <td>False</td>\n",
       "      <td>0</td>\n",
       "      <td>0</td>\n",
       "      <td>0</td>\n",
       "      <td>...</td>\n",
       "      <td>0</td>\n",
       "      <td>0</td>\n",
       "      <td>0</td>\n",
       "      <td>0</td>\n",
       "      <td>0</td>\n",
       "      <td>0</td>\n",
       "      <td>0</td>\n",
       "      <td>1</td>\n",
       "      <td>1</td>\n",
       "      <td>0.598016</td>\n",
       "    </tr>\n",
       "    <tr>\n",
       "      <th>1</th>\n",
       "      <td>6</td>\n",
       "      <td>1</td>\n",
       "      <td>True</td>\n",
       "      <td>26</td>\n",
       "      <td>1</td>\n",
       "      <td>0</td>\n",
       "      <td>False</td>\n",
       "      <td>0</td>\n",
       "      <td>0</td>\n",
       "      <td>0</td>\n",
       "      <td>...</td>\n",
       "      <td>0</td>\n",
       "      <td>0</td>\n",
       "      <td>0</td>\n",
       "      <td>0</td>\n",
       "      <td>0</td>\n",
       "      <td>0</td>\n",
       "      <td>0</td>\n",
       "      <td>1</td>\n",
       "      <td>1</td>\n",
       "      <td>0.647959</td>\n",
       "    </tr>\n",
       "    <tr>\n",
       "      <th>2</th>\n",
       "      <td>4</td>\n",
       "      <td>1</td>\n",
       "      <td>True</td>\n",
       "      <td>78</td>\n",
       "      <td>1</td>\n",
       "      <td>0</td>\n",
       "      <td>False</td>\n",
       "      <td>0</td>\n",
       "      <td>0</td>\n",
       "      <td>0</td>\n",
       "      <td>...</td>\n",
       "      <td>0</td>\n",
       "      <td>0</td>\n",
       "      <td>0</td>\n",
       "      <td>0</td>\n",
       "      <td>0</td>\n",
       "      <td>0</td>\n",
       "      <td>1</td>\n",
       "      <td>1</td>\n",
       "      <td>1</td>\n",
       "      <td>0.816172</td>\n",
       "    </tr>\n",
       "    <tr>\n",
       "      <th>3</th>\n",
       "      <td>3</td>\n",
       "      <td>1</td>\n",
       "      <td>True</td>\n",
       "      <td>7</td>\n",
       "      <td>1</td>\n",
       "      <td>0</td>\n",
       "      <td>False</td>\n",
       "      <td>0</td>\n",
       "      <td>0</td>\n",
       "      <td>0</td>\n",
       "      <td>...</td>\n",
       "      <td>0</td>\n",
       "      <td>0</td>\n",
       "      <td>0</td>\n",
       "      <td>0</td>\n",
       "      <td>0</td>\n",
       "      <td>0</td>\n",
       "      <td>0</td>\n",
       "      <td>1</td>\n",
       "      <td>2</td>\n",
       "      <td>0.783306</td>\n",
       "    </tr>\n",
       "    <tr>\n",
       "      <th>4</th>\n",
       "      <td>12</td>\n",
       "      <td>1</td>\n",
       "      <td>True</td>\n",
       "      <td>48</td>\n",
       "      <td>1</td>\n",
       "      <td>0</td>\n",
       "      <td>False</td>\n",
       "      <td>0</td>\n",
       "      <td>1</td>\n",
       "      <td>1</td>\n",
       "      <td>...</td>\n",
       "      <td>0</td>\n",
       "      <td>0</td>\n",
       "      <td>0</td>\n",
       "      <td>0</td>\n",
       "      <td>0</td>\n",
       "      <td>0</td>\n",
       "      <td>1</td>\n",
       "      <td>1</td>\n",
       "      <td>1</td>\n",
       "      <td>0.684156</td>\n",
       "    </tr>\n",
       "  </tbody>\n",
       "</table>\n",
       "<p>5 rows × 45 columns</p>\n",
       "</div>"
      ],
      "text/plain": [
       "   problem_number  exercise_problem_repeat_session  is_correct  \\\n",
       "0               2                                1        True   \n",
       "1               6                                1        True   \n",
       "2               4                                1        True   \n",
       "3               3                                1        True   \n",
       "4              12                                1        True   \n",
       "\n",
       "   total_sec_taken  total_attempt_cnt  used_hint_cnt  is_hint_used  \\\n",
       "0               11                  1              0         False   \n",
       "1               26                  1              0         False   \n",
       "2               78                  1              0         False   \n",
       "3                7                  1              0         False   \n",
       "4               48                  1              0         False   \n",
       "\n",
       "   is_downgrade  is_upgrade  level  ...  user_city_phc  user_city_ptc  \\\n",
       "0             0           0      0  ...              0              0   \n",
       "1             0           0      0  ...              0              0   \n",
       "2             0           0      0  ...              0              0   \n",
       "3             0           0      0  ...              0              0   \n",
       "4             0           1      1  ...              0              0   \n",
       "\n",
       "   user_city_tc  user_city_tn  user_city_tp  user_city_ttct  user_city_ty  \\\n",
       "0             0             0             0               0             0   \n",
       "1             0             0             0               0             0   \n",
       "2             0             0             0               0             1   \n",
       "3             0             0             0               0             0   \n",
       "4             0             0             0               0             1   \n",
       "\n",
       "   difficulty  learning_stage  content_correct_rate  \n",
       "0           1               1              0.598016  \n",
       "1           1               1              0.647959  \n",
       "2           1               1              0.816172  \n",
       "3           1               2              0.783306  \n",
       "4           1               1              0.684156  \n",
       "\n",
       "[5 rows x 45 columns]"
      ]
     },
     "execution_count": 3,
     "metadata": {},
     "output_type": "execute_result"
    }
   ],
   "source": [
    "merge_df.head()"
   ]
  },
  {
   "cell_type": "code",
   "execution_count": 4,
   "metadata": {},
   "outputs": [
    {
     "data": {
      "text/plain": [
       "(4273203, 45)"
      ]
     },
     "execution_count": 4,
     "metadata": {},
     "output_type": "execute_result"
    }
   ],
   "source": [
    "merge_df.shape"
   ]
  },
  {
   "cell_type": "code",
   "execution_count": 5,
   "metadata": {},
   "outputs": [
    {
     "name": "stdout",
     "output_type": "stream",
     "text": [
      "<class 'pandas.core.frame.DataFrame'>\n",
      "RangeIndex: 4273203 entries, 0 to 4273202\n",
      "Data columns (total 45 columns):\n",
      " #   Column                           Dtype  \n",
      "---  ------                           -----  \n",
      " 0   problem_number                   int64  \n",
      " 1   exercise_problem_repeat_session  int64  \n",
      " 2   is_correct                       bool   \n",
      " 3   total_sec_taken                  int64  \n",
      " 4   total_attempt_cnt                int64  \n",
      " 5   used_hint_cnt                    int64  \n",
      " 6   is_hint_used                     bool   \n",
      " 7   is_downgrade                     int64  \n",
      " 8   is_upgrade                       int64  \n",
      " 9   level                            int64  \n",
      " 10  is_proficient                    int64  \n",
      " 11  proficient_correct_rate          float64\n",
      " 12  problem_correct_rate             float64\n",
      " 13  points                           int64  \n",
      " 14  badges_cnt                       int64  \n",
      " 15  user_grade                       int64  \n",
      " 16  has_teacher_cnt                  int64  \n",
      " 17  is_self_coach                    bool   \n",
      " 18  has_student_cnt                  int64  \n",
      " 19  belongs_to_class_cnt             int64  \n",
      " 20  has_class_cnt                    int64  \n",
      " 21  gender_female                    int64  \n",
      " 22  gender_male                      int64  \n",
      " 23  user_city_chc                    int64  \n",
      " 24  user_city_cy                     int64  \n",
      " 25  user_city_hc                     int64  \n",
      " 26  user_city_hlc                    int64  \n",
      " 27  user_city_ilc                    int64  \n",
      " 28  user_city_kh                     int64  \n",
      " 29  user_city_kl                     int64  \n",
      " 30  user_city_km                     int64  \n",
      " 31  user_city_lj                     int64  \n",
      " 32  user_city_ml                     int64  \n",
      " 33  user_city_ntct                   int64  \n",
      " 34  user_city_ntpc                   int64  \n",
      " 35  user_city_phc                    int64  \n",
      " 36  user_city_ptc                    int64  \n",
      " 37  user_city_tc                     int64  \n",
      " 38  user_city_tn                     int64  \n",
      " 39  user_city_tp                     int64  \n",
      " 40  user_city_ttct                   int64  \n",
      " 41  user_city_ty                     int64  \n",
      " 42  difficulty                       int64  \n",
      " 43  learning_stage                   int64  \n",
      " 44  content_correct_rate             float64\n",
      "dtypes: bool(3), float64(3), int64(39)\n",
      "memory usage: 1.3 GB\n"
     ]
    }
   ],
   "source": [
    "merge_df.info()"
   ]
  },
  {
   "cell_type": "code",
   "execution_count": 6,
   "metadata": {},
   "outputs": [],
   "source": [
    "X = merge_df.drop('is_proficient', axis=1)\n",
    "y = merge_df['is_proficient']"
   ]
  },
  {
   "cell_type": "markdown",
   "metadata": {},
   "source": [
    "## Splitting Data"
   ]
  },
  {
   "cell_type": "code",
   "execution_count": 7,
   "metadata": {},
   "outputs": [],
   "source": [
    "# Splitting the dataset into the Training set and Test set\n",
    "from sklearn.model_selection import train_test_split\n",
    "X_train, X_test, y_train, y_test = train_test_split(X, y, test_size = 0.25, random_state = 0)"
   ]
  },
  {
   "cell_type": "code",
   "execution_count": 8,
   "metadata": {},
   "outputs": [
    {
     "data": {
      "text/plain": [
       "((3204902, 44), (1068301, 44), (3204902,), (1068301,))"
      ]
     },
     "execution_count": 8,
     "metadata": {},
     "output_type": "execute_result"
    }
   ],
   "source": [
    "X_train.shape, X_test.shape, y_train.shape, y_test.shape"
   ]
  },
  {
   "cell_type": "code",
   "execution_count": 9,
   "metadata": {},
   "outputs": [
    {
     "name": "stdout",
     "output_type": "stream",
     "text": [
      "         problem_number  exercise_problem_repeat_session  is_correct  \\\n",
      "1895800               1                                1        True   \n",
      "855201                3                                1        True   \n",
      "1095230               9                                1        True   \n",
      "614863                4                                1        True   \n",
      "2299097               2                                1       False   \n",
      "...                 ...                              ...         ...   \n",
      "374564               34                                2        True   \n",
      "2219731              11                                1        True   \n",
      "2249467               4                                1       False   \n",
      "2215104               3                                1       False   \n",
      "1484405               8                                1        True   \n",
      "\n",
      "         total_sec_taken  total_attempt_cnt  used_hint_cnt  is_hint_used  \\\n",
      "1895800                8                  1              0         False   \n",
      "855201                12                  1              0         False   \n",
      "1095230                6                  1              0         False   \n",
      "614863                33                  1              0         False   \n",
      "2299097               20                  1              2          True   \n",
      "...                  ...                ...            ...           ...   \n",
      "374564                 8                  1              0         False   \n",
      "2219731               34                  1              0         False   \n",
      "2249467               11                  5              4          True   \n",
      "2215104               18                  1              2          True   \n",
      "1484405               28                  1              0         False   \n",
      "\n",
      "         is_downgrade  is_upgrade  level  ...  user_city_phc  user_city_ptc  \\\n",
      "1895800             0           0      0  ...              0              0   \n",
      "855201              0           0      0  ...              0              0   \n",
      "1095230             0           0      2  ...              0              0   \n",
      "614863              0           0      0  ...              0              0   \n",
      "2299097             0           0      0  ...              0              0   \n",
      "...               ...         ...    ...  ...            ...            ...   \n",
      "374564              0           0      2  ...              0              0   \n",
      "2219731             0           0      1  ...              0              0   \n",
      "2249467             0           0      0  ...              0              0   \n",
      "2215104             0           0      0  ...              0              0   \n",
      "1484405             0           0      0  ...              0              0   \n",
      "\n",
      "         user_city_tc  user_city_tn  user_city_tp  user_city_ttct  \\\n",
      "1895800             0             0             0               0   \n",
      "855201              0             0             1               0   \n",
      "1095230             0             0             0               0   \n",
      "614863              0             0             0               0   \n",
      "2299097             0             0             1               0   \n",
      "...               ...           ...           ...             ...   \n",
      "374564              0             0             1               0   \n",
      "2219731             0             0             0               0   \n",
      "2249467             1             0             0               0   \n",
      "2215104             0             0             0               0   \n",
      "1484405             0             0             0               0   \n",
      "\n",
      "         user_city_ty  difficulty  learning_stage  content_correct_rate  \n",
      "1895800             0           1               1              0.905765  \n",
      "855201              0           1               1              0.905765  \n",
      "1095230             0           1               1              0.737728  \n",
      "614863              0           3               1              0.850987  \n",
      "2299097             0           1               1              0.728157  \n",
      "...               ...         ...             ...                   ...  \n",
      "374564              0           1               1              0.697393  \n",
      "2219731             1           2               1              0.774126  \n",
      "2249467             0           1               1              0.715031  \n",
      "2215104             0           1               2              0.646014  \n",
      "1484405             0           1               1              0.715031  \n",
      "\n",
      "[3204902 rows x 44 columns]\n",
      "1895800    0\n",
      "855201     0\n",
      "1095230    0\n",
      "614863     0\n",
      "2299097    0\n",
      "          ..\n",
      "374564     0\n",
      "2219731    0\n",
      "2249467    0\n",
      "2215104    0\n",
      "1484405    0\n",
      "Name: is_proficient, Length: 3204902, dtype: int64\n"
     ]
    }
   ],
   "source": [
    "print(X_train)\n",
    "print(y_train)"
   ]
  },
  {
   "cell_type": "code",
   "execution_count": 10,
   "metadata": {},
   "outputs": [
    {
     "name": "stdout",
     "output_type": "stream",
     "text": [
      "         problem_number  exercise_problem_repeat_session  is_correct  \\\n",
      "3257478              11                                1       False   \n",
      "3441476               9                                1        True   \n",
      "699617                5                                1        True   \n",
      "3200437              20                                2       False   \n",
      "4090587               1                                1        True   \n",
      "...                 ...                              ...         ...   \n",
      "659607                1                                1        True   \n",
      "2287334               1                                1        True   \n",
      "1759472              10                                1        True   \n",
      "3988654               9                                1        True   \n",
      "3298798              12                                1        True   \n",
      "\n",
      "         total_sec_taken  total_attempt_cnt  used_hint_cnt  is_hint_used  \\\n",
      "3257478              180                  2              1          True   \n",
      "3441476               44                  1              0         False   \n",
      "699617                16                  1              0         False   \n",
      "3200437                3                  1              1          True   \n",
      "4090587                3                  1              0         False   \n",
      "...                  ...                ...            ...           ...   \n",
      "659607                13                  1              0         False   \n",
      "2287334              118                  1              0         False   \n",
      "1759472               18                  1              0         False   \n",
      "3988654                6                  1              0         False   \n",
      "3298798               44                  1              0         False   \n",
      "\n",
      "         is_downgrade  is_upgrade  level  ...  user_city_phc  user_city_ptc  \\\n",
      "3257478             0           0      2  ...              0              0   \n",
      "3441476             0           0      0  ...              0              0   \n",
      "699617              0           0      0  ...              0              0   \n",
      "3200437             0           0      2  ...              0              0   \n",
      "4090587             0           0      0  ...              0              0   \n",
      "...               ...         ...    ...  ...            ...            ...   \n",
      "659607              0           0      0  ...              0              0   \n",
      "2287334             0           0      0  ...              0              0   \n",
      "1759472             0           1      3  ...              0              0   \n",
      "3988654             0           1      4  ...              0              0   \n",
      "3298798             0           1      3  ...              0              0   \n",
      "\n",
      "         user_city_tc  user_city_tn  user_city_tp  user_city_ttct  \\\n",
      "3257478             0             0             0               0   \n",
      "3441476             0             0             0               0   \n",
      "699617              0             0             0               0   \n",
      "3200437             0             0             1               0   \n",
      "4090587             1             0             0               0   \n",
      "...               ...           ...           ...             ...   \n",
      "659607              0             0             0               0   \n",
      "2287334             1             0             0               0   \n",
      "1759472             0             0             0               0   \n",
      "3988654             0             0             1               0   \n",
      "3298798             0             0             0               0   \n",
      "\n",
      "         user_city_ty  difficulty  learning_stage  content_correct_rate  \n",
      "3257478             1           1               2              0.548242  \n",
      "3441476             0           1               1              0.595126  \n",
      "699617              1           1               1              0.747308  \n",
      "3200437             0           1               1              0.676568  \n",
      "4090587             0           3               1              0.804952  \n",
      "...               ...         ...             ...                   ...  \n",
      "659607              1           2               1              0.641737  \n",
      "2287334             0           2               1              0.641885  \n",
      "1759472             0           1               1              0.786721  \n",
      "3988654             0           1               1              0.650709  \n",
      "3298798             0           2               2              0.512195  \n",
      "\n",
      "[1068301 rows x 44 columns]\n",
      "3257478    0\n",
      "3441476    0\n",
      "699617     0\n",
      "3200437    0\n",
      "4090587    0\n",
      "          ..\n",
      "659607     0\n",
      "2287334    0\n",
      "1759472    0\n",
      "3988654    1\n",
      "3298798    0\n",
      "Name: is_proficient, Length: 1068301, dtype: int64\n"
     ]
    }
   ],
   "source": [
    "print(X_test)\n",
    "print(y_test)"
   ]
  },
  {
   "cell_type": "markdown",
   "metadata": {},
   "source": [
    "## Export dataframes"
   ]
  },
  {
   "cell_type": "code",
   "execution_count": 11,
   "metadata": {},
   "outputs": [
    {
     "name": "stdout",
     "output_type": "stream",
     "text": [
      "Wall time: 47.5 s\n"
     ]
    }
   ],
   "source": [
    "%%time\n",
    "X_train.to_csv('../data/interim/X_train.csv', index=False)\n",
    "X_test.to_csv('../data/interim/X_test.csv', index=False)\n",
    "y_train.to_csv('../data/interim/y_train.csv', index=False)\n",
    "y_test.to_csv('../data/interim/y_test.csv', index=False)"
   ]
  }
 ],
 "metadata": {
  "kernelspec": {
   "display_name": "Python 3",
   "language": "python",
   "name": "python3"
  },
  "language_info": {
   "codemirror_mode": {
    "name": "ipython",
    "version": 3
   },
   "file_extension": ".py",
   "mimetype": "text/x-python",
   "name": "python",
   "nbconvert_exporter": "python",
   "pygments_lexer": "ipython3",
   "version": "3.7.6"
  }
 },
 "nbformat": 4,
 "nbformat_minor": 4
}

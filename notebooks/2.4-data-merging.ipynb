{
 "cells": [
  {
   "cell_type": "markdown",
   "metadata": {},
   "source": [
    "# 2.2 - Data Merging"
   ]
  },
  {
   "cell_type": "markdown",
   "metadata": {},
   "source": [
    "## Importing Libraries"
   ]
  },
  {
   "cell_type": "code",
   "execution_count": 1,
   "metadata": {},
   "outputs": [],
   "source": [
    "# data processing, CSV file I/O\n",
    "import pandas as pd"
   ]
  },
  {
   "cell_type": "markdown",
   "metadata": {},
   "source": [
    "## Importing Data"
   ]
  },
  {
   "cell_type": "code",
   "execution_count": 4,
   "metadata": {},
   "outputs": [
    {
     "name": "stdout",
     "output_type": "stream",
     "text": [
      "Wall time: 14.4 s\n"
     ]
    }
   ],
   "source": [
    "%%time\n",
    "info_content_df = pd.read_csv('../data/interim/Info_Content.csv')\n",
    "info_userdata_df = pd.read_csv('../data/interim/Info_UserData.csv')\n",
    "log_problem_df = pd.read_csv('../data/interim/Log_Problem.csv')"
   ]
  },
  {
   "cell_type": "markdown",
   "metadata": {},
   "source": [
    "## Merging Data"
   ]
  },
  {
   "cell_type": "code",
   "execution_count": 5,
   "metadata": {},
   "outputs": [],
   "source": [
    "merge_df = log_problem_df.merge(info_userdata_df,how='left',on='uuid')"
   ]
  },
  {
   "cell_type": "code",
   "execution_count": 6,
   "metadata": {},
   "outputs": [],
   "source": [
    "merge_df = merge_df.merge(info_content_df,how='left',on='ucid')"
   ]
  },
  {
   "cell_type": "code",
   "execution_count": 7,
   "metadata": {},
   "outputs": [
    {
     "data": {
      "text/html": [
       "<div>\n",
       "<style scoped>\n",
       "    .dataframe tbody tr th:only-of-type {\n",
       "        vertical-align: middle;\n",
       "    }\n",
       "\n",
       "    .dataframe tbody tr th {\n",
       "        vertical-align: top;\n",
       "    }\n",
       "\n",
       "    .dataframe thead th {\n",
       "        text-align: right;\n",
       "    }\n",
       "</style>\n",
       "<table border=\"1\" class=\"dataframe\">\n",
       "  <thead>\n",
       "    <tr style=\"text-align: right;\">\n",
       "      <th></th>\n",
       "      <th>Unnamed: 0_x</th>\n",
       "      <th>datetime_attempt</th>\n",
       "      <th>uuid</th>\n",
       "      <th>ucid</th>\n",
       "      <th>problem_number</th>\n",
       "      <th>exercise_problem_repeat_session</th>\n",
       "      <th>is_correct</th>\n",
       "      <th>total_sec_taken</th>\n",
       "      <th>total_attempt_cnt</th>\n",
       "      <th>used_hint_cnt</th>\n",
       "      <th>...</th>\n",
       "      <th>user_city_tc</th>\n",
       "      <th>user_city_tn</th>\n",
       "      <th>user_city_tp</th>\n",
       "      <th>user_city_ttct</th>\n",
       "      <th>user_city_ty</th>\n",
       "      <th>Unnamed: 0_y</th>\n",
       "      <th>content_pretty_name</th>\n",
       "      <th>difficulty</th>\n",
       "      <th>learning_stage</th>\n",
       "      <th>content_correct_rate</th>\n",
       "    </tr>\n",
       "  </thead>\n",
       "  <tbody>\n",
       "    <tr>\n",
       "      <th>0</th>\n",
       "      <td>0</td>\n",
       "      <td>2018-09-28 20:00:00+00:00</td>\n",
       "      <td>Kpq2q+eKw/O+6/jLs3XJosgmI7weEJxJZdnkKTbbF8I=</td>\n",
       "      <td>Ps4dfShfpeMF3VG030HqZ2bsbD7PaVxvJYFTtroeSzQ=</td>\n",
       "      <td>2</td>\n",
       "      <td>1</td>\n",
       "      <td>True</td>\n",
       "      <td>11</td>\n",
       "      <td>1</td>\n",
       "      <td>0</td>\n",
       "      <td>...</td>\n",
       "      <td>0</td>\n",
       "      <td>0</td>\n",
       "      <td>0</td>\n",
       "      <td>0</td>\n",
       "      <td>0</td>\n",
       "      <td>823</td>\n",
       "      <td>【基礎】倍數的應用</td>\n",
       "      <td>1</td>\n",
       "      <td>1</td>\n",
       "      <td>0.611204</td>\n",
       "    </tr>\n",
       "    <tr>\n",
       "      <th>1</th>\n",
       "      <td>1</td>\n",
       "      <td>2018-09-28 10:15:00+00:00</td>\n",
       "      <td>0+VU/Zb0Q96uoByuRhl7r9bJuJO6CKWpsmNMEuijSzc=</td>\n",
       "      <td>/d39FzqaM3PZzpoMXxA80PMICsVhzfL6MGSCqZtsQOo=</td>\n",
       "      <td>6</td>\n",
       "      <td>1</td>\n",
       "      <td>True</td>\n",
       "      <td>26</td>\n",
       "      <td>1</td>\n",
       "      <td>0</td>\n",
       "      <td>...</td>\n",
       "      <td>0</td>\n",
       "      <td>0</td>\n",
       "      <td>0</td>\n",
       "      <td>0</td>\n",
       "      <td>0</td>\n",
       "      <td>828</td>\n",
       "      <td>【基礎】找出最小公倍數</td>\n",
       "      <td>1</td>\n",
       "      <td>1</td>\n",
       "      <td>0.665209</td>\n",
       "    </tr>\n",
       "    <tr>\n",
       "      <th>2</th>\n",
       "      <td>2</td>\n",
       "      <td>2018-09-05 20:00:00+00:00</td>\n",
       "      <td>g8DnYvIqpolw10XlwWeIWv6NbDPByUbmgH8EshJqBns=</td>\n",
       "      <td>YuGOmB+frbM8rfAa0RJE882R+IoMf9N89OiVqLbAHBw=</td>\n",
       "      <td>4</td>\n",
       "      <td>1</td>\n",
       "      <td>True</td>\n",
       "      <td>78</td>\n",
       "      <td>1</td>\n",
       "      <td>0</td>\n",
       "      <td>...</td>\n",
       "      <td>0</td>\n",
       "      <td>0</td>\n",
       "      <td>0</td>\n",
       "      <td>0</td>\n",
       "      <td>1</td>\n",
       "      <td>837</td>\n",
       "      <td>【基礎】尋找質因數</td>\n",
       "      <td>1</td>\n",
       "      <td>1</td>\n",
       "      <td>0.817687</td>\n",
       "    </tr>\n",
       "    <tr>\n",
       "      <th>3</th>\n",
       "      <td>3</td>\n",
       "      <td>2018-09-14 16:30:00+00:00</td>\n",
       "      <td>kSyUTFlepsYUD723IPL/jEZ520xaKbscrBmNtBUFR1o=</td>\n",
       "      <td>BG1RsWojzEHzV28RBm/1iKi1NyZgDcDomLYEJSV6lmo=</td>\n",
       "      <td>3</td>\n",
       "      <td>1</td>\n",
       "      <td>True</td>\n",
       "      <td>7</td>\n",
       "      <td>1</td>\n",
       "      <td>0</td>\n",
       "      <td>...</td>\n",
       "      <td>0</td>\n",
       "      <td>0</td>\n",
       "      <td>0</td>\n",
       "      <td>0</td>\n",
       "      <td>0</td>\n",
       "      <td>599</td>\n",
       "      <td>【基礎】數的相關名詞介紹</td>\n",
       "      <td>1</td>\n",
       "      <td>2</td>\n",
       "      <td>0.779138</td>\n",
       "    </tr>\n",
       "    <tr>\n",
       "      <th>4</th>\n",
       "      <td>4</td>\n",
       "      <td>2018-09-13 16:00:00+00:00</td>\n",
       "      <td>XMFbFA7C49+LRhUddhelfPpA6F5dbOoxeyL3eYbuTlY=</td>\n",
       "      <td>qPHR8aBqOhKij9IS/Y8IR8prwWruoDBGU1tVUhXDJkE=</td>\n",
       "      <td>12</td>\n",
       "      <td>1</td>\n",
       "      <td>True</td>\n",
       "      <td>48</td>\n",
       "      <td>1</td>\n",
       "      <td>0</td>\n",
       "      <td>...</td>\n",
       "      <td>0</td>\n",
       "      <td>0</td>\n",
       "      <td>0</td>\n",
       "      <td>0</td>\n",
       "      <td>1</td>\n",
       "      <td>1091</td>\n",
       "      <td>【基礎】大數的加減</td>\n",
       "      <td>1</td>\n",
       "      <td>1</td>\n",
       "      <td>0.713263</td>\n",
       "    </tr>\n",
       "  </tbody>\n",
       "</table>\n",
       "<p>5 rows × 51 columns</p>\n",
       "</div>"
      ],
      "text/plain": [
       "   Unnamed: 0_x           datetime_attempt  \\\n",
       "0             0  2018-09-28 20:00:00+00:00   \n",
       "1             1  2018-09-28 10:15:00+00:00   \n",
       "2             2  2018-09-05 20:00:00+00:00   \n",
       "3             3  2018-09-14 16:30:00+00:00   \n",
       "4             4  2018-09-13 16:00:00+00:00   \n",
       "\n",
       "                                           uuid  \\\n",
       "0  Kpq2q+eKw/O+6/jLs3XJosgmI7weEJxJZdnkKTbbF8I=   \n",
       "1  0+VU/Zb0Q96uoByuRhl7r9bJuJO6CKWpsmNMEuijSzc=   \n",
       "2  g8DnYvIqpolw10XlwWeIWv6NbDPByUbmgH8EshJqBns=   \n",
       "3  kSyUTFlepsYUD723IPL/jEZ520xaKbscrBmNtBUFR1o=   \n",
       "4  XMFbFA7C49+LRhUddhelfPpA6F5dbOoxeyL3eYbuTlY=   \n",
       "\n",
       "                                           ucid  problem_number  \\\n",
       "0  Ps4dfShfpeMF3VG030HqZ2bsbD7PaVxvJYFTtroeSzQ=               2   \n",
       "1  /d39FzqaM3PZzpoMXxA80PMICsVhzfL6MGSCqZtsQOo=               6   \n",
       "2  YuGOmB+frbM8rfAa0RJE882R+IoMf9N89OiVqLbAHBw=               4   \n",
       "3  BG1RsWojzEHzV28RBm/1iKi1NyZgDcDomLYEJSV6lmo=               3   \n",
       "4  qPHR8aBqOhKij9IS/Y8IR8prwWruoDBGU1tVUhXDJkE=              12   \n",
       "\n",
       "   exercise_problem_repeat_session  is_correct  total_sec_taken  \\\n",
       "0                                1        True               11   \n",
       "1                                1        True               26   \n",
       "2                                1        True               78   \n",
       "3                                1        True                7   \n",
       "4                                1        True               48   \n",
       "\n",
       "   total_attempt_cnt  used_hint_cnt  ...  user_city_tc  user_city_tn  \\\n",
       "0                  1              0  ...             0             0   \n",
       "1                  1              0  ...             0             0   \n",
       "2                  1              0  ...             0             0   \n",
       "3                  1              0  ...             0             0   \n",
       "4                  1              0  ...             0             0   \n",
       "\n",
       "   user_city_tp  user_city_ttct  user_city_ty  Unnamed: 0_y  \\\n",
       "0             0               0             0           823   \n",
       "1             0               0             0           828   \n",
       "2             0               0             1           837   \n",
       "3             0               0             0           599   \n",
       "4             0               0             1          1091   \n",
       "\n",
       "   content_pretty_name  difficulty learning_stage  content_correct_rate  \n",
       "0            【基礎】倍數的應用           1              1              0.611204  \n",
       "1          【基礎】找出最小公倍數           1              1              0.665209  \n",
       "2            【基礎】尋找質因數           1              1              0.817687  \n",
       "3         【基礎】數的相關名詞介紹           1              2              0.779138  \n",
       "4            【基礎】大數的加減           1              1              0.713263  \n",
       "\n",
       "[5 rows x 51 columns]"
      ]
     },
     "execution_count": 7,
     "metadata": {},
     "output_type": "execute_result"
    }
   ],
   "source": [
    "merge_df.head()"
   ]
  },
  {
   "cell_type": "code",
   "execution_count": 8,
   "metadata": {},
   "outputs": [
    {
     "data": {
      "text/plain": [
       "(7197409, 51)"
      ]
     },
     "execution_count": 8,
     "metadata": {},
     "output_type": "execute_result"
    }
   ],
   "source": [
    "merge_df.shape"
   ]
  },
  {
   "cell_type": "markdown",
   "metadata": {},
   "source": [
    "## Exporting Data"
   ]
  },
  {
   "cell_type": "code",
   "execution_count": 9,
   "metadata": {},
   "outputs": [],
   "source": [
    "merge_df.to_csv('../data/interim/Merged_Data.csv')"
   ]
  }
 ],
 "metadata": {
  "kernelspec": {
   "display_name": "Python 3",
   "language": "python",
   "name": "python3"
  },
  "language_info": {
   "codemirror_mode": {
    "name": "ipython",
    "version": 3
   },
   "file_extension": ".py",
   "mimetype": "text/x-python",
   "name": "python",
   "nbconvert_exporter": "python",
   "pygments_lexer": "ipython3",
   "version": "3.7.6"
  }
 },
 "nbformat": 4,
 "nbformat_minor": 4
}

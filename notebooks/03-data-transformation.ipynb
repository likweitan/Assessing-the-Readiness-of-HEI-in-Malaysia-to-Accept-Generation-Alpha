{
 "cells": [
  {
   "cell_type": "markdown",
   "metadata": {},
   "source": [
    "### Assessing the Readiness of HEI in Malaysia to Accept Generation Alpha\n",
    "\n",
    "---\n",
    "\n",
    "# Data Transformation"
   ]
  },
  {
   "cell_type": "markdown",
   "metadata": {},
   "source": [
    "- Creating new features from existing features\n",
    "- Trimming Columns\n",
    "- Handling ordinal and nominal categorical features\n",
    "- Feature Selection"
   ]
  },
  {
   "cell_type": "code",
   "execution_count": 27,
   "metadata": {},
   "outputs": [],
   "source": [
    "import pandas as pd\n",
    "import numpy as np\n",
    "import matplotlib.pyplot as plt"
   ]
  },
  {
   "cell_type": "code",
   "execution_count": 2,
   "metadata": {},
   "outputs": [
    {
     "name": "stdout",
     "output_type": "stream",
     "text": [
      "Wall time: 2.01 s\n"
     ]
    }
   ],
   "source": [
    "%%time\n",
    "new_df = pd.read_hdf('../data/interim/Info_UserData_Info_Content.h5', key='user')"
   ]
  },
  {
   "cell_type": "code",
   "execution_count": 3,
   "metadata": {},
   "outputs": [
    {
     "data": {
      "text/html": [
       "<div>\n",
       "<style scoped>\n",
       "    .dataframe tbody tr th:only-of-type {\n",
       "        vertical-align: middle;\n",
       "    }\n",
       "\n",
       "    .dataframe tbody tr th {\n",
       "        vertical-align: top;\n",
       "    }\n",
       "\n",
       "    .dataframe thead th {\n",
       "        text-align: right;\n",
       "    }\n",
       "</style>\n",
       "<table border=\"1\" class=\"dataframe\">\n",
       "  <thead>\n",
       "    <tr style=\"text-align: right;\">\n",
       "      <th></th>\n",
       "      <th>problem_number</th>\n",
       "      <th>is_correct</th>\n",
       "      <th>total_sec_taken</th>\n",
       "      <th>total_attempt_cnt</th>\n",
       "      <th>used_hint_cnt</th>\n",
       "      <th>is_hint_used</th>\n",
       "      <th>is_downgrade</th>\n",
       "      <th>is_upgrade</th>\n",
       "      <th>level</th>\n",
       "      <th>points</th>\n",
       "      <th>...</th>\n",
       "      <th>level4_id_x2xocZ2ffvV9TBpbWEd0C99XcsMY/d7WuhqSocGXF/M=</th>\n",
       "      <th>level4_id_x6ydbyAZ5cg/SPyo/WvjhfZ4RkUk89e10PElUmNMwf0=</th>\n",
       "      <th>level4_id_xwq9S3SOMEYKW8W5OavIdIhjGY5PqtNwjGvAIOS1g+Y=</th>\n",
       "      <th>level4_id_y84LImFGtQZt7uAAN9ipC5M5THCImwCk8xEYF3/BzHA=</th>\n",
       "      <th>level4_id_yAzQR919g6E/LcFFdUOg/UDlVYQtRNHvS19zOJV2V/o=</th>\n",
       "      <th>level4_id_yFIhXSdRiIbnAJXjpjveYhhXopOOxVcUHbLdetuOIEc=</th>\n",
       "      <th>level4_id_ydx3O+QKc8BXLVlrYy2opLQARV0qYy6CUvHFZn2Eths=</th>\n",
       "      <th>level4_id_zI1qYT7KOxUn/HpISafbc4uU5cg4H+Vpd/DB9QzVOPg=</th>\n",
       "      <th>level4_id_zMYuCCkIy21KGCJ6fnAHFAXbm2tJyKjVNlL/3d9WiUI=</th>\n",
       "      <th>level4_id_zyVjBuMRkEs/hVTbayt34VrOAU1KNtk5Tt0EvU+/xhk=</th>\n",
       "    </tr>\n",
       "  </thead>\n",
       "  <tbody>\n",
       "    <tr>\n",
       "      <th>0</th>\n",
       "      <td>12</td>\n",
       "      <td>7.0</td>\n",
       "      <td>89.800000</td>\n",
       "      <td>1.600000</td>\n",
       "      <td>0.500000</td>\n",
       "      <td>3.0</td>\n",
       "      <td>0.0</td>\n",
       "      <td>1.0</td>\n",
       "      <td>1</td>\n",
       "      <td>9533</td>\n",
       "      <td>...</td>\n",
       "      <td>0.0</td>\n",
       "      <td>0.0</td>\n",
       "      <td>0.0</td>\n",
       "      <td>0.0</td>\n",
       "      <td>0.0</td>\n",
       "      <td>0.0</td>\n",
       "      <td>0.0</td>\n",
       "      <td>0.0</td>\n",
       "      <td>0.0</td>\n",
       "      <td>0.0</td>\n",
       "    </tr>\n",
       "    <tr>\n",
       "      <th>1</th>\n",
       "      <td>4</td>\n",
       "      <td>0.0</td>\n",
       "      <td>74.250000</td>\n",
       "      <td>1.500000</td>\n",
       "      <td>3.250000</td>\n",
       "      <td>4.0</td>\n",
       "      <td>0.0</td>\n",
       "      <td>0.0</td>\n",
       "      <td>0</td>\n",
       "      <td>8027</td>\n",
       "      <td>...</td>\n",
       "      <td>0.0</td>\n",
       "      <td>0.0</td>\n",
       "      <td>0.0</td>\n",
       "      <td>0.0</td>\n",
       "      <td>0.0</td>\n",
       "      <td>0.0</td>\n",
       "      <td>0.0</td>\n",
       "      <td>0.0</td>\n",
       "      <td>0.0</td>\n",
       "      <td>0.0</td>\n",
       "    </tr>\n",
       "    <tr>\n",
       "      <th>2</th>\n",
       "      <td>7</td>\n",
       "      <td>1.0</td>\n",
       "      <td>24.571429</td>\n",
       "      <td>1.428571</td>\n",
       "      <td>3.142857</td>\n",
       "      <td>6.0</td>\n",
       "      <td>0.0</td>\n",
       "      <td>0.0</td>\n",
       "      <td>0</td>\n",
       "      <td>8027</td>\n",
       "      <td>...</td>\n",
       "      <td>0.0</td>\n",
       "      <td>0.0</td>\n",
       "      <td>0.0</td>\n",
       "      <td>0.0</td>\n",
       "      <td>0.0</td>\n",
       "      <td>0.0</td>\n",
       "      <td>0.0</td>\n",
       "      <td>0.0</td>\n",
       "      <td>0.0</td>\n",
       "      <td>0.0</td>\n",
       "    </tr>\n",
       "    <tr>\n",
       "      <th>3</th>\n",
       "      <td>8</td>\n",
       "      <td>3.0</td>\n",
       "      <td>37.750000</td>\n",
       "      <td>1.125000</td>\n",
       "      <td>1.875000</td>\n",
       "      <td>5.0</td>\n",
       "      <td>0.0</td>\n",
       "      <td>0.0</td>\n",
       "      <td>0</td>\n",
       "      <td>8027</td>\n",
       "      <td>...</td>\n",
       "      <td>0.0</td>\n",
       "      <td>0.0</td>\n",
       "      <td>0.0</td>\n",
       "      <td>0.0</td>\n",
       "      <td>0.0</td>\n",
       "      <td>0.0</td>\n",
       "      <td>0.0</td>\n",
       "      <td>0.0</td>\n",
       "      <td>0.0</td>\n",
       "      <td>0.0</td>\n",
       "    </tr>\n",
       "    <tr>\n",
       "      <th>4</th>\n",
       "      <td>26</td>\n",
       "      <td>15.0</td>\n",
       "      <td>14.923077</td>\n",
       "      <td>1.500000</td>\n",
       "      <td>0.423077</td>\n",
       "      <td>11.0</td>\n",
       "      <td>0.0</td>\n",
       "      <td>1.0</td>\n",
       "      <td>1</td>\n",
       "      <td>73838</td>\n",
       "      <td>...</td>\n",
       "      <td>0.0</td>\n",
       "      <td>0.0</td>\n",
       "      <td>0.0</td>\n",
       "      <td>0.0</td>\n",
       "      <td>0.0</td>\n",
       "      <td>0.0</td>\n",
       "      <td>0.0</td>\n",
       "      <td>0.0</td>\n",
       "      <td>0.0</td>\n",
       "      <td>0.0</td>\n",
       "    </tr>\n",
       "  </tbody>\n",
       "</table>\n",
       "<p>5 rows × 191 columns</p>\n",
       "</div>"
      ],
      "text/plain": [
       "   problem_number  is_correct  total_sec_taken  total_attempt_cnt  \\\n",
       "0              12         7.0        89.800000           1.600000   \n",
       "1               4         0.0        74.250000           1.500000   \n",
       "2               7         1.0        24.571429           1.428571   \n",
       "3               8         3.0        37.750000           1.125000   \n",
       "4              26        15.0        14.923077           1.500000   \n",
       "\n",
       "   used_hint_cnt  is_hint_used  is_downgrade  is_upgrade  level  points  ...  \\\n",
       "0       0.500000           3.0           0.0         1.0      1    9533  ...   \n",
       "1       3.250000           4.0           0.0         0.0      0    8027  ...   \n",
       "2       3.142857           6.0           0.0         0.0      0    8027  ...   \n",
       "3       1.875000           5.0           0.0         0.0      0    8027  ...   \n",
       "4       0.423077          11.0           0.0         1.0      1   73838  ...   \n",
       "\n",
       "   level4_id_x2xocZ2ffvV9TBpbWEd0C99XcsMY/d7WuhqSocGXF/M=  \\\n",
       "0                                                0.0        \n",
       "1                                                0.0        \n",
       "2                                                0.0        \n",
       "3                                                0.0        \n",
       "4                                                0.0        \n",
       "\n",
       "   level4_id_x6ydbyAZ5cg/SPyo/WvjhfZ4RkUk89e10PElUmNMwf0=  \\\n",
       "0                                                0.0        \n",
       "1                                                0.0        \n",
       "2                                                0.0        \n",
       "3                                                0.0        \n",
       "4                                                0.0        \n",
       "\n",
       "   level4_id_xwq9S3SOMEYKW8W5OavIdIhjGY5PqtNwjGvAIOS1g+Y=  \\\n",
       "0                                                0.0        \n",
       "1                                                0.0        \n",
       "2                                                0.0        \n",
       "3                                                0.0        \n",
       "4                                                0.0        \n",
       "\n",
       "   level4_id_y84LImFGtQZt7uAAN9ipC5M5THCImwCk8xEYF3/BzHA=  \\\n",
       "0                                                0.0        \n",
       "1                                                0.0        \n",
       "2                                                0.0        \n",
       "3                                                0.0        \n",
       "4                                                0.0        \n",
       "\n",
       "   level4_id_yAzQR919g6E/LcFFdUOg/UDlVYQtRNHvS19zOJV2V/o=  \\\n",
       "0                                                0.0        \n",
       "1                                                0.0        \n",
       "2                                                0.0        \n",
       "3                                                0.0        \n",
       "4                                                0.0        \n",
       "\n",
       "   level4_id_yFIhXSdRiIbnAJXjpjveYhhXopOOxVcUHbLdetuOIEc=  \\\n",
       "0                                                0.0        \n",
       "1                                                0.0        \n",
       "2                                                0.0        \n",
       "3                                                0.0        \n",
       "4                                                0.0        \n",
       "\n",
       "   level4_id_ydx3O+QKc8BXLVlrYy2opLQARV0qYy6CUvHFZn2Eths=  \\\n",
       "0                                                0.0        \n",
       "1                                                0.0        \n",
       "2                                                0.0        \n",
       "3                                                0.0        \n",
       "4                                                0.0        \n",
       "\n",
       "   level4_id_zI1qYT7KOxUn/HpISafbc4uU5cg4H+Vpd/DB9QzVOPg=  \\\n",
       "0                                                0.0        \n",
       "1                                                0.0        \n",
       "2                                                0.0        \n",
       "3                                                0.0        \n",
       "4                                                0.0        \n",
       "\n",
       "   level4_id_zMYuCCkIy21KGCJ6fnAHFAXbm2tJyKjVNlL/3d9WiUI=  \\\n",
       "0                                                0.0        \n",
       "1                                                0.0        \n",
       "2                                                0.0        \n",
       "3                                                0.0        \n",
       "4                                                0.0        \n",
       "\n",
       "   level4_id_zyVjBuMRkEs/hVTbayt34VrOAU1KNtk5Tt0EvU+/xhk=  \n",
       "0                                                0.0       \n",
       "1                                                0.0       \n",
       "2                                                0.0       \n",
       "3                                                0.0       \n",
       "4                                                0.0       \n",
       "\n",
       "[5 rows x 191 columns]"
      ]
     },
     "execution_count": 3,
     "metadata": {},
     "output_type": "execute_result"
    }
   ],
   "source": [
    "new_df.head()"
   ]
  },
  {
   "cell_type": "markdown",
   "metadata": {},
   "source": [
    "## Splitting Train Set and Test Set"
   ]
  },
  {
   "cell_type": "code",
   "execution_count": 5,
   "metadata": {},
   "outputs": [],
   "source": [
    "from sklearn.model_selection import train_test_split\n",
    "\n",
    "X = new_df.drop('level', axis=1)\n",
    "y = new_df['level']\n",
    "\n",
    "\n",
    "X_train, X_test, y_train, y_test = train_test_split(X, y, test_size=0.2, random_state=42)"
   ]
  },
  {
   "cell_type": "code",
   "execution_count": 6,
   "metadata": {},
   "outputs": [
    {
     "data": {
      "text/plain": [
       "((386049, 190), (96513, 190), (386049,), (96513,))"
      ]
     },
     "execution_count": 6,
     "metadata": {},
     "output_type": "execute_result"
    }
   ],
   "source": [
    "X_train.shape, X_test.shape, y_train.shape, y_test.shape"
   ]
  },
  {
   "cell_type": "markdown",
   "metadata": {},
   "source": [
    "## Feature Scaling"
   ]
  },
  {
   "cell_type": "code",
   "execution_count": 43,
   "metadata": {},
   "outputs": [
    {
     "name": "stdout",
     "output_type": "stream",
     "text": [
      "[[-0.7668873  -1.05297703  0.80925266 ... -0.05642051 -0.01055449\n",
      "  -0.05475601]\n",
      " [-0.87581887 -0.88267614 -0.6250528  ... -0.05642051 -0.01055449\n",
      "  -0.05475601]\n",
      " [ 0.64922312  0.30943008 -0.506747   ... -0.05642051 -0.01055449\n",
      "  -0.05475601]\n",
      " ...\n",
      " [-0.33116102 -0.20147258  0.4250637  ... -0.05642051 -0.01055449\n",
      "  -0.05475601]\n",
      " [-0.44009259 -0.20147258  0.30041572 ... -0.05642051 -0.01055449\n",
      "  -0.05475601]\n",
      " [-0.0043663  -0.54207436 -0.3347767  ... -0.05642051 -0.01055449\n",
      "  -0.05475601]]\n",
      "[[-4.40092588e-01 -3.71773474e-01 -4.64547192e-01 ... -5.64205051e-02\n",
      "  -1.05544887e-02 -5.47560069e-02]\n",
      " [ 3.22428410e-01 -3.71773474e-01  4.64905515e-01 ... -5.64205051e-02\n",
      "  -1.05544887e-02 -5.47560069e-02]\n",
      " [-4.40092588e-01 -5.42074363e-01 -5.19187400e-01 ...  1.77240526e+01\n",
      "  -1.05544887e-02 -5.47560069e-02]\n",
      " ...\n",
      " [-4.40092588e-01 -2.01472584e-01  9.90248349e-01 ... -5.64205051e-02\n",
      "  -1.05544887e-02 -5.47560069e-02]\n",
      " [ 3.69930712e+00  3.20454521e+00 -4.23725874e-01 ... -5.64205051e-02\n",
      "  -1.05544887e-02 -5.47560069e-02]\n",
      " [-6.57955731e-01 -8.82676142e-01  1.68008098e+00 ... -5.64205051e-02\n",
      "  -1.05544887e-02 -5.47560069e-02]]\n"
     ]
    }
   ],
   "source": [
    "from sklearn.preprocessing import StandardScaler\n",
    "\n",
    "sc = StandardScaler()\n",
    "X_train = sc.fit_transform(X_train)\n",
    "X_test = sc.transform(X_test)\n",
    "print(X_train)\n",
    "print(X_test)"
   ]
  },
  {
   "cell_type": "code",
   "execution_count": 44,
   "metadata": {},
   "outputs": [
    {
     "data": {
      "text/plain": [
       "RandomForestClassifier(bootstrap=True, ccp_alpha=0.0, class_weight=None,\n",
       "                       criterion='entropy', max_depth=None, max_features='auto',\n",
       "                       max_leaf_nodes=None, max_samples=None,\n",
       "                       min_impurity_decrease=0.0, min_impurity_split=None,\n",
       "                       min_samples_leaf=1, min_samples_split=2,\n",
       "                       min_weight_fraction_leaf=0.0, n_estimators=10,\n",
       "                       n_jobs=None, oob_score=False, random_state=0, verbose=0,\n",
       "                       warm_start=False)"
      ]
     },
     "execution_count": 44,
     "metadata": {},
     "output_type": "execute_result"
    }
   ],
   "source": [
    "# Training the Random Forest Classification model on the Training set\n",
    "from sklearn.ensemble import RandomForestClassifier\n",
    "classifier = RandomForestClassifier(n_estimators = 10, criterion = 'entropy', random_state = 0)\n",
    "classifier.fit(X_train, y_train)"
   ]
  },
  {
   "cell_type": "code",
   "execution_count": 45,
   "metadata": {},
   "outputs": [],
   "source": [
    "# Predicting the Test set results\n",
    "y_pred = classifier.predict(X_test)"
   ]
  },
  {
   "cell_type": "code",
   "execution_count": 46,
   "metadata": {},
   "outputs": [
    {
     "name": "stdout",
     "output_type": "stream",
     "text": [
      "[[38006    57     4     0     0]\n",
      " [   12 42424   129    24    17]\n",
      " [   34   877  4542   279   241]\n",
      " [   15   362   666  1538   851]\n",
      " [   10   221   381   491  5332]]\n"
     ]
    },
    {
     "data": {
      "text/plain": [
       "0.9516023748096112"
      ]
     },
     "execution_count": 46,
     "metadata": {},
     "output_type": "execute_result"
    }
   ],
   "source": [
    "# Making the Confusion Matrix\n",
    "from sklearn.metrics import confusion_matrix, accuracy_score\n",
    "cm = confusion_matrix(y_test, y_pred)\n",
    "print(cm)\n",
    "accuracy_score(y_test, y_pred)"
   ]
  },
  {
   "cell_type": "code",
   "execution_count": 31,
   "metadata": {},
   "outputs": [
    {
     "data": {
      "image/png": "[encoded data removed]",
      "text/plain": [
       "<Figure size 432x288 with 2 Axes>"
      ]
     },
     "metadata": {
      "needs_background": "light"
     },
     "output_type": "display_data"
    }
   ],
   "source": [
    "import seaborn as sns\n",
    "ax = sns.heatmap(confusion_matrix(y_test, y_preds), annot=True)\n",
    "ax.set(xlabel='True Values', ylabel='Predicted Values')\n",
    "plt.show()"
   ]
  },
  {
   "cell_type": "markdown",
   "metadata": {},
   "source": [
    "### Feature Selection"
   ]
  },
  {
   "cell_type": "code",
   "execution_count": 33,
   "metadata": {},
   "outputs": [],
   "source": [
    "from sklearn.feature_selection import VarianceThreshold\n",
    "\n",
    "# Create VarianceThreshold object with a variance with a threshold of 0.5\n",
    "thresholder = VarianceThreshold(threshold=.5)"
   ]
  },
  {
   "cell_type": "code",
   "execution_count": 34,
   "metadata": {},
   "outputs": [],
   "source": [
    "data_high_variance = thresholder.fit_transform(X_train)"
   ]
  },
  {
   "cell_type": "code",
   "execution_count": 35,
   "metadata": {},
   "outputs": [
    {
     "data": {
      "text/plain": [
       "array([[-0.7668873 , -1.05297703,  0.80925266, ..., -0.05642051,\n",
       "        -0.01055449, -0.05475601],\n",
       "       [-0.87581887, -0.88267614, -0.6250528 , ..., -0.05642051,\n",
       "        -0.01055449, -0.05475601],\n",
       "       [ 0.64922312,  0.30943008, -0.506747  , ..., -0.05642051,\n",
       "        -0.01055449, -0.05475601],\n",
       "       ...,\n",
       "       [-0.33116102, -0.20147258,  0.4250637 , ..., -0.05642051,\n",
       "        -0.01055449, -0.05475601],\n",
       "       [-0.44009259, -0.20147258,  0.30041572, ..., -0.05642051,\n",
       "        -0.01055449, -0.05475601],\n",
       "       [-0.0043663 , -0.54207436, -0.3347767 , ..., -0.05642051,\n",
       "        -0.01055449, -0.05475601]])"
      ]
     },
     "execution_count": 35,
     "metadata": {},
     "output_type": "execute_result"
    }
   ],
   "source": [
    "data_high_variance"
   ]
  },
  {
   "cell_type": "code",
   "execution_count": 51,
   "metadata": {},
   "outputs": [
    {
     "name": "stdout",
     "output_type": "stream",
     "text": [
      "Dimensionality reduced from 191 to 188.\n"
     ]
    }
   ],
   "source": [
    "from sklearn.feature_selection import VarianceThreshold\n",
    "\n",
    "# Create a VarianceThreshold feature selector\n",
    "sel = VarianceThreshold(threshold=0.5)\n",
    "\n",
    "# Fit the selector to normalized head_df\n",
    "sel.fit(new_df / new_df.mean())\n",
    "\n",
    "# Create a boolean mask\n",
    "mask = sel.get_support()\n",
    "\n",
    "# Apply the mask to create a reduced dataframe\n",
    "reduced_df = new_df.loc[:, mask]\n",
    "\n",
    "print(\"Dimensionality reduced from {} to {}.\".format(new_df.shape[1], reduced_df.shape[1]))"
   ]
  },
  {
   "cell_type": "code",
   "execution_count": null,
   "metadata": {},
   "outputs": [],
   "source": [
    "from itertools import combinations\n",
    "from scipy import stats\n",
    "\n",
    "correlations = {}\n",
    "columns = reduced_df.columns.tolist()\n",
    "\n",
    "for col_a, col_b in itertools.combinations(columns, 2):\n",
    "    correlations[col_a + '__' + col_b] = stats.pearsonr(reduced_df.loc[:, col_a], reduced_df.loc[:, col_b])\n",
    "\n",
    "result = DataFrame.from_dict(correlations, orient='index')\n",
    "result.columns = ['PCC', 'p-value']\n",
    "\n",
    "print(result.sort_index())"
   ]
  }
 ],
 "metadata": {
  "kernelspec": {
   "display_name": "Python 3",
   "language": "python",
   "name": "python3"
  },
  "language_info": {
   "codemirror_mode": {
    "name": "ipython",
    "version": 3
   },
   "file_extension": ".py",
   "mimetype": "text/x-python",
   "name": "python",
   "nbconvert_exporter": "python",
   "pygments_lexer": "ipython3",
   "version": "3.7.6"
  }
 },
 "nbformat": 4,
 "nbformat_minor": 4
}

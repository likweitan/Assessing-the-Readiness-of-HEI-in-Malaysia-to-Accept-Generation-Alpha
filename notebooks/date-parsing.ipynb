{
 "cells": [
  {
   "cell_type": "markdown",
   "metadata": {},
   "source": [
    "# 2.2 Data Transformation"
   ]
  },
  {
   "cell_type": "markdown",
   "metadata": {},
   "source": [
    "## Importing Libraries"
   ]
  },
  {
   "cell_type": "code",
   "execution_count": 19,
   "metadata": {},
   "outputs": [],
   "source": [
    "import numpy as np # linear algebra\n",
    "import pandas as pd # data processing, CSV file I/O\n",
    "import matplotlib.pyplot as plt\n",
    "import seaborn as sns"
   ]
  },
  {
   "cell_type": "markdown",
   "metadata": {},
   "source": [
    "## Importing Data"
   ]
  },
  {
   "cell_type": "code",
   "execution_count": 25,
   "metadata": {},
   "outputs": [
    {
     "name": "stdout",
     "output_type": "stream",
     "text": [
      "Wall time: 16.7 s\n"
     ]
    }
   ],
   "source": [
    "%%time\n",
    "info_content_cleaned_df = pd.read_csv('../data/interim/Cleaned_Info_Content.csv', index_col='ucid')\n",
    "info_userdata_cleaned_df = pd.read_csv('../data/interim/Cleaned_Info_UserData.csv', index_col='uuid')\n",
    "log_problem_cleaned_df = pd.read_csv('../data/interim/Cleaned_Log_Problem.csv', index_col='upid')"
   ]
  },
  {
   "cell_type": "markdown",
   "metadata": {},
   "source": [
    "## Parsing Date"
   ]
  },
  {
   "cell_type": "code",
   "execution_count": 27,
   "metadata": {},
   "outputs": [
    {
     "data": {
      "text/plain": [
       "uuid\n",
       "Y2RcCdmUJAYPUAIDElo4nE9KrkLLFzUIRdexG+ipaZQ=    2019-01-24\n",
       "lw/Rchfvl9q1UDaQRmeE6QJDJeXAK7nt56RvUvqxD/8=    2019-01-24\n",
       "ncVYyCw3osV77X9M+4NbI7LvBR5UiB4ix6Ca+baQArA=    2019-01-24\n",
       "J7Tbo1x2WtRpPuXeX7lWT9tkzWlSJeubl8UWjNmHh+4=    2019-01-24\n",
       "qijKzROzz1LmCaCxHJ3mOBOtjW/q4kW80tnpPmXHVYQ=    2019-01-24\n",
       "Name: first_login_date_TW, dtype: object"
      ]
     },
     "execution_count": 27,
     "metadata": {},
     "output_type": "execute_result"
    }
   ],
   "source": [
    "info_userdata_cleaned_df['first_login_date_TW'].head()"
   ]
  },
  {
   "cell_type": "code",
   "execution_count": 28,
   "metadata": {},
   "outputs": [
    {
     "data": {
      "text/plain": [
       "upid\n",
       "ZmKEZ0F2WFqhlL7KFfJcHEnZCZu0e4p+CVG5rSlyKYk=    2018-09-28 20:00:00 UTC\n",
       "tO9dyvadKWMVQgEx/BXtRIYJ2TRJFQgwvcsBwFb4+xI=    2018-09-28 10:15:00 UTC\n",
       "6Lxz6aXvgyw3vZd3v8g6jgoCRDPOQzVPx/dnEC0o7DQ=    2018-09-05 20:00:00 UTC\n",
       "1fIjdakTApQp5PfWog87uOmM6JuoNE/oQq2y5/fMmfw=    2018-09-14 16:30:00 UTC\n",
       "8V/NT6M+er2I3V3ZIWRNo4Qbo3Iad89PHbeeZeoZeF0=    2018-09-13 16:00:00 UTC\n",
       "Name: timestamp_TW, dtype: object"
      ]
     },
     "execution_count": 28,
     "metadata": {},
     "output_type": "execute_result"
    }
   ],
   "source": [
    "log_problem_cleaned_df['timestamp_TW'].head()"
   ]
  },
  {
   "cell_type": "markdown",
   "metadata": {},
   "source": [
    "### Convert our date columns to datetime\n",
    "\n",
    "Now that we know that our date column isn't being recognized as a date, it's time to convert it so that it is recognized as a date. This is called \"parsing dates\" because we're taking in a string and identifying its component parts.\n",
    "\n",
    "We can pandas what the format of our dates are with a guide called as \"strftime directive\", which you can find more information on at this link. The basic idea is that you need to point out which parts of the date are where and what punctuation is between them. There are lots of possible parts of a date, but the most common are %d for day, %m for month, %y for a two-digit year and %Y for a four digit year."
   ]
  },
  {
   "cell_type": "code",
   "execution_count": 12,
   "metadata": {},
   "outputs": [],
   "source": [
    "info_userdata_cleaned_df['first_login_date_TW'] = pd.to_datetime(info_userdata_cleaned_df['first_login_date_TW'], format='%Y-%m-%d')\n",
    "info_userdata_transformed_df = info_userdata_cleaned_df.rename(columns = {'first_login_date_TW':'date_login'})"
   ]
  },
  {
   "cell_type": "markdown",
   "metadata": {},
   "source": [
    "Now when I check the first few rows of the new column, I can see that the dtype is `datetime64`. I can also see that my dates have been slightly rearranged so that they fit the default order datetime objects (year-month-day)."
   ]
  },
  {
   "cell_type": "code",
   "execution_count": 16,
   "metadata": {},
   "outputs": [
    {
     "data": {
      "text/plain": [
       "uuid\n",
       "Y2RcCdmUJAYPUAIDElo4nE9KrkLLFzUIRdexG+ipaZQ=   2019-01-24\n",
       "lw/Rchfvl9q1UDaQRmeE6QJDJeXAK7nt56RvUvqxD/8=   2019-01-24\n",
       "ncVYyCw3osV77X9M+4NbI7LvBR5UiB4ix6Ca+baQArA=   2019-01-24\n",
       "J7Tbo1x2WtRpPuXeX7lWT9tkzWlSJeubl8UWjNmHh+4=   2019-01-24\n",
       "qijKzROzz1LmCaCxHJ3mOBOtjW/q4kW80tnpPmXHVYQ=   2019-01-24\n",
       "Name: date_login, dtype: datetime64[ns]"
      ]
     },
     "execution_count": 16,
     "metadata": {},
     "output_type": "execute_result"
    }
   ],
   "source": [
    "# print the first few rows\n",
    "info_userdata_transformed_df['date_login'].head()"
   ]
  },
  {
   "cell_type": "code",
   "execution_count": 14,
   "metadata": {},
   "outputs": [],
   "source": [
    "log_problem_cleaned_df['timestamp_TW'] = pd.to_datetime(log_problem_cleaned_df['timestamp_TW'], format='%Y-%m-%d %H:%M:%S %Z')\n",
    "log_problem_transformed_df = log_problem_cleaned_df.rename(columns = {'timestamp_TW':'datetime_attempt'})"
   ]
  },
  {
   "cell_type": "code",
   "execution_count": 15,
   "metadata": {},
   "outputs": [
    {
     "data": {
      "text/html": [
       "<div>\n",
       "<style scoped>\n",
       "    .dataframe tbody tr th:only-of-type {\n",
       "        vertical-align: middle;\n",
       "    }\n",
       "\n",
       "    .dataframe tbody tr th {\n",
       "        vertical-align: top;\n",
       "    }\n",
       "\n",
       "    .dataframe thead th {\n",
       "        text-align: right;\n",
       "    }\n",
       "</style>\n",
       "<table border=\"1\" class=\"dataframe\">\n",
       "  <thead>\n",
       "    <tr style=\"text-align: right;\">\n",
       "      <th></th>\n",
       "      <th>datetime_attempt</th>\n",
       "      <th>uuid</th>\n",
       "      <th>ucid</th>\n",
       "      <th>problem_number</th>\n",
       "      <th>exercise_problem_repeat_session</th>\n",
       "      <th>is_correct</th>\n",
       "      <th>total_sec_taken</th>\n",
       "      <th>total_attempt_cnt</th>\n",
       "      <th>used_hint_cnt</th>\n",
       "      <th>is_hint_used</th>\n",
       "      <th>is_downgrade</th>\n",
       "      <th>is_upgrade</th>\n",
       "      <th>level</th>\n",
       "      <th>year_attempt</th>\n",
       "      <th>month_attempt</th>\n",
       "      <th>day_attempt</th>\n",
       "    </tr>\n",
       "    <tr>\n",
       "      <th>upid</th>\n",
       "      <th></th>\n",
       "      <th></th>\n",
       "      <th></th>\n",
       "      <th></th>\n",
       "      <th></th>\n",
       "      <th></th>\n",
       "      <th></th>\n",
       "      <th></th>\n",
       "      <th></th>\n",
       "      <th></th>\n",
       "      <th></th>\n",
       "      <th></th>\n",
       "      <th></th>\n",
       "      <th></th>\n",
       "      <th></th>\n",
       "      <th></th>\n",
       "    </tr>\n",
       "  </thead>\n",
       "  <tbody>\n",
       "    <tr>\n",
       "      <th>ZmKEZ0F2WFqhlL7KFfJcHEnZCZu0e4p+CVG5rSlyKYk=</th>\n",
       "      <td>2018-09-28 20:00:00+00:00</td>\n",
       "      <td>Kpq2q+eKw/O+6/jLs3XJosgmI7weEJxJZdnkKTbbF8I=</td>\n",
       "      <td>Ps4dfShfpeMF3VG030HqZ2bsbD7PaVxvJYFTtroeSzQ=</td>\n",
       "      <td>2</td>\n",
       "      <td>1</td>\n",
       "      <td>True</td>\n",
       "      <td>11</td>\n",
       "      <td>1</td>\n",
       "      <td>0</td>\n",
       "      <td>False</td>\n",
       "      <td>False</td>\n",
       "      <td>False</td>\n",
       "      <td>0</td>\n",
       "      <td>2018</td>\n",
       "      <td>9</td>\n",
       "      <td>28</td>\n",
       "    </tr>\n",
       "    <tr>\n",
       "      <th>tO9dyvadKWMVQgEx/BXtRIYJ2TRJFQgwvcsBwFb4+xI=</th>\n",
       "      <td>2018-09-28 10:15:00+00:00</td>\n",
       "      <td>0+VU/Zb0Q96uoByuRhl7r9bJuJO6CKWpsmNMEuijSzc=</td>\n",
       "      <td>/d39FzqaM3PZzpoMXxA80PMICsVhzfL6MGSCqZtsQOo=</td>\n",
       "      <td>6</td>\n",
       "      <td>1</td>\n",
       "      <td>True</td>\n",
       "      <td>26</td>\n",
       "      <td>1</td>\n",
       "      <td>0</td>\n",
       "      <td>False</td>\n",
       "      <td>False</td>\n",
       "      <td>False</td>\n",
       "      <td>0</td>\n",
       "      <td>2018</td>\n",
       "      <td>9</td>\n",
       "      <td>28</td>\n",
       "    </tr>\n",
       "    <tr>\n",
       "      <th>6Lxz6aXvgyw3vZd3v8g6jgoCRDPOQzVPx/dnEC0o7DQ=</th>\n",
       "      <td>2018-09-05 20:00:00+00:00</td>\n",
       "      <td>g8DnYvIqpolw10XlwWeIWv6NbDPByUbmgH8EshJqBns=</td>\n",
       "      <td>YuGOmB+frbM8rfAa0RJE882R+IoMf9N89OiVqLbAHBw=</td>\n",
       "      <td>4</td>\n",
       "      <td>1</td>\n",
       "      <td>True</td>\n",
       "      <td>78</td>\n",
       "      <td>1</td>\n",
       "      <td>0</td>\n",
       "      <td>False</td>\n",
       "      <td>False</td>\n",
       "      <td>False</td>\n",
       "      <td>0</td>\n",
       "      <td>2018</td>\n",
       "      <td>9</td>\n",
       "      <td>5</td>\n",
       "    </tr>\n",
       "    <tr>\n",
       "      <th>1fIjdakTApQp5PfWog87uOmM6JuoNE/oQq2y5/fMmfw=</th>\n",
       "      <td>2018-09-14 16:30:00+00:00</td>\n",
       "      <td>kSyUTFlepsYUD723IPL/jEZ520xaKbscrBmNtBUFR1o=</td>\n",
       "      <td>BG1RsWojzEHzV28RBm/1iKi1NyZgDcDomLYEJSV6lmo=</td>\n",
       "      <td>3</td>\n",
       "      <td>1</td>\n",
       "      <td>True</td>\n",
       "      <td>7</td>\n",
       "      <td>1</td>\n",
       "      <td>0</td>\n",
       "      <td>False</td>\n",
       "      <td>False</td>\n",
       "      <td>False</td>\n",
       "      <td>0</td>\n",
       "      <td>2018</td>\n",
       "      <td>9</td>\n",
       "      <td>14</td>\n",
       "    </tr>\n",
       "    <tr>\n",
       "      <th>8V/NT6M+er2I3V3ZIWRNo4Qbo3Iad89PHbeeZeoZeF0=</th>\n",
       "      <td>2018-09-13 16:00:00+00:00</td>\n",
       "      <td>XMFbFA7C49+LRhUddhelfPpA6F5dbOoxeyL3eYbuTlY=</td>\n",
       "      <td>qPHR8aBqOhKij9IS/Y8IR8prwWruoDBGU1tVUhXDJkE=</td>\n",
       "      <td>12</td>\n",
       "      <td>1</td>\n",
       "      <td>True</td>\n",
       "      <td>48</td>\n",
       "      <td>1</td>\n",
       "      <td>0</td>\n",
       "      <td>False</td>\n",
       "      <td>False</td>\n",
       "      <td>True</td>\n",
       "      <td>1</td>\n",
       "      <td>2018</td>\n",
       "      <td>9</td>\n",
       "      <td>13</td>\n",
       "    </tr>\n",
       "  </tbody>\n",
       "</table>\n",
       "</div>"
      ],
      "text/plain": [
       "                                                      datetime_attempt  \\\n",
       "upid                                                                     \n",
       "ZmKEZ0F2WFqhlL7KFfJcHEnZCZu0e4p+CVG5rSlyKYk= 2018-09-28 20:00:00+00:00   \n",
       "tO9dyvadKWMVQgEx/BXtRIYJ2TRJFQgwvcsBwFb4+xI= 2018-09-28 10:15:00+00:00   \n",
       "6Lxz6aXvgyw3vZd3v8g6jgoCRDPOQzVPx/dnEC0o7DQ= 2018-09-05 20:00:00+00:00   \n",
       "1fIjdakTApQp5PfWog87uOmM6JuoNE/oQq2y5/fMmfw= 2018-09-14 16:30:00+00:00   \n",
       "8V/NT6M+er2I3V3ZIWRNo4Qbo3Iad89PHbeeZeoZeF0= 2018-09-13 16:00:00+00:00   \n",
       "\n",
       "                                                                                      uuid  \\\n",
       "upid                                                                                         \n",
       "ZmKEZ0F2WFqhlL7KFfJcHEnZCZu0e4p+CVG5rSlyKYk=  Kpq2q+eKw/O+6/jLs3XJosgmI7weEJxJZdnkKTbbF8I=   \n",
       "tO9dyvadKWMVQgEx/BXtRIYJ2TRJFQgwvcsBwFb4+xI=  0+VU/Zb0Q96uoByuRhl7r9bJuJO6CKWpsmNMEuijSzc=   \n",
       "6Lxz6aXvgyw3vZd3v8g6jgoCRDPOQzVPx/dnEC0o7DQ=  g8DnYvIqpolw10XlwWeIWv6NbDPByUbmgH8EshJqBns=   \n",
       "1fIjdakTApQp5PfWog87uOmM6JuoNE/oQq2y5/fMmfw=  kSyUTFlepsYUD723IPL/jEZ520xaKbscrBmNtBUFR1o=   \n",
       "8V/NT6M+er2I3V3ZIWRNo4Qbo3Iad89PHbeeZeoZeF0=  XMFbFA7C49+LRhUddhelfPpA6F5dbOoxeyL3eYbuTlY=   \n",
       "\n",
       "                                                                                      ucid  \\\n",
       "upid                                                                                         \n",
       "ZmKEZ0F2WFqhlL7KFfJcHEnZCZu0e4p+CVG5rSlyKYk=  Ps4dfShfpeMF3VG030HqZ2bsbD7PaVxvJYFTtroeSzQ=   \n",
       "tO9dyvadKWMVQgEx/BXtRIYJ2TRJFQgwvcsBwFb4+xI=  /d39FzqaM3PZzpoMXxA80PMICsVhzfL6MGSCqZtsQOo=   \n",
       "6Lxz6aXvgyw3vZd3v8g6jgoCRDPOQzVPx/dnEC0o7DQ=  YuGOmB+frbM8rfAa0RJE882R+IoMf9N89OiVqLbAHBw=   \n",
       "1fIjdakTApQp5PfWog87uOmM6JuoNE/oQq2y5/fMmfw=  BG1RsWojzEHzV28RBm/1iKi1NyZgDcDomLYEJSV6lmo=   \n",
       "8V/NT6M+er2I3V3ZIWRNo4Qbo3Iad89PHbeeZeoZeF0=  qPHR8aBqOhKij9IS/Y8IR8prwWruoDBGU1tVUhXDJkE=   \n",
       "\n",
       "                                              problem_number  \\\n",
       "upid                                                           \n",
       "ZmKEZ0F2WFqhlL7KFfJcHEnZCZu0e4p+CVG5rSlyKYk=               2   \n",
       "tO9dyvadKWMVQgEx/BXtRIYJ2TRJFQgwvcsBwFb4+xI=               6   \n",
       "6Lxz6aXvgyw3vZd3v8g6jgoCRDPOQzVPx/dnEC0o7DQ=               4   \n",
       "1fIjdakTApQp5PfWog87uOmM6JuoNE/oQq2y5/fMmfw=               3   \n",
       "8V/NT6M+er2I3V3ZIWRNo4Qbo3Iad89PHbeeZeoZeF0=              12   \n",
       "\n",
       "                                              exercise_problem_repeat_session  \\\n",
       "upid                                                                            \n",
       "ZmKEZ0F2WFqhlL7KFfJcHEnZCZu0e4p+CVG5rSlyKYk=                                1   \n",
       "tO9dyvadKWMVQgEx/BXtRIYJ2TRJFQgwvcsBwFb4+xI=                                1   \n",
       "6Lxz6aXvgyw3vZd3v8g6jgoCRDPOQzVPx/dnEC0o7DQ=                                1   \n",
       "1fIjdakTApQp5PfWog87uOmM6JuoNE/oQq2y5/fMmfw=                                1   \n",
       "8V/NT6M+er2I3V3ZIWRNo4Qbo3Iad89PHbeeZeoZeF0=                                1   \n",
       "\n",
       "                                              is_correct  total_sec_taken  \\\n",
       "upid                                                                        \n",
       "ZmKEZ0F2WFqhlL7KFfJcHEnZCZu0e4p+CVG5rSlyKYk=        True               11   \n",
       "tO9dyvadKWMVQgEx/BXtRIYJ2TRJFQgwvcsBwFb4+xI=        True               26   \n",
       "6Lxz6aXvgyw3vZd3v8g6jgoCRDPOQzVPx/dnEC0o7DQ=        True               78   \n",
       "1fIjdakTApQp5PfWog87uOmM6JuoNE/oQq2y5/fMmfw=        True                7   \n",
       "8V/NT6M+er2I3V3ZIWRNo4Qbo3Iad89PHbeeZeoZeF0=        True               48   \n",
       "\n",
       "                                              total_attempt_cnt  \\\n",
       "upid                                                              \n",
       "ZmKEZ0F2WFqhlL7KFfJcHEnZCZu0e4p+CVG5rSlyKYk=                  1   \n",
       "tO9dyvadKWMVQgEx/BXtRIYJ2TRJFQgwvcsBwFb4+xI=                  1   \n",
       "6Lxz6aXvgyw3vZd3v8g6jgoCRDPOQzVPx/dnEC0o7DQ=                  1   \n",
       "1fIjdakTApQp5PfWog87uOmM6JuoNE/oQq2y5/fMmfw=                  1   \n",
       "8V/NT6M+er2I3V3ZIWRNo4Qbo3Iad89PHbeeZeoZeF0=                  1   \n",
       "\n",
       "                                              used_hint_cnt  is_hint_used  \\\n",
       "upid                                                                        \n",
       "ZmKEZ0F2WFqhlL7KFfJcHEnZCZu0e4p+CVG5rSlyKYk=              0         False   \n",
       "tO9dyvadKWMVQgEx/BXtRIYJ2TRJFQgwvcsBwFb4+xI=              0         False   \n",
       "6Lxz6aXvgyw3vZd3v8g6jgoCRDPOQzVPx/dnEC0o7DQ=              0         False   \n",
       "1fIjdakTApQp5PfWog87uOmM6JuoNE/oQq2y5/fMmfw=              0         False   \n",
       "8V/NT6M+er2I3V3ZIWRNo4Qbo3Iad89PHbeeZeoZeF0=              0         False   \n",
       "\n",
       "                                              is_downgrade  is_upgrade  level  \\\n",
       "upid                                                                            \n",
       "ZmKEZ0F2WFqhlL7KFfJcHEnZCZu0e4p+CVG5rSlyKYk=         False       False      0   \n",
       "tO9dyvadKWMVQgEx/BXtRIYJ2TRJFQgwvcsBwFb4+xI=         False       False      0   \n",
       "6Lxz6aXvgyw3vZd3v8g6jgoCRDPOQzVPx/dnEC0o7DQ=         False       False      0   \n",
       "1fIjdakTApQp5PfWog87uOmM6JuoNE/oQq2y5/fMmfw=         False       False      0   \n",
       "8V/NT6M+er2I3V3ZIWRNo4Qbo3Iad89PHbeeZeoZeF0=         False        True      1   \n",
       "\n",
       "                                              year_attempt  month_attempt  \\\n",
       "upid                                                                        \n",
       "ZmKEZ0F2WFqhlL7KFfJcHEnZCZu0e4p+CVG5rSlyKYk=          2018              9   \n",
       "tO9dyvadKWMVQgEx/BXtRIYJ2TRJFQgwvcsBwFb4+xI=          2018              9   \n",
       "6Lxz6aXvgyw3vZd3v8g6jgoCRDPOQzVPx/dnEC0o7DQ=          2018              9   \n",
       "1fIjdakTApQp5PfWog87uOmM6JuoNE/oQq2y5/fMmfw=          2018              9   \n",
       "8V/NT6M+er2I3V3ZIWRNo4Qbo3Iad89PHbeeZeoZeF0=          2018              9   \n",
       "\n",
       "                                              day_attempt  \n",
       "upid                                                       \n",
       "ZmKEZ0F2WFqhlL7KFfJcHEnZCZu0e4p+CVG5rSlyKYk=           28  \n",
       "tO9dyvadKWMVQgEx/BXtRIYJ2TRJFQgwvcsBwFb4+xI=           28  \n",
       "6Lxz6aXvgyw3vZd3v8g6jgoCRDPOQzVPx/dnEC0o7DQ=            5  \n",
       "1fIjdakTApQp5PfWog87uOmM6JuoNE/oQq2y5/fMmfw=           14  \n",
       "8V/NT6M+er2I3V3ZIWRNo4Qbo3Iad89PHbeeZeoZeF0=           13  "
      ]
     },
     "execution_count": 15,
     "metadata": {},
     "output_type": "execute_result"
    }
   ],
   "source": [
    "log_problem_transformed_df.head()"
   ]
  },
  {
   "cell_type": "markdown",
   "metadata": {},
   "source": [
    "### Select Day of Month "
   ]
  },
  {
   "cell_type": "code",
   "execution_count": 17,
   "metadata": {},
   "outputs": [
    {
     "data": {
      "text/plain": [
       "uuid\n",
       "Y2RcCdmUJAYPUAIDElo4nE9KrkLLFzUIRdexG+ipaZQ=    24\n",
       "lw/Rchfvl9q1UDaQRmeE6QJDJeXAK7nt56RvUvqxD/8=    24\n",
       "ncVYyCw3osV77X9M+4NbI7LvBR5UiB4ix6Ca+baQArA=    24\n",
       "J7Tbo1x2WtRpPuXeX7lWT9tkzWlSJeubl8UWjNmHh+4=    24\n",
       "qijKzROzz1LmCaCxHJ3mOBOtjW/q4kW80tnpPmXHVYQ=    24\n",
       "Name: date_login, dtype: int64"
      ]
     },
     "execution_count": 17,
     "metadata": {},
     "output_type": "execute_result"
    }
   ],
   "source": [
    "# get the day of the month from the date_parsed column\n",
    "day_of_month_userdata = info_userdata_transformed_df['date_login'].dt.day\n",
    "day_of_month_userdata.head()"
   ]
  },
  {
   "cell_type": "markdown",
   "metadata": {},
   "source": [
    "If we tried to get the same information from the original \"date\" column, we would get an error: AttributeError: Can only use .dt accessor with datetimelike values. This is because dt.day doesn't know how to deal with a column with the dtype \"object\". Even though our dataframe has dates in it, we have to parse them before we can interact with them in a useful way."
   ]
  },
  {
   "cell_type": "code",
   "execution_count": 23,
   "metadata": {},
   "outputs": [
    {
     "data": {
      "text/plain": [
       "upid\n",
       "ZmKEZ0F2WFqhlL7KFfJcHEnZCZu0e4p+CVG5rSlyKYk=    28\n",
       "tO9dyvadKWMVQgEx/BXtRIYJ2TRJFQgwvcsBwFb4+xI=    28\n",
       "6Lxz6aXvgyw3vZd3v8g6jgoCRDPOQzVPx/dnEC0o7DQ=     5\n",
       "1fIjdakTApQp5PfWog87uOmM6JuoNE/oQq2y5/fMmfw=    14\n",
       "8V/NT6M+er2I3V3ZIWRNo4Qbo3Iad89PHbeeZeoZeF0=    13\n",
       "Name: datetime_attempt, dtype: int64"
      ]
     },
     "execution_count": 23,
     "metadata": {},
     "output_type": "execute_result"
    }
   ],
   "source": [
    "# get the day of the month from the date_parsed column\n",
    "day_of_month_problem = log_problem_transformed_df['datetime_attempt'].dt.day\n",
    "day_of_month_problem.head()"
   ]
  },
  {
   "cell_type": "markdown",
   "metadata": {},
   "source": [
    "### Plot the day of the month to check the date parsing"
   ]
  },
  {
   "cell_type": "code",
   "execution_count": 21,
   "metadata": {},
   "outputs": [
    {
     "data": {
      "text/plain": [
       "<matplotlib.axes._subplots.AxesSubplot at 0x23183768148>"
      ]
     },
     "execution_count": 21,
     "metadata": {},
     "output_type": "execute_result"
    },
    {
     "data": {
      "image/png": "[encoded data removed]",
      "text/plain": [
       "<Figure size 432x288 with 1 Axes>"
      ]
     },
     "metadata": {
      "needs_background": "light"
     },
     "output_type": "display_data"
    }
   ],
   "source": [
    "# remove na's\n",
    "day_of_month_userdata = day_of_month_userdata.dropna()\n",
    "\n",
    "# plot the day of the month\n",
    "sns.distplot(day_of_month_userdata, kde=False, bins=31)"
   ]
  },
  {
   "cell_type": "code",
   "execution_count": 24,
   "metadata": {},
   "outputs": [
    {
     "data": {
      "text/plain": [
       "<matplotlib.axes._subplots.AxesSubplot at 0x231c76cf908>"
      ]
     },
     "execution_count": 24,
     "metadata": {},
     "output_type": "execute_result"
    },
    {
     "data": {
      "image/png": "[encoded data removed]",
      "text/plain": [
       "<Figure size 432x288 with 1 Axes>"
      ]
     },
     "metadata": {
      "needs_background": "light"
     },
     "output_type": "display_data"
    }
   ],
   "source": [
    "# remove na's\n",
    "day_of_month_problem = day_of_month_problem.dropna()\n",
    "\n",
    "# plot the day of the month\n",
    "sns.distplot(day_of_month_problem, kde=False, bins=31)"
   ]
  },
  {
   "cell_type": "markdown",
   "metadata": {},
   "source": [
    "Yep, it looks like we did parse our dates correctly & this graph makes good sense to me."
   ]
  },
  {
   "cell_type": "markdown",
   "metadata": {},
   "source": [
    "## Exporting Data"
   ]
  },
  {
   "cell_type": "code",
   "execution_count": null,
   "metadata": {},
   "outputs": [],
   "source": [
    "info_content_df.to_csv('../data/interim/Transformed_Info_Content.csv')\n",
    "info_userdata_transformed_df.to_csv('../data/interim/Transformed_Info_UserData.csv')\n",
    "log_problem_transformed_df.to_csv('../data/interim/Transformed_Log_Problem.csv')"
   ]
  }
 ],
 "metadata": {
  "kernelspec": {
   "display_name": "Python 3",
   "language": "python",
   "name": "python3"
  },
  "language_info": {
   "codemirror_mode": {
    "name": "ipython",
    "version": 3
   },
   "file_extension": ".py",
   "mimetype": "text/x-python",
   "name": "python",
   "nbconvert_exporter": "python",
   "pygments_lexer": "ipython3",
   "version": "3.7.6"
  }
 },
 "nbformat": 4,
 "nbformat_minor": 4
}

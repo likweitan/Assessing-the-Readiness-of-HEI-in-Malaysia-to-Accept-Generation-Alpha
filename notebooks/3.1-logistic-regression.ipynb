{
 "cells": [
  {
   "cell_type": "code",
   "execution_count": 12,
   "metadata": {},
   "outputs": [],
   "source": [
    "# Importing the libraries\n",
    "import numpy as np\n",
    "import matplotlib.pyplot as plt\n",
    "import pandas as pd"
   ]
  },
  {
   "cell_type": "code",
   "execution_count": 29,
   "metadata": {},
   "outputs": [
    {
     "name": "stdout",
     "output_type": "stream",
     "text": [
      "Wall time: 10 s\n"
     ]
    }
   ],
   "source": [
    "%%time\n",
    "X_train = pd.read_csv('../data/processed/X_train.csv')\n",
    "y_train = pd.read_csv('../data/processed/y_train.csv')\n",
    "X_test = pd.read_csv('../data/processed/X_test.csv')\n",
    "y_test = pd.read_csv('../data/processed/y_test.csv')"
   ]
  },
  {
   "cell_type": "code",
   "execution_count": 23,
   "metadata": {},
   "outputs": [
    {
     "name": "stdout",
     "output_type": "stream",
     "text": [
      "[[-0.58530293 -0.27711084  0.64063027 ... -0.44866553 -0.56595674\n",
      "   1.45003581]\n",
      " [-0.4513771  -0.27711084  0.64063027 ... -0.44866553 -0.56595674\n",
      "   1.45003581]\n",
      " [-0.04959958 -0.27711084  0.64063027 ... -0.44866553 -0.56595674\n",
      "   0.21044633]\n",
      " ...\n",
      " [-0.38441418 -0.27711084 -1.56096277 ... -0.44866553 -0.56595674\n",
      "   0.04300921]\n",
      " [-0.4513771  -0.27711084 -1.56096277 ... -0.44866553  1.73326861\n",
      "  -0.4661161 ]\n",
      " [-0.1165625  -0.27711084  0.64063027 ... -0.44866553 -0.56595674\n",
      "   0.04300921]]\n",
      "[[ 0.08432626 -0.27711084 -1.56096277 ... -0.44866553  1.73326861\n",
      "  -1.18737218]\n",
      " [-0.04959958 -0.27711084  0.64063027 ... -0.44866553 -0.56595674\n",
      "  -0.84150883]\n",
      " [-0.31745126 -0.27711084  0.64063027 ... -0.44866553 -0.56595674\n",
      "   0.28111674]\n",
      " ...\n",
      " [ 0.01736334 -0.27711084  0.64063027 ... -0.44866553 -0.56595674\n",
      "   0.5718633 ]\n",
      " [-0.04959958 -0.27711084  0.64063027 ... -0.44866553 -0.56595674\n",
      "  -0.43148187]\n",
      " [ 0.15128917 -0.27711084  0.64063027 ...  1.12932434  1.73326861\n",
      "  -1.45328295]]\n"
     ]
    }
   ],
   "source": [
    "# Feature Scaling\n",
    "from sklearn.preprocessing import StandardScaler\n",
    "sc = StandardScaler()\n",
    "X_train = sc.fit_transform(X_train)\n",
    "X_test = sc.transform(X_test)\n",
    "print(X_train)\n",
    "print(X_test)"
   ]
  },
  {
   "cell_type": "code",
   "execution_count": null,
   "metadata": {},
   "outputs": [],
   "source": [
    "# Training the Logistic Regression model on the Training set\n",
    "from sklearn.linear_model import LogisticRegression\n",
    "classifier = LogisticRegression(random_state = 0)\n",
    "classifier.fit(X_train, y_train)\n",
    "\n",
    "# Making the Confusion Matrix\n",
    "from sklearn.metrics import confusion_matrix, accuracy_score\n",
    "y_pred = classifier.predict(X_test)\n",
    "cm = confusion_matrix(y_test, y_pred)\n",
    "print(cm)\n",
    "accuracy_score(y_test, y_pred)"
   ]
  },
  {
   "cell_type": "code",
   "execution_count": null,
   "metadata": {},
   "outputs": [],
   "source": []
  }
 ],
 "metadata": {
  "kernelspec": {
   "display_name": "Python 3",
   "language": "python",
   "name": "python3"
  },
  "language_info": {
   "codemirror_mode": {
    "name": "ipython",
    "version": 3
   },
   "file_extension": ".py",
   "mimetype": "text/x-python",
   "name": "python",
   "nbconvert_exporter": "python",
   "pygments_lexer": "ipython3",
   "version": "3.7.6"
  }
 },
 "nbformat": 4,
 "nbformat_minor": 4
}

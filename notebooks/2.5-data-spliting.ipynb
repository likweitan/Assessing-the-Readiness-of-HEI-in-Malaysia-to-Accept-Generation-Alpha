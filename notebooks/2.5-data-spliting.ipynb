{
 "cells": [
  {
   "cell_type": "markdown",
   "metadata": {},
   "source": [
    "## Setting Environment"
   ]
  },
  {
   "cell_type": "code",
   "execution_count": 1,
   "metadata": {},
   "outputs": [],
   "source": [
    "# modules we'll use\n",
    "import pandas as pd\n",
    "import numpy as np"
   ]
  },
  {
   "cell_type": "markdown",
   "metadata": {},
   "source": [
    "## Importing Data"
   ]
  },
  {
   "cell_type": "code",
   "execution_count": 2,
   "metadata": {},
   "outputs": [
    {
     "name": "stdout",
     "output_type": "stream",
     "text": [
      "Wall time: 38.5 s\n"
     ]
    }
   ],
   "source": [
    "%%time\n",
    "merge_df = pd.read_csv('../data/interim/Merged_Data.csv')"
   ]
  },
  {
   "cell_type": "code",
   "execution_count": 3,
   "metadata": {},
   "outputs": [
    {
     "data": {
      "text/html": [
       "<div>\n",
       "<style scoped>\n",
       "    .dataframe tbody tr th:only-of-type {\n",
       "        vertical-align: middle;\n",
       "    }\n",
       "\n",
       "    .dataframe tbody tr th {\n",
       "        vertical-align: top;\n",
       "    }\n",
       "\n",
       "    .dataframe thead th {\n",
       "        text-align: right;\n",
       "    }\n",
       "</style>\n",
       "<table border=\"1\" class=\"dataframe\">\n",
       "  <thead>\n",
       "    <tr style=\"text-align: right;\">\n",
       "      <th></th>\n",
       "      <th>Unnamed: 0</th>\n",
       "      <th>Unnamed: 0_x</th>\n",
       "      <th>datetime_attempt</th>\n",
       "      <th>uuid</th>\n",
       "      <th>ucid</th>\n",
       "      <th>problem_number</th>\n",
       "      <th>exercise_problem_repeat_session</th>\n",
       "      <th>is_correct</th>\n",
       "      <th>total_sec_taken</th>\n",
       "      <th>total_attempt_cnt</th>\n",
       "      <th>...</th>\n",
       "      <th>user_city_tc</th>\n",
       "      <th>user_city_tn</th>\n",
       "      <th>user_city_tp</th>\n",
       "      <th>user_city_ttct</th>\n",
       "      <th>user_city_ty</th>\n",
       "      <th>Unnamed: 0_y</th>\n",
       "      <th>content_pretty_name</th>\n",
       "      <th>difficulty</th>\n",
       "      <th>learning_stage</th>\n",
       "      <th>content_correct_rate</th>\n",
       "    </tr>\n",
       "  </thead>\n",
       "  <tbody>\n",
       "    <tr>\n",
       "      <th>0</th>\n",
       "      <td>0</td>\n",
       "      <td>0</td>\n",
       "      <td>2018-09-28 20:00:00+00:00</td>\n",
       "      <td>Kpq2q+eKw/O+6/jLs3XJosgmI7weEJxJZdnkKTbbF8I=</td>\n",
       "      <td>Ps4dfShfpeMF3VG030HqZ2bsbD7PaVxvJYFTtroeSzQ=</td>\n",
       "      <td>2</td>\n",
       "      <td>1</td>\n",
       "      <td>True</td>\n",
       "      <td>11</td>\n",
       "      <td>1</td>\n",
       "      <td>...</td>\n",
       "      <td>0</td>\n",
       "      <td>0</td>\n",
       "      <td>0</td>\n",
       "      <td>0</td>\n",
       "      <td>0</td>\n",
       "      <td>823</td>\n",
       "      <td>【基礎】倍數的應用</td>\n",
       "      <td>1</td>\n",
       "      <td>1</td>\n",
       "      <td>0.611204</td>\n",
       "    </tr>\n",
       "    <tr>\n",
       "      <th>1</th>\n",
       "      <td>1</td>\n",
       "      <td>1</td>\n",
       "      <td>2018-09-28 10:15:00+00:00</td>\n",
       "      <td>0+VU/Zb0Q96uoByuRhl7r9bJuJO6CKWpsmNMEuijSzc=</td>\n",
       "      <td>/d39FzqaM3PZzpoMXxA80PMICsVhzfL6MGSCqZtsQOo=</td>\n",
       "      <td>6</td>\n",
       "      <td>1</td>\n",
       "      <td>True</td>\n",
       "      <td>26</td>\n",
       "      <td>1</td>\n",
       "      <td>...</td>\n",
       "      <td>0</td>\n",
       "      <td>0</td>\n",
       "      <td>0</td>\n",
       "      <td>0</td>\n",
       "      <td>0</td>\n",
       "      <td>828</td>\n",
       "      <td>【基礎】找出最小公倍數</td>\n",
       "      <td>1</td>\n",
       "      <td>1</td>\n",
       "      <td>0.665209</td>\n",
       "    </tr>\n",
       "    <tr>\n",
       "      <th>2</th>\n",
       "      <td>2</td>\n",
       "      <td>2</td>\n",
       "      <td>2018-09-05 20:00:00+00:00</td>\n",
       "      <td>g8DnYvIqpolw10XlwWeIWv6NbDPByUbmgH8EshJqBns=</td>\n",
       "      <td>YuGOmB+frbM8rfAa0RJE882R+IoMf9N89OiVqLbAHBw=</td>\n",
       "      <td>4</td>\n",
       "      <td>1</td>\n",
       "      <td>True</td>\n",
       "      <td>78</td>\n",
       "      <td>1</td>\n",
       "      <td>...</td>\n",
       "      <td>0</td>\n",
       "      <td>0</td>\n",
       "      <td>0</td>\n",
       "      <td>0</td>\n",
       "      <td>1</td>\n",
       "      <td>837</td>\n",
       "      <td>【基礎】尋找質因數</td>\n",
       "      <td>1</td>\n",
       "      <td>1</td>\n",
       "      <td>0.817687</td>\n",
       "    </tr>\n",
       "    <tr>\n",
       "      <th>3</th>\n",
       "      <td>3</td>\n",
       "      <td>3</td>\n",
       "      <td>2018-09-14 16:30:00+00:00</td>\n",
       "      <td>kSyUTFlepsYUD723IPL/jEZ520xaKbscrBmNtBUFR1o=</td>\n",
       "      <td>BG1RsWojzEHzV28RBm/1iKi1NyZgDcDomLYEJSV6lmo=</td>\n",
       "      <td>3</td>\n",
       "      <td>1</td>\n",
       "      <td>True</td>\n",
       "      <td>7</td>\n",
       "      <td>1</td>\n",
       "      <td>...</td>\n",
       "      <td>0</td>\n",
       "      <td>0</td>\n",
       "      <td>0</td>\n",
       "      <td>0</td>\n",
       "      <td>0</td>\n",
       "      <td>599</td>\n",
       "      <td>【基礎】數的相關名詞介紹</td>\n",
       "      <td>1</td>\n",
       "      <td>2</td>\n",
       "      <td>0.779138</td>\n",
       "    </tr>\n",
       "    <tr>\n",
       "      <th>4</th>\n",
       "      <td>4</td>\n",
       "      <td>4</td>\n",
       "      <td>2018-09-13 16:00:00+00:00</td>\n",
       "      <td>XMFbFA7C49+LRhUddhelfPpA6F5dbOoxeyL3eYbuTlY=</td>\n",
       "      <td>qPHR8aBqOhKij9IS/Y8IR8prwWruoDBGU1tVUhXDJkE=</td>\n",
       "      <td>12</td>\n",
       "      <td>1</td>\n",
       "      <td>True</td>\n",
       "      <td>48</td>\n",
       "      <td>1</td>\n",
       "      <td>...</td>\n",
       "      <td>0</td>\n",
       "      <td>0</td>\n",
       "      <td>0</td>\n",
       "      <td>0</td>\n",
       "      <td>1</td>\n",
       "      <td>1091</td>\n",
       "      <td>【基礎】大數的加減</td>\n",
       "      <td>1</td>\n",
       "      <td>1</td>\n",
       "      <td>0.713263</td>\n",
       "    </tr>\n",
       "  </tbody>\n",
       "</table>\n",
       "<p>5 rows × 52 columns</p>\n",
       "</div>"
      ],
      "text/plain": [
       "   Unnamed: 0  Unnamed: 0_x           datetime_attempt  \\\n",
       "0           0             0  2018-09-28 20:00:00+00:00   \n",
       "1           1             1  2018-09-28 10:15:00+00:00   \n",
       "2           2             2  2018-09-05 20:00:00+00:00   \n",
       "3           3             3  2018-09-14 16:30:00+00:00   \n",
       "4           4             4  2018-09-13 16:00:00+00:00   \n",
       "\n",
       "                                           uuid  \\\n",
       "0  Kpq2q+eKw/O+6/jLs3XJosgmI7weEJxJZdnkKTbbF8I=   \n",
       "1  0+VU/Zb0Q96uoByuRhl7r9bJuJO6CKWpsmNMEuijSzc=   \n",
       "2  g8DnYvIqpolw10XlwWeIWv6NbDPByUbmgH8EshJqBns=   \n",
       "3  kSyUTFlepsYUD723IPL/jEZ520xaKbscrBmNtBUFR1o=   \n",
       "4  XMFbFA7C49+LRhUddhelfPpA6F5dbOoxeyL3eYbuTlY=   \n",
       "\n",
       "                                           ucid  problem_number  \\\n",
       "0  Ps4dfShfpeMF3VG030HqZ2bsbD7PaVxvJYFTtroeSzQ=               2   \n",
       "1  /d39FzqaM3PZzpoMXxA80PMICsVhzfL6MGSCqZtsQOo=               6   \n",
       "2  YuGOmB+frbM8rfAa0RJE882R+IoMf9N89OiVqLbAHBw=               4   \n",
       "3  BG1RsWojzEHzV28RBm/1iKi1NyZgDcDomLYEJSV6lmo=               3   \n",
       "4  qPHR8aBqOhKij9IS/Y8IR8prwWruoDBGU1tVUhXDJkE=              12   \n",
       "\n",
       "   exercise_problem_repeat_session  is_correct  total_sec_taken  \\\n",
       "0                                1        True               11   \n",
       "1                                1        True               26   \n",
       "2                                1        True               78   \n",
       "3                                1        True                7   \n",
       "4                                1        True               48   \n",
       "\n",
       "   total_attempt_cnt  ...  user_city_tc  user_city_tn  user_city_tp  \\\n",
       "0                  1  ...             0             0             0   \n",
       "1                  1  ...             0             0             0   \n",
       "2                  1  ...             0             0             0   \n",
       "3                  1  ...             0             0             0   \n",
       "4                  1  ...             0             0             0   \n",
       "\n",
       "   user_city_ttct  user_city_ty  Unnamed: 0_y  content_pretty_name  \\\n",
       "0               0             0           823            【基礎】倍數的應用   \n",
       "1               0             0           828          【基礎】找出最小公倍數   \n",
       "2               0             1           837            【基礎】尋找質因數   \n",
       "3               0             0           599         【基礎】數的相關名詞介紹   \n",
       "4               0             1          1091            【基礎】大數的加減   \n",
       "\n",
       "   difficulty  learning_stage content_correct_rate  \n",
       "0           1               1             0.611204  \n",
       "1           1               1             0.665209  \n",
       "2           1               1             0.817687  \n",
       "3           1               2             0.779138  \n",
       "4           1               1             0.713263  \n",
       "\n",
       "[5 rows x 52 columns]"
      ]
     },
     "execution_count": 3,
     "metadata": {},
     "output_type": "execute_result"
    }
   ],
   "source": [
    "merge_df.head()"
   ]
  },
  {
   "cell_type": "code",
   "execution_count": 4,
   "metadata": {},
   "outputs": [
    {
     "data": {
      "text/plain": [
       "(7197409, 52)"
      ]
     },
     "execution_count": 4,
     "metadata": {},
     "output_type": "execute_result"
    }
   ],
   "source": [
    "merge_df.shape"
   ]
  },
  {
   "cell_type": "code",
   "execution_count": 5,
   "metadata": {},
   "outputs": [
    {
     "name": "stdout",
     "output_type": "stream",
     "text": [
      "<class 'pandas.core.frame.DataFrame'>\n",
      "RangeIndex: 7197409 entries, 0 to 7197408\n",
      "Data columns (total 52 columns):\n",
      " #   Column                           Dtype  \n",
      "---  ------                           -----  \n",
      " 0   Unnamed: 0                       int64  \n",
      " 1   Unnamed: 0_x                     int64  \n",
      " 2   datetime_attempt                 object \n",
      " 3   uuid                             object \n",
      " 4   ucid                             object \n",
      " 5   problem_number                   int64  \n",
      " 6   exercise_problem_repeat_session  int64  \n",
      " 7   is_correct                       bool   \n",
      " 8   total_sec_taken                  int64  \n",
      " 9   total_attempt_cnt                int64  \n",
      " 10  used_hint_cnt                    int64  \n",
      " 11  is_hint_used                     bool   \n",
      " 12  is_downgrade                     int64  \n",
      " 13  is_upgrade                       int64  \n",
      " 14  level                            int64  \n",
      " 15  is_proficient                    int64  \n",
      " 16  problem_correct_rate             float64\n",
      " 17  points                           int64  \n",
      " 18  badges_cnt                       int64  \n",
      " 19  date_login                       object \n",
      " 20  user_grade                       int64  \n",
      " 21  has_teacher_cnt                  int64  \n",
      " 22  is_self_coach                    bool   \n",
      " 23  has_student_cnt                  int64  \n",
      " 24  belongs_to_class_cnt             int64  \n",
      " 25  has_class_cnt                    int64  \n",
      " 26  gender_female                    int64  \n",
      " 27  gender_male                      int64  \n",
      " 28  user_city_chc                    int64  \n",
      " 29  user_city_cy                     int64  \n",
      " 30  user_city_hc                     int64  \n",
      " 31  user_city_hlc                    int64  \n",
      " 32  user_city_ilc                    int64  \n",
      " 33  user_city_kh                     int64  \n",
      " 34  user_city_kl                     int64  \n",
      " 35  user_city_km                     int64  \n",
      " 36  user_city_lj                     int64  \n",
      " 37  user_city_ml                     int64  \n",
      " 38  user_city_ntct                   int64  \n",
      " 39  user_city_ntpc                   int64  \n",
      " 40  user_city_phc                    int64  \n",
      " 41  user_city_ptc                    int64  \n",
      " 42  user_city_tc                     int64  \n",
      " 43  user_city_tn                     int64  \n",
      " 44  user_city_tp                     int64  \n",
      " 45  user_city_ttct                   int64  \n",
      " 46  user_city_ty                     int64  \n",
      " 47  Unnamed: 0_y                     int64  \n",
      " 48  content_pretty_name              object \n",
      " 49  difficulty                       int64  \n",
      " 50  learning_stage                   int64  \n",
      " 51  content_correct_rate             float64\n",
      "dtypes: bool(3), float64(2), int64(42), object(5)\n",
      "memory usage: 2.6+ GB\n"
     ]
    }
   ],
   "source": [
    "merge_df.info()"
   ]
  },
  {
   "cell_type": "code",
   "execution_count": 6,
   "metadata": {},
   "outputs": [],
   "source": [
    "X = merge_df.drop('level', axis=1)\n",
    "y = merge_df['level']"
   ]
  },
  {
   "cell_type": "markdown",
   "metadata": {},
   "source": [
    "## Splitting Data"
   ]
  },
  {
   "cell_type": "code",
   "execution_count": null,
   "metadata": {},
   "outputs": [],
   "source": [
    "# Splitting the dataset into the Training set and Test set\n",
    "from sklearn.model_selection import train_test_split\n",
    "X_train, X_test, y_train, y_test = train_test_split(X, y, test_size = 0.25, random_state = 0)"
   ]
  },
  {
   "cell_type": "code",
   "execution_count": null,
   "metadata": {},
   "outputs": [],
   "source": [
    "print(X_train)\n",
    "print(y_train)"
   ]
  },
  {
   "cell_type": "code",
   "execution_count": null,
   "metadata": {},
   "outputs": [],
   "source": [
    "print(X_test)\n",
    "print(y_test)"
   ]
  },
  {
   "cell_type": "code",
   "execution_count": null,
   "metadata": {},
   "outputs": [],
   "source": []
  }
 ],
 "metadata": {
  "kernelspec": {
   "display_name": "Python 3",
   "language": "python",
   "name": "python3"
  },
  "language_info": {
   "codemirror_mode": {
    "name": "ipython",
    "version": 3
   },
   "file_extension": ".py",
   "mimetype": "text/x-python",
   "name": "python",
   "nbconvert_exporter": "python",
   "pygments_lexer": "ipython3",
   "version": "3.7.6"
  }
 },
 "nbformat": 4,
 "nbformat_minor": 4
}

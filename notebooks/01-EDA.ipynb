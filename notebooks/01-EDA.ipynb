{
 "cells": [
  {
   "cell_type": "code",
   "execution_count": 1,
   "metadata": {},
   "outputs": [],
   "source": [
    "import numpy as np # linear algebra\n",
    "import pandas as pd # data processing, CSV file I/O\n",
    "import matplotlib as plt\n",
    "import seaborn as sns"
   ]
  },
  {
   "cell_type": "code",
   "execution_count": 2,
   "metadata": {},
   "outputs": [
    {
     "name": "stdout",
     "output_type": "stream",
     "text": [
      "Wall time: 10.1 s\n"
     ]
    }
   ],
   "source": [
    "%%time\n",
    "info_content_df = pd.read_csv('../data/raw/Info_Content.csv')\n",
    "info_userdata_df = pd.read_csv('../data/raw/Info_UserData.csv')\n",
    "log_problem_df = pd.read_csv('../data/raw/Log_Problem.csv')"
   ]
  },
  {
   "cell_type": "code",
   "execution_count": 18,
   "metadata": {},
   "outputs": [],
   "source": [
    "x = log_problem_df.groupby(['uuid','ucid'])['level'].max().reset_index()"
   ]
  },
  {
   "cell_type": "code",
   "execution_count": 19,
   "metadata": {},
   "outputs": [
    {
     "data": {
      "text/html": [
       "<div>\n",
       "<style scoped>\n",
       "    .dataframe tbody tr th:only-of-type {\n",
       "        vertical-align: middle;\n",
       "    }\n",
       "\n",
       "    .dataframe tbody tr th {\n",
       "        vertical-align: top;\n",
       "    }\n",
       "\n",
       "    .dataframe thead th {\n",
       "        text-align: right;\n",
       "    }\n",
       "</style>\n",
       "<table border=\"1\" class=\"dataframe\">\n",
       "  <thead>\n",
       "    <tr style=\"text-align: right;\">\n",
       "      <th></th>\n",
       "      <th>uuid</th>\n",
       "      <th>ucid</th>\n",
       "      <th>level</th>\n",
       "    </tr>\n",
       "  </thead>\n",
       "  <tbody>\n",
       "    <tr>\n",
       "      <th>0</th>\n",
       "      <td>++E4TrlDYvGtPBg1edhkLXLEEbnfiAgAamPQ33vpW8M=</td>\n",
       "      <td>Qx6mwirYKln7CTvOXad5Do5OkVKmypYSQfFs0MB6Cvs=</td>\n",
       "      <td>1</td>\n",
       "    </tr>\n",
       "    <tr>\n",
       "      <th>1</th>\n",
       "      <td>++G4mkLfs4WDYhc1Ga+3G+/oqSniQQvLBm7SBQ3V39Y=</td>\n",
       "      <td>eJs/Pql/Xui+9mjL0q4CwHI/r+w6Bn3tTCt0i6r4xrg=</td>\n",
       "      <td>0</td>\n",
       "    </tr>\n",
       "    <tr>\n",
       "      <th>2</th>\n",
       "      <td>++G4mkLfs4WDYhc1Ga+3G+/oqSniQQvLBm7SBQ3V39Y=</td>\n",
       "      <td>hxF+GCZ2kFjuoHOUVj0a6Jn9NbRfydExscjLa0cvxuw=</td>\n",
       "      <td>0</td>\n",
       "    </tr>\n",
       "    <tr>\n",
       "      <th>3</th>\n",
       "      <td>++G4mkLfs4WDYhc1Ga+3G+/oqSniQQvLBm7SBQ3V39Y=</td>\n",
       "      <td>m7rxdmifsJ8HxB91x1USFvW7op/ZusrvlAjq/FAmRE8=</td>\n",
       "      <td>0</td>\n",
       "    </tr>\n",
       "    <tr>\n",
       "      <th>4</th>\n",
       "      <td>++KRUQaY4gFsmV7egJVOWqbqbTth/oJBB7yX1HvCSL4=</td>\n",
       "      <td>BG1RsWojzEHzV28RBm/1iKi1NyZgDcDomLYEJSV6lmo=</td>\n",
       "      <td>1</td>\n",
       "    </tr>\n",
       "    <tr>\n",
       "      <th>...</th>\n",
       "      <td>...</td>\n",
       "      <td>...</td>\n",
       "      <td>...</td>\n",
       "    </tr>\n",
       "    <tr>\n",
       "      <th>489033</th>\n",
       "      <td>zzvvUOwcSXXTXd8xoyimNcm2DjeVPLmZAI19WKfhSAM=</td>\n",
       "      <td>hv7kHCAIdj7thZUmlqz553leG5bFNYgzXmLfB5m4Xvw=</td>\n",
       "      <td>1</td>\n",
       "    </tr>\n",
       "    <tr>\n",
       "      <th>489034</th>\n",
       "      <td>zzyukk9LNl7j/9xxgZj6roQBbGn1MjSPTCgc0r5sXpU=</td>\n",
       "      <td>4p305X/NqL1Zx9j6BDJEpiQx090kFF3o/LTTGJt5s/E=</td>\n",
       "      <td>1</td>\n",
       "    </tr>\n",
       "    <tr>\n",
       "      <th>489035</th>\n",
       "      <td>zzyukk9LNl7j/9xxgZj6roQBbGn1MjSPTCgc0r5sXpU=</td>\n",
       "      <td>9OXYxjWigzS5FgP5nZ1y1EAtwQihC19PGhDlRKqK3Pg=</td>\n",
       "      <td>1</td>\n",
       "    </tr>\n",
       "    <tr>\n",
       "      <th>489036</th>\n",
       "      <td>zzyukk9LNl7j/9xxgZj6roQBbGn1MjSPTCgc0r5sXpU=</td>\n",
       "      <td>EeAQRS+kGarrxqFWxO5U2lJ12zE7xgtIiHO9ojBNYpw=</td>\n",
       "      <td>1</td>\n",
       "    </tr>\n",
       "    <tr>\n",
       "      <th>489037</th>\n",
       "      <td>zzyukk9LNl7j/9xxgZj6roQBbGn1MjSPTCgc0r5sXpU=</td>\n",
       "      <td>oAoQyh9NT0lXlshN6sYYNSMTizpgCVqITEKcEthrDZU=</td>\n",
       "      <td>1</td>\n",
       "    </tr>\n",
       "  </tbody>\n",
       "</table>\n",
       "<p>489038 rows × 3 columns</p>\n",
       "</div>"
      ],
      "text/plain": [
       "                                                uuid  \\\n",
       "0       ++E4TrlDYvGtPBg1edhkLXLEEbnfiAgAamPQ33vpW8M=   \n",
       "1       ++G4mkLfs4WDYhc1Ga+3G+/oqSniQQvLBm7SBQ3V39Y=   \n",
       "2       ++G4mkLfs4WDYhc1Ga+3G+/oqSniQQvLBm7SBQ3V39Y=   \n",
       "3       ++G4mkLfs4WDYhc1Ga+3G+/oqSniQQvLBm7SBQ3V39Y=   \n",
       "4       ++KRUQaY4gFsmV7egJVOWqbqbTth/oJBB7yX1HvCSL4=   \n",
       "...                                              ...   \n",
       "489033  zzvvUOwcSXXTXd8xoyimNcm2DjeVPLmZAI19WKfhSAM=   \n",
       "489034  zzyukk9LNl7j/9xxgZj6roQBbGn1MjSPTCgc0r5sXpU=   \n",
       "489035  zzyukk9LNl7j/9xxgZj6roQBbGn1MjSPTCgc0r5sXpU=   \n",
       "489036  zzyukk9LNl7j/9xxgZj6roQBbGn1MjSPTCgc0r5sXpU=   \n",
       "489037  zzyukk9LNl7j/9xxgZj6roQBbGn1MjSPTCgc0r5sXpU=   \n",
       "\n",
       "                                                ucid  level  \n",
       "0       Qx6mwirYKln7CTvOXad5Do5OkVKmypYSQfFs0MB6Cvs=      1  \n",
       "1       eJs/Pql/Xui+9mjL0q4CwHI/r+w6Bn3tTCt0i6r4xrg=      0  \n",
       "2       hxF+GCZ2kFjuoHOUVj0a6Jn9NbRfydExscjLa0cvxuw=      0  \n",
       "3       m7rxdmifsJ8HxB91x1USFvW7op/ZusrvlAjq/FAmRE8=      0  \n",
       "4       BG1RsWojzEHzV28RBm/1iKi1NyZgDcDomLYEJSV6lmo=      1  \n",
       "...                                              ...    ...  \n",
       "489033  hv7kHCAIdj7thZUmlqz553leG5bFNYgzXmLfB5m4Xvw=      1  \n",
       "489034  4p305X/NqL1Zx9j6BDJEpiQx090kFF3o/LTTGJt5s/E=      1  \n",
       "489035  9OXYxjWigzS5FgP5nZ1y1EAtwQihC19PGhDlRKqK3Pg=      1  \n",
       "489036  EeAQRS+kGarrxqFWxO5U2lJ12zE7xgtIiHO9ojBNYpw=      1  \n",
       "489037  oAoQyh9NT0lXlshN6sYYNSMTizpgCVqITEKcEthrDZU=      1  \n",
       "\n",
       "[489038 rows x 3 columns]"
      ]
     },
     "execution_count": 19,
     "metadata": {},
     "output_type": "execute_result"
    }
   ],
   "source": [
    "x"
   ]
  },
  {
   "cell_type": "code",
   "execution_count": 26,
   "metadata": {},
   "outputs": [
    {
     "data": {
      "text/plain": [
       "<matplotlib.axes._subplots.AxesSubplot at 0x2f80690a508>"
      ]
     },
     "execution_count": 26,
     "metadata": {},
     "output_type": "execute_result"
    },
    {
     "data": {
      "image/png": "[encoded data removed]",
      "text/plain": [
       "<Figure size 432x288 with 1 Axes>"
      ]
     },
     "metadata": {
      "needs_background": "light"
     },
     "output_type": "display_data"
    }
   ],
   "source": [
    "sns.countplot(x.level)"
   ]
  },
  {
   "cell_type": "code",
   "execution_count": 27,
   "metadata": {},
   "outputs": [
    {
     "data": {
      "text/plain": [
       "count    489038.000000\n",
       "mean          0.939406\n",
       "std           1.091519\n",
       "min           0.000000\n",
       "25%           0.000000\n",
       "50%           1.000000\n",
       "75%           1.000000\n",
       "max           4.000000\n",
       "Name: level, dtype: float64"
      ]
     },
     "execution_count": 27,
     "metadata": {},
     "output_type": "execute_result"
    }
   ],
   "source": [
    "x['level'].describe()"
   ]
  }
 ],
 "metadata": {
  "kernelspec": {
   "display_name": "Python 3",
   "language": "python",
   "name": "python3"
  },
  "language_info": {
   "codemirror_mode": {
    "name": "ipython",
    "version": 3
   },
   "file_extension": ".py",
   "mimetype": "text/x-python",
   "name": "python",
   "nbconvert_exporter": "python",
   "pygments_lexer": "ipython3",
   "version": "3.7.6"
  }
 },
 "nbformat": 4,
 "nbformat_minor": 4
}

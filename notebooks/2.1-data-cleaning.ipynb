{
 "cells": [
  {
   "cell_type": "markdown",
   "metadata": {},
   "source": [
    "# 2.1 - Data Cleaning"
   ]
  },
  {
   "cell_type": "markdown",
   "metadata": {},
   "source": [
    "## Importing Libraries"
   ]
  },
  {
   "cell_type": "code",
   "execution_count": 1,
   "metadata": {},
   "outputs": [],
   "source": [
    "import numpy as np # linear algebra\n",
    "import pandas as pd # data processing, CSV file I/O\n",
    "import seaborn as sns"
   ]
  },
  {
   "cell_type": "markdown",
   "metadata": {},
   "source": [
    "We can refer to the Pandas module using the \"dot notation\" to call its methods. To read our data (which is in the form of csv files), into a so-called DataFrame structure, we use the method read_csv() and pass in each file name as a string: All the datasets are loaded and storeed in pandas dataframe objects."
   ]
  },
  {
   "cell_type": "code",
   "execution_count": 2,
   "metadata": {},
   "outputs": [
    {
     "name": "stdout",
     "output_type": "stream",
     "text": [
      "Wall time: 39.4 s\n"
     ]
    }
   ],
   "source": [
    "%%time\n",
    "info_content_raw_df = pd.read_csv('../data/raw/Info_Content.csv', index_col='ucid')\n",
    "info_userdata_raw_df = pd.read_csv('../data/raw/Info_UserData.csv', index_col='uuid')\n",
    "log_problem_raw_df = pd.read_csv('../data/raw/Log_Problem.csv', index_col='upid')"
   ]
  },
  {
   "cell_type": "code",
   "execution_count": 3,
   "metadata": {},
   "outputs": [],
   "source": [
    "# scale down some records\n",
    "log_problem_raw_df = log_problem_raw_df[log_problem_raw_df['timestamp_TW'] < '2019-01-01']"
   ]
  },
  {
   "cell_type": "code",
   "execution_count": 4,
   "metadata": {},
   "outputs": [
    {
     "data": {
      "text/plain": [
       "(7197409, 13)"
      ]
     },
     "execution_count": 4,
     "metadata": {},
     "output_type": "execute_result"
    }
   ],
   "source": [
    "log_problem_raw_df.shape"
   ]
  },
  {
   "cell_type": "markdown",
   "metadata": {},
   "source": [
    "## Drop Unused Columns"
   ]
  },
  {
   "cell_type": "code",
   "execution_count": 5,
   "metadata": {},
   "outputs": [],
   "source": [
    "selected_columns = ['content_pretty_name','difficulty','learning_stage']"
   ]
  },
  {
   "cell_type": "code",
   "execution_count": 6,
   "metadata": {},
   "outputs": [],
   "source": [
    "info_content_df = info_content_raw_df[selected_columns].copy()"
   ]
  },
  {
   "cell_type": "code",
   "execution_count": 7,
   "metadata": {},
   "outputs": [
    {
     "data": {
      "text/html": [
       "<div>\n",
       "<style scoped>\n",
       "    .dataframe tbody tr th:only-of-type {\n",
       "        vertical-align: middle;\n",
       "    }\n",
       "\n",
       "    .dataframe tbody tr th {\n",
       "        vertical-align: top;\n",
       "    }\n",
       "\n",
       "    .dataframe thead th {\n",
       "        text-align: right;\n",
       "    }\n",
       "</style>\n",
       "<table border=\"1\" class=\"dataframe\">\n",
       "  <thead>\n",
       "    <tr style=\"text-align: right;\">\n",
       "      <th></th>\n",
       "      <th>content_pretty_name</th>\n",
       "      <th>difficulty</th>\n",
       "      <th>learning_stage</th>\n",
       "    </tr>\n",
       "    <tr>\n",
       "      <th>ucid</th>\n",
       "      <th></th>\n",
       "      <th></th>\n",
       "      <th></th>\n",
       "    </tr>\n",
       "  </thead>\n",
       "  <tbody>\n",
       "    <tr>\n",
       "      <th>odIwFdIiecFwVUAEEV40K3MSuCSlIZkbq92Zp9tkZq8=</th>\n",
       "      <td>【基礎】怎樣解題：數量關係</td>\n",
       "      <td>easy</td>\n",
       "      <td>elementary</td>\n",
       "    </tr>\n",
       "    <tr>\n",
       "      <th>dfeeBaa8zDhWS6nu7zeXKwLyi4zqEajI3tJM9/fSBPM=</th>\n",
       "      <td>【基礎】和差問題 1</td>\n",
       "      <td>easy</td>\n",
       "      <td>elementary</td>\n",
       "    </tr>\n",
       "    <tr>\n",
       "      <th>C2AT0OBTUn+PRxEVd39enhW/DJtka1Tk90DUAR6yVdA=</th>\n",
       "      <td>【基礎】雞兔問題 1</td>\n",
       "      <td>easy</td>\n",
       "      <td>elementary</td>\n",
       "    </tr>\n",
       "    <tr>\n",
       "      <th>jZvYpEa6VB/WrlKKmQHnfbv/xJ4OypBzq0epVcn500Q=</th>\n",
       "      <td>【基礎】年齡問題 1</td>\n",
       "      <td>easy</td>\n",
       "      <td>elementary</td>\n",
       "    </tr>\n",
       "    <tr>\n",
       "      <th>M+UxJPgRIW57a0YS3eik8A9YDj+AwaMpTa5yWYn/kAw=</th>\n",
       "      <td>【基礎】追趕問題</td>\n",
       "      <td>easy</td>\n",
       "      <td>elementary</td>\n",
       "    </tr>\n",
       "  </tbody>\n",
       "</table>\n",
       "</div>"
      ],
      "text/plain": [
       "                                             content_pretty_name difficulty  \\\n",
       "ucid                                                                          \n",
       "odIwFdIiecFwVUAEEV40K3MSuCSlIZkbq92Zp9tkZq8=       【基礎】怎樣解題：數量關係       easy   \n",
       "dfeeBaa8zDhWS6nu7zeXKwLyi4zqEajI3tJM9/fSBPM=          【基礎】和差問題 1       easy   \n",
       "C2AT0OBTUn+PRxEVd39enhW/DJtka1Tk90DUAR6yVdA=          【基礎】雞兔問題 1       easy   \n",
       "jZvYpEa6VB/WrlKKmQHnfbv/xJ4OypBzq0epVcn500Q=          【基礎】年齡問題 1       easy   \n",
       "M+UxJPgRIW57a0YS3eik8A9YDj+AwaMpTa5yWYn/kAw=            【基礎】追趕問題       easy   \n",
       "\n",
       "                                             learning_stage  \n",
       "ucid                                                         \n",
       "odIwFdIiecFwVUAEEV40K3MSuCSlIZkbq92Zp9tkZq8=     elementary  \n",
       "dfeeBaa8zDhWS6nu7zeXKwLyi4zqEajI3tJM9/fSBPM=     elementary  \n",
       "C2AT0OBTUn+PRxEVd39enhW/DJtka1Tk90DUAR6yVdA=     elementary  \n",
       "jZvYpEa6VB/WrlKKmQHnfbv/xJ4OypBzq0epVcn500Q=     elementary  \n",
       "M+UxJPgRIW57a0YS3eik8A9YDj+AwaMpTa5yWYn/kAw=     elementary  "
      ]
     },
     "execution_count": 7,
     "metadata": {},
     "output_type": "execute_result"
    }
   ],
   "source": [
    "info_content_df.head()"
   ]
  },
  {
   "cell_type": "code",
   "execution_count": 8,
   "metadata": {},
   "outputs": [],
   "source": [
    "info_userdata_df = info_userdata_raw_df.copy()"
   ]
  },
  {
   "cell_type": "code",
   "execution_count": 9,
   "metadata": {},
   "outputs": [
    {
     "data": {
      "text/html": [
       "<div>\n",
       "<style scoped>\n",
       "    .dataframe tbody tr th:only-of-type {\n",
       "        vertical-align: middle;\n",
       "    }\n",
       "\n",
       "    .dataframe tbody tr th {\n",
       "        vertical-align: top;\n",
       "    }\n",
       "\n",
       "    .dataframe thead th {\n",
       "        text-align: right;\n",
       "    }\n",
       "</style>\n",
       "<table border=\"1\" class=\"dataframe\">\n",
       "  <thead>\n",
       "    <tr style=\"text-align: right;\">\n",
       "      <th></th>\n",
       "      <th>gender</th>\n",
       "      <th>points</th>\n",
       "      <th>badges_cnt</th>\n",
       "      <th>first_login_date_TW</th>\n",
       "      <th>user_grade</th>\n",
       "      <th>user_city</th>\n",
       "      <th>has_teacher_cnt</th>\n",
       "      <th>is_self_coach</th>\n",
       "      <th>has_student_cnt</th>\n",
       "      <th>belongs_to_class_cnt</th>\n",
       "      <th>has_class_cnt</th>\n",
       "    </tr>\n",
       "    <tr>\n",
       "      <th>uuid</th>\n",
       "      <th></th>\n",
       "      <th></th>\n",
       "      <th></th>\n",
       "      <th></th>\n",
       "      <th></th>\n",
       "      <th></th>\n",
       "      <th></th>\n",
       "      <th></th>\n",
       "      <th></th>\n",
       "      <th></th>\n",
       "      <th></th>\n",
       "    </tr>\n",
       "  </thead>\n",
       "  <tbody>\n",
       "    <tr>\n",
       "      <th>Y2RcCdmUJAYPUAIDElo4nE9KrkLLFzUIRdexG+ipaZQ=</th>\n",
       "      <td>NaN</td>\n",
       "      <td>18300</td>\n",
       "      <td>1</td>\n",
       "      <td>2019-01-24</td>\n",
       "      <td>1</td>\n",
       "      <td>kh</td>\n",
       "      <td>0</td>\n",
       "      <td>False</td>\n",
       "      <td>0</td>\n",
       "      <td>0</td>\n",
       "      <td>0</td>\n",
       "    </tr>\n",
       "    <tr>\n",
       "      <th>lw/Rchfvl9q1UDaQRmeE6QJDJeXAK7nt56RvUvqxD/8=</th>\n",
       "      <td>NaN</td>\n",
       "      <td>6468</td>\n",
       "      <td>0</td>\n",
       "      <td>2019-01-24</td>\n",
       "      <td>1</td>\n",
       "      <td>ntpc</td>\n",
       "      <td>1</td>\n",
       "      <td>False</td>\n",
       "      <td>0</td>\n",
       "      <td>1</td>\n",
       "      <td>0</td>\n",
       "    </tr>\n",
       "    <tr>\n",
       "      <th>ncVYyCw3osV77X9M+4NbI7LvBR5UiB4ix6Ca+baQArA=</th>\n",
       "      <td>male</td>\n",
       "      <td>4703</td>\n",
       "      <td>0</td>\n",
       "      <td>2019-01-24</td>\n",
       "      <td>1</td>\n",
       "      <td>tp</td>\n",
       "      <td>0</td>\n",
       "      <td>False</td>\n",
       "      <td>0</td>\n",
       "      <td>0</td>\n",
       "      <td>0</td>\n",
       "    </tr>\n",
       "    <tr>\n",
       "      <th>J7Tbo1x2WtRpPuXeX7lWT9tkzWlSJeubl8UWjNmHh+4=</th>\n",
       "      <td>NaN</td>\n",
       "      <td>15525</td>\n",
       "      <td>1</td>\n",
       "      <td>2019-01-24</td>\n",
       "      <td>2</td>\n",
       "      <td>ntpc</td>\n",
       "      <td>0</td>\n",
       "      <td>False</td>\n",
       "      <td>0</td>\n",
       "      <td>0</td>\n",
       "      <td>0</td>\n",
       "    </tr>\n",
       "    <tr>\n",
       "      <th>qijKzROzz1LmCaCxHJ3mOBOtjW/q4kW80tnpPmXHVYQ=</th>\n",
       "      <td>NaN</td>\n",
       "      <td>7945</td>\n",
       "      <td>0</td>\n",
       "      <td>2019-01-24</td>\n",
       "      <td>2</td>\n",
       "      <td>km</td>\n",
       "      <td>1</td>\n",
       "      <td>False</td>\n",
       "      <td>0</td>\n",
       "      <td>1</td>\n",
       "      <td>0</td>\n",
       "    </tr>\n",
       "  </tbody>\n",
       "</table>\n",
       "</div>"
      ],
      "text/plain": [
       "                                             gender  points  badges_cnt  \\\n",
       "uuid                                                                      \n",
       "Y2RcCdmUJAYPUAIDElo4nE9KrkLLFzUIRdexG+ipaZQ=    NaN   18300           1   \n",
       "lw/Rchfvl9q1UDaQRmeE6QJDJeXAK7nt56RvUvqxD/8=    NaN    6468           0   \n",
       "ncVYyCw3osV77X9M+4NbI7LvBR5UiB4ix6Ca+baQArA=   male    4703           0   \n",
       "J7Tbo1x2WtRpPuXeX7lWT9tkzWlSJeubl8UWjNmHh+4=    NaN   15525           1   \n",
       "qijKzROzz1LmCaCxHJ3mOBOtjW/q4kW80tnpPmXHVYQ=    NaN    7945           0   \n",
       "\n",
       "                                             first_login_date_TW  user_grade  \\\n",
       "uuid                                                                           \n",
       "Y2RcCdmUJAYPUAIDElo4nE9KrkLLFzUIRdexG+ipaZQ=          2019-01-24           1   \n",
       "lw/Rchfvl9q1UDaQRmeE6QJDJeXAK7nt56RvUvqxD/8=          2019-01-24           1   \n",
       "ncVYyCw3osV77X9M+4NbI7LvBR5UiB4ix6Ca+baQArA=          2019-01-24           1   \n",
       "J7Tbo1x2WtRpPuXeX7lWT9tkzWlSJeubl8UWjNmHh+4=          2019-01-24           2   \n",
       "qijKzROzz1LmCaCxHJ3mOBOtjW/q4kW80tnpPmXHVYQ=          2019-01-24           2   \n",
       "\n",
       "                                             user_city  has_teacher_cnt  \\\n",
       "uuid                                                                      \n",
       "Y2RcCdmUJAYPUAIDElo4nE9KrkLLFzUIRdexG+ipaZQ=        kh                0   \n",
       "lw/Rchfvl9q1UDaQRmeE6QJDJeXAK7nt56RvUvqxD/8=      ntpc                1   \n",
       "ncVYyCw3osV77X9M+4NbI7LvBR5UiB4ix6Ca+baQArA=        tp                0   \n",
       "J7Tbo1x2WtRpPuXeX7lWT9tkzWlSJeubl8UWjNmHh+4=      ntpc                0   \n",
       "qijKzROzz1LmCaCxHJ3mOBOtjW/q4kW80tnpPmXHVYQ=        km                1   \n",
       "\n",
       "                                              is_self_coach  has_student_cnt  \\\n",
       "uuid                                                                           \n",
       "Y2RcCdmUJAYPUAIDElo4nE9KrkLLFzUIRdexG+ipaZQ=          False                0   \n",
       "lw/Rchfvl9q1UDaQRmeE6QJDJeXAK7nt56RvUvqxD/8=          False                0   \n",
       "ncVYyCw3osV77X9M+4NbI7LvBR5UiB4ix6Ca+baQArA=          False                0   \n",
       "J7Tbo1x2WtRpPuXeX7lWT9tkzWlSJeubl8UWjNmHh+4=          False                0   \n",
       "qijKzROzz1LmCaCxHJ3mOBOtjW/q4kW80tnpPmXHVYQ=          False                0   \n",
       "\n",
       "                                              belongs_to_class_cnt  \\\n",
       "uuid                                                                 \n",
       "Y2RcCdmUJAYPUAIDElo4nE9KrkLLFzUIRdexG+ipaZQ=                     0   \n",
       "lw/Rchfvl9q1UDaQRmeE6QJDJeXAK7nt56RvUvqxD/8=                     1   \n",
       "ncVYyCw3osV77X9M+4NbI7LvBR5UiB4ix6Ca+baQArA=                     0   \n",
       "J7Tbo1x2WtRpPuXeX7lWT9tkzWlSJeubl8UWjNmHh+4=                     0   \n",
       "qijKzROzz1LmCaCxHJ3mOBOtjW/q4kW80tnpPmXHVYQ=                     1   \n",
       "\n",
       "                                              has_class_cnt  \n",
       "uuid                                                         \n",
       "Y2RcCdmUJAYPUAIDElo4nE9KrkLLFzUIRdexG+ipaZQ=              0  \n",
       "lw/Rchfvl9q1UDaQRmeE6QJDJeXAK7nt56RvUvqxD/8=              0  \n",
       "ncVYyCw3osV77X9M+4NbI7LvBR5UiB4ix6Ca+baQArA=              0  \n",
       "J7Tbo1x2WtRpPuXeX7lWT9tkzWlSJeubl8UWjNmHh+4=              0  \n",
       "qijKzROzz1LmCaCxHJ3mOBOtjW/q4kW80tnpPmXHVYQ=              0  "
      ]
     },
     "execution_count": 9,
     "metadata": {},
     "output_type": "execute_result"
    }
   ],
   "source": [
    "info_userdata_df.head()"
   ]
  },
  {
   "cell_type": "code",
   "execution_count": 10,
   "metadata": {},
   "outputs": [],
   "source": [
    "selected_columns = ['gender','points','badges_cnt','first_login_date_TW','user_grade','user_city','has_teacher_cnt','is_self_coach','has_student_cnt','belongs_to_class_cnt','has_class_cnt']"
   ]
  },
  {
   "cell_type": "code",
   "execution_count": 11,
   "metadata": {},
   "outputs": [],
   "source": [
    "log_problem_df = log_problem_raw_df.copy()"
   ]
  },
  {
   "cell_type": "code",
   "execution_count": 12,
   "metadata": {},
   "outputs": [
    {
     "data": {
      "text/html": [
       "<div>\n",
       "<style scoped>\n",
       "    .dataframe tbody tr th:only-of-type {\n",
       "        vertical-align: middle;\n",
       "    }\n",
       "\n",
       "    .dataframe tbody tr th {\n",
       "        vertical-align: top;\n",
       "    }\n",
       "\n",
       "    .dataframe thead th {\n",
       "        text-align: right;\n",
       "    }\n",
       "</style>\n",
       "<table border=\"1\" class=\"dataframe\">\n",
       "  <thead>\n",
       "    <tr style=\"text-align: right;\">\n",
       "      <th></th>\n",
       "      <th>timestamp_TW</th>\n",
       "      <th>uuid</th>\n",
       "      <th>ucid</th>\n",
       "      <th>problem_number</th>\n",
       "      <th>exercise_problem_repeat_session</th>\n",
       "      <th>is_correct</th>\n",
       "      <th>total_sec_taken</th>\n",
       "      <th>total_attempt_cnt</th>\n",
       "      <th>used_hint_cnt</th>\n",
       "      <th>is_hint_used</th>\n",
       "      <th>is_downgrade</th>\n",
       "      <th>is_upgrade</th>\n",
       "      <th>level</th>\n",
       "    </tr>\n",
       "    <tr>\n",
       "      <th>upid</th>\n",
       "      <th></th>\n",
       "      <th></th>\n",
       "      <th></th>\n",
       "      <th></th>\n",
       "      <th></th>\n",
       "      <th></th>\n",
       "      <th></th>\n",
       "      <th></th>\n",
       "      <th></th>\n",
       "      <th></th>\n",
       "      <th></th>\n",
       "      <th></th>\n",
       "      <th></th>\n",
       "    </tr>\n",
       "  </thead>\n",
       "  <tbody>\n",
       "    <tr>\n",
       "      <th>ZmKEZ0F2WFqhlL7KFfJcHEnZCZu0e4p+CVG5rSlyKYk=</th>\n",
       "      <td>2018-09-28 20:00:00 UTC</td>\n",
       "      <td>Kpq2q+eKw/O+6/jLs3XJosgmI7weEJxJZdnkKTbbF8I=</td>\n",
       "      <td>Ps4dfShfpeMF3VG030HqZ2bsbD7PaVxvJYFTtroeSzQ=</td>\n",
       "      <td>2</td>\n",
       "      <td>1</td>\n",
       "      <td>True</td>\n",
       "      <td>11</td>\n",
       "      <td>1</td>\n",
       "      <td>0</td>\n",
       "      <td>False</td>\n",
       "      <td>NaN</td>\n",
       "      <td>NaN</td>\n",
       "      <td>0</td>\n",
       "    </tr>\n",
       "    <tr>\n",
       "      <th>tO9dyvadKWMVQgEx/BXtRIYJ2TRJFQgwvcsBwFb4+xI=</th>\n",
       "      <td>2018-09-28 10:15:00 UTC</td>\n",
       "      <td>0+VU/Zb0Q96uoByuRhl7r9bJuJO6CKWpsmNMEuijSzc=</td>\n",
       "      <td>/d39FzqaM3PZzpoMXxA80PMICsVhzfL6MGSCqZtsQOo=</td>\n",
       "      <td>6</td>\n",
       "      <td>1</td>\n",
       "      <td>True</td>\n",
       "      <td>26</td>\n",
       "      <td>1</td>\n",
       "      <td>0</td>\n",
       "      <td>False</td>\n",
       "      <td>NaN</td>\n",
       "      <td>NaN</td>\n",
       "      <td>0</td>\n",
       "    </tr>\n",
       "    <tr>\n",
       "      <th>6Lxz6aXvgyw3vZd3v8g6jgoCRDPOQzVPx/dnEC0o7DQ=</th>\n",
       "      <td>2018-09-05 20:00:00 UTC</td>\n",
       "      <td>g8DnYvIqpolw10XlwWeIWv6NbDPByUbmgH8EshJqBns=</td>\n",
       "      <td>YuGOmB+frbM8rfAa0RJE882R+IoMf9N89OiVqLbAHBw=</td>\n",
       "      <td>4</td>\n",
       "      <td>1</td>\n",
       "      <td>True</td>\n",
       "      <td>78</td>\n",
       "      <td>1</td>\n",
       "      <td>0</td>\n",
       "      <td>False</td>\n",
       "      <td>NaN</td>\n",
       "      <td>NaN</td>\n",
       "      <td>0</td>\n",
       "    </tr>\n",
       "    <tr>\n",
       "      <th>1fIjdakTApQp5PfWog87uOmM6JuoNE/oQq2y5/fMmfw=</th>\n",
       "      <td>2018-09-14 16:30:00 UTC</td>\n",
       "      <td>kSyUTFlepsYUD723IPL/jEZ520xaKbscrBmNtBUFR1o=</td>\n",
       "      <td>BG1RsWojzEHzV28RBm/1iKi1NyZgDcDomLYEJSV6lmo=</td>\n",
       "      <td>3</td>\n",
       "      <td>1</td>\n",
       "      <td>True</td>\n",
       "      <td>7</td>\n",
       "      <td>1</td>\n",
       "      <td>0</td>\n",
       "      <td>False</td>\n",
       "      <td>NaN</td>\n",
       "      <td>NaN</td>\n",
       "      <td>0</td>\n",
       "    </tr>\n",
       "    <tr>\n",
       "      <th>8V/NT6M+er2I3V3ZIWRNo4Qbo3Iad89PHbeeZeoZeF0=</th>\n",
       "      <td>2018-09-13 16:00:00 UTC</td>\n",
       "      <td>XMFbFA7C49+LRhUddhelfPpA6F5dbOoxeyL3eYbuTlY=</td>\n",
       "      <td>qPHR8aBqOhKij9IS/Y8IR8prwWruoDBGU1tVUhXDJkE=</td>\n",
       "      <td>12</td>\n",
       "      <td>1</td>\n",
       "      <td>True</td>\n",
       "      <td>48</td>\n",
       "      <td>1</td>\n",
       "      <td>0</td>\n",
       "      <td>False</td>\n",
       "      <td>False</td>\n",
       "      <td>True</td>\n",
       "      <td>1</td>\n",
       "    </tr>\n",
       "  </tbody>\n",
       "</table>\n",
       "</div>"
      ],
      "text/plain": [
       "                                                         timestamp_TW  \\\n",
       "upid                                                                    \n",
       "ZmKEZ0F2WFqhlL7KFfJcHEnZCZu0e4p+CVG5rSlyKYk=  2018-09-28 20:00:00 UTC   \n",
       "tO9dyvadKWMVQgEx/BXtRIYJ2TRJFQgwvcsBwFb4+xI=  2018-09-28 10:15:00 UTC   \n",
       "6Lxz6aXvgyw3vZd3v8g6jgoCRDPOQzVPx/dnEC0o7DQ=  2018-09-05 20:00:00 UTC   \n",
       "1fIjdakTApQp5PfWog87uOmM6JuoNE/oQq2y5/fMmfw=  2018-09-14 16:30:00 UTC   \n",
       "8V/NT6M+er2I3V3ZIWRNo4Qbo3Iad89PHbeeZeoZeF0=  2018-09-13 16:00:00 UTC   \n",
       "\n",
       "                                                                                      uuid  \\\n",
       "upid                                                                                         \n",
       "ZmKEZ0F2WFqhlL7KFfJcHEnZCZu0e4p+CVG5rSlyKYk=  Kpq2q+eKw/O+6/jLs3XJosgmI7weEJxJZdnkKTbbF8I=   \n",
       "tO9dyvadKWMVQgEx/BXtRIYJ2TRJFQgwvcsBwFb4+xI=  0+VU/Zb0Q96uoByuRhl7r9bJuJO6CKWpsmNMEuijSzc=   \n",
       "6Lxz6aXvgyw3vZd3v8g6jgoCRDPOQzVPx/dnEC0o7DQ=  g8DnYvIqpolw10XlwWeIWv6NbDPByUbmgH8EshJqBns=   \n",
       "1fIjdakTApQp5PfWog87uOmM6JuoNE/oQq2y5/fMmfw=  kSyUTFlepsYUD723IPL/jEZ520xaKbscrBmNtBUFR1o=   \n",
       "8V/NT6M+er2I3V3ZIWRNo4Qbo3Iad89PHbeeZeoZeF0=  XMFbFA7C49+LRhUddhelfPpA6F5dbOoxeyL3eYbuTlY=   \n",
       "\n",
       "                                                                                      ucid  \\\n",
       "upid                                                                                         \n",
       "ZmKEZ0F2WFqhlL7KFfJcHEnZCZu0e4p+CVG5rSlyKYk=  Ps4dfShfpeMF3VG030HqZ2bsbD7PaVxvJYFTtroeSzQ=   \n",
       "tO9dyvadKWMVQgEx/BXtRIYJ2TRJFQgwvcsBwFb4+xI=  /d39FzqaM3PZzpoMXxA80PMICsVhzfL6MGSCqZtsQOo=   \n",
       "6Lxz6aXvgyw3vZd3v8g6jgoCRDPOQzVPx/dnEC0o7DQ=  YuGOmB+frbM8rfAa0RJE882R+IoMf9N89OiVqLbAHBw=   \n",
       "1fIjdakTApQp5PfWog87uOmM6JuoNE/oQq2y5/fMmfw=  BG1RsWojzEHzV28RBm/1iKi1NyZgDcDomLYEJSV6lmo=   \n",
       "8V/NT6M+er2I3V3ZIWRNo4Qbo3Iad89PHbeeZeoZeF0=  qPHR8aBqOhKij9IS/Y8IR8prwWruoDBGU1tVUhXDJkE=   \n",
       "\n",
       "                                              problem_number  \\\n",
       "upid                                                           \n",
       "ZmKEZ0F2WFqhlL7KFfJcHEnZCZu0e4p+CVG5rSlyKYk=               2   \n",
       "tO9dyvadKWMVQgEx/BXtRIYJ2TRJFQgwvcsBwFb4+xI=               6   \n",
       "6Lxz6aXvgyw3vZd3v8g6jgoCRDPOQzVPx/dnEC0o7DQ=               4   \n",
       "1fIjdakTApQp5PfWog87uOmM6JuoNE/oQq2y5/fMmfw=               3   \n",
       "8V/NT6M+er2I3V3ZIWRNo4Qbo3Iad89PHbeeZeoZeF0=              12   \n",
       "\n",
       "                                              exercise_problem_repeat_session  \\\n",
       "upid                                                                            \n",
       "ZmKEZ0F2WFqhlL7KFfJcHEnZCZu0e4p+CVG5rSlyKYk=                                1   \n",
       "tO9dyvadKWMVQgEx/BXtRIYJ2TRJFQgwvcsBwFb4+xI=                                1   \n",
       "6Lxz6aXvgyw3vZd3v8g6jgoCRDPOQzVPx/dnEC0o7DQ=                                1   \n",
       "1fIjdakTApQp5PfWog87uOmM6JuoNE/oQq2y5/fMmfw=                                1   \n",
       "8V/NT6M+er2I3V3ZIWRNo4Qbo3Iad89PHbeeZeoZeF0=                                1   \n",
       "\n",
       "                                              is_correct  total_sec_taken  \\\n",
       "upid                                                                        \n",
       "ZmKEZ0F2WFqhlL7KFfJcHEnZCZu0e4p+CVG5rSlyKYk=        True               11   \n",
       "tO9dyvadKWMVQgEx/BXtRIYJ2TRJFQgwvcsBwFb4+xI=        True               26   \n",
       "6Lxz6aXvgyw3vZd3v8g6jgoCRDPOQzVPx/dnEC0o7DQ=        True               78   \n",
       "1fIjdakTApQp5PfWog87uOmM6JuoNE/oQq2y5/fMmfw=        True                7   \n",
       "8V/NT6M+er2I3V3ZIWRNo4Qbo3Iad89PHbeeZeoZeF0=        True               48   \n",
       "\n",
       "                                              total_attempt_cnt  \\\n",
       "upid                                                              \n",
       "ZmKEZ0F2WFqhlL7KFfJcHEnZCZu0e4p+CVG5rSlyKYk=                  1   \n",
       "tO9dyvadKWMVQgEx/BXtRIYJ2TRJFQgwvcsBwFb4+xI=                  1   \n",
       "6Lxz6aXvgyw3vZd3v8g6jgoCRDPOQzVPx/dnEC0o7DQ=                  1   \n",
       "1fIjdakTApQp5PfWog87uOmM6JuoNE/oQq2y5/fMmfw=                  1   \n",
       "8V/NT6M+er2I3V3ZIWRNo4Qbo3Iad89PHbeeZeoZeF0=                  1   \n",
       "\n",
       "                                              used_hint_cnt  is_hint_used  \\\n",
       "upid                                                                        \n",
       "ZmKEZ0F2WFqhlL7KFfJcHEnZCZu0e4p+CVG5rSlyKYk=              0         False   \n",
       "tO9dyvadKWMVQgEx/BXtRIYJ2TRJFQgwvcsBwFb4+xI=              0         False   \n",
       "6Lxz6aXvgyw3vZd3v8g6jgoCRDPOQzVPx/dnEC0o7DQ=              0         False   \n",
       "1fIjdakTApQp5PfWog87uOmM6JuoNE/oQq2y5/fMmfw=              0         False   \n",
       "8V/NT6M+er2I3V3ZIWRNo4Qbo3Iad89PHbeeZeoZeF0=              0         False   \n",
       "\n",
       "                                             is_downgrade is_upgrade  level  \n",
       "upid                                                                         \n",
       "ZmKEZ0F2WFqhlL7KFfJcHEnZCZu0e4p+CVG5rSlyKYk=          NaN        NaN      0  \n",
       "tO9dyvadKWMVQgEx/BXtRIYJ2TRJFQgwvcsBwFb4+xI=          NaN        NaN      0  \n",
       "6Lxz6aXvgyw3vZd3v8g6jgoCRDPOQzVPx/dnEC0o7DQ=          NaN        NaN      0  \n",
       "1fIjdakTApQp5PfWog87uOmM6JuoNE/oQq2y5/fMmfw=          NaN        NaN      0  \n",
       "8V/NT6M+er2I3V3ZIWRNo4Qbo3Iad89PHbeeZeoZeF0=        False       True      1  "
      ]
     },
     "execution_count": 12,
     "metadata": {},
     "output_type": "execute_result"
    }
   ],
   "source": [
    "log_problem_df.head()"
   ]
  },
  {
   "cell_type": "markdown",
   "metadata": {},
   "source": [
    "## Handling Missing Values\n",
    "\n",
    "The first thing to do when you get a new dataset is take a look at some of it. This lets you see that it all read in correctly and gives an idea of what's going on with the data. In this case, let's see if there are any missing values, which will be reprsented with NaN or None."
   ]
  },
  {
   "cell_type": "code",
   "execution_count": 13,
   "metadata": {},
   "outputs": [
    {
     "data": {
      "text/plain": [
       "content_pretty_name    0\n",
       "difficulty             0\n",
       "learning_stage         0\n",
       "dtype: int64"
      ]
     },
     "execution_count": 13,
     "metadata": {},
     "output_type": "execute_result"
    }
   ],
   "source": [
    "# get the number of missing data points per column\n",
    "missing_values_count = info_content_df.isnull().sum()\n",
    "\n",
    "# look at the # of missing points in the first ten columns\n",
    "missing_values_count"
   ]
  },
  {
   "cell_type": "code",
   "execution_count": 14,
   "metadata": {},
   "outputs": [
    {
     "name": "stdout",
     "output_type": "stream",
     "text": [
      "0.0\n"
     ]
    }
   ],
   "source": [
    "# how many total missing values do we have?\n",
    "total_cells = np.product(info_content_df.shape)\n",
    "total_missing = missing_values_count.sum()\n",
    "\n",
    "# percent of data that is missing\n",
    "percent_missing = (total_missing/total_cells) * 100\n",
    "print(percent_missing)"
   ]
  },
  {
   "cell_type": "code",
   "execution_count": 15,
   "metadata": {},
   "outputs": [
    {
     "data": {
      "text/plain": [
       "gender                  39853\n",
       "points                      0\n",
       "badges_cnt                  0\n",
       "first_login_date_TW         0\n",
       "user_grade                  0\n",
       "user_city                   0\n",
       "has_teacher_cnt             0\n",
       "is_self_coach               0\n",
       "has_student_cnt             0\n",
       "belongs_to_class_cnt        0\n",
       "has_class_cnt               0\n",
       "dtype: int64"
      ]
     },
     "execution_count": 15,
     "metadata": {},
     "output_type": "execute_result"
    }
   ],
   "source": [
    "# get the number of missing data points per column\n",
    "missing_values_count = info_userdata_df.isnull().sum()\n",
    "\n",
    "# look at the # of missing points in the first ten columns\n",
    "missing_values_count"
   ]
  },
  {
   "cell_type": "code",
   "execution_count": 16,
   "metadata": {},
   "outputs": [
    {
     "name": "stdout",
     "output_type": "stream",
     "text": [
      "4.979521152313147\n"
     ]
    }
   ],
   "source": [
    "# how many total missing values do we have?\n",
    "total_cells = np.product(info_userdata_df.shape)\n",
    "total_missing = missing_values_count.sum()\n",
    "\n",
    "# percent of data that is missing\n",
    "percent_missing = (total_missing/total_cells) * 100\n",
    "print(percent_missing)"
   ]
  },
  {
   "cell_type": "code",
   "execution_count": 17,
   "metadata": {},
   "outputs": [],
   "source": [
    "# replace all NA's with unspecified\n",
    "info_userdata_df = info_userdata_df.fillna('unspecified')"
   ]
  },
  {
   "cell_type": "code",
   "execution_count": 18,
   "metadata": {},
   "outputs": [
    {
     "data": {
      "text/plain": [
       "timestamp_TW                             0\n",
       "uuid                                     0\n",
       "ucid                                     0\n",
       "problem_number                           0\n",
       "exercise_problem_repeat_session          0\n",
       "is_correct                               0\n",
       "total_sec_taken                          0\n",
       "total_attempt_cnt                        0\n",
       "used_hint_cnt                            0\n",
       "is_hint_used                             0\n",
       "is_downgrade                       6365746\n",
       "is_upgrade                         6365746\n",
       "level                                    0\n",
       "dtype: int64"
      ]
     },
     "execution_count": 18,
     "metadata": {},
     "output_type": "execute_result"
    }
   ],
   "source": [
    "# get the number of missing data points per column\n",
    "missing_values_count = log_problem_df.isnull().sum()\n",
    "\n",
    "# look at the # of missing points in the first ten columns\n",
    "missing_values_count"
   ]
  },
  {
   "cell_type": "code",
   "execution_count": 19,
   "metadata": {},
   "outputs": [
    {
     "name": "stdout",
     "output_type": "stream",
     "text": [
      "13.60691796814018\n"
     ]
    }
   ],
   "source": [
    "# how many total missing values do we have?\n",
    "total_cells = np.product(log_problem_df.shape)\n",
    "total_missing = missing_values_count.sum()\n",
    "\n",
    "# percent of data that is missing\n",
    "percent_missing = (total_missing/total_cells) * 100\n",
    "print(percent_missing)"
   ]
  },
  {
   "cell_type": "code",
   "execution_count": 20,
   "metadata": {},
   "outputs": [],
   "source": [
    "# replace all NA's with false\n",
    "log_problem_df = log_problem_df.fillna(False)"
   ]
  },
  {
   "cell_type": "markdown",
   "metadata": {},
   "source": [
    "## Parsing Date\n",
    "\n",
    "Now that we know that our date column isn't being recognized as a date, it's time to convert it so that it is recognized as a date. This is called \"parsing dates\" because we're taking in a string and identifying its component parts."
   ]
  },
  {
   "cell_type": "code",
   "execution_count": 21,
   "metadata": {},
   "outputs": [
    {
     "data": {
      "text/plain": [
       "uuid\n",
       "Y2RcCdmUJAYPUAIDElo4nE9KrkLLFzUIRdexG+ipaZQ=    2019-01-24\n",
       "lw/Rchfvl9q1UDaQRmeE6QJDJeXAK7nt56RvUvqxD/8=    2019-01-24\n",
       "ncVYyCw3osV77X9M+4NbI7LvBR5UiB4ix6Ca+baQArA=    2019-01-24\n",
       "J7Tbo1x2WtRpPuXeX7lWT9tkzWlSJeubl8UWjNmHh+4=    2019-01-24\n",
       "qijKzROzz1LmCaCxHJ3mOBOtjW/q4kW80tnpPmXHVYQ=    2019-01-24\n",
       "Name: first_login_date_TW, dtype: object"
      ]
     },
     "execution_count": 21,
     "metadata": {},
     "output_type": "execute_result"
    }
   ],
   "source": [
    "info_userdata_df['first_login_date_TW'].head()"
   ]
  },
  {
   "cell_type": "code",
   "execution_count": 22,
   "metadata": {},
   "outputs": [
    {
     "data": {
      "text/plain": [
       "upid\n",
       "ZmKEZ0F2WFqhlL7KFfJcHEnZCZu0e4p+CVG5rSlyKYk=    2018-09-28 20:00:00 UTC\n",
       "tO9dyvadKWMVQgEx/BXtRIYJ2TRJFQgwvcsBwFb4+xI=    2018-09-28 10:15:00 UTC\n",
       "6Lxz6aXvgyw3vZd3v8g6jgoCRDPOQzVPx/dnEC0o7DQ=    2018-09-05 20:00:00 UTC\n",
       "1fIjdakTApQp5PfWog87uOmM6JuoNE/oQq2y5/fMmfw=    2018-09-14 16:30:00 UTC\n",
       "8V/NT6M+er2I3V3ZIWRNo4Qbo3Iad89PHbeeZeoZeF0=    2018-09-13 16:00:00 UTC\n",
       "Name: timestamp_TW, dtype: object"
      ]
     },
     "execution_count": 22,
     "metadata": {},
     "output_type": "execute_result"
    }
   ],
   "source": [
    "log_problem_df['timestamp_TW'].head()"
   ]
  },
  {
   "cell_type": "markdown",
   "metadata": {},
   "source": [
    "### Convert our date columns to datetime\n",
    "\n",
    "We can pandas what the format of our dates are with a guide called as \"strftime directive\", which you can find more information on at this link. The basic idea is that you need to point out which parts of the date are where and what punctuation is between them. There are lots of possible parts of a date, but the most common are %d for day, %m for month, %y for a two-digit year and %Y for a four digit year."
   ]
  },
  {
   "cell_type": "code",
   "execution_count": 23,
   "metadata": {},
   "outputs": [],
   "source": [
    "info_userdata_df['first_login_date_TW'] = pd.to_datetime(info_userdata_df['first_login_date_TW'], format='%Y-%m-%d')\n",
    "info_userdata_df = info_userdata_df.rename(columns = {'first_login_date_TW':'date_login'})"
   ]
  },
  {
   "cell_type": "code",
   "execution_count": 24,
   "metadata": {},
   "outputs": [],
   "source": [
    "log_problem_df['timestamp_TW'] = pd.to_datetime(log_problem_df['timestamp_TW'], format='%Y-%m-%d %H:%M:%S %Z')\n",
    "log_problem_df = log_problem_df.rename(columns = {'timestamp_TW':'datetime_attempt'})"
   ]
  },
  {
   "cell_type": "markdown",
   "metadata": {},
   "source": [
    "Now when I check the first few rows of the new column, I can see that the dtype is `datetime64`. I can also see that my dates have been slightly rearranged so that they fit the default order datetime objects (year-month-day)."
   ]
  },
  {
   "cell_type": "code",
   "execution_count": 25,
   "metadata": {},
   "outputs": [
    {
     "data": {
      "text/plain": [
       "uuid\n",
       "Y2RcCdmUJAYPUAIDElo4nE9KrkLLFzUIRdexG+ipaZQ=   2019-01-24\n",
       "lw/Rchfvl9q1UDaQRmeE6QJDJeXAK7nt56RvUvqxD/8=   2019-01-24\n",
       "ncVYyCw3osV77X9M+4NbI7LvBR5UiB4ix6Ca+baQArA=   2019-01-24\n",
       "J7Tbo1x2WtRpPuXeX7lWT9tkzWlSJeubl8UWjNmHh+4=   2019-01-24\n",
       "qijKzROzz1LmCaCxHJ3mOBOtjW/q4kW80tnpPmXHVYQ=   2019-01-24\n",
       "Name: date_login, dtype: datetime64[ns]"
      ]
     },
     "execution_count": 25,
     "metadata": {},
     "output_type": "execute_result"
    }
   ],
   "source": [
    "# print the first few rows\n",
    "info_userdata_df['date_login'].head()"
   ]
  },
  {
   "cell_type": "code",
   "execution_count": 26,
   "metadata": {},
   "outputs": [
    {
     "data": {
      "text/plain": [
       "upid\n",
       "ZmKEZ0F2WFqhlL7KFfJcHEnZCZu0e4p+CVG5rSlyKYk=   2018-09-28 20:00:00+00:00\n",
       "tO9dyvadKWMVQgEx/BXtRIYJ2TRJFQgwvcsBwFb4+xI=   2018-09-28 10:15:00+00:00\n",
       "6Lxz6aXvgyw3vZd3v8g6jgoCRDPOQzVPx/dnEC0o7DQ=   2018-09-05 20:00:00+00:00\n",
       "1fIjdakTApQp5PfWog87uOmM6JuoNE/oQq2y5/fMmfw=   2018-09-14 16:30:00+00:00\n",
       "8V/NT6M+er2I3V3ZIWRNo4Qbo3Iad89PHbeeZeoZeF0=   2018-09-13 16:00:00+00:00\n",
       "Name: datetime_attempt, dtype: datetime64[ns, UTC]"
      ]
     },
     "execution_count": 26,
     "metadata": {},
     "output_type": "execute_result"
    }
   ],
   "source": [
    "log_problem_df['datetime_attempt'].head()"
   ]
  },
  {
   "cell_type": "markdown",
   "metadata": {},
   "source": [
    "### Select Day of Month"
   ]
  },
  {
   "cell_type": "code",
   "execution_count": 27,
   "metadata": {},
   "outputs": [
    {
     "data": {
      "text/plain": [
       "uuid\n",
       "Y2RcCdmUJAYPUAIDElo4nE9KrkLLFzUIRdexG+ipaZQ=    24\n",
       "lw/Rchfvl9q1UDaQRmeE6QJDJeXAK7nt56RvUvqxD/8=    24\n",
       "ncVYyCw3osV77X9M+4NbI7LvBR5UiB4ix6Ca+baQArA=    24\n",
       "J7Tbo1x2WtRpPuXeX7lWT9tkzWlSJeubl8UWjNmHh+4=    24\n",
       "qijKzROzz1LmCaCxHJ3mOBOtjW/q4kW80tnpPmXHVYQ=    24\n",
       "Name: date_login, dtype: int64"
      ]
     },
     "execution_count": 27,
     "metadata": {},
     "output_type": "execute_result"
    }
   ],
   "source": [
    "# get the day of the month from the date_parsed column\n",
    "day_of_month_userdata = info_userdata_df['date_login'].dt.day\n",
    "day_of_month_userdata.head()"
   ]
  },
  {
   "cell_type": "code",
   "execution_count": 28,
   "metadata": {},
   "outputs": [
    {
     "data": {
      "text/plain": [
       "<matplotlib.axes._subplots.AxesSubplot at 0x20313462188>"
      ]
     },
     "execution_count": 28,
     "metadata": {},
     "output_type": "execute_result"
    },
    {
     "data": {
      "image/png": "[encoded data removed]",
      "text/plain": [
       "<Figure size 432x288 with 1 Axes>"
      ]
     },
     "metadata": {
      "needs_background": "light"
     },
     "output_type": "display_data"
    }
   ],
   "source": [
    "# remove na's\n",
    "day_of_month_userdata = day_of_month_userdata.dropna()\n",
    "\n",
    "# plot the day of the month\n",
    "sns.distplot(day_of_month_userdata, kde=False, bins=31)"
   ]
  },
  {
   "cell_type": "code",
   "execution_count": 29,
   "metadata": {},
   "outputs": [
    {
     "data": {
      "text/plain": [
       "upid\n",
       "ZmKEZ0F2WFqhlL7KFfJcHEnZCZu0e4p+CVG5rSlyKYk=    28\n",
       "tO9dyvadKWMVQgEx/BXtRIYJ2TRJFQgwvcsBwFb4+xI=    28\n",
       "6Lxz6aXvgyw3vZd3v8g6jgoCRDPOQzVPx/dnEC0o7DQ=     5\n",
       "1fIjdakTApQp5PfWog87uOmM6JuoNE/oQq2y5/fMmfw=    14\n",
       "8V/NT6M+er2I3V3ZIWRNo4Qbo3Iad89PHbeeZeoZeF0=    13\n",
       "Name: datetime_attempt, dtype: int64"
      ]
     },
     "execution_count": 29,
     "metadata": {},
     "output_type": "execute_result"
    }
   ],
   "source": [
    "# get the day of the month from the date_parsed column\n",
    "day_of_month_problem = log_problem_df['datetime_attempt'].dt.day\n",
    "day_of_month_problem.head()"
   ]
  },
  {
   "cell_type": "code",
   "execution_count": 30,
   "metadata": {},
   "outputs": [
    {
     "data": {
      "text/plain": [
       "<matplotlib.axes._subplots.AxesSubplot at 0x20387ea6988>"
      ]
     },
     "execution_count": 30,
     "metadata": {},
     "output_type": "execute_result"
    },
    {
     "data": {
      "image/png": "[encoded data removed]",
      "text/plain": [
       "<Figure size 432x288 with 1 Axes>"
      ]
     },
     "metadata": {
      "needs_background": "light"
     },
     "output_type": "display_data"
    }
   ],
   "source": [
    "# remove na's\n",
    "day_of_month_problem = day_of_month_problem.dropna()\n",
    "\n",
    "# plot the day of the month\n",
    "sns.distplot(day_of_month_problem, kde=False, bins=31)"
   ]
  },
  {
   "cell_type": "markdown",
   "metadata": {},
   "source": [
    "Yep, it looks like we did parse our dates correctly & this graph makes good sense to me."
   ]
  },
  {
   "cell_type": "markdown",
   "metadata": {},
   "source": [
    "## Exporting Data\n",
    "\n",
    "The data is in DataFrame form, it can manipulate it by adding a body mass index column. The cleaned data is exported to the interim data folder which stores the intermediate data that has been transformed."
   ]
  },
  {
   "cell_type": "code",
   "execution_count": 31,
   "metadata": {},
   "outputs": [],
   "source": [
    "info_content_df.to_csv('../data/interim/Info_Content.csv')\n",
    "info_userdata_df.to_csv('../data/interim/Info_UserData.csv')\n",
    "log_problem_df.to_csv('../data/interim/Log_Problem.csv')"
   ]
  }
 ],
 "metadata": {
  "kernelspec": {
   "display_name": "Python 3",
   "language": "python",
   "name": "python3"
  },
  "language_info": {
   "codemirror_mode": {
    "name": "ipython",
    "version": 3
   },
   "file_extension": ".py",
   "mimetype": "text/x-python",
   "name": "python",
   "nbconvert_exporter": "python",
   "pygments_lexer": "ipython3",
   "version": "3.7.6"
  }
 },
 "nbformat": 4,
 "nbformat_minor": 4
}

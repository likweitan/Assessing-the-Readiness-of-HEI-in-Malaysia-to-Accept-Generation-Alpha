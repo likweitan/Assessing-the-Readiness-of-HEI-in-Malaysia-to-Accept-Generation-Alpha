{
 "cells": [
  {
   "cell_type": "markdown",
   "metadata": {},
   "source": [
    "To help us get a better performance, we can create new features based on the original features of our dataset.\n",
    "\n",
    "Some new features created here were based on the great ideas shown on this brilliant notebook from Gunes Evitan:"
   ]
  },
  {
   "cell_type": "code",
   "execution_count": 1,
   "metadata": {},
   "outputs": [],
   "source": [
    "import numpy as np # linear algebra\n",
    "import pandas as pd # data processing, CSV file I/O\n",
    "import matplotlib.pyplot as plt"
   ]
  },
  {
   "cell_type": "code",
   "execution_count": 2,
   "metadata": {},
   "outputs": [
    {
     "name": "stdout",
     "output_type": "stream",
     "text": [
      "Wall time: 1min 21s\n"
     ]
    }
   ],
   "source": [
    "%%time\n",
    "info_content_raw_df = pd.read_csv('data/Info_Content.csv', index_col='ucid')\n",
    "#info_userdata_raw_df = pd.read_csv('data/Info_UserData.csv', index_col='uuid')\n",
    "log_problem_raw_df = pd.read_csv('data/Log_Problem.csv', index_col='upid')"
   ]
  },
  {
   "cell_type": "code",
   "execution_count": 3,
   "metadata": {},
   "outputs": [],
   "source": [
    "info_content_df = info_content_raw_df.copy()"
   ]
  },
  {
   "cell_type": "code",
   "execution_count": 4,
   "metadata": {},
   "outputs": [],
   "source": [
    "# scale down some records\n",
    "log_problem_df = log_problem_raw_df[log_problem_raw_df['timestamp_TW'] < '2019-01-01']"
   ]
  },
  {
   "cell_type": "markdown",
   "metadata": {},
   "source": [
    "### Merging Datasets"
   ]
  },
  {
   "cell_type": "code",
   "execution_count": 5,
   "metadata": {},
   "outputs": [],
   "source": [
    "merge_log_problem_info_content_df = log_problem_df.merge(info_content_df, how='left', on = 'ucid')"
   ]
  },
  {
   "cell_type": "code",
   "execution_count": 6,
   "metadata": {},
   "outputs": [
    {
     "data": {
      "text/html": [
       "<div>\n",
       "<style scoped>\n",
       "    .dataframe tbody tr th:only-of-type {\n",
       "        vertical-align: middle;\n",
       "    }\n",
       "\n",
       "    .dataframe tbody tr th {\n",
       "        vertical-align: top;\n",
       "    }\n",
       "\n",
       "    .dataframe thead th {\n",
       "        text-align: right;\n",
       "    }\n",
       "</style>\n",
       "<table border=\"1\" class=\"dataframe\">\n",
       "  <thead>\n",
       "    <tr style=\"text-align: right;\">\n",
       "      <th></th>\n",
       "      <th>timestamp_TW</th>\n",
       "      <th>uuid</th>\n",
       "      <th>ucid</th>\n",
       "      <th>problem_number</th>\n",
       "      <th>exercise_problem_repeat_session</th>\n",
       "      <th>is_correct</th>\n",
       "      <th>total_sec_taken</th>\n",
       "      <th>total_attempt_cnt</th>\n",
       "      <th>used_hint_cnt</th>\n",
       "      <th>is_hint_used</th>\n",
       "      <th>...</th>\n",
       "      <th>level</th>\n",
       "      <th>content_pretty_name</th>\n",
       "      <th>content_kind</th>\n",
       "      <th>difficulty</th>\n",
       "      <th>subject</th>\n",
       "      <th>learning_stage</th>\n",
       "      <th>level1_id</th>\n",
       "      <th>level2_id</th>\n",
       "      <th>level3_id</th>\n",
       "      <th>level4_id</th>\n",
       "    </tr>\n",
       "  </thead>\n",
       "  <tbody>\n",
       "    <tr>\n",
       "      <th>0</th>\n",
       "      <td>2018-09-28 20:00:00 UTC</td>\n",
       "      <td>Kpq2q+eKw/O+6/jLs3XJosgmI7weEJxJZdnkKTbbF8I=</td>\n",
       "      <td>Ps4dfShfpeMF3VG030HqZ2bsbD7PaVxvJYFTtroeSzQ=</td>\n",
       "      <td>2</td>\n",
       "      <td>1</td>\n",
       "      <td>True</td>\n",
       "      <td>11</td>\n",
       "      <td>1</td>\n",
       "      <td>0</td>\n",
       "      <td>False</td>\n",
       "      <td>...</td>\n",
       "      <td>0</td>\n",
       "      <td>【基礎】倍數的應用</td>\n",
       "      <td>Exercise</td>\n",
       "      <td>easy</td>\n",
       "      <td>math</td>\n",
       "      <td>elementary</td>\n",
       "      <td>aH0Dz0KdH9gio7rrcGRHvrmd9vcd/0WJbeEFB7qeUKA=</td>\n",
       "      <td>7f73q332BKPBXaixasa4EkUb+pF6VAsLxNIg4506JJs=</td>\n",
       "      <td>ItasYR+er/FlZlRvL66/NB3wY0AvmlrZKoqe4gmPyD0=</td>\n",
       "      <td>VHYt8IeoqiIPVsB+32JAhIjK9jU+pnr11fL80QshARI=</td>\n",
       "    </tr>\n",
       "    <tr>\n",
       "      <th>1</th>\n",
       "      <td>2018-09-28 10:15:00 UTC</td>\n",
       "      <td>0+VU/Zb0Q96uoByuRhl7r9bJuJO6CKWpsmNMEuijSzc=</td>\n",
       "      <td>/d39FzqaM3PZzpoMXxA80PMICsVhzfL6MGSCqZtsQOo=</td>\n",
       "      <td>6</td>\n",
       "      <td>1</td>\n",
       "      <td>True</td>\n",
       "      <td>26</td>\n",
       "      <td>1</td>\n",
       "      <td>0</td>\n",
       "      <td>False</td>\n",
       "      <td>...</td>\n",
       "      <td>0</td>\n",
       "      <td>【基礎】找出最小公倍數</td>\n",
       "      <td>Exercise</td>\n",
       "      <td>easy</td>\n",
       "      <td>math</td>\n",
       "      <td>elementary</td>\n",
       "      <td>aH0Dz0KdH9gio7rrcGRHvrmd9vcd/0WJbeEFB7qeUKA=</td>\n",
       "      <td>7f73q332BKPBXaixasa4EkUb+pF6VAsLxNIg4506JJs=</td>\n",
       "      <td>ItasYR+er/FlZlRvL66/NB3wY0AvmlrZKoqe4gmPyD0=</td>\n",
       "      <td>VHYt8IeoqiIPVsB+32JAhIjK9jU+pnr11fL80QshARI=</td>\n",
       "    </tr>\n",
       "    <tr>\n",
       "      <th>2</th>\n",
       "      <td>2018-09-05 20:00:00 UTC</td>\n",
       "      <td>g8DnYvIqpolw10XlwWeIWv6NbDPByUbmgH8EshJqBns=</td>\n",
       "      <td>YuGOmB+frbM8rfAa0RJE882R+IoMf9N89OiVqLbAHBw=</td>\n",
       "      <td>4</td>\n",
       "      <td>1</td>\n",
       "      <td>True</td>\n",
       "      <td>78</td>\n",
       "      <td>1</td>\n",
       "      <td>0</td>\n",
       "      <td>False</td>\n",
       "      <td>...</td>\n",
       "      <td>0</td>\n",
       "      <td>【基礎】尋找質因數</td>\n",
       "      <td>Exercise</td>\n",
       "      <td>easy</td>\n",
       "      <td>math</td>\n",
       "      <td>elementary</td>\n",
       "      <td>aH0Dz0KdH9gio7rrcGRHvrmd9vcd/0WJbeEFB7qeUKA=</td>\n",
       "      <td>7f73q332BKPBXaixasa4EkUb+pF6VAsLxNIg4506JJs=</td>\n",
       "      <td>ItasYR+er/FlZlRvL66/NB3wY0AvmlrZKoqe4gmPyD0=</td>\n",
       "      <td>DoAefIneFglvkxJ4Jb8VyB8JrESm9UEHtGyV4MqiwCo=</td>\n",
       "    </tr>\n",
       "    <tr>\n",
       "      <th>3</th>\n",
       "      <td>2018-09-14 16:30:00 UTC</td>\n",
       "      <td>kSyUTFlepsYUD723IPL/jEZ520xaKbscrBmNtBUFR1o=</td>\n",
       "      <td>BG1RsWojzEHzV28RBm/1iKi1NyZgDcDomLYEJSV6lmo=</td>\n",
       "      <td>3</td>\n",
       "      <td>1</td>\n",
       "      <td>True</td>\n",
       "      <td>7</td>\n",
       "      <td>1</td>\n",
       "      <td>0</td>\n",
       "      <td>False</td>\n",
       "      <td>...</td>\n",
       "      <td>0</td>\n",
       "      <td>【基礎】數的相關名詞介紹</td>\n",
       "      <td>Exercise</td>\n",
       "      <td>easy</td>\n",
       "      <td>math</td>\n",
       "      <td>junior</td>\n",
       "      <td>aH0Dz0KdH9gio7rrcGRHvrmd9vcd/0WJbeEFB7qeUKA=</td>\n",
       "      <td>xYDz4OEv0xsri1IpmXlrgMLJ848rgySf+39xWpq4DBI=</td>\n",
       "      <td>/yqeM1FRP1rB9WuQWBkStMqrBQgjEexaeyWIhBC7ov4=</td>\n",
       "      <td>Vuo8t3kw/4IH80FuZ0l0uJPwpfrMs8SxhCbJA8zn3vU=</td>\n",
       "    </tr>\n",
       "    <tr>\n",
       "      <th>4</th>\n",
       "      <td>2018-09-13 16:00:00 UTC</td>\n",
       "      <td>XMFbFA7C49+LRhUddhelfPpA6F5dbOoxeyL3eYbuTlY=</td>\n",
       "      <td>qPHR8aBqOhKij9IS/Y8IR8prwWruoDBGU1tVUhXDJkE=</td>\n",
       "      <td>12</td>\n",
       "      <td>1</td>\n",
       "      <td>True</td>\n",
       "      <td>48</td>\n",
       "      <td>1</td>\n",
       "      <td>0</td>\n",
       "      <td>False</td>\n",
       "      <td>...</td>\n",
       "      <td>1</td>\n",
       "      <td>【基礎】大數的加減</td>\n",
       "      <td>Exercise</td>\n",
       "      <td>easy</td>\n",
       "      <td>math</td>\n",
       "      <td>elementary</td>\n",
       "      <td>aH0Dz0KdH9gio7rrcGRHvrmd9vcd/0WJbeEFB7qeUKA=</td>\n",
       "      <td>7f73q332BKPBXaixasa4EkUb+pF6VAsLxNIg4506JJs=</td>\n",
       "      <td>scsWmkZsfmdmD2IzB24sQ1Au1BOXYgQEx9zO3+4glq8=</td>\n",
       "      <td>hq6uCe9NmtCc+0wlbGGIsxegP2cqYAdFebGd+v4/o8Q=</td>\n",
       "    </tr>\n",
       "  </tbody>\n",
       "</table>\n",
       "<p>5 rows × 22 columns</p>\n",
       "</div>"
      ],
      "text/plain": [
       "              timestamp_TW                                          uuid  \\\n",
       "0  2018-09-28 20:00:00 UTC  Kpq2q+eKw/O+6/jLs3XJosgmI7weEJxJZdnkKTbbF8I=   \n",
       "1  2018-09-28 10:15:00 UTC  0+VU/Zb0Q96uoByuRhl7r9bJuJO6CKWpsmNMEuijSzc=   \n",
       "2  2018-09-05 20:00:00 UTC  g8DnYvIqpolw10XlwWeIWv6NbDPByUbmgH8EshJqBns=   \n",
       "3  2018-09-14 16:30:00 UTC  kSyUTFlepsYUD723IPL/jEZ520xaKbscrBmNtBUFR1o=   \n",
       "4  2018-09-13 16:00:00 UTC  XMFbFA7C49+LRhUddhelfPpA6F5dbOoxeyL3eYbuTlY=   \n",
       "\n",
       "                                           ucid  problem_number  \\\n",
       "0  Ps4dfShfpeMF3VG030HqZ2bsbD7PaVxvJYFTtroeSzQ=               2   \n",
       "1  /d39FzqaM3PZzpoMXxA80PMICsVhzfL6MGSCqZtsQOo=               6   \n",
       "2  YuGOmB+frbM8rfAa0RJE882R+IoMf9N89OiVqLbAHBw=               4   \n",
       "3  BG1RsWojzEHzV28RBm/1iKi1NyZgDcDomLYEJSV6lmo=               3   \n",
       "4  qPHR8aBqOhKij9IS/Y8IR8prwWruoDBGU1tVUhXDJkE=              12   \n",
       "\n",
       "   exercise_problem_repeat_session  is_correct  total_sec_taken  \\\n",
       "0                                1        True               11   \n",
       "1                                1        True               26   \n",
       "2                                1        True               78   \n",
       "3                                1        True                7   \n",
       "4                                1        True               48   \n",
       "\n",
       "   total_attempt_cnt  used_hint_cnt  is_hint_used  ... level  \\\n",
       "0                  1              0         False  ...     0   \n",
       "1                  1              0         False  ...     0   \n",
       "2                  1              0         False  ...     0   \n",
       "3                  1              0         False  ...     0   \n",
       "4                  1              0         False  ...     1   \n",
       "\n",
       "  content_pretty_name  content_kind difficulty subject learning_stage  \\\n",
       "0           【基礎】倍數的應用      Exercise       easy    math     elementary   \n",
       "1         【基礎】找出最小公倍數      Exercise       easy    math     elementary   \n",
       "2           【基礎】尋找質因數      Exercise       easy    math     elementary   \n",
       "3        【基礎】數的相關名詞介紹      Exercise       easy    math         junior   \n",
       "4           【基礎】大數的加減      Exercise       easy    math     elementary   \n",
       "\n",
       "                                      level1_id  \\\n",
       "0  aH0Dz0KdH9gio7rrcGRHvrmd9vcd/0WJbeEFB7qeUKA=   \n",
       "1  aH0Dz0KdH9gio7rrcGRHvrmd9vcd/0WJbeEFB7qeUKA=   \n",
       "2  aH0Dz0KdH9gio7rrcGRHvrmd9vcd/0WJbeEFB7qeUKA=   \n",
       "3  aH0Dz0KdH9gio7rrcGRHvrmd9vcd/0WJbeEFB7qeUKA=   \n",
       "4  aH0Dz0KdH9gio7rrcGRHvrmd9vcd/0WJbeEFB7qeUKA=   \n",
       "\n",
       "                                      level2_id  \\\n",
       "0  7f73q332BKPBXaixasa4EkUb+pF6VAsLxNIg4506JJs=   \n",
       "1  7f73q332BKPBXaixasa4EkUb+pF6VAsLxNIg4506JJs=   \n",
       "2  7f73q332BKPBXaixasa4EkUb+pF6VAsLxNIg4506JJs=   \n",
       "3  xYDz4OEv0xsri1IpmXlrgMLJ848rgySf+39xWpq4DBI=   \n",
       "4  7f73q332BKPBXaixasa4EkUb+pF6VAsLxNIg4506JJs=   \n",
       "\n",
       "                                      level3_id  \\\n",
       "0  ItasYR+er/FlZlRvL66/NB3wY0AvmlrZKoqe4gmPyD0=   \n",
       "1  ItasYR+er/FlZlRvL66/NB3wY0AvmlrZKoqe4gmPyD0=   \n",
       "2  ItasYR+er/FlZlRvL66/NB3wY0AvmlrZKoqe4gmPyD0=   \n",
       "3  /yqeM1FRP1rB9WuQWBkStMqrBQgjEexaeyWIhBC7ov4=   \n",
       "4  scsWmkZsfmdmD2IzB24sQ1Au1BOXYgQEx9zO3+4glq8=   \n",
       "\n",
       "                                      level4_id  \n",
       "0  VHYt8IeoqiIPVsB+32JAhIjK9jU+pnr11fL80QshARI=  \n",
       "1  VHYt8IeoqiIPVsB+32JAhIjK9jU+pnr11fL80QshARI=  \n",
       "2  DoAefIneFglvkxJ4Jb8VyB8JrESm9UEHtGyV4MqiwCo=  \n",
       "3  Vuo8t3kw/4IH80FuZ0l0uJPwpfrMs8SxhCbJA8zn3vU=  \n",
       "4  hq6uCe9NmtCc+0wlbGGIsxegP2cqYAdFebGd+v4/o8Q=  \n",
       "\n",
       "[5 rows x 22 columns]"
      ]
     },
     "execution_count": 6,
     "metadata": {},
     "output_type": "execute_result"
    }
   ],
   "source": [
    "merge_log_problem_info_content_df.head()"
   ]
  },
  {
   "cell_type": "code",
   "execution_count": 7,
   "metadata": {},
   "outputs": [],
   "source": [
    "content_correct = merge_log_problem_info_content_df.groupby('ucid')['is_correct'].apply(lambda x: np.sum(x)/len(x)).reset_index()"
   ]
  },
  {
   "cell_type": "code",
   "execution_count": 8,
   "metadata": {},
   "outputs": [
    {
     "data": {
      "text/html": [
       "<div>\n",
       "<style scoped>\n",
       "    .dataframe tbody tr th:only-of-type {\n",
       "        vertical-align: middle;\n",
       "    }\n",
       "\n",
       "    .dataframe tbody tr th {\n",
       "        vertical-align: top;\n",
       "    }\n",
       "\n",
       "    .dataframe thead th {\n",
       "        text-align: right;\n",
       "    }\n",
       "</style>\n",
       "<table border=\"1\" class=\"dataframe\">\n",
       "  <thead>\n",
       "    <tr style=\"text-align: right;\">\n",
       "      <th></th>\n",
       "      <th>ucid</th>\n",
       "      <th>is_correct</th>\n",
       "    </tr>\n",
       "  </thead>\n",
       "  <tbody>\n",
       "    <tr>\n",
       "      <th>0</th>\n",
       "      <td>+DlgHAr1GtoQgtGqwoen6pt4/ayVRO+rMaCVZ7jGCHE=</td>\n",
       "      <td>0.481413</td>\n",
       "    </tr>\n",
       "    <tr>\n",
       "      <th>1</th>\n",
       "      <td>+IgBffWedJpxG6Zo/kHbrgIRR4jwwTwa6nV03GLwX5A=</td>\n",
       "      <td>0.496226</td>\n",
       "    </tr>\n",
       "    <tr>\n",
       "      <th>2</th>\n",
       "      <td>+Lgj0Me9/8gtiruGKq8KxemAD15kU4yCfb6nteNDWjw=</td>\n",
       "      <td>0.676692</td>\n",
       "    </tr>\n",
       "    <tr>\n",
       "      <th>3</th>\n",
       "      <td>+N+e7SzcUVowUo7D4udR8rBKRmR1H7yuu5Tleqlhv48=</td>\n",
       "      <td>0.642150</td>\n",
       "    </tr>\n",
       "    <tr>\n",
       "      <th>4</th>\n",
       "      <td>+ZVl8HEbTM1GOoCTt2wxAfzQswvAWL3L8e5mLuyy1dY=</td>\n",
       "      <td>0.628628</td>\n",
       "    </tr>\n",
       "  </tbody>\n",
       "</table>\n",
       "</div>"
      ],
      "text/plain": [
       "                                           ucid  is_correct\n",
       "0  +DlgHAr1GtoQgtGqwoen6pt4/ayVRO+rMaCVZ7jGCHE=    0.481413\n",
       "1  +IgBffWedJpxG6Zo/kHbrgIRR4jwwTwa6nV03GLwX5A=    0.496226\n",
       "2  +Lgj0Me9/8gtiruGKq8KxemAD15kU4yCfb6nteNDWjw=    0.676692\n",
       "3  +N+e7SzcUVowUo7D4udR8rBKRmR1H7yuu5Tleqlhv48=    0.642150\n",
       "4  +ZVl8HEbTM1GOoCTt2wxAfzQswvAWL3L8e5mLuyy1dY=    0.628628"
      ]
     },
     "execution_count": 8,
     "metadata": {},
     "output_type": "execute_result"
    }
   ],
   "source": [
    "content_correct.head()"
   ]
  },
  {
   "cell_type": "code",
   "execution_count": 9,
   "metadata": {},
   "outputs": [],
   "source": [
    "content_correct.rename(columns={'is_correct': 'content_correct_rate'}, inplace=True)"
   ]
  },
  {
   "cell_type": "code",
   "execution_count": 10,
   "metadata": {},
   "outputs": [],
   "source": [
    "info_content_df = pd.merge(info_content_df, content_correct, how='left', on=['ucid'])"
   ]
  },
  {
   "cell_type": "code",
   "execution_count": 11,
   "metadata": {},
   "outputs": [
    {
     "data": {
      "text/html": [
       "<div>\n",
       "<style scoped>\n",
       "    .dataframe tbody tr th:only-of-type {\n",
       "        vertical-align: middle;\n",
       "    }\n",
       "\n",
       "    .dataframe tbody tr th {\n",
       "        vertical-align: top;\n",
       "    }\n",
       "\n",
       "    .dataframe thead th {\n",
       "        text-align: right;\n",
       "    }\n",
       "</style>\n",
       "<table border=\"1\" class=\"dataframe\">\n",
       "  <thead>\n",
       "    <tr style=\"text-align: right;\">\n",
       "      <th></th>\n",
       "      <th>ucid</th>\n",
       "      <th>content_pretty_name</th>\n",
       "      <th>content_kind</th>\n",
       "      <th>difficulty</th>\n",
       "      <th>subject</th>\n",
       "      <th>learning_stage</th>\n",
       "      <th>level1_id</th>\n",
       "      <th>level2_id</th>\n",
       "      <th>level3_id</th>\n",
       "      <th>level4_id</th>\n",
       "      <th>content_correct_rate</th>\n",
       "    </tr>\n",
       "  </thead>\n",
       "  <tbody>\n",
       "    <tr>\n",
       "      <th>0</th>\n",
       "      <td>odIwFdIiecFwVUAEEV40K3MSuCSlIZkbq92Zp9tkZq8=</td>\n",
       "      <td>【基礎】怎樣解題：數量關係</td>\n",
       "      <td>Exercise</td>\n",
       "      <td>easy</td>\n",
       "      <td>math</td>\n",
       "      <td>elementary</td>\n",
       "      <td>aH0Dz0KdH9gio7rrcGRHvrmd9vcd/0WJbeEFB7qeUKA=</td>\n",
       "      <td>ICgke8JJv5eapCPwyj1aco8PEtoBkUbTZYIqxmYtqBk=</td>\n",
       "      <td>bo3jsx1beVLEZ+2sckxdZNYnlLpVS7hb5lWU2baQ66k=</td>\n",
       "      <td>KPJMQebU0O24+NzlQ4udb2BXLlKV1Hte61+hV5Xb+oU=</td>\n",
       "      <td>0.670543</td>\n",
       "    </tr>\n",
       "    <tr>\n",
       "      <th>1</th>\n",
       "      <td>dfeeBaa8zDhWS6nu7zeXKwLyi4zqEajI3tJM9/fSBPM=</td>\n",
       "      <td>【基礎】和差問題 1</td>\n",
       "      <td>Exercise</td>\n",
       "      <td>easy</td>\n",
       "      <td>math</td>\n",
       "      <td>elementary</td>\n",
       "      <td>aH0Dz0KdH9gio7rrcGRHvrmd9vcd/0WJbeEFB7qeUKA=</td>\n",
       "      <td>ICgke8JJv5eapCPwyj1aco8PEtoBkUbTZYIqxmYtqBk=</td>\n",
       "      <td>bo3jsx1beVLEZ+2sckxdZNYnlLpVS7hb5lWU2baQ66k=</td>\n",
       "      <td>KPJMQebU0O24+NzlQ4udb2BXLlKV1Hte61+hV5Xb+oU=</td>\n",
       "      <td>0.614334</td>\n",
       "    </tr>\n",
       "    <tr>\n",
       "      <th>2</th>\n",
       "      <td>C2AT0OBTUn+PRxEVd39enhW/DJtka1Tk90DUAR6yVdA=</td>\n",
       "      <td>【基礎】雞兔問題 1</td>\n",
       "      <td>Exercise</td>\n",
       "      <td>easy</td>\n",
       "      <td>math</td>\n",
       "      <td>elementary</td>\n",
       "      <td>aH0Dz0KdH9gio7rrcGRHvrmd9vcd/0WJbeEFB7qeUKA=</td>\n",
       "      <td>ICgke8JJv5eapCPwyj1aco8PEtoBkUbTZYIqxmYtqBk=</td>\n",
       "      <td>bo3jsx1beVLEZ+2sckxdZNYnlLpVS7hb5lWU2baQ66k=</td>\n",
       "      <td>KPJMQebU0O24+NzlQ4udb2BXLlKV1Hte61+hV5Xb+oU=</td>\n",
       "      <td>0.623229</td>\n",
       "    </tr>\n",
       "    <tr>\n",
       "      <th>3</th>\n",
       "      <td>jZvYpEa6VB/WrlKKmQHnfbv/xJ4OypBzq0epVcn500Q=</td>\n",
       "      <td>【基礎】年齡問題 1</td>\n",
       "      <td>Exercise</td>\n",
       "      <td>easy</td>\n",
       "      <td>math</td>\n",
       "      <td>elementary</td>\n",
       "      <td>aH0Dz0KdH9gio7rrcGRHvrmd9vcd/0WJbeEFB7qeUKA=</td>\n",
       "      <td>ICgke8JJv5eapCPwyj1aco8PEtoBkUbTZYIqxmYtqBk=</td>\n",
       "      <td>bo3jsx1beVLEZ+2sckxdZNYnlLpVS7hb5lWU2baQ66k=</td>\n",
       "      <td>KPJMQebU0O24+NzlQ4udb2BXLlKV1Hte61+hV5Xb+oU=</td>\n",
       "      <td>0.684831</td>\n",
       "    </tr>\n",
       "    <tr>\n",
       "      <th>4</th>\n",
       "      <td>M+UxJPgRIW57a0YS3eik8A9YDj+AwaMpTa5yWYn/kAw=</td>\n",
       "      <td>【基礎】追趕問題</td>\n",
       "      <td>Exercise</td>\n",
       "      <td>easy</td>\n",
       "      <td>math</td>\n",
       "      <td>elementary</td>\n",
       "      <td>aH0Dz0KdH9gio7rrcGRHvrmd9vcd/0WJbeEFB7qeUKA=</td>\n",
       "      <td>ICgke8JJv5eapCPwyj1aco8PEtoBkUbTZYIqxmYtqBk=</td>\n",
       "      <td>bo3jsx1beVLEZ+2sckxdZNYnlLpVS7hb5lWU2baQ66k=</td>\n",
       "      <td>KPJMQebU0O24+NzlQ4udb2BXLlKV1Hte61+hV5Xb+oU=</td>\n",
       "      <td>0.710526</td>\n",
       "    </tr>\n",
       "    <tr>\n",
       "      <th>...</th>\n",
       "      <td>...</td>\n",
       "      <td>...</td>\n",
       "      <td>...</td>\n",
       "      <td>...</td>\n",
       "      <td>...</td>\n",
       "      <td>...</td>\n",
       "      <td>...</td>\n",
       "      <td>...</td>\n",
       "      <td>...</td>\n",
       "      <td>...</td>\n",
       "      <td>...</td>\n",
       "    </tr>\n",
       "    <tr>\n",
       "      <th>1325</th>\n",
       "      <td>NPkrCjbLK35wefMCv6y6XMO5eYO/gthS6LGwrdjG2OQ=</td>\n",
       "      <td>【進階】平方公分綜合習題</td>\n",
       "      <td>Exercise</td>\n",
       "      <td>hard</td>\n",
       "      <td>math</td>\n",
       "      <td>elementary</td>\n",
       "      <td>aH0Dz0KdH9gio7rrcGRHvrmd9vcd/0WJbeEFB7qeUKA=</td>\n",
       "      <td>7f73q332BKPBXaixasa4EkUb+pF6VAsLxNIg4506JJs=</td>\n",
       "      <td>8OFhw5s0EmQIKBlKbJL+Dvp+u3ss4rN3foLwLM4xXls=</td>\n",
       "      <td>JtYpwXqNWwRqPrXYh0JhE2lEEUI1gKRPdDH3jYwhqMo=</td>\n",
       "      <td>0.861973</td>\n",
       "    </tr>\n",
       "    <tr>\n",
       "      <th>1326</th>\n",
       "      <td>3xqxJN2W+KEo3SBjh7HnXpGjB4ewSbm1j/18fCn05yc=</td>\n",
       "      <td>【進階】周長與面積綜合習題</td>\n",
       "      <td>Exercise</td>\n",
       "      <td>hard</td>\n",
       "      <td>math</td>\n",
       "      <td>elementary</td>\n",
       "      <td>aH0Dz0KdH9gio7rrcGRHvrmd9vcd/0WJbeEFB7qeUKA=</td>\n",
       "      <td>7f73q332BKPBXaixasa4EkUb+pF6VAsLxNIg4506JJs=</td>\n",
       "      <td>8OFhw5s0EmQIKBlKbJL+Dvp+u3ss4rN3foLwLM4xXls=</td>\n",
       "      <td>Ny1/uHUXA4pvWVN1nVWv+vsdaQde7StyoQV8HAyJD80=</td>\n",
       "      <td>0.475296</td>\n",
       "    </tr>\n",
       "    <tr>\n",
       "      <th>1327</th>\n",
       "      <td>j4rGpwpqhLE9foelXD2yjokS0u3QR+ULhNqLGeF/4sk=</td>\n",
       "      <td>【一般】平方公分綜合習題</td>\n",
       "      <td>Exercise</td>\n",
       "      <td>normal</td>\n",
       "      <td>math</td>\n",
       "      <td>elementary</td>\n",
       "      <td>aH0Dz0KdH9gio7rrcGRHvrmd9vcd/0WJbeEFB7qeUKA=</td>\n",
       "      <td>7f73q332BKPBXaixasa4EkUb+pF6VAsLxNIg4506JJs=</td>\n",
       "      <td>8OFhw5s0EmQIKBlKbJL+Dvp+u3ss4rN3foLwLM4xXls=</td>\n",
       "      <td>JtYpwXqNWwRqPrXYh0JhE2lEEUI1gKRPdDH3jYwhqMo=</td>\n",
       "      <td>0.767375</td>\n",
       "    </tr>\n",
       "    <tr>\n",
       "      <th>1328</th>\n",
       "      <td>W4l0TIo0YQXLT/c8/Uy7OLtElmNuNWPODI7HkJ0NaI0=</td>\n",
       "      <td>【一般】周長與面積綜合習題</td>\n",
       "      <td>Exercise</td>\n",
       "      <td>normal</td>\n",
       "      <td>math</td>\n",
       "      <td>elementary</td>\n",
       "      <td>aH0Dz0KdH9gio7rrcGRHvrmd9vcd/0WJbeEFB7qeUKA=</td>\n",
       "      <td>7f73q332BKPBXaixasa4EkUb+pF6VAsLxNIg4506JJs=</td>\n",
       "      <td>8OFhw5s0EmQIKBlKbJL+Dvp+u3ss4rN3foLwLM4xXls=</td>\n",
       "      <td>Ny1/uHUXA4pvWVN1nVWv+vsdaQde7StyoQV8HAyJD80=</td>\n",
       "      <td>0.536224</td>\n",
       "    </tr>\n",
       "    <tr>\n",
       "      <th>1329</th>\n",
       "      <td>gvez7GFXUbuQl27U5+p/4QwFZZyXP2QFYQdoor8ZkeE=</td>\n",
       "      <td>【一般】周長與面積的應用</td>\n",
       "      <td>Exercise</td>\n",
       "      <td>normal</td>\n",
       "      <td>math</td>\n",
       "      <td>elementary</td>\n",
       "      <td>aH0Dz0KdH9gio7rrcGRHvrmd9vcd/0WJbeEFB7qeUKA=</td>\n",
       "      <td>7f73q332BKPBXaixasa4EkUb+pF6VAsLxNIg4506JJs=</td>\n",
       "      <td>8OFhw5s0EmQIKBlKbJL+Dvp+u3ss4rN3foLwLM4xXls=</td>\n",
       "      <td>Ny1/uHUXA4pvWVN1nVWv+vsdaQde7StyoQV8HAyJD80=</td>\n",
       "      <td>0.476190</td>\n",
       "    </tr>\n",
       "  </tbody>\n",
       "</table>\n",
       "<p>1330 rows × 11 columns</p>\n",
       "</div>"
      ],
      "text/plain": [
       "                                              ucid content_pretty_name  \\\n",
       "0     odIwFdIiecFwVUAEEV40K3MSuCSlIZkbq92Zp9tkZq8=       【基礎】怎樣解題：數量關係   \n",
       "1     dfeeBaa8zDhWS6nu7zeXKwLyi4zqEajI3tJM9/fSBPM=          【基礎】和差問題 1   \n",
       "2     C2AT0OBTUn+PRxEVd39enhW/DJtka1Tk90DUAR6yVdA=          【基礎】雞兔問題 1   \n",
       "3     jZvYpEa6VB/WrlKKmQHnfbv/xJ4OypBzq0epVcn500Q=          【基礎】年齡問題 1   \n",
       "4     M+UxJPgRIW57a0YS3eik8A9YDj+AwaMpTa5yWYn/kAw=            【基礎】追趕問題   \n",
       "...                                            ...                 ...   \n",
       "1325  NPkrCjbLK35wefMCv6y6XMO5eYO/gthS6LGwrdjG2OQ=        【進階】平方公分綜合習題   \n",
       "1326  3xqxJN2W+KEo3SBjh7HnXpGjB4ewSbm1j/18fCn05yc=       【進階】周長與面積綜合習題   \n",
       "1327  j4rGpwpqhLE9foelXD2yjokS0u3QR+ULhNqLGeF/4sk=        【一般】平方公分綜合習題   \n",
       "1328  W4l0TIo0YQXLT/c8/Uy7OLtElmNuNWPODI7HkJ0NaI0=       【一般】周長與面積綜合習題   \n",
       "1329  gvez7GFXUbuQl27U5+p/4QwFZZyXP2QFYQdoor8ZkeE=        【一般】周長與面積的應用   \n",
       "\n",
       "     content_kind difficulty subject learning_stage  \\\n",
       "0        Exercise       easy    math     elementary   \n",
       "1        Exercise       easy    math     elementary   \n",
       "2        Exercise       easy    math     elementary   \n",
       "3        Exercise       easy    math     elementary   \n",
       "4        Exercise       easy    math     elementary   \n",
       "...           ...        ...     ...            ...   \n",
       "1325     Exercise       hard    math     elementary   \n",
       "1326     Exercise       hard    math     elementary   \n",
       "1327     Exercise     normal    math     elementary   \n",
       "1328     Exercise     normal    math     elementary   \n",
       "1329     Exercise     normal    math     elementary   \n",
       "\n",
       "                                         level1_id  \\\n",
       "0     aH0Dz0KdH9gio7rrcGRHvrmd9vcd/0WJbeEFB7qeUKA=   \n",
       "1     aH0Dz0KdH9gio7rrcGRHvrmd9vcd/0WJbeEFB7qeUKA=   \n",
       "2     aH0Dz0KdH9gio7rrcGRHvrmd9vcd/0WJbeEFB7qeUKA=   \n",
       "3     aH0Dz0KdH9gio7rrcGRHvrmd9vcd/0WJbeEFB7qeUKA=   \n",
       "4     aH0Dz0KdH9gio7rrcGRHvrmd9vcd/0WJbeEFB7qeUKA=   \n",
       "...                                            ...   \n",
       "1325  aH0Dz0KdH9gio7rrcGRHvrmd9vcd/0WJbeEFB7qeUKA=   \n",
       "1326  aH0Dz0KdH9gio7rrcGRHvrmd9vcd/0WJbeEFB7qeUKA=   \n",
       "1327  aH0Dz0KdH9gio7rrcGRHvrmd9vcd/0WJbeEFB7qeUKA=   \n",
       "1328  aH0Dz0KdH9gio7rrcGRHvrmd9vcd/0WJbeEFB7qeUKA=   \n",
       "1329  aH0Dz0KdH9gio7rrcGRHvrmd9vcd/0WJbeEFB7qeUKA=   \n",
       "\n",
       "                                         level2_id  \\\n",
       "0     ICgke8JJv5eapCPwyj1aco8PEtoBkUbTZYIqxmYtqBk=   \n",
       "1     ICgke8JJv5eapCPwyj1aco8PEtoBkUbTZYIqxmYtqBk=   \n",
       "2     ICgke8JJv5eapCPwyj1aco8PEtoBkUbTZYIqxmYtqBk=   \n",
       "3     ICgke8JJv5eapCPwyj1aco8PEtoBkUbTZYIqxmYtqBk=   \n",
       "4     ICgke8JJv5eapCPwyj1aco8PEtoBkUbTZYIqxmYtqBk=   \n",
       "...                                            ...   \n",
       "1325  7f73q332BKPBXaixasa4EkUb+pF6VAsLxNIg4506JJs=   \n",
       "1326  7f73q332BKPBXaixasa4EkUb+pF6VAsLxNIg4506JJs=   \n",
       "1327  7f73q332BKPBXaixasa4EkUb+pF6VAsLxNIg4506JJs=   \n",
       "1328  7f73q332BKPBXaixasa4EkUb+pF6VAsLxNIg4506JJs=   \n",
       "1329  7f73q332BKPBXaixasa4EkUb+pF6VAsLxNIg4506JJs=   \n",
       "\n",
       "                                         level3_id  \\\n",
       "0     bo3jsx1beVLEZ+2sckxdZNYnlLpVS7hb5lWU2baQ66k=   \n",
       "1     bo3jsx1beVLEZ+2sckxdZNYnlLpVS7hb5lWU2baQ66k=   \n",
       "2     bo3jsx1beVLEZ+2sckxdZNYnlLpVS7hb5lWU2baQ66k=   \n",
       "3     bo3jsx1beVLEZ+2sckxdZNYnlLpVS7hb5lWU2baQ66k=   \n",
       "4     bo3jsx1beVLEZ+2sckxdZNYnlLpVS7hb5lWU2baQ66k=   \n",
       "...                                            ...   \n",
       "1325  8OFhw5s0EmQIKBlKbJL+Dvp+u3ss4rN3foLwLM4xXls=   \n",
       "1326  8OFhw5s0EmQIKBlKbJL+Dvp+u3ss4rN3foLwLM4xXls=   \n",
       "1327  8OFhw5s0EmQIKBlKbJL+Dvp+u3ss4rN3foLwLM4xXls=   \n",
       "1328  8OFhw5s0EmQIKBlKbJL+Dvp+u3ss4rN3foLwLM4xXls=   \n",
       "1329  8OFhw5s0EmQIKBlKbJL+Dvp+u3ss4rN3foLwLM4xXls=   \n",
       "\n",
       "                                         level4_id  content_correct_rate  \n",
       "0     KPJMQebU0O24+NzlQ4udb2BXLlKV1Hte61+hV5Xb+oU=              0.670543  \n",
       "1     KPJMQebU0O24+NzlQ4udb2BXLlKV1Hte61+hV5Xb+oU=              0.614334  \n",
       "2     KPJMQebU0O24+NzlQ4udb2BXLlKV1Hte61+hV5Xb+oU=              0.623229  \n",
       "3     KPJMQebU0O24+NzlQ4udb2BXLlKV1Hte61+hV5Xb+oU=              0.684831  \n",
       "4     KPJMQebU0O24+NzlQ4udb2BXLlKV1Hte61+hV5Xb+oU=              0.710526  \n",
       "...                                            ...                   ...  \n",
       "1325  JtYpwXqNWwRqPrXYh0JhE2lEEUI1gKRPdDH3jYwhqMo=              0.861973  \n",
       "1326  Ny1/uHUXA4pvWVN1nVWv+vsdaQde7StyoQV8HAyJD80=              0.475296  \n",
       "1327  JtYpwXqNWwRqPrXYh0JhE2lEEUI1gKRPdDH3jYwhqMo=              0.767375  \n",
       "1328  Ny1/uHUXA4pvWVN1nVWv+vsdaQde7StyoQV8HAyJD80=              0.536224  \n",
       "1329  Ny1/uHUXA4pvWVN1nVWv+vsdaQde7StyoQV8HAyJD80=              0.476190  \n",
       "\n",
       "[1330 rows x 11 columns]"
      ]
     },
     "execution_count": 11,
     "metadata": {},
     "output_type": "execute_result"
    }
   ],
   "source": [
    "info_content_df"
   ]
  },
  {
   "cell_type": "code",
   "execution_count": 12,
   "metadata": {},
   "outputs": [
    {
     "data": {
      "text/plain": [
       "(1330, 11)"
      ]
     },
     "execution_count": 12,
     "metadata": {},
     "output_type": "execute_result"
    }
   ],
   "source": [
    "info_content_df.shape"
   ]
  },
  {
   "cell_type": "code",
   "execution_count": 13,
   "metadata": {},
   "outputs": [
    {
     "data": {
      "text/plain": [
       "count    1315.000000\n",
       "mean        0.662686\n",
       "std         0.145005\n",
       "min         0.000000\n",
       "25%         0.562178\n",
       "50%         0.678512\n",
       "75%         0.767450\n",
       "max         1.000000\n",
       "Name: content_correct_rate, dtype: float64"
      ]
     },
     "execution_count": 13,
     "metadata": {},
     "output_type": "execute_result"
    }
   ],
   "source": [
    "info_content_df['content_correct_rate'].describe()"
   ]
  },
  {
   "cell_type": "code",
   "execution_count": 14,
   "metadata": {},
   "outputs": [
    {
     "data": {
      "text/plain": [
       "0.666667    3\n",
       "0.594595    3\n",
       "0.850915    2\n",
       "0.681818    2\n",
       "0.648393    2\n",
       "           ..\n",
       "0.473968    1\n",
       "0.614062    1\n",
       "0.398667    1\n",
       "0.446175    1\n",
       "0.910714    1\n",
       "Name: content_correct_rate, Length: 1292, dtype: int64"
      ]
     },
     "execution_count": 14,
     "metadata": {},
     "output_type": "execute_result"
    }
   ],
   "source": [
    "info_content_df['content_correct_rate'].value_counts()"
   ]
  },
  {
   "cell_type": "code",
   "execution_count": 25,
   "metadata": {},
   "outputs": [
    {
     "data": {
      "text/plain": [
       "<matplotlib.axes._subplots.AxesSubplot at 0x1cd23564788>"
      ]
     },
     "execution_count": 25,
     "metadata": {},
     "output_type": "execute_result"
    },
    {
     "data": {
      "image/png": "[encoded data removed]",
      "text/plain": [
       "<Figure size 432x288 with 1 Axes>"
      ]
     },
     "metadata": {
      "needs_background": "light"
     },
     "output_type": "display_data"
    }
   ],
   "source": [
    "info_content_df['content_correct_rate'].plot.hist()"
   ]
  },
  {
   "cell_type": "code",
   "execution_count": 15,
   "metadata": {},
   "outputs": [],
   "source": [
    "problem_correct = log_problem_df.groupby(['ucid','problem_number'])['is_correct'].apply(lambda x: np.sum(x)/len(x)).reset_index()"
   ]
  },
  {
   "cell_type": "code",
   "execution_count": 16,
   "metadata": {},
   "outputs": [
    {
     "data": {
      "text/plain": [
       "(105849, 3)"
      ]
     },
     "execution_count": 16,
     "metadata": {},
     "output_type": "execute_result"
    }
   ],
   "source": [
    "problem_correct.shape"
   ]
  },
  {
   "cell_type": "code",
   "execution_count": 17,
   "metadata": {},
   "outputs": [],
   "source": [
    "problem_correct.rename(columns={'is_correct': 'problem_correct_rate'}, inplace=True)"
   ]
  },
  {
   "cell_type": "code",
   "execution_count": 18,
   "metadata": {},
   "outputs": [
    {
     "data": {
      "text/html": [
       "<div>\n",
       "<style scoped>\n",
       "    .dataframe tbody tr th:only-of-type {\n",
       "        vertical-align: middle;\n",
       "    }\n",
       "\n",
       "    .dataframe tbody tr th {\n",
       "        vertical-align: top;\n",
       "    }\n",
       "\n",
       "    .dataframe thead th {\n",
       "        text-align: right;\n",
       "    }\n",
       "</style>\n",
       "<table border=\"1\" class=\"dataframe\">\n",
       "  <thead>\n",
       "    <tr style=\"text-align: right;\">\n",
       "      <th></th>\n",
       "      <th>ucid</th>\n",
       "      <th>problem_number</th>\n",
       "      <th>problem_correct_rate</th>\n",
       "    </tr>\n",
       "  </thead>\n",
       "  <tbody>\n",
       "    <tr>\n",
       "      <th>0</th>\n",
       "      <td>+DlgHAr1GtoQgtGqwoen6pt4/ayVRO+rMaCVZ7jGCHE=</td>\n",
       "      <td>1</td>\n",
       "      <td>0.561404</td>\n",
       "    </tr>\n",
       "    <tr>\n",
       "      <th>1</th>\n",
       "      <td>+DlgHAr1GtoQgtGqwoen6pt4/ayVRO+rMaCVZ7jGCHE=</td>\n",
       "      <td>2</td>\n",
       "      <td>0.528302</td>\n",
       "    </tr>\n",
       "    <tr>\n",
       "      <th>2</th>\n",
       "      <td>+DlgHAr1GtoQgtGqwoen6pt4/ayVRO+rMaCVZ7jGCHE=</td>\n",
       "      <td>3</td>\n",
       "      <td>0.627451</td>\n",
       "    </tr>\n",
       "    <tr>\n",
       "      <th>3</th>\n",
       "      <td>+DlgHAr1GtoQgtGqwoen6pt4/ayVRO+rMaCVZ7jGCHE=</td>\n",
       "      <td>4</td>\n",
       "      <td>0.521739</td>\n",
       "    </tr>\n",
       "    <tr>\n",
       "      <th>4</th>\n",
       "      <td>+DlgHAr1GtoQgtGqwoen6pt4/ayVRO+rMaCVZ7jGCHE=</td>\n",
       "      <td>5</td>\n",
       "      <td>0.522727</td>\n",
       "    </tr>\n",
       "  </tbody>\n",
       "</table>\n",
       "</div>"
      ],
      "text/plain": [
       "                                           ucid  problem_number  \\\n",
       "0  +DlgHAr1GtoQgtGqwoen6pt4/ayVRO+rMaCVZ7jGCHE=               1   \n",
       "1  +DlgHAr1GtoQgtGqwoen6pt4/ayVRO+rMaCVZ7jGCHE=               2   \n",
       "2  +DlgHAr1GtoQgtGqwoen6pt4/ayVRO+rMaCVZ7jGCHE=               3   \n",
       "3  +DlgHAr1GtoQgtGqwoen6pt4/ayVRO+rMaCVZ7jGCHE=               4   \n",
       "4  +DlgHAr1GtoQgtGqwoen6pt4/ayVRO+rMaCVZ7jGCHE=               5   \n",
       "\n",
       "   problem_correct_rate  \n",
       "0              0.561404  \n",
       "1              0.528302  \n",
       "2              0.627451  \n",
       "3              0.521739  \n",
       "4              0.522727  "
      ]
     },
     "execution_count": 18,
     "metadata": {},
     "output_type": "execute_result"
    }
   ],
   "source": [
    "problem_correct.head()"
   ]
  },
  {
   "cell_type": "code",
   "execution_count": 19,
   "metadata": {},
   "outputs": [
    {
     "data": {
      "text/plain": [
       "0         0.561404\n",
       "1         0.528302\n",
       "2         0.627451\n",
       "3         0.521739\n",
       "4         0.522727\n",
       "            ...   \n",
       "105844    1.000000\n",
       "105845    0.000000\n",
       "105846    1.000000\n",
       "105847    1.000000\n",
       "105848    1.000000\n",
       "Name: problem_correct_rate, Length: 105849, dtype: float64"
      ]
     },
     "execution_count": 19,
     "metadata": {},
     "output_type": "execute_result"
    }
   ],
   "source": [
    "problem_correct['problem_correct_rate']"
   ]
  },
  {
   "cell_type": "code",
   "execution_count": 20,
   "metadata": {},
   "outputs": [],
   "source": [
    "log_problem_df = pd.merge(log_problem_df, problem_correct, how='left', on=['ucid','problem_number'])"
   ]
  },
  {
   "cell_type": "code",
   "execution_count": 21,
   "metadata": {},
   "outputs": [
    {
     "data": {
      "text/html": [
       "<div>\n",
       "<style scoped>\n",
       "    .dataframe tbody tr th:only-of-type {\n",
       "        vertical-align: middle;\n",
       "    }\n",
       "\n",
       "    .dataframe tbody tr th {\n",
       "        vertical-align: top;\n",
       "    }\n",
       "\n",
       "    .dataframe thead th {\n",
       "        text-align: right;\n",
       "    }\n",
       "</style>\n",
       "<table border=\"1\" class=\"dataframe\">\n",
       "  <thead>\n",
       "    <tr style=\"text-align: right;\">\n",
       "      <th></th>\n",
       "      <th>timestamp_TW</th>\n",
       "      <th>uuid</th>\n",
       "      <th>ucid</th>\n",
       "      <th>problem_number</th>\n",
       "      <th>exercise_problem_repeat_session</th>\n",
       "      <th>is_correct</th>\n",
       "      <th>total_sec_taken</th>\n",
       "      <th>total_attempt_cnt</th>\n",
       "      <th>used_hint_cnt</th>\n",
       "      <th>is_hint_used</th>\n",
       "      <th>is_downgrade</th>\n",
       "      <th>is_upgrade</th>\n",
       "      <th>level</th>\n",
       "      <th>problem_correct_rate</th>\n",
       "    </tr>\n",
       "  </thead>\n",
       "  <tbody>\n",
       "    <tr>\n",
       "      <th>0</th>\n",
       "      <td>2018-09-28 20:00:00 UTC</td>\n",
       "      <td>Kpq2q+eKw/O+6/jLs3XJosgmI7weEJxJZdnkKTbbF8I=</td>\n",
       "      <td>Ps4dfShfpeMF3VG030HqZ2bsbD7PaVxvJYFTtroeSzQ=</td>\n",
       "      <td>2</td>\n",
       "      <td>1</td>\n",
       "      <td>True</td>\n",
       "      <td>11</td>\n",
       "      <td>1</td>\n",
       "      <td>0</td>\n",
       "      <td>False</td>\n",
       "      <td>NaN</td>\n",
       "      <td>NaN</td>\n",
       "      <td>0</td>\n",
       "      <td>0.619795</td>\n",
       "    </tr>\n",
       "    <tr>\n",
       "      <th>1</th>\n",
       "      <td>2018-09-28 10:15:00 UTC</td>\n",
       "      <td>0+VU/Zb0Q96uoByuRhl7r9bJuJO6CKWpsmNMEuijSzc=</td>\n",
       "      <td>/d39FzqaM3PZzpoMXxA80PMICsVhzfL6MGSCqZtsQOo=</td>\n",
       "      <td>6</td>\n",
       "      <td>1</td>\n",
       "      <td>True</td>\n",
       "      <td>26</td>\n",
       "      <td>1</td>\n",
       "      <td>0</td>\n",
       "      <td>False</td>\n",
       "      <td>NaN</td>\n",
       "      <td>NaN</td>\n",
       "      <td>0</td>\n",
       "      <td>0.712617</td>\n",
       "    </tr>\n",
       "    <tr>\n",
       "      <th>2</th>\n",
       "      <td>2018-09-05 20:00:00 UTC</td>\n",
       "      <td>g8DnYvIqpolw10XlwWeIWv6NbDPByUbmgH8EshJqBns=</td>\n",
       "      <td>YuGOmB+frbM8rfAa0RJE882R+IoMf9N89OiVqLbAHBw=</td>\n",
       "      <td>4</td>\n",
       "      <td>1</td>\n",
       "      <td>True</td>\n",
       "      <td>78</td>\n",
       "      <td>1</td>\n",
       "      <td>0</td>\n",
       "      <td>False</td>\n",
       "      <td>NaN</td>\n",
       "      <td>NaN</td>\n",
       "      <td>0</td>\n",
       "      <td>0.856749</td>\n",
       "    </tr>\n",
       "    <tr>\n",
       "      <th>3</th>\n",
       "      <td>2018-09-14 16:30:00 UTC</td>\n",
       "      <td>kSyUTFlepsYUD723IPL/jEZ520xaKbscrBmNtBUFR1o=</td>\n",
       "      <td>BG1RsWojzEHzV28RBm/1iKi1NyZgDcDomLYEJSV6lmo=</td>\n",
       "      <td>3</td>\n",
       "      <td>1</td>\n",
       "      <td>True</td>\n",
       "      <td>7</td>\n",
       "      <td>1</td>\n",
       "      <td>0</td>\n",
       "      <td>False</td>\n",
       "      <td>NaN</td>\n",
       "      <td>NaN</td>\n",
       "      <td>0</td>\n",
       "      <td>0.780895</td>\n",
       "    </tr>\n",
       "    <tr>\n",
       "      <th>4</th>\n",
       "      <td>2018-09-13 16:00:00 UTC</td>\n",
       "      <td>XMFbFA7C49+LRhUddhelfPpA6F5dbOoxeyL3eYbuTlY=</td>\n",
       "      <td>qPHR8aBqOhKij9IS/Y8IR8prwWruoDBGU1tVUhXDJkE=</td>\n",
       "      <td>12</td>\n",
       "      <td>1</td>\n",
       "      <td>True</td>\n",
       "      <td>48</td>\n",
       "      <td>1</td>\n",
       "      <td>0</td>\n",
       "      <td>False</td>\n",
       "      <td>False</td>\n",
       "      <td>True</td>\n",
       "      <td>1</td>\n",
       "      <td>0.737624</td>\n",
       "    </tr>\n",
       "  </tbody>\n",
       "</table>\n",
       "</div>"
      ],
      "text/plain": [
       "              timestamp_TW                                          uuid  \\\n",
       "0  2018-09-28 20:00:00 UTC  Kpq2q+eKw/O+6/jLs3XJosgmI7weEJxJZdnkKTbbF8I=   \n",
       "1  2018-09-28 10:15:00 UTC  0+VU/Zb0Q96uoByuRhl7r9bJuJO6CKWpsmNMEuijSzc=   \n",
       "2  2018-09-05 20:00:00 UTC  g8DnYvIqpolw10XlwWeIWv6NbDPByUbmgH8EshJqBns=   \n",
       "3  2018-09-14 16:30:00 UTC  kSyUTFlepsYUD723IPL/jEZ520xaKbscrBmNtBUFR1o=   \n",
       "4  2018-09-13 16:00:00 UTC  XMFbFA7C49+LRhUddhelfPpA6F5dbOoxeyL3eYbuTlY=   \n",
       "\n",
       "                                           ucid  problem_number  \\\n",
       "0  Ps4dfShfpeMF3VG030HqZ2bsbD7PaVxvJYFTtroeSzQ=               2   \n",
       "1  /d39FzqaM3PZzpoMXxA80PMICsVhzfL6MGSCqZtsQOo=               6   \n",
       "2  YuGOmB+frbM8rfAa0RJE882R+IoMf9N89OiVqLbAHBw=               4   \n",
       "3  BG1RsWojzEHzV28RBm/1iKi1NyZgDcDomLYEJSV6lmo=               3   \n",
       "4  qPHR8aBqOhKij9IS/Y8IR8prwWruoDBGU1tVUhXDJkE=              12   \n",
       "\n",
       "   exercise_problem_repeat_session  is_correct  total_sec_taken  \\\n",
       "0                                1        True               11   \n",
       "1                                1        True               26   \n",
       "2                                1        True               78   \n",
       "3                                1        True                7   \n",
       "4                                1        True               48   \n",
       "\n",
       "   total_attempt_cnt  used_hint_cnt  is_hint_used is_downgrade is_upgrade  \\\n",
       "0                  1              0         False          NaN        NaN   \n",
       "1                  1              0         False          NaN        NaN   \n",
       "2                  1              0         False          NaN        NaN   \n",
       "3                  1              0         False          NaN        NaN   \n",
       "4                  1              0         False        False       True   \n",
       "\n",
       "   level  problem_correct_rate  \n",
       "0      0              0.619795  \n",
       "1      0              0.712617  \n",
       "2      0              0.856749  \n",
       "3      0              0.780895  \n",
       "4      1              0.737624  "
      ]
     },
     "execution_count": 21,
     "metadata": {},
     "output_type": "execute_result"
    }
   ],
   "source": [
    "log_problem_df.head()"
   ]
  },
  {
   "cell_type": "code",
   "execution_count": 22,
   "metadata": {},
   "outputs": [
    {
     "data": {
      "text/plain": [
       "Index(['timestamp_TW', 'uuid', 'ucid', 'problem_number',\n",
       "       'exercise_problem_repeat_session', 'is_correct', 'total_sec_taken',\n",
       "       'total_attempt_cnt', 'used_hint_cnt', 'is_hint_used', 'is_downgrade',\n",
       "       'is_upgrade', 'level', 'problem_correct_rate'],\n",
       "      dtype='object')"
      ]
     },
     "execution_count": 22,
     "metadata": {},
     "output_type": "execute_result"
    }
   ],
   "source": [
    "log_problem_df.columns"
   ]
  },
  {
   "cell_type": "code",
   "execution_count": 23,
   "metadata": {},
   "outputs": [
    {
     "data": {
      "text/plain": [
       "count    7.197409e+06\n",
       "mean     7.202336e-01\n",
       "std      1.461684e-01\n",
       "min      0.000000e+00\n",
       "25%      6.355140e-01\n",
       "50%      7.360000e-01\n",
       "75%      8.244898e-01\n",
       "max      1.000000e+00\n",
       "Name: problem_correct_rate, dtype: float64"
      ]
     },
     "execution_count": 23,
     "metadata": {},
     "output_type": "execute_result"
    }
   ],
   "source": [
    "log_problem_df['problem_correct_rate'].describe()"
   ]
  },
  {
   "cell_type": "code",
   "execution_count": 24,
   "metadata": {},
   "outputs": [
    {
     "data": {
      "text/plain": [
       "<matplotlib.axes._subplots.AxesSubplot at 0x1cc8657fe08>"
      ]
     },
     "execution_count": 24,
     "metadata": {},
     "output_type": "execute_result"
    },
    {
     "data": {
      "image/png": "[encoded data removed]",
      "text/plain": [
       "<Figure size 432x288 with 1 Axes>"
      ]
     },
     "metadata": {
      "needs_background": "light"
     },
     "output_type": "display_data"
    }
   ],
   "source": [
    "log_problem_df['problem_correct_rate'].plot.hist()"
   ]
  },
  {
   "cell_type": "markdown",
   "metadata": {},
   "source": [
    "## Dataframe Export"
   ]
  },
  {
   "cell_type": "code",
   "execution_count": 26,
   "metadata": {},
   "outputs": [],
   "source": [
    "info_content_df.to_csv('data/Info_Content_Edited.csv')"
   ]
  },
  {
   "cell_type": "code",
   "execution_count": 27,
   "metadata": {},
   "outputs": [],
   "source": [
    "log_problem_df.to_csv('data/Log_Problem_Edited.csv')"
   ]
  }
 ],
 "metadata": {
  "kernelspec": {
   "display_name": "Python 3",
   "language": "python",
   "name": "python3"
  },
  "language_info": {
   "codemirror_mode": {
    "name": "ipython",
    "version": 3
   },
   "file_extension": ".py",
   "mimetype": "text/x-python",
   "name": "python",
   "nbconvert_exporter": "python",
   "pygments_lexer": "ipython3",
   "version": "3.7.6"
  }
 },
 "nbformat": 4,
 "nbformat_minor": 4
}

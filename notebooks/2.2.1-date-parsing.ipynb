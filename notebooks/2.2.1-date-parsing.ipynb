{
 "cells": [
  {
   "cell_type": "markdown",
   "metadata": {},
   "source": [
    "### Assessing the Readiness of HEI in Malaysia to Accept Generation Alpha\n",
    "\n",
    "---\n",
    "\n",
    "# Parsing Date\n",
    "\n",
    "**Help Python recognize dates as composed of day, month, and year.**\n",
    "\n",
    "Now that we know that our date column isn't being recognized as a date, it's time to convert it so that it is recognized as a date. This is called \"parsing dates\" because we're taking in a string and identifying its component parts."
   ]
  },
  {
   "cell_type": "code",
   "execution_count": 77,
   "metadata": {},
   "outputs": [],
   "source": [
    "import numpy as np\n",
    "import pandas as pd\n",
    "import seaborn as sns"
   ]
  },
  {
   "cell_type": "code",
   "execution_count": 57,
   "metadata": {},
   "outputs": [
    {
     "name": "stdout",
     "output_type": "stream",
     "text": [
      "Wall time: 12.7 s\n"
     ]
    }
   ],
   "source": [
    "%%time\n",
    "info_content_df = pd.read_csv('../data/raw/Info_Content.csv', index_col='ucid')\n",
    "info_userdata_df = pd.read_csv('../data/raw/Info_UserData.csv', index_col='uuid')\n",
    "log_problem_df = pd.read_csv('../data/raw/Log_Problem.csv', index_col='upid')"
   ]
  },
  {
   "cell_type": "code",
   "execution_count": 58,
   "metadata": {},
   "outputs": [
    {
     "data": {
      "text/plain": [
       "uuid\n",
       "Y2RcCdmUJAYPUAIDElo4nE9KrkLLFzUIRdexG+ipaZQ=    2019-01-24\n",
       "lw/Rchfvl9q1UDaQRmeE6QJDJeXAK7nt56RvUvqxD/8=    2019-01-24\n",
       "ncVYyCw3osV77X9M+4NbI7LvBR5UiB4ix6Ca+baQArA=    2019-01-24\n",
       "J7Tbo1x2WtRpPuXeX7lWT9tkzWlSJeubl8UWjNmHh+4=    2019-01-24\n",
       "qijKzROzz1LmCaCxHJ3mOBOtjW/q4kW80tnpPmXHVYQ=    2019-01-24\n",
       "Name: first_login_date_TW, dtype: object"
      ]
     },
     "execution_count": 58,
     "metadata": {},
     "output_type": "execute_result"
    }
   ],
   "source": [
    "info_userdata_df['first_login_date_TW'].head()"
   ]
  },
  {
   "cell_type": "code",
   "execution_count": 59,
   "metadata": {},
   "outputs": [
    {
     "data": {
      "text/plain": [
       "upid\n",
       "ZmKEZ0F2WFqhlL7KFfJcHEnZCZu0e4p+CVG5rSlyKYk=    2018-09-28 20:00:00 UTC\n",
       "tO9dyvadKWMVQgEx/BXtRIYJ2TRJFQgwvcsBwFb4+xI=    2018-09-28 10:15:00 UTC\n",
       "6Lxz6aXvgyw3vZd3v8g6jgoCRDPOQzVPx/dnEC0o7DQ=    2018-09-05 20:00:00 UTC\n",
       "1fIjdakTApQp5PfWog87uOmM6JuoNE/oQq2y5/fMmfw=    2018-09-14 16:30:00 UTC\n",
       "8V/NT6M+er2I3V3ZIWRNo4Qbo3Iad89PHbeeZeoZeF0=    2018-09-13 16:00:00 UTC\n",
       "Name: timestamp_TW, dtype: object"
      ]
     },
     "execution_count": 59,
     "metadata": {},
     "output_type": "execute_result"
    }
   ],
   "source": [
    "log_problem_df['timestamp_TW'].head()"
   ]
  },
  {
   "cell_type": "markdown",
   "metadata": {},
   "source": [
    "### Convert our date columns to datetime\n",
    "\n",
    "We can pandas what the format of our dates are with a guide called as \"strftime directive\", which you can find more information on at this link. The basic idea is that you need to point out which parts of the date are where and what punctuation is between them. There are lots of possible parts of a date, but the most common are %d for day, %m for month, %y for a two-digit year and %Y for a four digit year."
   ]
  },
  {
   "cell_type": "code",
   "execution_count": 60,
   "metadata": {},
   "outputs": [],
   "source": [
    "info_userdata_df['first_login_date_TW'] = pd.to_datetime(info_userdata_df['first_login_date_TW'], format='%Y-%m-%d')\n",
    "info_userdata_df = info_userdata_df.rename(columns = {'first_login_date_TW':'date_login'})"
   ]
  },
  {
   "cell_type": "code",
   "execution_count": 61,
   "metadata": {},
   "outputs": [],
   "source": [
    "log_problem_df['timestamp_TW'] = pd.to_datetime(log_problem_df['timestamp_TW'], format='%Y-%m-%d %H:%M:%S %Z')\n",
    "log_problem_df = log_problem_df.rename(columns = {'timestamp_TW':'datetime_attempt'})"
   ]
  },
  {
   "cell_type": "code",
   "execution_count": 62,
   "metadata": {},
   "outputs": [],
   "source": [
    "log_problem_df['date_attempt'] = pd.to_datetime(log_problem_df['datetime_attempt'].dt.date, format='%Y-%m-%d')"
   ]
  },
  {
   "cell_type": "markdown",
   "metadata": {},
   "source": [
    "Why don't you always use infer_datetime_format = True? There are two big reasons not to always have pandas guess the time format. The first is that pandas won't always been able to figure out the correct date format, especially if someone has gotten creative with data entry. The second is that it's much slower than specifying the exact format of the dates."
   ]
  },
  {
   "cell_type": "markdown",
   "metadata": {},
   "source": [
    "Now when I check the first few rows of the new column, I can see that the dtype is `datetime64`. I can also see that my dates have been slightly rearranged so that they fit the default order datetime objects (year-month-day)."
   ]
  },
  {
   "cell_type": "code",
   "execution_count": 63,
   "metadata": {},
   "outputs": [
    {
     "data": {
      "text/plain": [
       "dtype('<M8[ns]')"
      ]
     },
     "execution_count": 63,
     "metadata": {},
     "output_type": "execute_result"
    }
   ],
   "source": [
    "log_problem_df['date_attempt'].dtype"
   ]
  },
  {
   "cell_type": "code",
   "execution_count": 64,
   "metadata": {},
   "outputs": [
    {
     "data": {
      "text/plain": [
       "dtype('<M8[ns]')"
      ]
     },
     "execution_count": 64,
     "metadata": {},
     "output_type": "execute_result"
    }
   ],
   "source": [
    "info_userdata_df['date_login'].dtype"
   ]
  },
  {
   "cell_type": "code",
   "execution_count": 65,
   "metadata": {},
   "outputs": [
    {
     "data": {
      "text/plain": [
       "uuid\n",
       "Y2RcCdmUJAYPUAIDElo4nE9KrkLLFzUIRdexG+ipaZQ=   2019-01-24\n",
       "lw/Rchfvl9q1UDaQRmeE6QJDJeXAK7nt56RvUvqxD/8=   2019-01-24\n",
       "ncVYyCw3osV77X9M+4NbI7LvBR5UiB4ix6Ca+baQArA=   2019-01-24\n",
       "J7Tbo1x2WtRpPuXeX7lWT9tkzWlSJeubl8UWjNmHh+4=   2019-01-24\n",
       "qijKzROzz1LmCaCxHJ3mOBOtjW/q4kW80tnpPmXHVYQ=   2019-01-24\n",
       "Name: date_login, dtype: datetime64[ns]"
      ]
     },
     "execution_count": 65,
     "metadata": {},
     "output_type": "execute_result"
    }
   ],
   "source": [
    "# print the first few rows\n",
    "info_userdata_df['date_login'].head()"
   ]
  },
  {
   "cell_type": "code",
   "execution_count": 66,
   "metadata": {},
   "outputs": [
    {
     "data": {
      "text/plain": [
       "upid\n",
       "ZmKEZ0F2WFqhlL7KFfJcHEnZCZu0e4p+CVG5rSlyKYk=   2018-09-28 20:00:00+00:00\n",
       "tO9dyvadKWMVQgEx/BXtRIYJ2TRJFQgwvcsBwFb4+xI=   2018-09-28 10:15:00+00:00\n",
       "6Lxz6aXvgyw3vZd3v8g6jgoCRDPOQzVPx/dnEC0o7DQ=   2018-09-05 20:00:00+00:00\n",
       "1fIjdakTApQp5PfWog87uOmM6JuoNE/oQq2y5/fMmfw=   2018-09-14 16:30:00+00:00\n",
       "8V/NT6M+er2I3V3ZIWRNo4Qbo3Iad89PHbeeZeoZeF0=   2018-09-13 16:00:00+00:00\n",
       "Name: datetime_attempt, dtype: datetime64[ns, UTC]"
      ]
     },
     "execution_count": 66,
     "metadata": {},
     "output_type": "execute_result"
    }
   ],
   "source": [
    "log_problem_df['datetime_attempt'].head()"
   ]
  },
  {
   "cell_type": "code",
   "execution_count": 67,
   "metadata": {},
   "outputs": [],
   "source": [
    "info_userdata_df = info_userdata_df.sort_values(by='date_login')"
   ]
  },
  {
   "cell_type": "code",
   "execution_count": 68,
   "metadata": {},
   "outputs": [],
   "source": [
    "log_problem_df = log_problem_df.sort_values(by=['datetime_attempt','problem_number'])"
   ]
  },
  {
   "cell_type": "code",
   "execution_count": 69,
   "metadata": {},
   "outputs": [],
   "source": [
    "merge_df = log_problem_df.merge(info_userdata_df,how='left',on='uuid')\n",
    "merge_df = merge_df.merge(info_content_df,how='left',on='ucid')"
   ]
  },
  {
   "cell_type": "code",
   "execution_count": 70,
   "metadata": {},
   "outputs": [
    {
     "data": {
      "text/plain": [
       "dtype('<M8[ns]')"
      ]
     },
     "execution_count": 70,
     "metadata": {},
     "output_type": "execute_result"
    }
   ],
   "source": [
    "merge_df['date_attempt'].dtype"
   ]
  },
  {
   "cell_type": "code",
   "execution_count": 71,
   "metadata": {},
   "outputs": [
    {
     "data": {
      "text/plain": [
       "0         2018-08-01\n",
       "1         2018-08-01\n",
       "2         2018-08-01\n",
       "3         2018-08-01\n",
       "4         2018-08-01\n",
       "             ...    \n",
       "4273198   2018-11-30\n",
       "4273199   2018-11-30\n",
       "4273200   2018-11-30\n",
       "4273201   2018-11-30\n",
       "4273202   2018-11-30\n",
       "Name: date_attempt, Length: 4273203, dtype: datetime64[ns]"
      ]
     },
     "execution_count": 71,
     "metadata": {},
     "output_type": "execute_result"
    }
   ],
   "source": [
    "merge_df['date_attempt']"
   ]
  },
  {
   "cell_type": "code",
   "execution_count": 72,
   "metadata": {},
   "outputs": [],
   "source": [
    "merge_df['date_count'] = (merge_df['date_attempt'] - merge_df['date_login']).dt.days"
   ]
  },
  {
   "cell_type": "code",
   "execution_count": 73,
   "metadata": {},
   "outputs": [
    {
     "data": {
      "text/html": [
       "<div>\n",
       "<style scoped>\n",
       "    .dataframe tbody tr th:only-of-type {\n",
       "        vertical-align: middle;\n",
       "    }\n",
       "\n",
       "    .dataframe tbody tr th {\n",
       "        vertical-align: top;\n",
       "    }\n",
       "\n",
       "    .dataframe thead th {\n",
       "        text-align: right;\n",
       "    }\n",
       "</style>\n",
       "<table border=\"1\" class=\"dataframe\">\n",
       "  <thead>\n",
       "    <tr style=\"text-align: right;\">\n",
       "      <th></th>\n",
       "      <th>datetime_attempt</th>\n",
       "      <th>uuid</th>\n",
       "      <th>ucid</th>\n",
       "      <th>problem_number</th>\n",
       "      <th>exercise_problem_repeat_session</th>\n",
       "      <th>is_correct</th>\n",
       "      <th>total_sec_taken</th>\n",
       "      <th>total_attempt_cnt</th>\n",
       "      <th>used_hint_cnt</th>\n",
       "      <th>is_hint_used</th>\n",
       "      <th>...</th>\n",
       "      <th>content_pretty_name</th>\n",
       "      <th>content_kind</th>\n",
       "      <th>difficulty</th>\n",
       "      <th>subject</th>\n",
       "      <th>learning_stage</th>\n",
       "      <th>level1_id</th>\n",
       "      <th>level2_id</th>\n",
       "      <th>level3_id</th>\n",
       "      <th>level4_id</th>\n",
       "      <th>date_count</th>\n",
       "    </tr>\n",
       "  </thead>\n",
       "  <tbody>\n",
       "    <tr>\n",
       "      <th>0</th>\n",
       "      <td>2018-08-01 07:45:00+00:00</td>\n",
       "      <td>U+lqK/FKWkPuoNUM1AbGyrKZfXeQrRRoKOToKrjqDt4=</td>\n",
       "      <td>hv7kHCAIdj7thZUmlqz553leG5bFNYgzXmLfB5m4Xvw=</td>\n",
       "      <td>1</td>\n",
       "      <td>1</td>\n",
       "      <td>True</td>\n",
       "      <td>10</td>\n",
       "      <td>1</td>\n",
       "      <td>0</td>\n",
       "      <td>False</td>\n",
       "      <td>...</td>\n",
       "      <td>【基礎】第幾個</td>\n",
       "      <td>Exercise</td>\n",
       "      <td>easy</td>\n",
       "      <td>math</td>\n",
       "      <td>elementary</td>\n",
       "      <td>aH0Dz0KdH9gio7rrcGRHvrmd9vcd/0WJbeEFB7qeUKA=</td>\n",
       "      <td>7f73q332BKPBXaixasa4EkUb+pF6VAsLxNIg4506JJs=</td>\n",
       "      <td>scsWmkZsfmdmD2IzB24sQ1Au1BOXYgQEx9zO3+4glq8=</td>\n",
       "      <td>0kg46I/6iMMbn3w0M3CGBQ0jcjNGl+29E3S2vihaIo0=</td>\n",
       "      <td>0</td>\n",
       "    </tr>\n",
       "    <tr>\n",
       "      <th>1</th>\n",
       "      <td>2018-08-01 07:45:00+00:00</td>\n",
       "      <td>U+lqK/FKWkPuoNUM1AbGyrKZfXeQrRRoKOToKrjqDt4=</td>\n",
       "      <td>CPI+5YCeEmhqdk6znJeii6jJUNl1QWGEvwCUJ6uLflg=</td>\n",
       "      <td>1</td>\n",
       "      <td>1</td>\n",
       "      <td>True</td>\n",
       "      <td>10</td>\n",
       "      <td>1</td>\n",
       "      <td>0</td>\n",
       "      <td>False</td>\n",
       "      <td>...</td>\n",
       "      <td>【基礎】一對一對應數數</td>\n",
       "      <td>Exercise</td>\n",
       "      <td>easy</td>\n",
       "      <td>math</td>\n",
       "      <td>elementary</td>\n",
       "      <td>aH0Dz0KdH9gio7rrcGRHvrmd9vcd/0WJbeEFB7qeUKA=</td>\n",
       "      <td>7f73q332BKPBXaixasa4EkUb+pF6VAsLxNIg4506JJs=</td>\n",
       "      <td>scsWmkZsfmdmD2IzB24sQ1Au1BOXYgQEx9zO3+4glq8=</td>\n",
       "      <td>0kg46I/6iMMbn3w0M3CGBQ0jcjNGl+29E3S2vihaIo0=</td>\n",
       "      <td>0</td>\n",
       "    </tr>\n",
       "    <tr>\n",
       "      <th>2</th>\n",
       "      <td>2018-08-01 07:45:00+00:00</td>\n",
       "      <td>U+lqK/FKWkPuoNUM1AbGyrKZfXeQrRRoKOToKrjqDt4=</td>\n",
       "      <td>CPI+5YCeEmhqdk6znJeii6jJUNl1QWGEvwCUJ6uLflg=</td>\n",
       "      <td>2</td>\n",
       "      <td>1</td>\n",
       "      <td>True</td>\n",
       "      <td>8</td>\n",
       "      <td>1</td>\n",
       "      <td>0</td>\n",
       "      <td>False</td>\n",
       "      <td>...</td>\n",
       "      <td>【基礎】一對一對應數數</td>\n",
       "      <td>Exercise</td>\n",
       "      <td>easy</td>\n",
       "      <td>math</td>\n",
       "      <td>elementary</td>\n",
       "      <td>aH0Dz0KdH9gio7rrcGRHvrmd9vcd/0WJbeEFB7qeUKA=</td>\n",
       "      <td>7f73q332BKPBXaixasa4EkUb+pF6VAsLxNIg4506JJs=</td>\n",
       "      <td>scsWmkZsfmdmD2IzB24sQ1Au1BOXYgQEx9zO3+4glq8=</td>\n",
       "      <td>0kg46I/6iMMbn3w0M3CGBQ0jcjNGl+29E3S2vihaIo0=</td>\n",
       "      <td>0</td>\n",
       "    </tr>\n",
       "    <tr>\n",
       "      <th>3</th>\n",
       "      <td>2018-08-01 07:45:00+00:00</td>\n",
       "      <td>U+lqK/FKWkPuoNUM1AbGyrKZfXeQrRRoKOToKrjqDt4=</td>\n",
       "      <td>hv7kHCAIdj7thZUmlqz553leG5bFNYgzXmLfB5m4Xvw=</td>\n",
       "      <td>2</td>\n",
       "      <td>1</td>\n",
       "      <td>True</td>\n",
       "      <td>6</td>\n",
       "      <td>1</td>\n",
       "      <td>0</td>\n",
       "      <td>False</td>\n",
       "      <td>...</td>\n",
       "      <td>【基礎】第幾個</td>\n",
       "      <td>Exercise</td>\n",
       "      <td>easy</td>\n",
       "      <td>math</td>\n",
       "      <td>elementary</td>\n",
       "      <td>aH0Dz0KdH9gio7rrcGRHvrmd9vcd/0WJbeEFB7qeUKA=</td>\n",
       "      <td>7f73q332BKPBXaixasa4EkUb+pF6VAsLxNIg4506JJs=</td>\n",
       "      <td>scsWmkZsfmdmD2IzB24sQ1Au1BOXYgQEx9zO3+4glq8=</td>\n",
       "      <td>0kg46I/6iMMbn3w0M3CGBQ0jcjNGl+29E3S2vihaIo0=</td>\n",
       "      <td>0</td>\n",
       "    </tr>\n",
       "    <tr>\n",
       "      <th>4</th>\n",
       "      <td>2018-08-01 07:45:00+00:00</td>\n",
       "      <td>U+lqK/FKWkPuoNUM1AbGyrKZfXeQrRRoKOToKrjqDt4=</td>\n",
       "      <td>hv7kHCAIdj7thZUmlqz553leG5bFNYgzXmLfB5m4Xvw=</td>\n",
       "      <td>3</td>\n",
       "      <td>1</td>\n",
       "      <td>True</td>\n",
       "      <td>7</td>\n",
       "      <td>1</td>\n",
       "      <td>0</td>\n",
       "      <td>False</td>\n",
       "      <td>...</td>\n",
       "      <td>【基礎】第幾個</td>\n",
       "      <td>Exercise</td>\n",
       "      <td>easy</td>\n",
       "      <td>math</td>\n",
       "      <td>elementary</td>\n",
       "      <td>aH0Dz0KdH9gio7rrcGRHvrmd9vcd/0WJbeEFB7qeUKA=</td>\n",
       "      <td>7f73q332BKPBXaixasa4EkUb+pF6VAsLxNIg4506JJs=</td>\n",
       "      <td>scsWmkZsfmdmD2IzB24sQ1Au1BOXYgQEx9zO3+4glq8=</td>\n",
       "      <td>0kg46I/6iMMbn3w0M3CGBQ0jcjNGl+29E3S2vihaIo0=</td>\n",
       "      <td>0</td>\n",
       "    </tr>\n",
       "  </tbody>\n",
       "</table>\n",
       "<p>5 rows × 35 columns</p>\n",
       "</div>"
      ],
      "text/plain": [
       "           datetime_attempt                                          uuid  \\\n",
       "0 2018-08-01 07:45:00+00:00  U+lqK/FKWkPuoNUM1AbGyrKZfXeQrRRoKOToKrjqDt4=   \n",
       "1 2018-08-01 07:45:00+00:00  U+lqK/FKWkPuoNUM1AbGyrKZfXeQrRRoKOToKrjqDt4=   \n",
       "2 2018-08-01 07:45:00+00:00  U+lqK/FKWkPuoNUM1AbGyrKZfXeQrRRoKOToKrjqDt4=   \n",
       "3 2018-08-01 07:45:00+00:00  U+lqK/FKWkPuoNUM1AbGyrKZfXeQrRRoKOToKrjqDt4=   \n",
       "4 2018-08-01 07:45:00+00:00  U+lqK/FKWkPuoNUM1AbGyrKZfXeQrRRoKOToKrjqDt4=   \n",
       "\n",
       "                                           ucid  problem_number  \\\n",
       "0  hv7kHCAIdj7thZUmlqz553leG5bFNYgzXmLfB5m4Xvw=               1   \n",
       "1  CPI+5YCeEmhqdk6znJeii6jJUNl1QWGEvwCUJ6uLflg=               1   \n",
       "2  CPI+5YCeEmhqdk6znJeii6jJUNl1QWGEvwCUJ6uLflg=               2   \n",
       "3  hv7kHCAIdj7thZUmlqz553leG5bFNYgzXmLfB5m4Xvw=               2   \n",
       "4  hv7kHCAIdj7thZUmlqz553leG5bFNYgzXmLfB5m4Xvw=               3   \n",
       "\n",
       "   exercise_problem_repeat_session  is_correct  total_sec_taken  \\\n",
       "0                                1        True               10   \n",
       "1                                1        True               10   \n",
       "2                                1        True                8   \n",
       "3                                1        True                6   \n",
       "4                                1        True                7   \n",
       "\n",
       "   total_attempt_cnt  used_hint_cnt  is_hint_used  ... content_pretty_name  \\\n",
       "0                  1              0         False  ...             【基礎】第幾個   \n",
       "1                  1              0         False  ...         【基礎】一對一對應數數   \n",
       "2                  1              0         False  ...         【基礎】一對一對應數數   \n",
       "3                  1              0         False  ...             【基礎】第幾個   \n",
       "4                  1              0         False  ...             【基礎】第幾個   \n",
       "\n",
       "  content_kind  difficulty subject learning_stage  \\\n",
       "0     Exercise        easy    math     elementary   \n",
       "1     Exercise        easy    math     elementary   \n",
       "2     Exercise        easy    math     elementary   \n",
       "3     Exercise        easy    math     elementary   \n",
       "4     Exercise        easy    math     elementary   \n",
       "\n",
       "                                      level1_id  \\\n",
       "0  aH0Dz0KdH9gio7rrcGRHvrmd9vcd/0WJbeEFB7qeUKA=   \n",
       "1  aH0Dz0KdH9gio7rrcGRHvrmd9vcd/0WJbeEFB7qeUKA=   \n",
       "2  aH0Dz0KdH9gio7rrcGRHvrmd9vcd/0WJbeEFB7qeUKA=   \n",
       "3  aH0Dz0KdH9gio7rrcGRHvrmd9vcd/0WJbeEFB7qeUKA=   \n",
       "4  aH0Dz0KdH9gio7rrcGRHvrmd9vcd/0WJbeEFB7qeUKA=   \n",
       "\n",
       "                                      level2_id  \\\n",
       "0  7f73q332BKPBXaixasa4EkUb+pF6VAsLxNIg4506JJs=   \n",
       "1  7f73q332BKPBXaixasa4EkUb+pF6VAsLxNIg4506JJs=   \n",
       "2  7f73q332BKPBXaixasa4EkUb+pF6VAsLxNIg4506JJs=   \n",
       "3  7f73q332BKPBXaixasa4EkUb+pF6VAsLxNIg4506JJs=   \n",
       "4  7f73q332BKPBXaixasa4EkUb+pF6VAsLxNIg4506JJs=   \n",
       "\n",
       "                                      level3_id  \\\n",
       "0  scsWmkZsfmdmD2IzB24sQ1Au1BOXYgQEx9zO3+4glq8=   \n",
       "1  scsWmkZsfmdmD2IzB24sQ1Au1BOXYgQEx9zO3+4glq8=   \n",
       "2  scsWmkZsfmdmD2IzB24sQ1Au1BOXYgQEx9zO3+4glq8=   \n",
       "3  scsWmkZsfmdmD2IzB24sQ1Au1BOXYgQEx9zO3+4glq8=   \n",
       "4  scsWmkZsfmdmD2IzB24sQ1Au1BOXYgQEx9zO3+4glq8=   \n",
       "\n",
       "                                      level4_id date_count  \n",
       "0  0kg46I/6iMMbn3w0M3CGBQ0jcjNGl+29E3S2vihaIo0=          0  \n",
       "1  0kg46I/6iMMbn3w0M3CGBQ0jcjNGl+29E3S2vihaIo0=          0  \n",
       "2  0kg46I/6iMMbn3w0M3CGBQ0jcjNGl+29E3S2vihaIo0=          0  \n",
       "3  0kg46I/6iMMbn3w0M3CGBQ0jcjNGl+29E3S2vihaIo0=          0  \n",
       "4  0kg46I/6iMMbn3w0M3CGBQ0jcjNGl+29E3S2vihaIo0=          0  \n",
       "\n",
       "[5 rows x 35 columns]"
      ]
     },
     "execution_count": 73,
     "metadata": {},
     "output_type": "execute_result"
    }
   ],
   "source": [
    "merge_df.head()"
   ]
  },
  {
   "cell_type": "code",
   "execution_count": 74,
   "metadata": {},
   "outputs": [
    {
     "data": {
      "text/html": [
       "<div>\n",
       "<style scoped>\n",
       "    .dataframe tbody tr th:only-of-type {\n",
       "        vertical-align: middle;\n",
       "    }\n",
       "\n",
       "    .dataframe tbody tr th {\n",
       "        vertical-align: top;\n",
       "    }\n",
       "\n",
       "    .dataframe thead th {\n",
       "        text-align: right;\n",
       "    }\n",
       "</style>\n",
       "<table border=\"1\" class=\"dataframe\">\n",
       "  <thead>\n",
       "    <tr style=\"text-align: right;\">\n",
       "      <th></th>\n",
       "      <th>datetime_attempt</th>\n",
       "      <th>uuid</th>\n",
       "      <th>ucid</th>\n",
       "      <th>problem_number</th>\n",
       "      <th>exercise_problem_repeat_session</th>\n",
       "      <th>is_correct</th>\n",
       "      <th>total_sec_taken</th>\n",
       "      <th>total_attempt_cnt</th>\n",
       "      <th>used_hint_cnt</th>\n",
       "      <th>is_hint_used</th>\n",
       "      <th>...</th>\n",
       "      <th>content_pretty_name</th>\n",
       "      <th>content_kind</th>\n",
       "      <th>difficulty</th>\n",
       "      <th>subject</th>\n",
       "      <th>learning_stage</th>\n",
       "      <th>level1_id</th>\n",
       "      <th>level2_id</th>\n",
       "      <th>level3_id</th>\n",
       "      <th>level4_id</th>\n",
       "      <th>date_count</th>\n",
       "    </tr>\n",
       "  </thead>\n",
       "  <tbody>\n",
       "    <tr>\n",
       "      <th>2072</th>\n",
       "      <td>2018-08-01 14:15:00+00:00</td>\n",
       "      <td>Em/Je6mkvAdTAkghecuUxYRpRU+O9dra2nx+cv3SbMU=</td>\n",
       "      <td>vlp5gR/PnY3FuaIANmLDZjLT7VR+mhj/8Skk+dfLf0I=</td>\n",
       "      <td>6</td>\n",
       "      <td>1</td>\n",
       "      <td>True</td>\n",
       "      <td>39</td>\n",
       "      <td>1</td>\n",
       "      <td>0</td>\n",
       "      <td>False</td>\n",
       "      <td>...</td>\n",
       "      <td>【基礎】利用短除法求最大公因數</td>\n",
       "      <td>Exercise</td>\n",
       "      <td>easy</td>\n",
       "      <td>math</td>\n",
       "      <td>junior</td>\n",
       "      <td>aH0Dz0KdH9gio7rrcGRHvrmd9vcd/0WJbeEFB7qeUKA=</td>\n",
       "      <td>xYDz4OEv0xsri1IpmXlrgMLJ848rgySf+39xWpq4DBI=</td>\n",
       "      <td>CFq991L5i+mxDSbH+06jz+rWPf+FmW8hT4uxQjzwxpM=</td>\n",
       "      <td>SXt9vglhPBHTCUjT1OpmPaWRGTHHsVv/LbXBC3da7Jo=</td>\n",
       "      <td>-75</td>\n",
       "    </tr>\n",
       "    <tr>\n",
       "      <th>2075</th>\n",
       "      <td>2018-08-01 14:15:00+00:00</td>\n",
       "      <td>Em/Je6mkvAdTAkghecuUxYRpRU+O9dra2nx+cv3SbMU=</td>\n",
       "      <td>jyw4UBYsVqQ8IeYXUywTKN8TEZjJgYNuhb6JBTBoidg=</td>\n",
       "      <td>7</td>\n",
       "      <td>1</td>\n",
       "      <td>True</td>\n",
       "      <td>48</td>\n",
       "      <td>1</td>\n",
       "      <td>0</td>\n",
       "      <td>False</td>\n",
       "      <td>...</td>\n",
       "      <td>【基礎】公因數與最大公因數</td>\n",
       "      <td>Exercise</td>\n",
       "      <td>easy</td>\n",
       "      <td>math</td>\n",
       "      <td>junior</td>\n",
       "      <td>aH0Dz0KdH9gio7rrcGRHvrmd9vcd/0WJbeEFB7qeUKA=</td>\n",
       "      <td>xYDz4OEv0xsri1IpmXlrgMLJ848rgySf+39xWpq4DBI=</td>\n",
       "      <td>CFq991L5i+mxDSbH+06jz+rWPf+FmW8hT4uxQjzwxpM=</td>\n",
       "      <td>SXt9vglhPBHTCUjT1OpmPaWRGTHHsVv/LbXBC3da7Jo=</td>\n",
       "      <td>-75</td>\n",
       "    </tr>\n",
       "    <tr>\n",
       "      <th>2077</th>\n",
       "      <td>2018-08-01 14:15:00+00:00</td>\n",
       "      <td>Em/Je6mkvAdTAkghecuUxYRpRU+O9dra2nx+cv3SbMU=</td>\n",
       "      <td>vlp5gR/PnY3FuaIANmLDZjLT7VR+mhj/8Skk+dfLf0I=</td>\n",
       "      <td>7</td>\n",
       "      <td>1</td>\n",
       "      <td>True</td>\n",
       "      <td>27</td>\n",
       "      <td>1</td>\n",
       "      <td>0</td>\n",
       "      <td>False</td>\n",
       "      <td>...</td>\n",
       "      <td>【基礎】利用短除法求最大公因數</td>\n",
       "      <td>Exercise</td>\n",
       "      <td>easy</td>\n",
       "      <td>math</td>\n",
       "      <td>junior</td>\n",
       "      <td>aH0Dz0KdH9gio7rrcGRHvrmd9vcd/0WJbeEFB7qeUKA=</td>\n",
       "      <td>xYDz4OEv0xsri1IpmXlrgMLJ848rgySf+39xWpq4DBI=</td>\n",
       "      <td>CFq991L5i+mxDSbH+06jz+rWPf+FmW8hT4uxQjzwxpM=</td>\n",
       "      <td>SXt9vglhPBHTCUjT1OpmPaWRGTHHsVv/LbXBC3da7Jo=</td>\n",
       "      <td>-75</td>\n",
       "    </tr>\n",
       "    <tr>\n",
       "      <th>2080</th>\n",
       "      <td>2018-08-01 14:15:00+00:00</td>\n",
       "      <td>Em/Je6mkvAdTAkghecuUxYRpRU+O9dra2nx+cv3SbMU=</td>\n",
       "      <td>jyw4UBYsVqQ8IeYXUywTKN8TEZjJgYNuhb6JBTBoidg=</td>\n",
       "      <td>8</td>\n",
       "      <td>1</td>\n",
       "      <td>True</td>\n",
       "      <td>15</td>\n",
       "      <td>1</td>\n",
       "      <td>0</td>\n",
       "      <td>False</td>\n",
       "      <td>...</td>\n",
       "      <td>【基礎】公因數與最大公因數</td>\n",
       "      <td>Exercise</td>\n",
       "      <td>easy</td>\n",
       "      <td>math</td>\n",
       "      <td>junior</td>\n",
       "      <td>aH0Dz0KdH9gio7rrcGRHvrmd9vcd/0WJbeEFB7qeUKA=</td>\n",
       "      <td>xYDz4OEv0xsri1IpmXlrgMLJ848rgySf+39xWpq4DBI=</td>\n",
       "      <td>CFq991L5i+mxDSbH+06jz+rWPf+FmW8hT4uxQjzwxpM=</td>\n",
       "      <td>SXt9vglhPBHTCUjT1OpmPaWRGTHHsVv/LbXBC3da7Jo=</td>\n",
       "      <td>-75</td>\n",
       "    </tr>\n",
       "    <tr>\n",
       "      <th>2084</th>\n",
       "      <td>2018-08-01 14:15:00+00:00</td>\n",
       "      <td>Em/Je6mkvAdTAkghecuUxYRpRU+O9dra2nx+cv3SbMU=</td>\n",
       "      <td>+kCFtC8nCf9I2/ee1BGgQRlVBoECQV9G/8z4fL7hzp4=</td>\n",
       "      <td>9</td>\n",
       "      <td>1</td>\n",
       "      <td>True</td>\n",
       "      <td>30</td>\n",
       "      <td>1</td>\n",
       "      <td>0</td>\n",
       "      <td>False</td>\n",
       "      <td>...</td>\n",
       "      <td>【基礎】互質</td>\n",
       "      <td>Exercise</td>\n",
       "      <td>easy</td>\n",
       "      <td>math</td>\n",
       "      <td>junior</td>\n",
       "      <td>aH0Dz0KdH9gio7rrcGRHvrmd9vcd/0WJbeEFB7qeUKA=</td>\n",
       "      <td>xYDz4OEv0xsri1IpmXlrgMLJ848rgySf+39xWpq4DBI=</td>\n",
       "      <td>CFq991L5i+mxDSbH+06jz+rWPf+FmW8hT4uxQjzwxpM=</td>\n",
       "      <td>SXt9vglhPBHTCUjT1OpmPaWRGTHHsVv/LbXBC3da7Jo=</td>\n",
       "      <td>-75</td>\n",
       "    </tr>\n",
       "    <tr>\n",
       "      <th>...</th>\n",
       "      <td>...</td>\n",
       "      <td>...</td>\n",
       "      <td>...</td>\n",
       "      <td>...</td>\n",
       "      <td>...</td>\n",
       "      <td>...</td>\n",
       "      <td>...</td>\n",
       "      <td>...</td>\n",
       "      <td>...</td>\n",
       "      <td>...</td>\n",
       "      <td>...</td>\n",
       "      <td>...</td>\n",
       "      <td>...</td>\n",
       "      <td>...</td>\n",
       "      <td>...</td>\n",
       "      <td>...</td>\n",
       "      <td>...</td>\n",
       "      <td>...</td>\n",
       "      <td>...</td>\n",
       "      <td>...</td>\n",
       "      <td>...</td>\n",
       "    </tr>\n",
       "    <tr>\n",
       "      <th>4259453</th>\n",
       "      <td>2018-11-30 19:30:00+00:00</td>\n",
       "      <td>NoII8M5EnOEx9zlR1wezbhbYQ/J56GbLchJgG6UJfrw=</td>\n",
       "      <td>tKPJ+aL8jZdRX7rLqbXvQRirJzPopGK2mxUlBEHW1aA=</td>\n",
       "      <td>32</td>\n",
       "      <td>3</td>\n",
       "      <td>True</td>\n",
       "      <td>20</td>\n",
       "      <td>1</td>\n",
       "      <td>0</td>\n",
       "      <td>False</td>\n",
       "      <td>...</td>\n",
       "      <td>【基礎】乘除計算規律</td>\n",
       "      <td>Exercise</td>\n",
       "      <td>easy</td>\n",
       "      <td>math</td>\n",
       "      <td>elementary</td>\n",
       "      <td>aH0Dz0KdH9gio7rrcGRHvrmd9vcd/0WJbeEFB7qeUKA=</td>\n",
       "      <td>ICgke8JJv5eapCPwyj1aco8PEtoBkUbTZYIqxmYtqBk=</td>\n",
       "      <td>4cISKCt3nXWe4r6Q8bzjOiL2EYYsZyT6Z0mNNJckqEc=</td>\n",
       "      <td>eqskaPeZ8bx/VzW4CFmsbbGikwBIf+4u4o78kmZkn+g=</td>\n",
       "      <td>-60</td>\n",
       "    </tr>\n",
       "    <tr>\n",
       "      <th>4259456</th>\n",
       "      <td>2018-11-30 19:30:00+00:00</td>\n",
       "      <td>NoII8M5EnOEx9zlR1wezbhbYQ/J56GbLchJgG6UJfrw=</td>\n",
       "      <td>tKPJ+aL8jZdRX7rLqbXvQRirJzPopGK2mxUlBEHW1aA=</td>\n",
       "      <td>33</td>\n",
       "      <td>2</td>\n",
       "      <td>False</td>\n",
       "      <td>34</td>\n",
       "      <td>4</td>\n",
       "      <td>2</td>\n",
       "      <td>True</td>\n",
       "      <td>...</td>\n",
       "      <td>【基礎】乘除計算規律</td>\n",
       "      <td>Exercise</td>\n",
       "      <td>easy</td>\n",
       "      <td>math</td>\n",
       "      <td>elementary</td>\n",
       "      <td>aH0Dz0KdH9gio7rrcGRHvrmd9vcd/0WJbeEFB7qeUKA=</td>\n",
       "      <td>ICgke8JJv5eapCPwyj1aco8PEtoBkUbTZYIqxmYtqBk=</td>\n",
       "      <td>4cISKCt3nXWe4r6Q8bzjOiL2EYYsZyT6Z0mNNJckqEc=</td>\n",
       "      <td>eqskaPeZ8bx/VzW4CFmsbbGikwBIf+4u4o78kmZkn+g=</td>\n",
       "      <td>-60</td>\n",
       "    </tr>\n",
       "    <tr>\n",
       "      <th>4259457</th>\n",
       "      <td>2018-11-30 19:30:00+00:00</td>\n",
       "      <td>NoII8M5EnOEx9zlR1wezbhbYQ/J56GbLchJgG6UJfrw=</td>\n",
       "      <td>tKPJ+aL8jZdRX7rLqbXvQRirJzPopGK2mxUlBEHW1aA=</td>\n",
       "      <td>34</td>\n",
       "      <td>2</td>\n",
       "      <td>True</td>\n",
       "      <td>6</td>\n",
       "      <td>1</td>\n",
       "      <td>0</td>\n",
       "      <td>False</td>\n",
       "      <td>...</td>\n",
       "      <td>【基礎】乘除計算規律</td>\n",
       "      <td>Exercise</td>\n",
       "      <td>easy</td>\n",
       "      <td>math</td>\n",
       "      <td>elementary</td>\n",
       "      <td>aH0Dz0KdH9gio7rrcGRHvrmd9vcd/0WJbeEFB7qeUKA=</td>\n",
       "      <td>ICgke8JJv5eapCPwyj1aco8PEtoBkUbTZYIqxmYtqBk=</td>\n",
       "      <td>4cISKCt3nXWe4r6Q8bzjOiL2EYYsZyT6Z0mNNJckqEc=</td>\n",
       "      <td>eqskaPeZ8bx/VzW4CFmsbbGikwBIf+4u4o78kmZkn+g=</td>\n",
       "      <td>-60</td>\n",
       "    </tr>\n",
       "    <tr>\n",
       "      <th>4259460</th>\n",
       "      <td>2018-11-30 19:30:00+00:00</td>\n",
       "      <td>NoII8M5EnOEx9zlR1wezbhbYQ/J56GbLchJgG6UJfrw=</td>\n",
       "      <td>tKPJ+aL8jZdRX7rLqbXvQRirJzPopGK2mxUlBEHW1aA=</td>\n",
       "      <td>35</td>\n",
       "      <td>3</td>\n",
       "      <td>True</td>\n",
       "      <td>19</td>\n",
       "      <td>1</td>\n",
       "      <td>0</td>\n",
       "      <td>False</td>\n",
       "      <td>...</td>\n",
       "      <td>【基礎】乘除計算規律</td>\n",
       "      <td>Exercise</td>\n",
       "      <td>easy</td>\n",
       "      <td>math</td>\n",
       "      <td>elementary</td>\n",
       "      <td>aH0Dz0KdH9gio7rrcGRHvrmd9vcd/0WJbeEFB7qeUKA=</td>\n",
       "      <td>ICgke8JJv5eapCPwyj1aco8PEtoBkUbTZYIqxmYtqBk=</td>\n",
       "      <td>4cISKCt3nXWe4r6Q8bzjOiL2EYYsZyT6Z0mNNJckqEc=</td>\n",
       "      <td>eqskaPeZ8bx/VzW4CFmsbbGikwBIf+4u4o78kmZkn+g=</td>\n",
       "      <td>-60</td>\n",
       "    </tr>\n",
       "    <tr>\n",
       "      <th>4262627</th>\n",
       "      <td>2018-11-30 20:30:00+00:00</td>\n",
       "      <td>zDnbUyyEPE3OHP0UqJMHD48jRBtNPh4RN2DIDrHXXXQ=</td>\n",
       "      <td>nfZPn3ykTjw2O2jNya5/2VUvwyQ9m/3VqGzZ0Fg3t7I=</td>\n",
       "      <td>2</td>\n",
       "      <td>1</td>\n",
       "      <td>False</td>\n",
       "      <td>14</td>\n",
       "      <td>1</td>\n",
       "      <td>2</td>\n",
       "      <td>True</td>\n",
       "      <td>...</td>\n",
       "      <td>【基礎】多位數的乘除綜合習題</td>\n",
       "      <td>Exercise</td>\n",
       "      <td>easy</td>\n",
       "      <td>math</td>\n",
       "      <td>elementary</td>\n",
       "      <td>aH0Dz0KdH9gio7rrcGRHvrmd9vcd/0WJbeEFB7qeUKA=</td>\n",
       "      <td>7f73q332BKPBXaixasa4EkUb+pF6VAsLxNIg4506JJs=</td>\n",
       "      <td>scsWmkZsfmdmD2IzB24sQ1Au1BOXYgQEx9zO3+4glq8=</td>\n",
       "      <td>orRpyO95F3mwPptd/5xtIk8d/dS50L0WucfG7OYzxYw=</td>\n",
       "      <td>-41</td>\n",
       "    </tr>\n",
       "  </tbody>\n",
       "</table>\n",
       "<p>17387 rows × 35 columns</p>\n",
       "</div>"
      ],
      "text/plain": [
       "                 datetime_attempt  \\\n",
       "2072    2018-08-01 14:15:00+00:00   \n",
       "2075    2018-08-01 14:15:00+00:00   \n",
       "2077    2018-08-01 14:15:00+00:00   \n",
       "2080    2018-08-01 14:15:00+00:00   \n",
       "2084    2018-08-01 14:15:00+00:00   \n",
       "...                           ...   \n",
       "4259453 2018-11-30 19:30:00+00:00   \n",
       "4259456 2018-11-30 19:30:00+00:00   \n",
       "4259457 2018-11-30 19:30:00+00:00   \n",
       "4259460 2018-11-30 19:30:00+00:00   \n",
       "4262627 2018-11-30 20:30:00+00:00   \n",
       "\n",
       "                                                 uuid  \\\n",
       "2072     Em/Je6mkvAdTAkghecuUxYRpRU+O9dra2nx+cv3SbMU=   \n",
       "2075     Em/Je6mkvAdTAkghecuUxYRpRU+O9dra2nx+cv3SbMU=   \n",
       "2077     Em/Je6mkvAdTAkghecuUxYRpRU+O9dra2nx+cv3SbMU=   \n",
       "2080     Em/Je6mkvAdTAkghecuUxYRpRU+O9dra2nx+cv3SbMU=   \n",
       "2084     Em/Je6mkvAdTAkghecuUxYRpRU+O9dra2nx+cv3SbMU=   \n",
       "...                                               ...   \n",
       "4259453  NoII8M5EnOEx9zlR1wezbhbYQ/J56GbLchJgG6UJfrw=   \n",
       "4259456  NoII8M5EnOEx9zlR1wezbhbYQ/J56GbLchJgG6UJfrw=   \n",
       "4259457  NoII8M5EnOEx9zlR1wezbhbYQ/J56GbLchJgG6UJfrw=   \n",
       "4259460  NoII8M5EnOEx9zlR1wezbhbYQ/J56GbLchJgG6UJfrw=   \n",
       "4262627  zDnbUyyEPE3OHP0UqJMHD48jRBtNPh4RN2DIDrHXXXQ=   \n",
       "\n",
       "                                                 ucid  problem_number  \\\n",
       "2072     vlp5gR/PnY3FuaIANmLDZjLT7VR+mhj/8Skk+dfLf0I=               6   \n",
       "2075     jyw4UBYsVqQ8IeYXUywTKN8TEZjJgYNuhb6JBTBoidg=               7   \n",
       "2077     vlp5gR/PnY3FuaIANmLDZjLT7VR+mhj/8Skk+dfLf0I=               7   \n",
       "2080     jyw4UBYsVqQ8IeYXUywTKN8TEZjJgYNuhb6JBTBoidg=               8   \n",
       "2084     +kCFtC8nCf9I2/ee1BGgQRlVBoECQV9G/8z4fL7hzp4=               9   \n",
       "...                                               ...             ...   \n",
       "4259453  tKPJ+aL8jZdRX7rLqbXvQRirJzPopGK2mxUlBEHW1aA=              32   \n",
       "4259456  tKPJ+aL8jZdRX7rLqbXvQRirJzPopGK2mxUlBEHW1aA=              33   \n",
       "4259457  tKPJ+aL8jZdRX7rLqbXvQRirJzPopGK2mxUlBEHW1aA=              34   \n",
       "4259460  tKPJ+aL8jZdRX7rLqbXvQRirJzPopGK2mxUlBEHW1aA=              35   \n",
       "4262627  nfZPn3ykTjw2O2jNya5/2VUvwyQ9m/3VqGzZ0Fg3t7I=               2   \n",
       "\n",
       "         exercise_problem_repeat_session  is_correct  total_sec_taken  \\\n",
       "2072                                   1        True               39   \n",
       "2075                                   1        True               48   \n",
       "2077                                   1        True               27   \n",
       "2080                                   1        True               15   \n",
       "2084                                   1        True               30   \n",
       "...                                  ...         ...              ...   \n",
       "4259453                                3        True               20   \n",
       "4259456                                2       False               34   \n",
       "4259457                                2        True                6   \n",
       "4259460                                3        True               19   \n",
       "4262627                                1       False               14   \n",
       "\n",
       "         total_attempt_cnt  used_hint_cnt  is_hint_used  ...  \\\n",
       "2072                     1              0         False  ...   \n",
       "2075                     1              0         False  ...   \n",
       "2077                     1              0         False  ...   \n",
       "2080                     1              0         False  ...   \n",
       "2084                     1              0         False  ...   \n",
       "...                    ...            ...           ...  ...   \n",
       "4259453                  1              0         False  ...   \n",
       "4259456                  4              2          True  ...   \n",
       "4259457                  1              0         False  ...   \n",
       "4259460                  1              0         False  ...   \n",
       "4262627                  1              2          True  ...   \n",
       "\n",
       "        content_pretty_name content_kind  difficulty subject learning_stage  \\\n",
       "2072        【基礎】利用短除法求最大公因數     Exercise        easy    math         junior   \n",
       "2075          【基礎】公因數與最大公因數     Exercise        easy    math         junior   \n",
       "2077        【基礎】利用短除法求最大公因數     Exercise        easy    math         junior   \n",
       "2080          【基礎】公因數與最大公因數     Exercise        easy    math         junior   \n",
       "2084                 【基礎】互質     Exercise        easy    math         junior   \n",
       "...                     ...          ...         ...     ...            ...   \n",
       "4259453          【基礎】乘除計算規律     Exercise        easy    math     elementary   \n",
       "4259456          【基礎】乘除計算規律     Exercise        easy    math     elementary   \n",
       "4259457          【基礎】乘除計算規律     Exercise        easy    math     elementary   \n",
       "4259460          【基礎】乘除計算規律     Exercise        easy    math     elementary   \n",
       "4262627      【基礎】多位數的乘除綜合習題     Exercise        easy    math     elementary   \n",
       "\n",
       "                                            level1_id  \\\n",
       "2072     aH0Dz0KdH9gio7rrcGRHvrmd9vcd/0WJbeEFB7qeUKA=   \n",
       "2075     aH0Dz0KdH9gio7rrcGRHvrmd9vcd/0WJbeEFB7qeUKA=   \n",
       "2077     aH0Dz0KdH9gio7rrcGRHvrmd9vcd/0WJbeEFB7qeUKA=   \n",
       "2080     aH0Dz0KdH9gio7rrcGRHvrmd9vcd/0WJbeEFB7qeUKA=   \n",
       "2084     aH0Dz0KdH9gio7rrcGRHvrmd9vcd/0WJbeEFB7qeUKA=   \n",
       "...                                               ...   \n",
       "4259453  aH0Dz0KdH9gio7rrcGRHvrmd9vcd/0WJbeEFB7qeUKA=   \n",
       "4259456  aH0Dz0KdH9gio7rrcGRHvrmd9vcd/0WJbeEFB7qeUKA=   \n",
       "4259457  aH0Dz0KdH9gio7rrcGRHvrmd9vcd/0WJbeEFB7qeUKA=   \n",
       "4259460  aH0Dz0KdH9gio7rrcGRHvrmd9vcd/0WJbeEFB7qeUKA=   \n",
       "4262627  aH0Dz0KdH9gio7rrcGRHvrmd9vcd/0WJbeEFB7qeUKA=   \n",
       "\n",
       "                                            level2_id  \\\n",
       "2072     xYDz4OEv0xsri1IpmXlrgMLJ848rgySf+39xWpq4DBI=   \n",
       "2075     xYDz4OEv0xsri1IpmXlrgMLJ848rgySf+39xWpq4DBI=   \n",
       "2077     xYDz4OEv0xsri1IpmXlrgMLJ848rgySf+39xWpq4DBI=   \n",
       "2080     xYDz4OEv0xsri1IpmXlrgMLJ848rgySf+39xWpq4DBI=   \n",
       "2084     xYDz4OEv0xsri1IpmXlrgMLJ848rgySf+39xWpq4DBI=   \n",
       "...                                               ...   \n",
       "4259453  ICgke8JJv5eapCPwyj1aco8PEtoBkUbTZYIqxmYtqBk=   \n",
       "4259456  ICgke8JJv5eapCPwyj1aco8PEtoBkUbTZYIqxmYtqBk=   \n",
       "4259457  ICgke8JJv5eapCPwyj1aco8PEtoBkUbTZYIqxmYtqBk=   \n",
       "4259460  ICgke8JJv5eapCPwyj1aco8PEtoBkUbTZYIqxmYtqBk=   \n",
       "4262627  7f73q332BKPBXaixasa4EkUb+pF6VAsLxNIg4506JJs=   \n",
       "\n",
       "                                            level3_id  \\\n",
       "2072     CFq991L5i+mxDSbH+06jz+rWPf+FmW8hT4uxQjzwxpM=   \n",
       "2075     CFq991L5i+mxDSbH+06jz+rWPf+FmW8hT4uxQjzwxpM=   \n",
       "2077     CFq991L5i+mxDSbH+06jz+rWPf+FmW8hT4uxQjzwxpM=   \n",
       "2080     CFq991L5i+mxDSbH+06jz+rWPf+FmW8hT4uxQjzwxpM=   \n",
       "2084     CFq991L5i+mxDSbH+06jz+rWPf+FmW8hT4uxQjzwxpM=   \n",
       "...                                               ...   \n",
       "4259453  4cISKCt3nXWe4r6Q8bzjOiL2EYYsZyT6Z0mNNJckqEc=   \n",
       "4259456  4cISKCt3nXWe4r6Q8bzjOiL2EYYsZyT6Z0mNNJckqEc=   \n",
       "4259457  4cISKCt3nXWe4r6Q8bzjOiL2EYYsZyT6Z0mNNJckqEc=   \n",
       "4259460  4cISKCt3nXWe4r6Q8bzjOiL2EYYsZyT6Z0mNNJckqEc=   \n",
       "4262627  scsWmkZsfmdmD2IzB24sQ1Au1BOXYgQEx9zO3+4glq8=   \n",
       "\n",
       "                                            level4_id date_count  \n",
       "2072     SXt9vglhPBHTCUjT1OpmPaWRGTHHsVv/LbXBC3da7Jo=        -75  \n",
       "2075     SXt9vglhPBHTCUjT1OpmPaWRGTHHsVv/LbXBC3da7Jo=        -75  \n",
       "2077     SXt9vglhPBHTCUjT1OpmPaWRGTHHsVv/LbXBC3da7Jo=        -75  \n",
       "2080     SXt9vglhPBHTCUjT1OpmPaWRGTHHsVv/LbXBC3da7Jo=        -75  \n",
       "2084     SXt9vglhPBHTCUjT1OpmPaWRGTHHsVv/LbXBC3da7Jo=        -75  \n",
       "...                                               ...        ...  \n",
       "4259453  eqskaPeZ8bx/VzW4CFmsbbGikwBIf+4u4o78kmZkn+g=        -60  \n",
       "4259456  eqskaPeZ8bx/VzW4CFmsbbGikwBIf+4u4o78kmZkn+g=        -60  \n",
       "4259457  eqskaPeZ8bx/VzW4CFmsbbGikwBIf+4u4o78kmZkn+g=        -60  \n",
       "4259460  eqskaPeZ8bx/VzW4CFmsbbGikwBIf+4u4o78kmZkn+g=        -60  \n",
       "4262627  orRpyO95F3mwPptd/5xtIk8d/dS50L0WucfG7OYzxYw=        -41  \n",
       "\n",
       "[17387 rows x 35 columns]"
      ]
     },
     "execution_count": 74,
     "metadata": {},
     "output_type": "execute_result"
    }
   ],
   "source": [
    "merge_df[merge_df.date_count < 0]"
   ]
  },
  {
   "cell_type": "markdown",
   "metadata": {},
   "source": [
    "### Select Day of Month"
   ]
  },
  {
   "cell_type": "code",
   "execution_count": 75,
   "metadata": {},
   "outputs": [
    {
     "data": {
      "text/plain": [
       "uuid\n",
       "wH1/Qs32k0Ti18bqWb1PxGfnveo4530CBZTZ/y7uW3k=    1\n",
       "uKFRoPy+AIJ+cYGFyz7Xx9IyLYbWXDWnsjibDxd5UoU=    1\n",
       "7bYGewVJB5Bs3b5LRfSdQtQ0HZIH2ehgLHoqRJo7qVo=    1\n",
       "q9jfYP8EOHcoHIMy2CUdZ9Ce6S5KOvXNl5UmJpRt1gs=    1\n",
       "XcgNk5O4+8zfK4wKJHhb7HXK7hySUZ1OyZdGDBCmtZA=    1\n",
       "Name: date_login, dtype: int64"
      ]
     },
     "execution_count": 75,
     "metadata": {},
     "output_type": "execute_result"
    }
   ],
   "source": [
    "# get the day of the month from the date_parsed column\n",
    "day_of_month_userdata = info_userdata_df['date_login'].dt.day\n",
    "day_of_month_userdata.head()"
   ]
  },
  {
   "cell_type": "code",
   "execution_count": 78,
   "metadata": {},
   "outputs": [
    {
     "data": {
      "text/plain": [
       "<matplotlib.axes._subplots.AxesSubplot at 0x28124efe108>"
      ]
     },
     "execution_count": 78,
     "metadata": {},
     "output_type": "execute_result"
    },
    {
     "data": {
      "image/png": "[encoded data removed]",
      "text/plain": [
       "<Figure size 432x288 with 1 Axes>"
      ]
     },
     "metadata": {
      "needs_background": "light"
     },
     "output_type": "display_data"
    }
   ],
   "source": [
    "# remove na's\n",
    "day_of_month_userdata = day_of_month_userdata.dropna()\n",
    "\n",
    "# plot the day of the month\n",
    "sns.distplot(day_of_month_userdata, kde=False, bins=31)"
   ]
  },
  {
   "cell_type": "code",
   "execution_count": 79,
   "metadata": {},
   "outputs": [
    {
     "data": {
      "text/plain": [
       "upid\n",
       "2Q787l3L0G7f5P0iSWUE4hCfJfYo9uHL4pWV1U45JoQ=    1\n",
       "/Wgjdl2BsldHZDdXXvzwGimusaMX548lqV2b7PgwXAs=    1\n",
       "9Ksy3bdm0HTi0D+cdKSBKDQJjo5GNahep91FqHUrpts=    1\n",
       "hYmhOfMMKaQNTrGze5TdATN0HNGJUEjDIYQaocuD4QY=    1\n",
       "VMScsPmyKXsk5k7+abPqyEbDFRSsCE2XZs5lMKHQHEM=    1\n",
       "Name: datetime_attempt, dtype: int64"
      ]
     },
     "execution_count": 79,
     "metadata": {},
     "output_type": "execute_result"
    }
   ],
   "source": [
    "# get the day of the month from the date_parsed column\n",
    "day_of_month_problem = log_problem_df['datetime_attempt'].dt.day\n",
    "day_of_month_problem.head()"
   ]
  },
  {
   "cell_type": "code",
   "execution_count": 80,
   "metadata": {},
   "outputs": [
    {
     "data": {
      "text/plain": [
       "<matplotlib.axes._subplots.AxesSubplot at 0x2811ece9bc8>"
      ]
     },
     "execution_count": 80,
     "metadata": {},
     "output_type": "execute_result"
    },
    {
     "data": {
      "image/png": "[encoded data removed]",
      "text/plain": [
       "<Figure size 432x288 with 1 Axes>"
      ]
     },
     "metadata": {
      "needs_background": "light"
     },
     "output_type": "display_data"
    }
   ],
   "source": [
    "# remove na's\n",
    "day_of_month_problem = day_of_month_problem.dropna()\n",
    "\n",
    "# plot the day of the month\n",
    "sns.distplot(day_of_month_problem, kde=False, bins=31)"
   ]
  },
  {
   "cell_type": "markdown",
   "metadata": {},
   "source": [
    "Yep, it looks like we did parse our dates correctly & this graph makes good sense to me."
   ]
  },
  {
   "cell_type": "code",
   "execution_count": 81,
   "metadata": {},
   "outputs": [],
   "source": [
    "info_content_df.to_csv('../data/interim/Info_Content.csv')\n",
    "info_userdata_df.to_csv('../data/interim/Info_UserData.csv')\n",
    "log_problem_df.to_csv('../data/interim/Log_Problem.csv')"
   ]
  },
  {
   "cell_type": "code",
   "execution_count": null,
   "metadata": {},
   "outputs": [],
   "source": []
  }
 ],
 "metadata": {
  "kernelspec": {
   "display_name": "Python 3",
   "language": "python",
   "name": "python3"
  },
  "language_info": {
   "codemirror_mode": {
    "name": "ipython",
    "version": 3
   },
   "file_extension": ".py",
   "mimetype": "text/x-python",
   "name": "python",
   "nbconvert_exporter": "python",
   "pygments_lexer": "ipython3",
   "version": "3.7.6"
  }
 },
 "nbformat": 4,
 "nbformat_minor": 4
}

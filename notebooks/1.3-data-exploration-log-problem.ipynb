{
 "cells": [
  {
   "cell_type": "markdown",
   "metadata": {},
   "source": [
    "# 1.1 - Data Exploration (Info Content)\n",
    "\n",
    "This notebook provides the in depth analysis on the student performance in exams at public schools.\n",
    "\n",
    "**Log_Problem.csv**\n",
    "\n",
    "An exercise is a basic unit for students to learn a certain concept.\n",
    "There are multiple problems in a single exercise that all relate to a certain concept.\n",
    "\n",
    "This table records the attempt logs when students try to answer each problem.\n",
    "\n",
    "The attempt timestamp is rounded to the closest 15-minute interval to reduce privacy concerns.\n",
    "The uuid and ucid can be used to join the other tables (InfoUserData, InfoContent)\n",
    "\n",
    "The problem_number refers to the number of problems the user had attempted including this attempt in this exercise.\n",
    "The exercise_problem_repeat_session refers to the number of times the user encounters this problem in this exercise.\n",
    "\n",
    "We define the answer to be correct when the user answered the correct answer the first time and does not use any hints.\n",
    "There are hints that the student can use that provides a step-by-step guide to get the correct answer.\n",
    "Each time a student uses a hint, a step of the step-by-step guide is shown.\n",
    "\n",
    "The Proficiency Mechanism\n",
    "According to the forgetting curve proposed by psychologist Hermann Ebbinghaus, by doing spaced repetition review in learning, we can improve the memory of the newly learned concepts and knowledge.\n",
    "\n",
    "To achieve this, Junyi Academy used the \"Proficiency Mechanism\" to encourage students to come back and review at regular intervals.\n",
    "The \"Proficiency Mechanism\" allows students to convert short-term memory into long-term memory through appropriate and repeated review.\n",
    "\n",
    "There are five possible levels, all users start from level 0 and progress to level 4 which we considered Proficient for that exercise.\n",
    "\n",
    "To reach level 1, the user will have to answer the problems correctly 5 times in the recent 6 problems attempts in the exercise.\n",
    "\n",
    "After reaching level 1, the user is required to wait 6 hours before he/she is able to attempt to level up again to level 2.\n",
    "\n",
    "After the waiting, the user will answer 2 problems from the exercise. For example, the user is at level 2 and get a chance to answer 2 problems:\n",
    "\n",
    "- If both are correct, the user is upgraded to level 3.\n",
    "- If both are incorrect, the user is downgraded to level 1.\n",
    "- If one of them is correct and one of them is incorrect, the level is unchanged and the user is prompted to try again the challenge.\n",
    "\n",
    "The procedure to upgrade or downgrade is the same for the other levels. But users will not be downgraded at level 1 or when the user reaches level 4 Proficient.\n",
    "\n",
    "After reaching level 2, the user is required to wait 16 hours before he/she is able to attempt to level up again to level 3.\n",
    "\n",
    "After reaching level 3, the user is required to wait 40 hours before he/she is able to attempt to level up again to level 4, which is the final level and considered Proficient for that exercise.\n",
    "\n",
    "| Variable Name | Description |\n",
    "|:-|:-|\n",
    "| timestamp_TW | The timestamp of the first behavior, answered the problem or used a hint. It is in UTC+8 timezone and rounded to the closest 15 mins interval to preserve privacy. |\n",
    "| uuid | The unique ID of the user. It can be used to join with Info_UserData. |\n",
    "| ucid | The unique ID of the content. It can be used to join with Info_Content. |\n",
    "| upid | The unique ID of the problem. |\n",
    "| problem_number | The number of problems this user had encountered, including this problem, in this exercise. |\n",
    "| exercise_problem_repeat_session | The number of times the user encounters this problem in this exercise |\n",
    "| is_correct | Whether the answer is considered correct or not. Only if the student answered the correct answer for the first time will it be `TRUE`. If the student used a hint or answered the wrong answer for the first time, it will be `FALSE`. |\n",
    "| total_sec_taken | How many seconds the user use for this problem encounter |\n",
    "| total_attempt_cnt | How many times have the user submitted an answer for this problem encounter |\n",
    "| used_hint_cnt | How many hints the user have used for this problem encounter |\n",
    "| is_hint_used | Whether the user use a hint or not. |\n",
    "| is_downgrade | After this attempt, is the user upgraded to the next level? Please refer to the detailed data description for the Proficiency Mechanism. |\n",
    "| is_upgrade | After this attempt, is the user downgraded to the next level? Please refer to the detailed data description for the Proficiency Mechanism. |\n",
    "| level | After this attempt, which level does this user belong to in this exercise? There are five possible levels. All users start from level 0 and declare Proficient at level 4. Please refer to the detailed data description for the Proficiency Mechanism. |"
   ]
  },
  {
   "cell_type": "markdown",
   "metadata": {},
   "source": [
    "## Importing Libraries"
   ]
  },
  {
   "cell_type": "code",
   "execution_count": 3,
   "metadata": {},
   "outputs": [],
   "source": [
    "import numpy as np # linear algebra\n",
    "import pandas as pd # data processing, CSV file I/O\n",
    "import matplotlib.pyplot as plt\n",
    "import seaborn as sns"
   ]
  },
  {
   "cell_type": "code",
   "execution_count": 4,
   "metadata": {},
   "outputs": [],
   "source": [
    "sns.set(style='whitegrid')\n",
    "sns.set_color_codes('pastel')"
   ]
  },
  {
   "cell_type": "markdown",
   "metadata": {},
   "source": [
    "## Loading Data"
   ]
  },
  {
   "cell_type": "code",
   "execution_count": 5,
   "metadata": {},
   "outputs": [
    {
     "name": "stdout",
     "output_type": "stream",
     "text": [
      "Wall time: 36.9 s\n"
     ]
    }
   ],
   "source": [
    "%%time\n",
    "log_problem_raw_df = pd.read_csv('../data/raw/Log_Problem.csv', index_col='upid')"
   ]
  },
  {
   "cell_type": "code",
   "execution_count": 6,
   "metadata": {},
   "outputs": [
    {
     "data": {
      "text/html": [
       "<div>\n",
       "<style scoped>\n",
       "    .dataframe tbody tr th:only-of-type {\n",
       "        vertical-align: middle;\n",
       "    }\n",
       "\n",
       "    .dataframe tbody tr th {\n",
       "        vertical-align: top;\n",
       "    }\n",
       "\n",
       "    .dataframe thead th {\n",
       "        text-align: right;\n",
       "    }\n",
       "</style>\n",
       "<table border=\"1\" class=\"dataframe\">\n",
       "  <thead>\n",
       "    <tr style=\"text-align: right;\">\n",
       "      <th></th>\n",
       "      <th>timestamp_TW</th>\n",
       "      <th>uuid</th>\n",
       "      <th>ucid</th>\n",
       "      <th>problem_number</th>\n",
       "      <th>exercise_problem_repeat_session</th>\n",
       "      <th>is_correct</th>\n",
       "      <th>total_sec_taken</th>\n",
       "      <th>total_attempt_cnt</th>\n",
       "      <th>used_hint_cnt</th>\n",
       "      <th>is_hint_used</th>\n",
       "      <th>is_downgrade</th>\n",
       "      <th>is_upgrade</th>\n",
       "      <th>level</th>\n",
       "    </tr>\n",
       "    <tr>\n",
       "      <th>upid</th>\n",
       "      <th></th>\n",
       "      <th></th>\n",
       "      <th></th>\n",
       "      <th></th>\n",
       "      <th></th>\n",
       "      <th></th>\n",
       "      <th></th>\n",
       "      <th></th>\n",
       "      <th></th>\n",
       "      <th></th>\n",
       "      <th></th>\n",
       "      <th></th>\n",
       "      <th></th>\n",
       "    </tr>\n",
       "  </thead>\n",
       "  <tbody>\n",
       "    <tr>\n",
       "      <th>Vbs92l4JmdiWkUEm/iahxnUTaac2oN1IlUtXB7JcfoE=</th>\n",
       "      <td>2019-05-26 21:00:00 UTC</td>\n",
       "      <td>FLy+lviglNR5Y1l0Xiijnl6QHySBcpKHJLCtQ6ogm2Q=</td>\n",
       "      <td>KDOmuTrY/IJzDP4kIgIYCBiGyTymsJ8Iy4cDB35WGYg=</td>\n",
       "      <td>18</td>\n",
       "      <td>2</td>\n",
       "      <td>True</td>\n",
       "      <td>33</td>\n",
       "      <td>1</td>\n",
       "      <td>0</td>\n",
       "      <td>False</td>\n",
       "      <td>False</td>\n",
       "      <td>True</td>\n",
       "      <td>3</td>\n",
       "    </tr>\n",
       "    <tr>\n",
       "      <th>Ek+pIeHNNoEo0tGEq91eBcBmGgy3+A5RWhpj95zTyHM=</th>\n",
       "      <td>2019-05-17 16:30:00 UTC</td>\n",
       "      <td>+Gqj2nalc6M9fusyVECTC0AN7UQdDQTXESIuElkDltU=</td>\n",
       "      <td>COZ39Wo+uIUO2s7c2VGEHjJf6Vx0xifxVAiaeHtaTdk=</td>\n",
       "      <td>4</td>\n",
       "      <td>1</td>\n",
       "      <td>True</td>\n",
       "      <td>8</td>\n",
       "      <td>1</td>\n",
       "      <td>0</td>\n",
       "      <td>False</td>\n",
       "      <td>NaN</td>\n",
       "      <td>NaN</td>\n",
       "      <td>0</td>\n",
       "    </tr>\n",
       "    <tr>\n",
       "      <th>1MBa2f5Qog4JBoAuUfJf0fxeJctdEirAqKgfsg246eI=</th>\n",
       "      <td>2019-05-15 19:15:00 UTC</td>\n",
       "      <td>6D5QN8j8ng/VR74ES3A0zqAj0bIFFyaKjKEj8ZyXjQ8=</td>\n",
       "      <td>TwyqyV1uJYlDAX8wX/PtTCVZEBo/APIVfTzzleGkNCQ=</td>\n",
       "      <td>9</td>\n",
       "      <td>1</td>\n",
       "      <td>True</td>\n",
       "      <td>17</td>\n",
       "      <td>1</td>\n",
       "      <td>0</td>\n",
       "      <td>False</td>\n",
       "      <td>NaN</td>\n",
       "      <td>NaN</td>\n",
       "      <td>0</td>\n",
       "    </tr>\n",
       "    <tr>\n",
       "      <th>kdMy2nG+QVMjPkuaMEWs0yV/sYZVoG1vm7zM0fCy+qk=</th>\n",
       "      <td>2019-05-05 14:45:00 UTC</td>\n",
       "      <td>GgTZuCqZXObthtK6GAwqvlHrTMm5pKHWeezQxL/pcKc=</td>\n",
       "      <td>tBo6ECyT8IlKAM8UhQHWkqv92PRLcSiwuerfC7vNX+w=</td>\n",
       "      <td>2</td>\n",
       "      <td>1</td>\n",
       "      <td>True</td>\n",
       "      <td>10</td>\n",
       "      <td>1</td>\n",
       "      <td>0</td>\n",
       "      <td>False</td>\n",
       "      <td>NaN</td>\n",
       "      <td>NaN</td>\n",
       "      <td>0</td>\n",
       "    </tr>\n",
       "    <tr>\n",
       "      <th>jjPR8fmkLSFoCQQYB4g6kI8mgdcK3sKtMirKUvfmZIk=</th>\n",
       "      <td>2019-05-14 16:45:00 UTC</td>\n",
       "      <td>JMNKWoU0CkMSzgQ8bCnmCYlD8jEzAVge3lHMYLXKM2g=</td>\n",
       "      <td>vVpSKAMQbTMvtdERR0ksOeRmmaFt0R210t4Z//0RpPA=</td>\n",
       "      <td>6</td>\n",
       "      <td>1</td>\n",
       "      <td>True</td>\n",
       "      <td>98</td>\n",
       "      <td>1</td>\n",
       "      <td>0</td>\n",
       "      <td>False</td>\n",
       "      <td>NaN</td>\n",
       "      <td>NaN</td>\n",
       "      <td>0</td>\n",
       "    </tr>\n",
       "  </tbody>\n",
       "</table>\n",
       "</div>"
      ],
      "text/plain": [
       "                                                         timestamp_TW  \\\n",
       "upid                                                                    \n",
       "Vbs92l4JmdiWkUEm/iahxnUTaac2oN1IlUtXB7JcfoE=  2019-05-26 21:00:00 UTC   \n",
       "Ek+pIeHNNoEo0tGEq91eBcBmGgy3+A5RWhpj95zTyHM=  2019-05-17 16:30:00 UTC   \n",
       "1MBa2f5Qog4JBoAuUfJf0fxeJctdEirAqKgfsg246eI=  2019-05-15 19:15:00 UTC   \n",
       "kdMy2nG+QVMjPkuaMEWs0yV/sYZVoG1vm7zM0fCy+qk=  2019-05-05 14:45:00 UTC   \n",
       "jjPR8fmkLSFoCQQYB4g6kI8mgdcK3sKtMirKUvfmZIk=  2019-05-14 16:45:00 UTC   \n",
       "\n",
       "                                                                                      uuid  \\\n",
       "upid                                                                                         \n",
       "Vbs92l4JmdiWkUEm/iahxnUTaac2oN1IlUtXB7JcfoE=  FLy+lviglNR5Y1l0Xiijnl6QHySBcpKHJLCtQ6ogm2Q=   \n",
       "Ek+pIeHNNoEo0tGEq91eBcBmGgy3+A5RWhpj95zTyHM=  +Gqj2nalc6M9fusyVECTC0AN7UQdDQTXESIuElkDltU=   \n",
       "1MBa2f5Qog4JBoAuUfJf0fxeJctdEirAqKgfsg246eI=  6D5QN8j8ng/VR74ES3A0zqAj0bIFFyaKjKEj8ZyXjQ8=   \n",
       "kdMy2nG+QVMjPkuaMEWs0yV/sYZVoG1vm7zM0fCy+qk=  GgTZuCqZXObthtK6GAwqvlHrTMm5pKHWeezQxL/pcKc=   \n",
       "jjPR8fmkLSFoCQQYB4g6kI8mgdcK3sKtMirKUvfmZIk=  JMNKWoU0CkMSzgQ8bCnmCYlD8jEzAVge3lHMYLXKM2g=   \n",
       "\n",
       "                                                                                      ucid  \\\n",
       "upid                                                                                         \n",
       "Vbs92l4JmdiWkUEm/iahxnUTaac2oN1IlUtXB7JcfoE=  KDOmuTrY/IJzDP4kIgIYCBiGyTymsJ8Iy4cDB35WGYg=   \n",
       "Ek+pIeHNNoEo0tGEq91eBcBmGgy3+A5RWhpj95zTyHM=  COZ39Wo+uIUO2s7c2VGEHjJf6Vx0xifxVAiaeHtaTdk=   \n",
       "1MBa2f5Qog4JBoAuUfJf0fxeJctdEirAqKgfsg246eI=  TwyqyV1uJYlDAX8wX/PtTCVZEBo/APIVfTzzleGkNCQ=   \n",
       "kdMy2nG+QVMjPkuaMEWs0yV/sYZVoG1vm7zM0fCy+qk=  tBo6ECyT8IlKAM8UhQHWkqv92PRLcSiwuerfC7vNX+w=   \n",
       "jjPR8fmkLSFoCQQYB4g6kI8mgdcK3sKtMirKUvfmZIk=  vVpSKAMQbTMvtdERR0ksOeRmmaFt0R210t4Z//0RpPA=   \n",
       "\n",
       "                                              problem_number  \\\n",
       "upid                                                           \n",
       "Vbs92l4JmdiWkUEm/iahxnUTaac2oN1IlUtXB7JcfoE=              18   \n",
       "Ek+pIeHNNoEo0tGEq91eBcBmGgy3+A5RWhpj95zTyHM=               4   \n",
       "1MBa2f5Qog4JBoAuUfJf0fxeJctdEirAqKgfsg246eI=               9   \n",
       "kdMy2nG+QVMjPkuaMEWs0yV/sYZVoG1vm7zM0fCy+qk=               2   \n",
       "jjPR8fmkLSFoCQQYB4g6kI8mgdcK3sKtMirKUvfmZIk=               6   \n",
       "\n",
       "                                              exercise_problem_repeat_session  \\\n",
       "upid                                                                            \n",
       "Vbs92l4JmdiWkUEm/iahxnUTaac2oN1IlUtXB7JcfoE=                                2   \n",
       "Ek+pIeHNNoEo0tGEq91eBcBmGgy3+A5RWhpj95zTyHM=                                1   \n",
       "1MBa2f5Qog4JBoAuUfJf0fxeJctdEirAqKgfsg246eI=                                1   \n",
       "kdMy2nG+QVMjPkuaMEWs0yV/sYZVoG1vm7zM0fCy+qk=                                1   \n",
       "jjPR8fmkLSFoCQQYB4g6kI8mgdcK3sKtMirKUvfmZIk=                                1   \n",
       "\n",
       "                                              is_correct  total_sec_taken  \\\n",
       "upid                                                                        \n",
       "Vbs92l4JmdiWkUEm/iahxnUTaac2oN1IlUtXB7JcfoE=        True               33   \n",
       "Ek+pIeHNNoEo0tGEq91eBcBmGgy3+A5RWhpj95zTyHM=        True                8   \n",
       "1MBa2f5Qog4JBoAuUfJf0fxeJctdEirAqKgfsg246eI=        True               17   \n",
       "kdMy2nG+QVMjPkuaMEWs0yV/sYZVoG1vm7zM0fCy+qk=        True               10   \n",
       "jjPR8fmkLSFoCQQYB4g6kI8mgdcK3sKtMirKUvfmZIk=        True               98   \n",
       "\n",
       "                                              total_attempt_cnt  \\\n",
       "upid                                                              \n",
       "Vbs92l4JmdiWkUEm/iahxnUTaac2oN1IlUtXB7JcfoE=                  1   \n",
       "Ek+pIeHNNoEo0tGEq91eBcBmGgy3+A5RWhpj95zTyHM=                  1   \n",
       "1MBa2f5Qog4JBoAuUfJf0fxeJctdEirAqKgfsg246eI=                  1   \n",
       "kdMy2nG+QVMjPkuaMEWs0yV/sYZVoG1vm7zM0fCy+qk=                  1   \n",
       "jjPR8fmkLSFoCQQYB4g6kI8mgdcK3sKtMirKUvfmZIk=                  1   \n",
       "\n",
       "                                              used_hint_cnt  is_hint_used  \\\n",
       "upid                                                                        \n",
       "Vbs92l4JmdiWkUEm/iahxnUTaac2oN1IlUtXB7JcfoE=              0         False   \n",
       "Ek+pIeHNNoEo0tGEq91eBcBmGgy3+A5RWhpj95zTyHM=              0         False   \n",
       "1MBa2f5Qog4JBoAuUfJf0fxeJctdEirAqKgfsg246eI=              0         False   \n",
       "kdMy2nG+QVMjPkuaMEWs0yV/sYZVoG1vm7zM0fCy+qk=              0         False   \n",
       "jjPR8fmkLSFoCQQYB4g6kI8mgdcK3sKtMirKUvfmZIk=              0         False   \n",
       "\n",
       "                                             is_downgrade is_upgrade  level  \n",
       "upid                                                                         \n",
       "Vbs92l4JmdiWkUEm/iahxnUTaac2oN1IlUtXB7JcfoE=        False       True      3  \n",
       "Ek+pIeHNNoEo0tGEq91eBcBmGgy3+A5RWhpj95zTyHM=          NaN        NaN      0  \n",
       "1MBa2f5Qog4JBoAuUfJf0fxeJctdEirAqKgfsg246eI=          NaN        NaN      0  \n",
       "kdMy2nG+QVMjPkuaMEWs0yV/sYZVoG1vm7zM0fCy+qk=          NaN        NaN      0  \n",
       "jjPR8fmkLSFoCQQYB4g6kI8mgdcK3sKtMirKUvfmZIk=          NaN        NaN      0  "
      ]
     },
     "execution_count": 6,
     "metadata": {},
     "output_type": "execute_result"
    }
   ],
   "source": [
    "log_problem_raw_df.head()"
   ]
  },
  {
   "cell_type": "markdown",
   "metadata": {},
   "source": [
    "Let’s have a look at data dimensionality, feature names, and feature types."
   ]
  },
  {
   "cell_type": "code",
   "execution_count": 8,
   "metadata": {},
   "outputs": [
    {
     "data": {
      "text/plain": [
       "(16217311, 13)"
      ]
     },
     "execution_count": 8,
     "metadata": {},
     "output_type": "execute_result"
    }
   ],
   "source": [
    "log_problem_raw_df.shape"
   ]
  },
  {
   "cell_type": "markdown",
   "metadata": {},
   "source": [
    "From the output, we can see that the table contains 1330 rows and 9 columns.\n",
    "\n",
    "Now let's try printing out column names using columns:"
   ]
  },
  {
   "cell_type": "code",
   "execution_count": 10,
   "metadata": {},
   "outputs": [
    {
     "name": "stdout",
     "output_type": "stream",
     "text": [
      "<class 'pandas.core.frame.DataFrame'>\n",
      "Index: 16217311 entries, Vbs92l4JmdiWkUEm/iahxnUTaac2oN1IlUtXB7JcfoE= to XdGIwnveMOplh6TxLzeN8TO5SV524bCHxGxeIa3Ixhs=\n",
      "Data columns (total 13 columns):\n",
      " #   Column                           Dtype \n",
      "---  ------                           ----- \n",
      " 0   timestamp_TW                     object\n",
      " 1   uuid                             object\n",
      " 2   ucid                             object\n",
      " 3   problem_number                   int64 \n",
      " 4   exercise_problem_repeat_session  int64 \n",
      " 5   is_correct                       bool  \n",
      " 6   total_sec_taken                  int64 \n",
      " 7   total_attempt_cnt                int64 \n",
      " 8   used_hint_cnt                    int64 \n",
      " 9   is_hint_used                     bool  \n",
      " 10  is_downgrade                     object\n",
      " 11  is_upgrade                       object\n",
      " 12  level                            int64 \n",
      "dtypes: bool(2), int64(6), object(5)\n",
      "memory usage: 1.5+ GB\n"
     ]
    }
   ],
   "source": [
    "log_problem_raw_df.info()"
   ]
  },
  {
   "cell_type": "markdown",
   "metadata": {},
   "source": [
    "Object, int64 and bool are the data types of our features. From the information above, it also provide the information to see if there are any missing values. Here, there are none because each column contains 1330 observations, the same number of rows we saw before with shape. The dataframe is very large."
   ]
  },
  {
   "cell_type": "code",
   "execution_count": 11,
   "metadata": {},
   "outputs": [
    {
     "data": {
      "text/html": [
       "<div>\n",
       "<style scoped>\n",
       "    .dataframe tbody tr th:only-of-type {\n",
       "        vertical-align: middle;\n",
       "    }\n",
       "\n",
       "    .dataframe tbody tr th {\n",
       "        vertical-align: top;\n",
       "    }\n",
       "\n",
       "    .dataframe thead th {\n",
       "        text-align: right;\n",
       "    }\n",
       "</style>\n",
       "<table border=\"1\" class=\"dataframe\">\n",
       "  <thead>\n",
       "    <tr style=\"text-align: right;\">\n",
       "      <th></th>\n",
       "      <th>problem_number</th>\n",
       "      <th>exercise_problem_repeat_session</th>\n",
       "      <th>total_sec_taken</th>\n",
       "      <th>total_attempt_cnt</th>\n",
       "      <th>used_hint_cnt</th>\n",
       "      <th>level</th>\n",
       "    </tr>\n",
       "  </thead>\n",
       "  <tbody>\n",
       "    <tr>\n",
       "      <th>count</th>\n",
       "      <td>1.621731e+07</td>\n",
       "      <td>1.621731e+07</td>\n",
       "      <td>1.621731e+07</td>\n",
       "      <td>1.621731e+07</td>\n",
       "      <td>1.621731e+07</td>\n",
       "      <td>1.621731e+07</td>\n",
       "    </tr>\n",
       "    <tr>\n",
       "      <th>mean</th>\n",
       "      <td>1.045406e+01</td>\n",
       "      <td>1.261218e+00</td>\n",
       "      <td>4.438166e+01</td>\n",
       "      <td>1.874895e+00</td>\n",
       "      <td>5.333163e-01</td>\n",
       "      <td>4.827990e-01</td>\n",
       "    </tr>\n",
       "    <tr>\n",
       "      <th>std</th>\n",
       "      <td>2.015863e+01</td>\n",
       "      <td>1.173484e+00</td>\n",
       "      <td>1.005375e+02</td>\n",
       "      <td>3.547947e+00</td>\n",
       "      <td>1.156917e+00</td>\n",
       "      <td>9.370259e-01</td>\n",
       "    </tr>\n",
       "    <tr>\n",
       "      <th>min</th>\n",
       "      <td>1.000000e+00</td>\n",
       "      <td>1.000000e+00</td>\n",
       "      <td>0.000000e+00</td>\n",
       "      <td>0.000000e+00</td>\n",
       "      <td>0.000000e+00</td>\n",
       "      <td>0.000000e+00</td>\n",
       "    </tr>\n",
       "    <tr>\n",
       "      <th>25%</th>\n",
       "      <td>3.000000e+00</td>\n",
       "      <td>1.000000e+00</td>\n",
       "      <td>1.000000e+01</td>\n",
       "      <td>1.000000e+00</td>\n",
       "      <td>0.000000e+00</td>\n",
       "      <td>0.000000e+00</td>\n",
       "    </tr>\n",
       "    <tr>\n",
       "      <th>50%</th>\n",
       "      <td>6.000000e+00</td>\n",
       "      <td>1.000000e+00</td>\n",
       "      <td>2.100000e+01</td>\n",
       "      <td>1.000000e+00</td>\n",
       "      <td>0.000000e+00</td>\n",
       "      <td>0.000000e+00</td>\n",
       "    </tr>\n",
       "    <tr>\n",
       "      <th>75%</th>\n",
       "      <td>1.200000e+01</td>\n",
       "      <td>1.000000e+00</td>\n",
       "      <td>4.500000e+01</td>\n",
       "      <td>1.000000e+00</td>\n",
       "      <td>0.000000e+00</td>\n",
       "      <td>1.000000e+00</td>\n",
       "    </tr>\n",
       "    <tr>\n",
       "      <th>max</th>\n",
       "      <td>1.702000e+03</td>\n",
       "      <td>1.190000e+02</td>\n",
       "      <td>1.800000e+03</td>\n",
       "      <td>1.000000e+03</td>\n",
       "      <td>6.500000e+01</td>\n",
       "      <td>4.000000e+00</td>\n",
       "    </tr>\n",
       "  </tbody>\n",
       "</table>\n",
       "</div>"
      ],
      "text/plain": [
       "       problem_number  exercise_problem_repeat_session  total_sec_taken  \\\n",
       "count    1.621731e+07                     1.621731e+07     1.621731e+07   \n",
       "mean     1.045406e+01                     1.261218e+00     4.438166e+01   \n",
       "std      2.015863e+01                     1.173484e+00     1.005375e+02   \n",
       "min      1.000000e+00                     1.000000e+00     0.000000e+00   \n",
       "25%      3.000000e+00                     1.000000e+00     1.000000e+01   \n",
       "50%      6.000000e+00                     1.000000e+00     2.100000e+01   \n",
       "75%      1.200000e+01                     1.000000e+00     4.500000e+01   \n",
       "max      1.702000e+03                     1.190000e+02     1.800000e+03   \n",
       "\n",
       "       total_attempt_cnt  used_hint_cnt         level  \n",
       "count       1.621731e+07   1.621731e+07  1.621731e+07  \n",
       "mean        1.874895e+00   5.333163e-01  4.827990e-01  \n",
       "std         3.547947e+00   1.156917e+00  9.370259e-01  \n",
       "min         0.000000e+00   0.000000e+00  0.000000e+00  \n",
       "25%         1.000000e+00   0.000000e+00  0.000000e+00  \n",
       "50%         1.000000e+00   0.000000e+00  0.000000e+00  \n",
       "75%         1.000000e+00   0.000000e+00  1.000000e+00  \n",
       "max         1.000000e+03   6.500000e+01  4.000000e+00  "
      ]
     },
     "execution_count": 11,
     "metadata": {},
     "output_type": "execute_result"
    }
   ],
   "source": [
    "log_problem_raw_df.describe()"
   ]
  },
  {
   "cell_type": "markdown",
   "metadata": {},
   "source": [
    "- timestamp_TW - The datatype is not correct **(Parsing needed)**\n",
    "- problem_number - The number of problems this user had encountered, including this problem, in this exercise.\n",
    "- exercise_problem_repeat_session - The number of times the user encounters this problem in this exercise.\n",
    "- is_correct - The answer is correct or not. **(Ready)**\n",
    "- total_sec_taken - Total time taken. **(Ready)**\n",
    "- total_attempt_cnt - Total attempt\n",
    "- used_hint_cnt\n",
    "- is_hint_used \n",
    "- is_downgrade - **(Cleaning needed)**\n",
    "- is_upgrade - **(Cleaning needed)**\n",
    "- level - Level (0, 1, 2, 3, 4) Variable that will be the target variable. **(Target variable)**"
   ]
  },
  {
   "cell_type": "markdown",
   "metadata": {},
   "source": [
    "### Categorical Var"
   ]
  },
  {
   "cell_type": "markdown",
   "metadata": {},
   "source": [
    "For categorical (type object) feature we can use the value_counts method. Let's have a look at the distribution of Churn:"
   ]
  },
  {
   "cell_type": "code",
   "execution_count": 13,
   "metadata": {},
   "outputs": [
    {
     "data": {
      "text/plain": [
       "0    11809119\n",
       "1     2352668\n",
       "2      996819\n",
       "3      751424\n",
       "4      307281\n",
       "Name: level, dtype: int64"
      ]
     },
     "execution_count": 13,
     "metadata": {},
     "output_type": "execute_result"
    }
   ],
   "source": [
    "log_problem_raw_df['level'].value_counts()"
   ]
  },
  {
   "cell_type": "code",
   "execution_count": 14,
   "metadata": {},
   "outputs": [
    {
     "data": {
      "text/plain": [
       "Text(0.5, 1.0, 'level distribution')"
      ]
     },
     "execution_count": 14,
     "metadata": {},
     "output_type": "execute_result"
    },
    {
     "data": {
      "image/png": "[encoded data removed]",
      "text/plain": [
       "<Figure size 432x288 with 1 Axes>"
      ]
     },
     "metadata": {},
     "output_type": "display_data"
    }
   ],
   "source": [
    "sns.countplot(log_problem_raw_df['level']).set_title('level distribution')"
   ]
  },
  {
   "cell_type": "markdown",
   "metadata": {},
   "source": [
    "### uuid"
   ]
  },
  {
   "cell_type": "code",
   "execution_count": null,
   "metadata": {},
   "outputs": [],
   "source": [
    "sns.barplot(log_problem_raw_df['uuid'], log_problem_raw_df['level'])"
   ]
  }
 ],
 "metadata": {
  "kernelspec": {
   "display_name": "Python 3",
   "language": "python",
   "name": "python3"
  },
  "language_info": {
   "codemirror_mode": {
    "name": "ipython",
    "version": 3
   },
   "file_extension": ".py",
   "mimetype": "text/x-python",
   "name": "python",
   "nbconvert_exporter": "python",
   "pygments_lexer": "ipython3",
   "version": "3.7.6"
  }
 },
 "nbformat": 4,
 "nbformat_minor": 4
}

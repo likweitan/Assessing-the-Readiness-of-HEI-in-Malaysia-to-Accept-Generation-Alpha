{
 "cells": [
  {
   "cell_type": "markdown",
   "metadata": {},
   "source": [
    "[![Open In Colab](https://colab.research.google.com/assets/colab-badge.svg)](https://colab.research.google.com/drive/1nmRz-pOLEc0zjeG6MIaqtMXgdql4wpi0?usp=sharing)"
   ]
  },
  {
   "cell_type": "markdown",
   "metadata": {},
   "source": [
    "# 1.1 - Data Exploration (Merge Content)\n",
    "\n",
    "This notebook provides the in depth analysis on the student performance in exams at public schools.\n",
    "\n",
    "**Info_Content.csv**\n",
    "\n",
    "The content in Junyi Academy contains exercises, videos, and exams.\n",
    "All the content in this dataset is in the type of exercise.\n",
    "\n",
    "An exercise is a basic unit for students to learn a certain concept.\n",
    "There are multiple problems in a single exercise that all relate to a certain concept.\n",
    "\n",
    "This table records the metadata and hierarchy structure of each exercise in Junyi Academy.\n",
    "There are three difficulty settings for each content, which indicates how hard it is to learn the concept.\n",
    "The learning stage is separated into three stages: Elementary, Junior, and Senior.\n",
    "\n",
    "The exercises in Junyi Academy are organized in a tree-like structure.\n",
    "The current dataset release has four levels in the hierarchy.\n",
    "\n",
    "| Variable Name | Description |\n",
    "|:-|:-|\n",
    "| ucid | The hashed unique ID of the content. |\n",
    "| content_pretty_name | The Chinese display name of this content. |\n",
    "| content_kind | The kind of this content. The current dataset release only includes `Exercise` |\n",
    "| difficulty | The difficulty of this content. There are four possible values: `Easy`, `Normal`, `Hard` and `Unset`. Unset means |\n",
    "| learning stage | The subject of this content. The current dataset release only includes `math` |\n",
    "| subject | The learning stage of this content. There are three possible values: `Elementary`, `Junior` and `Senior`. |\n",
    "| level1_id | The hashed level 1 layer ID of this content. The levels form the tree-like hierarchy structure of contents in Junyi |\n",
    "| level2_id | The hashed level 2 layer ID of this content. The levels form the tree-like hierarchy structure of contents in Junyi |\n",
    "| level3_id | The hashed level 3 layer ID of this content. The levels form the tree-like hierarchy structure of contents in Junyi |\n",
    "| level4_id | The hashed level 4 layer ID of this content. The levels form the tree-like hierarchy structure of contents in Junyi |"
   ]
  },
  {
   "cell_type": "markdown",
   "metadata": {},
   "source": [
    "## Importing Libraries"
   ]
  },
  {
   "cell_type": "code",
   "execution_count": 3,
   "metadata": {},
   "outputs": [],
   "source": [
    "import numpy as np # linear algebra\n",
    "import pandas as pd # data processing, CSV file I/O\n",
    "import matplotlib.pyplot as plt\n",
    "import seaborn as sns"
   ]
  },
  {
   "cell_type": "markdown",
   "metadata": {},
   "source": [
    "## Loading Data"
   ]
  },
  {
   "cell_type": "code",
   "execution_count": 4,
   "metadata": {},
   "outputs": [
    {
     "name": "stdout",
     "output_type": "stream",
     "text": [
      "Wall time: 10.2 s\n"
     ]
    }
   ],
   "source": [
    "%%time\n",
    "info_content_raw_df = pd.read_csv('../data/raw/Info_Content.csv', index_col='ucid')\n",
    "info_userdata_raw_df = pd.read_csv('../data/raw/Info_UserData.csv', index_col='uuid')\n",
    "log_problem_raw_df = pd.read_csv('../data/raw/Log_Problem.csv', index_col='upid')"
   ]
  },
  {
   "cell_type": "markdown",
   "metadata": {},
   "source": [
    "## Merging Data\n",
    "\n",
    "This is one of the most important steps for our solution. The users, contents and problems are stored in seperate datasets. For purpose of model, the datasets have to be merged in very carefull way so that they are useful for the model.\n",
    "\n",
    "1. One users can attempt multiple problems.\n",
    "2. One content can have multiple problems."
   ]
  },
  {
   "cell_type": "code",
   "execution_count": 5,
   "metadata": {},
   "outputs": [],
   "source": [
    "merge_df = log_problem_raw_df.merge(info_userdata_raw_df, how='left', on='uuid')"
   ]
  },
  {
   "cell_type": "code",
   "execution_count": 6,
   "metadata": {},
   "outputs": [],
   "source": [
    "merge_df = merge_df.merge(info_content_raw_df, how='left', on='ucid')"
   ]
  },
  {
   "cell_type": "code",
   "execution_count": 7,
   "metadata": {},
   "outputs": [
    {
     "data": {
      "text/html": [
       "<div>\n",
       "<style scoped>\n",
       "    .dataframe tbody tr th:only-of-type {\n",
       "        vertical-align: middle;\n",
       "    }\n",
       "\n",
       "    .dataframe tbody tr th {\n",
       "        vertical-align: top;\n",
       "    }\n",
       "\n",
       "    .dataframe thead th {\n",
       "        text-align: right;\n",
       "    }\n",
       "</style>\n",
       "<table border=\"1\" class=\"dataframe\">\n",
       "  <thead>\n",
       "    <tr style=\"text-align: right;\">\n",
       "      <th></th>\n",
       "      <th>timestamp_TW</th>\n",
       "      <th>uuid</th>\n",
       "      <th>ucid</th>\n",
       "      <th>problem_number</th>\n",
       "      <th>exercise_problem_repeat_session</th>\n",
       "      <th>is_correct</th>\n",
       "      <th>total_sec_taken</th>\n",
       "      <th>total_attempt_cnt</th>\n",
       "      <th>used_hint_cnt</th>\n",
       "      <th>is_hint_used</th>\n",
       "      <th>...</th>\n",
       "      <th>has_class_cnt</th>\n",
       "      <th>content_pretty_name</th>\n",
       "      <th>content_kind</th>\n",
       "      <th>difficulty</th>\n",
       "      <th>subject</th>\n",
       "      <th>learning_stage</th>\n",
       "      <th>level1_id</th>\n",
       "      <th>level2_id</th>\n",
       "      <th>level3_id</th>\n",
       "      <th>level4_id</th>\n",
       "    </tr>\n",
       "  </thead>\n",
       "  <tbody>\n",
       "    <tr>\n",
       "      <th>0</th>\n",
       "      <td>2018-09-28 20:00:00 UTC</td>\n",
       "      <td>Kpq2q+eKw/O+6/jLs3XJosgmI7weEJxJZdnkKTbbF8I=</td>\n",
       "      <td>Ps4dfShfpeMF3VG030HqZ2bsbD7PaVxvJYFTtroeSzQ=</td>\n",
       "      <td>2</td>\n",
       "      <td>1</td>\n",
       "      <td>True</td>\n",
       "      <td>11</td>\n",
       "      <td>1</td>\n",
       "      <td>0</td>\n",
       "      <td>False</td>\n",
       "      <td>...</td>\n",
       "      <td>1</td>\n",
       "      <td>【基礎】倍數的應用</td>\n",
       "      <td>Exercise</td>\n",
       "      <td>easy</td>\n",
       "      <td>math</td>\n",
       "      <td>elementary</td>\n",
       "      <td>aH0Dz0KdH9gio7rrcGRHvrmd9vcd/0WJbeEFB7qeUKA=</td>\n",
       "      <td>7f73q332BKPBXaixasa4EkUb+pF6VAsLxNIg4506JJs=</td>\n",
       "      <td>ItasYR+er/FlZlRvL66/NB3wY0AvmlrZKoqe4gmPyD0=</td>\n",
       "      <td>VHYt8IeoqiIPVsB+32JAhIjK9jU+pnr11fL80QshARI=</td>\n",
       "    </tr>\n",
       "    <tr>\n",
       "      <th>1</th>\n",
       "      <td>2018-09-28 10:15:00 UTC</td>\n",
       "      <td>0+VU/Zb0Q96uoByuRhl7r9bJuJO6CKWpsmNMEuijSzc=</td>\n",
       "      <td>/d39FzqaM3PZzpoMXxA80PMICsVhzfL6MGSCqZtsQOo=</td>\n",
       "      <td>6</td>\n",
       "      <td>1</td>\n",
       "      <td>True</td>\n",
       "      <td>26</td>\n",
       "      <td>1</td>\n",
       "      <td>0</td>\n",
       "      <td>False</td>\n",
       "      <td>...</td>\n",
       "      <td>0</td>\n",
       "      <td>【基礎】找出最小公倍數</td>\n",
       "      <td>Exercise</td>\n",
       "      <td>easy</td>\n",
       "      <td>math</td>\n",
       "      <td>elementary</td>\n",
       "      <td>aH0Dz0KdH9gio7rrcGRHvrmd9vcd/0WJbeEFB7qeUKA=</td>\n",
       "      <td>7f73q332BKPBXaixasa4EkUb+pF6VAsLxNIg4506JJs=</td>\n",
       "      <td>ItasYR+er/FlZlRvL66/NB3wY0AvmlrZKoqe4gmPyD0=</td>\n",
       "      <td>VHYt8IeoqiIPVsB+32JAhIjK9jU+pnr11fL80QshARI=</td>\n",
       "    </tr>\n",
       "    <tr>\n",
       "      <th>2</th>\n",
       "      <td>2018-09-05 20:00:00 UTC</td>\n",
       "      <td>g8DnYvIqpolw10XlwWeIWv6NbDPByUbmgH8EshJqBns=</td>\n",
       "      <td>YuGOmB+frbM8rfAa0RJE882R+IoMf9N89OiVqLbAHBw=</td>\n",
       "      <td>4</td>\n",
       "      <td>1</td>\n",
       "      <td>True</td>\n",
       "      <td>78</td>\n",
       "      <td>1</td>\n",
       "      <td>0</td>\n",
       "      <td>False</td>\n",
       "      <td>...</td>\n",
       "      <td>0</td>\n",
       "      <td>【基礎】尋找質因數</td>\n",
       "      <td>Exercise</td>\n",
       "      <td>easy</td>\n",
       "      <td>math</td>\n",
       "      <td>elementary</td>\n",
       "      <td>aH0Dz0KdH9gio7rrcGRHvrmd9vcd/0WJbeEFB7qeUKA=</td>\n",
       "      <td>7f73q332BKPBXaixasa4EkUb+pF6VAsLxNIg4506JJs=</td>\n",
       "      <td>ItasYR+er/FlZlRvL66/NB3wY0AvmlrZKoqe4gmPyD0=</td>\n",
       "      <td>DoAefIneFglvkxJ4Jb8VyB8JrESm9UEHtGyV4MqiwCo=</td>\n",
       "    </tr>\n",
       "    <tr>\n",
       "      <th>3</th>\n",
       "      <td>2018-09-14 16:30:00 UTC</td>\n",
       "      <td>kSyUTFlepsYUD723IPL/jEZ520xaKbscrBmNtBUFR1o=</td>\n",
       "      <td>BG1RsWojzEHzV28RBm/1iKi1NyZgDcDomLYEJSV6lmo=</td>\n",
       "      <td>3</td>\n",
       "      <td>1</td>\n",
       "      <td>True</td>\n",
       "      <td>7</td>\n",
       "      <td>1</td>\n",
       "      <td>0</td>\n",
       "      <td>False</td>\n",
       "      <td>...</td>\n",
       "      <td>0</td>\n",
       "      <td>【基礎】數的相關名詞介紹</td>\n",
       "      <td>Exercise</td>\n",
       "      <td>easy</td>\n",
       "      <td>math</td>\n",
       "      <td>junior</td>\n",
       "      <td>aH0Dz0KdH9gio7rrcGRHvrmd9vcd/0WJbeEFB7qeUKA=</td>\n",
       "      <td>xYDz4OEv0xsri1IpmXlrgMLJ848rgySf+39xWpq4DBI=</td>\n",
       "      <td>/yqeM1FRP1rB9WuQWBkStMqrBQgjEexaeyWIhBC7ov4=</td>\n",
       "      <td>Vuo8t3kw/4IH80FuZ0l0uJPwpfrMs8SxhCbJA8zn3vU=</td>\n",
       "    </tr>\n",
       "    <tr>\n",
       "      <th>4</th>\n",
       "      <td>2018-09-13 16:00:00 UTC</td>\n",
       "      <td>XMFbFA7C49+LRhUddhelfPpA6F5dbOoxeyL3eYbuTlY=</td>\n",
       "      <td>qPHR8aBqOhKij9IS/Y8IR8prwWruoDBGU1tVUhXDJkE=</td>\n",
       "      <td>12</td>\n",
       "      <td>1</td>\n",
       "      <td>True</td>\n",
       "      <td>48</td>\n",
       "      <td>1</td>\n",
       "      <td>0</td>\n",
       "      <td>False</td>\n",
       "      <td>...</td>\n",
       "      <td>0</td>\n",
       "      <td>【基礎】大數的加減</td>\n",
       "      <td>Exercise</td>\n",
       "      <td>easy</td>\n",
       "      <td>math</td>\n",
       "      <td>elementary</td>\n",
       "      <td>aH0Dz0KdH9gio7rrcGRHvrmd9vcd/0WJbeEFB7qeUKA=</td>\n",
       "      <td>7f73q332BKPBXaixasa4EkUb+pF6VAsLxNIg4506JJs=</td>\n",
       "      <td>scsWmkZsfmdmD2IzB24sQ1Au1BOXYgQEx9zO3+4glq8=</td>\n",
       "      <td>hq6uCe9NmtCc+0wlbGGIsxegP2cqYAdFebGd+v4/o8Q=</td>\n",
       "    </tr>\n",
       "  </tbody>\n",
       "</table>\n",
       "<p>5 rows × 33 columns</p>\n",
       "</div>"
      ],
      "text/plain": [
       "              timestamp_TW                                          uuid  \\\n",
       "0  2018-09-28 20:00:00 UTC  Kpq2q+eKw/O+6/jLs3XJosgmI7weEJxJZdnkKTbbF8I=   \n",
       "1  2018-09-28 10:15:00 UTC  0+VU/Zb0Q96uoByuRhl7r9bJuJO6CKWpsmNMEuijSzc=   \n",
       "2  2018-09-05 20:00:00 UTC  g8DnYvIqpolw10XlwWeIWv6NbDPByUbmgH8EshJqBns=   \n",
       "3  2018-09-14 16:30:00 UTC  kSyUTFlepsYUD723IPL/jEZ520xaKbscrBmNtBUFR1o=   \n",
       "4  2018-09-13 16:00:00 UTC  XMFbFA7C49+LRhUddhelfPpA6F5dbOoxeyL3eYbuTlY=   \n",
       "\n",
       "                                           ucid  problem_number  \\\n",
       "0  Ps4dfShfpeMF3VG030HqZ2bsbD7PaVxvJYFTtroeSzQ=               2   \n",
       "1  /d39FzqaM3PZzpoMXxA80PMICsVhzfL6MGSCqZtsQOo=               6   \n",
       "2  YuGOmB+frbM8rfAa0RJE882R+IoMf9N89OiVqLbAHBw=               4   \n",
       "3  BG1RsWojzEHzV28RBm/1iKi1NyZgDcDomLYEJSV6lmo=               3   \n",
       "4  qPHR8aBqOhKij9IS/Y8IR8prwWruoDBGU1tVUhXDJkE=              12   \n",
       "\n",
       "   exercise_problem_repeat_session  is_correct  total_sec_taken  \\\n",
       "0                                1        True               11   \n",
       "1                                1        True               26   \n",
       "2                                1        True               78   \n",
       "3                                1        True                7   \n",
       "4                                1        True               48   \n",
       "\n",
       "   total_attempt_cnt  used_hint_cnt  is_hint_used  ... has_class_cnt  \\\n",
       "0                  1              0         False  ...             1   \n",
       "1                  1              0         False  ...             0   \n",
       "2                  1              0         False  ...             0   \n",
       "3                  1              0         False  ...             0   \n",
       "4                  1              0         False  ...             0   \n",
       "\n",
       "  content_pretty_name  content_kind difficulty  subject  learning_stage  \\\n",
       "0           【基礎】倍數的應用      Exercise       easy     math      elementary   \n",
       "1         【基礎】找出最小公倍數      Exercise       easy     math      elementary   \n",
       "2           【基礎】尋找質因數      Exercise       easy     math      elementary   \n",
       "3        【基礎】數的相關名詞介紹      Exercise       easy     math          junior   \n",
       "4           【基礎】大數的加減      Exercise       easy     math      elementary   \n",
       "\n",
       "                                      level1_id  \\\n",
       "0  aH0Dz0KdH9gio7rrcGRHvrmd9vcd/0WJbeEFB7qeUKA=   \n",
       "1  aH0Dz0KdH9gio7rrcGRHvrmd9vcd/0WJbeEFB7qeUKA=   \n",
       "2  aH0Dz0KdH9gio7rrcGRHvrmd9vcd/0WJbeEFB7qeUKA=   \n",
       "3  aH0Dz0KdH9gio7rrcGRHvrmd9vcd/0WJbeEFB7qeUKA=   \n",
       "4  aH0Dz0KdH9gio7rrcGRHvrmd9vcd/0WJbeEFB7qeUKA=   \n",
       "\n",
       "                                      level2_id  \\\n",
       "0  7f73q332BKPBXaixasa4EkUb+pF6VAsLxNIg4506JJs=   \n",
       "1  7f73q332BKPBXaixasa4EkUb+pF6VAsLxNIg4506JJs=   \n",
       "2  7f73q332BKPBXaixasa4EkUb+pF6VAsLxNIg4506JJs=   \n",
       "3  xYDz4OEv0xsri1IpmXlrgMLJ848rgySf+39xWpq4DBI=   \n",
       "4  7f73q332BKPBXaixasa4EkUb+pF6VAsLxNIg4506JJs=   \n",
       "\n",
       "                                      level3_id  \\\n",
       "0  ItasYR+er/FlZlRvL66/NB3wY0AvmlrZKoqe4gmPyD0=   \n",
       "1  ItasYR+er/FlZlRvL66/NB3wY0AvmlrZKoqe4gmPyD0=   \n",
       "2  ItasYR+er/FlZlRvL66/NB3wY0AvmlrZKoqe4gmPyD0=   \n",
       "3  /yqeM1FRP1rB9WuQWBkStMqrBQgjEexaeyWIhBC7ov4=   \n",
       "4  scsWmkZsfmdmD2IzB24sQ1Au1BOXYgQEx9zO3+4glq8=   \n",
       "\n",
       "                                      level4_id  \n",
       "0  VHYt8IeoqiIPVsB+32JAhIjK9jU+pnr11fL80QshARI=  \n",
       "1  VHYt8IeoqiIPVsB+32JAhIjK9jU+pnr11fL80QshARI=  \n",
       "2  DoAefIneFglvkxJ4Jb8VyB8JrESm9UEHtGyV4MqiwCo=  \n",
       "3  Vuo8t3kw/4IH80FuZ0l0uJPwpfrMs8SxhCbJA8zn3vU=  \n",
       "4  hq6uCe9NmtCc+0wlbGGIsxegP2cqYAdFebGd+v4/o8Q=  \n",
       "\n",
       "[5 rows x 33 columns]"
      ]
     },
     "execution_count": 7,
     "metadata": {},
     "output_type": "execute_result"
    }
   ],
   "source": [
    "merge_df.head()"
   ]
  },
  {
   "cell_type": "code",
   "execution_count": 8,
   "metadata": {},
   "outputs": [
    {
     "data": {
      "text/plain": [
       "0    3188853\n",
       "1     634546\n",
       "2     235695\n",
       "3     156147\n",
       "4      57962\n",
       "Name: level, dtype: int64"
      ]
     },
     "execution_count": 8,
     "metadata": {},
     "output_type": "execute_result"
    }
   ],
   "source": [
    "merge_df['level'].value_counts()"
   ]
  },
  {
   "cell_type": "code",
   "execution_count": 13,
   "metadata": {},
   "outputs": [],
   "source": [
    "group_difficulty = merge_df.difficulty[merge_df['uuid'] == 'Ps4dfShfpeMF3VG030HqZ2bsbD7PaVxvJYFTtroeSzQ='].drop_duplicates()"
   ]
  },
  {
   "cell_type": "code",
   "execution_count": 14,
   "metadata": {},
   "outputs": [
    {
     "data": {
      "text/plain": [
       "Series([], Name: difficulty, dtype: object)"
      ]
     },
     "execution_count": 14,
     "metadata": {},
     "output_type": "execute_result"
    }
   ],
   "source": [
    "group_difficulty"
   ]
  }
 ],
 "metadata": {
  "kernelspec": {
   "display_name": "Python 3",
   "language": "python",
   "name": "python3"
  },
  "language_info": {
   "codemirror_mode": {
    "name": "ipython",
    "version": 3
   },
   "file_extension": ".py",
   "mimetype": "text/x-python",
   "name": "python",
   "nbconvert_exporter": "python",
   "pygments_lexer": "ipython3",
   "version": "3.7.6"
  }
 },
 "nbformat": 4,
 "nbformat_minor": 4
}

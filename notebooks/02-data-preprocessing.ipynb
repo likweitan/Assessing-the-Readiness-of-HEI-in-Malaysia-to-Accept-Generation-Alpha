{
 "cells": [
  {
   "cell_type": "markdown",
   "metadata": {},
   "source": [
    "### Assessing the Readiness of HEI in Malaysia to Accept Generation Alpha\n",
    "\n",
    "---\n",
    "\n",
    "# Data Pre-processing"
   ]
  },
  {
   "cell_type": "markdown",
   "metadata": {},
   "source": [
    "In the Data Preprocessing section, you will learn data preprocessing techniques with scikit-learn, one of the most popular frameworks used for industry data science. The data has to be transformed or organized into a proper format before training them."
   ]
  },
  {
   "cell_type": "markdown",
   "metadata": {},
   "source": [
    "The scikit-learn library includes tools for data preprocessing and data mining. It is imported in Python via the statement `import sklearn`."
   ]
  },
  {
   "cell_type": "markdown",
   "metadata": {},
   "source": [
    "### Importing libraries"
   ]
  },
  {
   "cell_type": "code",
   "execution_count": 1,
   "metadata": {},
   "outputs": [],
   "source": [
    "import numpy as np # linear algebra\n",
    "import pandas as pd # data processing, CSV file I/O\n",
    "import matplotlib as plt\n",
    "import seaborn as sns"
   ]
  },
  {
   "cell_type": "markdown",
   "metadata": {},
   "source": [
    "### Importing data"
   ]
  },
  {
   "cell_type": "markdown",
   "metadata": {},
   "source": [
    "We can refer to the Pandas module using the \"dot notation\" to call its methods. To read our data (which is in the form of csv files), into a so-called DataFrame structure, we use the method read_csv() and pass in each file name as a string: All the datasets are loaded and storeed in pandas dataframe objects."
   ]
  },
  {
   "cell_type": "code",
   "execution_count": 2,
   "metadata": {},
   "outputs": [
    {
     "name": "stdout",
     "output_type": "stream",
     "text": [
      "Wall time: 8.9 s\n"
     ]
    }
   ],
   "source": [
    "%%time\n",
    "info_content_df = pd.read_csv('../data/raw/Info_Content.csv')\n",
    "info_userdata_df = pd.read_csv('../data/raw/Info_UserData.csv')\n",
    "log_problem_df = pd.read_csv('../data/raw/Log_Problem.csv')"
   ]
  },
  {
   "cell_type": "markdown",
   "metadata": {},
   "source": [
    "---\n",
    "\n",
    "## 1. Data Cleaning\n",
    "\n",
    "**Drop missing values or fill them in with an automated workflow.**\n",
    "\n",
    "Machine learning algorithms cannot work with missing features."
   ]
  },
  {
   "cell_type": "markdown",
   "metadata": {},
   "source": [
    "---\n",
    "\n",
    "### 1.1 Handling missing values\n",
    "\n",
    "The first thing to do when you get a new dataset is take a look at some of it. This lets you see that it all read in correctly and gives an idea of what's going on with the data. In this case, let's see if there are any missing values, which will be reprsented with NaN or None."
   ]
  },
  {
   "cell_type": "code",
   "execution_count": 3,
   "metadata": {},
   "outputs": [
    {
     "data": {
      "text/plain": [
       "ucid                   0\n",
       "content_pretty_name    0\n",
       "content_kind           0\n",
       "difficulty             0\n",
       "subject                0\n",
       "learning_stage         0\n",
       "level1_id              0\n",
       "level2_id              0\n",
       "level3_id              0\n",
       "level4_id              0\n",
       "dtype: int64"
      ]
     },
     "execution_count": 3,
     "metadata": {},
     "output_type": "execute_result"
    }
   ],
   "source": [
    "# get the number of missing data points per column\n",
    "missing_values_count = info_content_df.isnull().sum()\n",
    "\n",
    "# look at the # of missing points in the first ten columns\n",
    "missing_values_count"
   ]
  },
  {
   "cell_type": "code",
   "execution_count": 4,
   "metadata": {},
   "outputs": [
    {
     "name": "stdout",
     "output_type": "stream",
     "text": [
      "0.0\n"
     ]
    }
   ],
   "source": [
    "# how many total missing values do we have?\n",
    "total_cells = np.product(info_content_df.shape)\n",
    "total_missing = missing_values_count.sum()\n",
    "\n",
    "# percent of data that is missing\n",
    "percent_missing = (total_missing/total_cells) * 100\n",
    "print(percent_missing )"
   ]
  },
  {
   "cell_type": "code",
   "execution_count": 5,
   "metadata": {},
   "outputs": [
    {
     "data": {
      "text/plain": [
       "uuid                        0\n",
       "gender                  39853\n",
       "points                      0\n",
       "badges_cnt                  0\n",
       "first_login_date_TW         0\n",
       "user_grade                  0\n",
       "user_city                   0\n",
       "has_teacher_cnt             0\n",
       "is_self_coach               0\n",
       "has_student_cnt             0\n",
       "belongs_to_class_cnt        0\n",
       "has_class_cnt               0\n",
       "dtype: int64"
      ]
     },
     "execution_count": 5,
     "metadata": {},
     "output_type": "execute_result"
    }
   ],
   "source": [
    "# get the number of missing data points per column\n",
    "missing_values_count = info_userdata_df.isnull().sum()\n",
    "\n",
    "# look at the # of missing points in the first ten columns\n",
    "missing_values_count"
   ]
  },
  {
   "cell_type": "code",
   "execution_count": 6,
   "metadata": {},
   "outputs": [
    {
     "name": "stdout",
     "output_type": "stream",
     "text": [
      "4.564561056287052\n"
     ]
    }
   ],
   "source": [
    "# how many total missing values do we have?\n",
    "total_cells = np.product(info_userdata_df.shape)\n",
    "total_missing = missing_values_count.sum()\n",
    "\n",
    "# percent of data that is missing\n",
    "percent_missing = (total_missing/total_cells) * 100\n",
    "print(percent_missing)"
   ]
  },
  {
   "cell_type": "code",
   "execution_count": 7,
   "metadata": {},
   "outputs": [],
   "source": [
    "# replace all NA's with unspecified\n",
    "info_userdata_df = info_userdata_df.fillna('unspecified')"
   ]
  },
  {
   "cell_type": "code",
   "execution_count": 8,
   "metadata": {},
   "outputs": [
    {
     "data": {
      "text/plain": [
       "upid                                     0\n",
       "timestamp_TW                             0\n",
       "uuid                                     0\n",
       "ucid                                     0\n",
       "problem_number                           0\n",
       "exercise_problem_repeat_session          0\n",
       "is_correct                               0\n",
       "total_sec_taken                          0\n",
       "total_attempt_cnt                        0\n",
       "used_hint_cnt                            0\n",
       "is_hint_used                             0\n",
       "is_downgrade                       3843919\n",
       "is_upgrade                         3843919\n",
       "level                                    0\n",
       "dtype: int64"
      ]
     },
     "execution_count": 8,
     "metadata": {},
     "output_type": "execute_result"
    }
   ],
   "source": [
    "# get the number of missing data points per column\n",
    "missing_values_count = log_problem_df.isnull().sum()\n",
    "\n",
    "# look at the # of missing points in the first ten columns\n",
    "missing_values_count"
   ]
  },
  {
   "cell_type": "code",
   "execution_count": 9,
   "metadata": {},
   "outputs": [
    {
     "name": "stdout",
     "output_type": "stream",
     "text": [
      "12.850578025763944\n"
     ]
    }
   ],
   "source": [
    "# how many total missing values do we have?\n",
    "total_cells = np.product(log_problem_df.shape)\n",
    "total_missing = missing_values_count.sum()\n",
    "\n",
    "# percent of data that is missing\n",
    "percent_missing = (total_missing/total_cells) * 100\n",
    "print(percent_missing)"
   ]
  },
  {
   "cell_type": "code",
   "execution_count": 10,
   "metadata": {},
   "outputs": [],
   "source": [
    "# replace all NA's with false\n",
    "log_problem_df = log_problem_df.fillna(False)"
   ]
  },
  {
   "cell_type": "markdown",
   "metadata": {},
   "source": [
    "---\n",
    "\n",
    "### 1.2 Parsing Date\n",
    "\n",
    "**Help Python recognize dates as composed of day, month, and year.**\n",
    "\n",
    "Now that we know that our date column isn't being recognized as a date, it's time to convert it so that it is recognized as a date. This is called \"parsing dates\" because we're taking in a string and identifying its component parts."
   ]
  },
  {
   "cell_type": "code",
   "execution_count": 11,
   "metadata": {},
   "outputs": [
    {
     "data": {
      "text/html": [
       "<div>\n",
       "<style scoped>\n",
       "    .dataframe tbody tr th:only-of-type {\n",
       "        vertical-align: middle;\n",
       "    }\n",
       "\n",
       "    .dataframe tbody tr th {\n",
       "        vertical-align: top;\n",
       "    }\n",
       "\n",
       "    .dataframe thead th {\n",
       "        text-align: right;\n",
       "    }\n",
       "</style>\n",
       "<table border=\"1\" class=\"dataframe\">\n",
       "  <thead>\n",
       "    <tr style=\"text-align: right;\">\n",
       "      <th></th>\n",
       "      <th>uuid</th>\n",
       "      <th>gender</th>\n",
       "      <th>points</th>\n",
       "      <th>badges_cnt</th>\n",
       "      <th>first_login_date_TW</th>\n",
       "      <th>user_grade</th>\n",
       "      <th>user_city</th>\n",
       "      <th>has_teacher_cnt</th>\n",
       "      <th>is_self_coach</th>\n",
       "      <th>has_student_cnt</th>\n",
       "      <th>belongs_to_class_cnt</th>\n",
       "      <th>has_class_cnt</th>\n",
       "    </tr>\n",
       "  </thead>\n",
       "  <tbody>\n",
       "    <tr>\n",
       "      <th>0</th>\n",
       "      <td>Y2RcCdmUJAYPUAIDElo4nE9KrkLLFzUIRdexG+ipaZQ=</td>\n",
       "      <td>unspecified</td>\n",
       "      <td>18300</td>\n",
       "      <td>1</td>\n",
       "      <td>2019-01-24</td>\n",
       "      <td>1</td>\n",
       "      <td>kh</td>\n",
       "      <td>0</td>\n",
       "      <td>False</td>\n",
       "      <td>0</td>\n",
       "      <td>0</td>\n",
       "      <td>0</td>\n",
       "    </tr>\n",
       "    <tr>\n",
       "      <th>1</th>\n",
       "      <td>lw/Rchfvl9q1UDaQRmeE6QJDJeXAK7nt56RvUvqxD/8=</td>\n",
       "      <td>unspecified</td>\n",
       "      <td>6468</td>\n",
       "      <td>0</td>\n",
       "      <td>2019-01-24</td>\n",
       "      <td>1</td>\n",
       "      <td>ntpc</td>\n",
       "      <td>1</td>\n",
       "      <td>False</td>\n",
       "      <td>0</td>\n",
       "      <td>1</td>\n",
       "      <td>0</td>\n",
       "    </tr>\n",
       "    <tr>\n",
       "      <th>2</th>\n",
       "      <td>ncVYyCw3osV77X9M+4NbI7LvBR5UiB4ix6Ca+baQArA=</td>\n",
       "      <td>male</td>\n",
       "      <td>4703</td>\n",
       "      <td>0</td>\n",
       "      <td>2019-01-24</td>\n",
       "      <td>1</td>\n",
       "      <td>tp</td>\n",
       "      <td>0</td>\n",
       "      <td>False</td>\n",
       "      <td>0</td>\n",
       "      <td>0</td>\n",
       "      <td>0</td>\n",
       "    </tr>\n",
       "    <tr>\n",
       "      <th>3</th>\n",
       "      <td>J7Tbo1x2WtRpPuXeX7lWT9tkzWlSJeubl8UWjNmHh+4=</td>\n",
       "      <td>unspecified</td>\n",
       "      <td>15525</td>\n",
       "      <td>1</td>\n",
       "      <td>2019-01-24</td>\n",
       "      <td>2</td>\n",
       "      <td>ntpc</td>\n",
       "      <td>0</td>\n",
       "      <td>False</td>\n",
       "      <td>0</td>\n",
       "      <td>0</td>\n",
       "      <td>0</td>\n",
       "    </tr>\n",
       "    <tr>\n",
       "      <th>4</th>\n",
       "      <td>qijKzROzz1LmCaCxHJ3mOBOtjW/q4kW80tnpPmXHVYQ=</td>\n",
       "      <td>unspecified</td>\n",
       "      <td>7945</td>\n",
       "      <td>0</td>\n",
       "      <td>2019-01-24</td>\n",
       "      <td>2</td>\n",
       "      <td>km</td>\n",
       "      <td>1</td>\n",
       "      <td>False</td>\n",
       "      <td>0</td>\n",
       "      <td>1</td>\n",
       "      <td>0</td>\n",
       "    </tr>\n",
       "  </tbody>\n",
       "</table>\n",
       "</div>"
      ],
      "text/plain": [
       "                                           uuid       gender  points  \\\n",
       "0  Y2RcCdmUJAYPUAIDElo4nE9KrkLLFzUIRdexG+ipaZQ=  unspecified   18300   \n",
       "1  lw/Rchfvl9q1UDaQRmeE6QJDJeXAK7nt56RvUvqxD/8=  unspecified    6468   \n",
       "2  ncVYyCw3osV77X9M+4NbI7LvBR5UiB4ix6Ca+baQArA=         male    4703   \n",
       "3  J7Tbo1x2WtRpPuXeX7lWT9tkzWlSJeubl8UWjNmHh+4=  unspecified   15525   \n",
       "4  qijKzROzz1LmCaCxHJ3mOBOtjW/q4kW80tnpPmXHVYQ=  unspecified    7945   \n",
       "\n",
       "   badges_cnt first_login_date_TW  user_grade user_city  has_teacher_cnt  \\\n",
       "0           1          2019-01-24           1        kh                0   \n",
       "1           0          2019-01-24           1      ntpc                1   \n",
       "2           0          2019-01-24           1        tp                0   \n",
       "3           1          2019-01-24           2      ntpc                0   \n",
       "4           0          2019-01-24           2        km                1   \n",
       "\n",
       "   is_self_coach  has_student_cnt  belongs_to_class_cnt  has_class_cnt  \n",
       "0          False                0                     0              0  \n",
       "1          False                0                     1              0  \n",
       "2          False                0                     0              0  \n",
       "3          False                0                     0              0  \n",
       "4          False                0                     1              0  "
      ]
     },
     "execution_count": 11,
     "metadata": {},
     "output_type": "execute_result"
    }
   ],
   "source": [
    "info_userdata_df.head()"
   ]
  },
  {
   "cell_type": "code",
   "execution_count": 12,
   "metadata": {},
   "outputs": [
    {
     "data": {
      "text/plain": [
       "0    2019-01-24\n",
       "1    2019-01-24\n",
       "2    2019-01-24\n",
       "3    2019-01-24\n",
       "4    2019-01-24\n",
       "Name: first_login_date_TW, dtype: object"
      ]
     },
     "execution_count": 12,
     "metadata": {},
     "output_type": "execute_result"
    }
   ],
   "source": [
    "info_userdata_df['first_login_date_TW'].head()"
   ]
  },
  {
   "cell_type": "code",
   "execution_count": 13,
   "metadata": {},
   "outputs": [
    {
     "data": {
      "text/plain": [
       "0    2018-09-28 20:00:00 UTC\n",
       "1    2018-09-28 10:15:00 UTC\n",
       "2    2018-09-05 20:00:00 UTC\n",
       "3    2018-09-14 16:30:00 UTC\n",
       "4    2018-09-13 16:00:00 UTC\n",
       "Name: timestamp_TW, dtype: object"
      ]
     },
     "execution_count": 13,
     "metadata": {},
     "output_type": "execute_result"
    }
   ],
   "source": [
    "log_problem_df['timestamp_TW'].head()"
   ]
  },
  {
   "cell_type": "markdown",
   "metadata": {},
   "source": [
    "### Convert our date columns to datetime\n",
    "\n",
    "We can pandas what the format of our dates are with a guide called as \"strftime directive\", which you can find more information on at this link. The basic idea is that you need to point out which parts of the date are where and what punctuation is between them. There are lots of possible parts of a date, but the most common are %d for day, %m for month, %y for a two-digit year and %Y for a four digit year."
   ]
  },
  {
   "cell_type": "code",
   "execution_count": 14,
   "metadata": {},
   "outputs": [],
   "source": [
    "info_userdata_df['first_login_date_TW'] = pd.to_datetime(info_userdata_df['first_login_date_TW'], format='%Y-%m-%d')\n",
    "info_userdata_df = info_userdata_df.rename(columns = {'first_login_date_TW':'date_login'})"
   ]
  },
  {
   "cell_type": "code",
   "execution_count": 15,
   "metadata": {},
   "outputs": [],
   "source": [
    "log_problem_df['timestamp_TW'] = pd.to_datetime(log_problem_df['timestamp_TW'], format='%Y-%m-%d %H:%M:%S %Z')\n",
    "log_problem_df = log_problem_df.rename(columns = {'timestamp_TW':'datetime_attempt'})"
   ]
  },
  {
   "cell_type": "code",
   "execution_count": 16,
   "metadata": {},
   "outputs": [],
   "source": [
    "log_problem_df['date_attempt'] = pd.to_datetime(log_problem_df['datetime_attempt'].dt.date, format='%Y-%m-%d')"
   ]
  },
  {
   "cell_type": "markdown",
   "metadata": {},
   "source": [
    "Why don't you always use infer_datetime_format = True? There are two big reasons not to always have pandas guess the time format. The first is that pandas won't always been able to figure out the correct date format, especially if someone has gotten creative with data entry. The second is that it's much slower than specifying the exact format of the dates."
   ]
  },
  {
   "cell_type": "markdown",
   "metadata": {},
   "source": [
    "Now when I check the first few rows of the new column, I can see that the dtype is `datetime64`. I can also see that my dates have been slightly rearranged so that they fit the default order datetime objects (year-month-day)."
   ]
  },
  {
   "cell_type": "code",
   "execution_count": 17,
   "metadata": {},
   "outputs": [
    {
     "data": {
      "text/plain": [
       "dtype('<M8[ns]')"
      ]
     },
     "execution_count": 17,
     "metadata": {},
     "output_type": "execute_result"
    }
   ],
   "source": [
    "log_problem_df['date_attempt'].dtype"
   ]
  },
  {
   "cell_type": "code",
   "execution_count": 18,
   "metadata": {},
   "outputs": [
    {
     "data": {
      "text/plain": [
       "dtype('<M8[ns]')"
      ]
     },
     "execution_count": 18,
     "metadata": {},
     "output_type": "execute_result"
    }
   ],
   "source": [
    "info_userdata_df['date_login'].dtype"
   ]
  },
  {
   "cell_type": "code",
   "execution_count": 19,
   "metadata": {},
   "outputs": [
    {
     "data": {
      "text/plain": [
       "0   2019-01-24\n",
       "1   2019-01-24\n",
       "2   2019-01-24\n",
       "3   2019-01-24\n",
       "4   2019-01-24\n",
       "Name: date_login, dtype: datetime64[ns]"
      ]
     },
     "execution_count": 19,
     "metadata": {},
     "output_type": "execute_result"
    }
   ],
   "source": [
    "# print the first few rows\n",
    "info_userdata_df['date_login'].head()"
   ]
  },
  {
   "cell_type": "code",
   "execution_count": 20,
   "metadata": {},
   "outputs": [
    {
     "data": {
      "text/plain": [
       "0   2018-09-28 20:00:00+00:00\n",
       "1   2018-09-28 10:15:00+00:00\n",
       "2   2018-09-05 20:00:00+00:00\n",
       "3   2018-09-14 16:30:00+00:00\n",
       "4   2018-09-13 16:00:00+00:00\n",
       "Name: datetime_attempt, dtype: datetime64[ns, UTC]"
      ]
     },
     "execution_count": 20,
     "metadata": {},
     "output_type": "execute_result"
    }
   ],
   "source": [
    "log_problem_df['datetime_attempt'].head()"
   ]
  },
  {
   "cell_type": "code",
   "execution_count": 21,
   "metadata": {},
   "outputs": [
    {
     "data": {
      "text/plain": [
       "0   2018-09-28\n",
       "1   2018-09-28\n",
       "2   2018-09-05\n",
       "3   2018-09-14\n",
       "4   2018-09-13\n",
       "Name: date_attempt, dtype: datetime64[ns]"
      ]
     },
     "execution_count": 21,
     "metadata": {},
     "output_type": "execute_result"
    }
   ],
   "source": [
    "log_problem_df['date_attempt'].head()"
   ]
  },
  {
   "cell_type": "markdown",
   "metadata": {},
   "source": [
    "### Merge"
   ]
  },
  {
   "cell_type": "code",
   "execution_count": 22,
   "metadata": {},
   "outputs": [],
   "source": [
    "log_problem_info_userdata_df = log_problem_df.merge(info_userdata_df,how='left',on='uuid')\n",
    "log_problem_info_userdata_info_content_df = log_problem_info_userdata_df.merge(info_content_df,how='left',on='ucid')"
   ]
  },
  {
   "cell_type": "code",
   "execution_count": 23,
   "metadata": {},
   "outputs": [
    {
     "data": {
      "text/html": [
       "<div>\n",
       "<style scoped>\n",
       "    .dataframe tbody tr th:only-of-type {\n",
       "        vertical-align: middle;\n",
       "    }\n",
       "\n",
       "    .dataframe tbody tr th {\n",
       "        vertical-align: top;\n",
       "    }\n",
       "\n",
       "    .dataframe thead th {\n",
       "        text-align: right;\n",
       "    }\n",
       "</style>\n",
       "<table border=\"1\" class=\"dataframe\">\n",
       "  <thead>\n",
       "    <tr style=\"text-align: right;\">\n",
       "      <th></th>\n",
       "      <th>upid</th>\n",
       "      <th>datetime_attempt</th>\n",
       "      <th>uuid</th>\n",
       "      <th>ucid</th>\n",
       "      <th>problem_number</th>\n",
       "      <th>exercise_problem_repeat_session</th>\n",
       "      <th>is_correct</th>\n",
       "      <th>total_sec_taken</th>\n",
       "      <th>total_attempt_cnt</th>\n",
       "      <th>used_hint_cnt</th>\n",
       "      <th>...</th>\n",
       "      <th>has_class_cnt</th>\n",
       "      <th>content_pretty_name</th>\n",
       "      <th>content_kind</th>\n",
       "      <th>difficulty</th>\n",
       "      <th>subject</th>\n",
       "      <th>learning_stage</th>\n",
       "      <th>level1_id</th>\n",
       "      <th>level2_id</th>\n",
       "      <th>level3_id</th>\n",
       "      <th>level4_id</th>\n",
       "    </tr>\n",
       "  </thead>\n",
       "  <tbody>\n",
       "    <tr>\n",
       "      <th>0</th>\n",
       "      <td>ZmKEZ0F2WFqhlL7KFfJcHEnZCZu0e4p+CVG5rSlyKYk=</td>\n",
       "      <td>2018-09-28 20:00:00+00:00</td>\n",
       "      <td>Kpq2q+eKw/O+6/jLs3XJosgmI7weEJxJZdnkKTbbF8I=</td>\n",
       "      <td>Ps4dfShfpeMF3VG030HqZ2bsbD7PaVxvJYFTtroeSzQ=</td>\n",
       "      <td>2</td>\n",
       "      <td>1</td>\n",
       "      <td>True</td>\n",
       "      <td>11</td>\n",
       "      <td>1</td>\n",
       "      <td>0</td>\n",
       "      <td>...</td>\n",
       "      <td>1</td>\n",
       "      <td>【基礎】倍數的應用</td>\n",
       "      <td>Exercise</td>\n",
       "      <td>easy</td>\n",
       "      <td>math</td>\n",
       "      <td>elementary</td>\n",
       "      <td>aH0Dz0KdH9gio7rrcGRHvrmd9vcd/0WJbeEFB7qeUKA=</td>\n",
       "      <td>7f73q332BKPBXaixasa4EkUb+pF6VAsLxNIg4506JJs=</td>\n",
       "      <td>ItasYR+er/FlZlRvL66/NB3wY0AvmlrZKoqe4gmPyD0=</td>\n",
       "      <td>VHYt8IeoqiIPVsB+32JAhIjK9jU+pnr11fL80QshARI=</td>\n",
       "    </tr>\n",
       "    <tr>\n",
       "      <th>1</th>\n",
       "      <td>tO9dyvadKWMVQgEx/BXtRIYJ2TRJFQgwvcsBwFb4+xI=</td>\n",
       "      <td>2018-09-28 10:15:00+00:00</td>\n",
       "      <td>0+VU/Zb0Q96uoByuRhl7r9bJuJO6CKWpsmNMEuijSzc=</td>\n",
       "      <td>/d39FzqaM3PZzpoMXxA80PMICsVhzfL6MGSCqZtsQOo=</td>\n",
       "      <td>6</td>\n",
       "      <td>1</td>\n",
       "      <td>True</td>\n",
       "      <td>26</td>\n",
       "      <td>1</td>\n",
       "      <td>0</td>\n",
       "      <td>...</td>\n",
       "      <td>0</td>\n",
       "      <td>【基礎】找出最小公倍數</td>\n",
       "      <td>Exercise</td>\n",
       "      <td>easy</td>\n",
       "      <td>math</td>\n",
       "      <td>elementary</td>\n",
       "      <td>aH0Dz0KdH9gio7rrcGRHvrmd9vcd/0WJbeEFB7qeUKA=</td>\n",
       "      <td>7f73q332BKPBXaixasa4EkUb+pF6VAsLxNIg4506JJs=</td>\n",
       "      <td>ItasYR+er/FlZlRvL66/NB3wY0AvmlrZKoqe4gmPyD0=</td>\n",
       "      <td>VHYt8IeoqiIPVsB+32JAhIjK9jU+pnr11fL80QshARI=</td>\n",
       "    </tr>\n",
       "    <tr>\n",
       "      <th>2</th>\n",
       "      <td>6Lxz6aXvgyw3vZd3v8g6jgoCRDPOQzVPx/dnEC0o7DQ=</td>\n",
       "      <td>2018-09-05 20:00:00+00:00</td>\n",
       "      <td>g8DnYvIqpolw10XlwWeIWv6NbDPByUbmgH8EshJqBns=</td>\n",
       "      <td>YuGOmB+frbM8rfAa0RJE882R+IoMf9N89OiVqLbAHBw=</td>\n",
       "      <td>4</td>\n",
       "      <td>1</td>\n",
       "      <td>True</td>\n",
       "      <td>78</td>\n",
       "      <td>1</td>\n",
       "      <td>0</td>\n",
       "      <td>...</td>\n",
       "      <td>0</td>\n",
       "      <td>【基礎】尋找質因數</td>\n",
       "      <td>Exercise</td>\n",
       "      <td>easy</td>\n",
       "      <td>math</td>\n",
       "      <td>elementary</td>\n",
       "      <td>aH0Dz0KdH9gio7rrcGRHvrmd9vcd/0WJbeEFB7qeUKA=</td>\n",
       "      <td>7f73q332BKPBXaixasa4EkUb+pF6VAsLxNIg4506JJs=</td>\n",
       "      <td>ItasYR+er/FlZlRvL66/NB3wY0AvmlrZKoqe4gmPyD0=</td>\n",
       "      <td>DoAefIneFglvkxJ4Jb8VyB8JrESm9UEHtGyV4MqiwCo=</td>\n",
       "    </tr>\n",
       "    <tr>\n",
       "      <th>3</th>\n",
       "      <td>1fIjdakTApQp5PfWog87uOmM6JuoNE/oQq2y5/fMmfw=</td>\n",
       "      <td>2018-09-14 16:30:00+00:00</td>\n",
       "      <td>kSyUTFlepsYUD723IPL/jEZ520xaKbscrBmNtBUFR1o=</td>\n",
       "      <td>BG1RsWojzEHzV28RBm/1iKi1NyZgDcDomLYEJSV6lmo=</td>\n",
       "      <td>3</td>\n",
       "      <td>1</td>\n",
       "      <td>True</td>\n",
       "      <td>7</td>\n",
       "      <td>1</td>\n",
       "      <td>0</td>\n",
       "      <td>...</td>\n",
       "      <td>0</td>\n",
       "      <td>【基礎】數的相關名詞介紹</td>\n",
       "      <td>Exercise</td>\n",
       "      <td>easy</td>\n",
       "      <td>math</td>\n",
       "      <td>junior</td>\n",
       "      <td>aH0Dz0KdH9gio7rrcGRHvrmd9vcd/0WJbeEFB7qeUKA=</td>\n",
       "      <td>xYDz4OEv0xsri1IpmXlrgMLJ848rgySf+39xWpq4DBI=</td>\n",
       "      <td>/yqeM1FRP1rB9WuQWBkStMqrBQgjEexaeyWIhBC7ov4=</td>\n",
       "      <td>Vuo8t3kw/4IH80FuZ0l0uJPwpfrMs8SxhCbJA8zn3vU=</td>\n",
       "    </tr>\n",
       "    <tr>\n",
       "      <th>4</th>\n",
       "      <td>8V/NT6M+er2I3V3ZIWRNo4Qbo3Iad89PHbeeZeoZeF0=</td>\n",
       "      <td>2018-09-13 16:00:00+00:00</td>\n",
       "      <td>XMFbFA7C49+LRhUddhelfPpA6F5dbOoxeyL3eYbuTlY=</td>\n",
       "      <td>qPHR8aBqOhKij9IS/Y8IR8prwWruoDBGU1tVUhXDJkE=</td>\n",
       "      <td>12</td>\n",
       "      <td>1</td>\n",
       "      <td>True</td>\n",
       "      <td>48</td>\n",
       "      <td>1</td>\n",
       "      <td>0</td>\n",
       "      <td>...</td>\n",
       "      <td>0</td>\n",
       "      <td>【基礎】大數的加減</td>\n",
       "      <td>Exercise</td>\n",
       "      <td>easy</td>\n",
       "      <td>math</td>\n",
       "      <td>elementary</td>\n",
       "      <td>aH0Dz0KdH9gio7rrcGRHvrmd9vcd/0WJbeEFB7qeUKA=</td>\n",
       "      <td>7f73q332BKPBXaixasa4EkUb+pF6VAsLxNIg4506JJs=</td>\n",
       "      <td>scsWmkZsfmdmD2IzB24sQ1Au1BOXYgQEx9zO3+4glq8=</td>\n",
       "      <td>hq6uCe9NmtCc+0wlbGGIsxegP2cqYAdFebGd+v4/o8Q=</td>\n",
       "    </tr>\n",
       "  </tbody>\n",
       "</table>\n",
       "<p>5 rows × 35 columns</p>\n",
       "</div>"
      ],
      "text/plain": [
       "                                           upid          datetime_attempt  \\\n",
       "0  ZmKEZ0F2WFqhlL7KFfJcHEnZCZu0e4p+CVG5rSlyKYk= 2018-09-28 20:00:00+00:00   \n",
       "1  tO9dyvadKWMVQgEx/BXtRIYJ2TRJFQgwvcsBwFb4+xI= 2018-09-28 10:15:00+00:00   \n",
       "2  6Lxz6aXvgyw3vZd3v8g6jgoCRDPOQzVPx/dnEC0o7DQ= 2018-09-05 20:00:00+00:00   \n",
       "3  1fIjdakTApQp5PfWog87uOmM6JuoNE/oQq2y5/fMmfw= 2018-09-14 16:30:00+00:00   \n",
       "4  8V/NT6M+er2I3V3ZIWRNo4Qbo3Iad89PHbeeZeoZeF0= 2018-09-13 16:00:00+00:00   \n",
       "\n",
       "                                           uuid  \\\n",
       "0  Kpq2q+eKw/O+6/jLs3XJosgmI7weEJxJZdnkKTbbF8I=   \n",
       "1  0+VU/Zb0Q96uoByuRhl7r9bJuJO6CKWpsmNMEuijSzc=   \n",
       "2  g8DnYvIqpolw10XlwWeIWv6NbDPByUbmgH8EshJqBns=   \n",
       "3  kSyUTFlepsYUD723IPL/jEZ520xaKbscrBmNtBUFR1o=   \n",
       "4  XMFbFA7C49+LRhUddhelfPpA6F5dbOoxeyL3eYbuTlY=   \n",
       "\n",
       "                                           ucid  problem_number  \\\n",
       "0  Ps4dfShfpeMF3VG030HqZ2bsbD7PaVxvJYFTtroeSzQ=               2   \n",
       "1  /d39FzqaM3PZzpoMXxA80PMICsVhzfL6MGSCqZtsQOo=               6   \n",
       "2  YuGOmB+frbM8rfAa0RJE882R+IoMf9N89OiVqLbAHBw=               4   \n",
       "3  BG1RsWojzEHzV28RBm/1iKi1NyZgDcDomLYEJSV6lmo=               3   \n",
       "4  qPHR8aBqOhKij9IS/Y8IR8prwWruoDBGU1tVUhXDJkE=              12   \n",
       "\n",
       "   exercise_problem_repeat_session  is_correct  total_sec_taken  \\\n",
       "0                                1        True               11   \n",
       "1                                1        True               26   \n",
       "2                                1        True               78   \n",
       "3                                1        True                7   \n",
       "4                                1        True               48   \n",
       "\n",
       "   total_attempt_cnt  used_hint_cnt  ...  has_class_cnt  content_pretty_name  \\\n",
       "0                  1              0  ...              1            【基礎】倍數的應用   \n",
       "1                  1              0  ...              0          【基礎】找出最小公倍數   \n",
       "2                  1              0  ...              0            【基礎】尋找質因數   \n",
       "3                  1              0  ...              0         【基礎】數的相關名詞介紹   \n",
       "4                  1              0  ...              0            【基礎】大數的加減   \n",
       "\n",
       "   content_kind  difficulty subject learning_stage  \\\n",
       "0      Exercise        easy    math     elementary   \n",
       "1      Exercise        easy    math     elementary   \n",
       "2      Exercise        easy    math     elementary   \n",
       "3      Exercise        easy    math         junior   \n",
       "4      Exercise        easy    math     elementary   \n",
       "\n",
       "                                      level1_id  \\\n",
       "0  aH0Dz0KdH9gio7rrcGRHvrmd9vcd/0WJbeEFB7qeUKA=   \n",
       "1  aH0Dz0KdH9gio7rrcGRHvrmd9vcd/0WJbeEFB7qeUKA=   \n",
       "2  aH0Dz0KdH9gio7rrcGRHvrmd9vcd/0WJbeEFB7qeUKA=   \n",
       "3  aH0Dz0KdH9gio7rrcGRHvrmd9vcd/0WJbeEFB7qeUKA=   \n",
       "4  aH0Dz0KdH9gio7rrcGRHvrmd9vcd/0WJbeEFB7qeUKA=   \n",
       "\n",
       "                                      level2_id  \\\n",
       "0  7f73q332BKPBXaixasa4EkUb+pF6VAsLxNIg4506JJs=   \n",
       "1  7f73q332BKPBXaixasa4EkUb+pF6VAsLxNIg4506JJs=   \n",
       "2  7f73q332BKPBXaixasa4EkUb+pF6VAsLxNIg4506JJs=   \n",
       "3  xYDz4OEv0xsri1IpmXlrgMLJ848rgySf+39xWpq4DBI=   \n",
       "4  7f73q332BKPBXaixasa4EkUb+pF6VAsLxNIg4506JJs=   \n",
       "\n",
       "                                      level3_id  \\\n",
       "0  ItasYR+er/FlZlRvL66/NB3wY0AvmlrZKoqe4gmPyD0=   \n",
       "1  ItasYR+er/FlZlRvL66/NB3wY0AvmlrZKoqe4gmPyD0=   \n",
       "2  ItasYR+er/FlZlRvL66/NB3wY0AvmlrZKoqe4gmPyD0=   \n",
       "3  /yqeM1FRP1rB9WuQWBkStMqrBQgjEexaeyWIhBC7ov4=   \n",
       "4  scsWmkZsfmdmD2IzB24sQ1Au1BOXYgQEx9zO3+4glq8=   \n",
       "\n",
       "                                      level4_id  \n",
       "0  VHYt8IeoqiIPVsB+32JAhIjK9jU+pnr11fL80QshARI=  \n",
       "1  VHYt8IeoqiIPVsB+32JAhIjK9jU+pnr11fL80QshARI=  \n",
       "2  DoAefIneFglvkxJ4Jb8VyB8JrESm9UEHtGyV4MqiwCo=  \n",
       "3  Vuo8t3kw/4IH80FuZ0l0uJPwpfrMs8SxhCbJA8zn3vU=  \n",
       "4  hq6uCe9NmtCc+0wlbGGIsxegP2cqYAdFebGd+v4/o8Q=  \n",
       "\n",
       "[5 rows x 35 columns]"
      ]
     },
     "execution_count": 23,
     "metadata": {},
     "output_type": "execute_result"
    }
   ],
   "source": [
    "log_problem_info_userdata_info_content_df.head()"
   ]
  },
  {
   "cell_type": "code",
   "execution_count": 24,
   "metadata": {},
   "outputs": [
    {
     "name": "stdout",
     "output_type": "stream",
     "text": [
      "<class 'pandas.core.frame.DataFrame'>\n",
      "Int64Index: 4273203 entries, 0 to 4273202\n",
      "Data columns (total 35 columns):\n",
      " #   Column                           Dtype              \n",
      "---  ------                           -----              \n",
      " 0   upid                             object             \n",
      " 1   datetime_attempt                 datetime64[ns, UTC]\n",
      " 2   uuid                             object             \n",
      " 3   ucid                             object             \n",
      " 4   problem_number                   int64              \n",
      " 5   exercise_problem_repeat_session  int64              \n",
      " 6   is_correct                       bool               \n",
      " 7   total_sec_taken                  int64              \n",
      " 8   total_attempt_cnt                int64              \n",
      " 9   used_hint_cnt                    int64              \n",
      " 10  is_hint_used                     bool               \n",
      " 11  is_downgrade                     bool               \n",
      " 12  is_upgrade                       bool               \n",
      " 13  level                            int64              \n",
      " 14  date_attempt                     datetime64[ns]     \n",
      " 15  gender                           object             \n",
      " 16  points                           int64              \n",
      " 17  badges_cnt                       int64              \n",
      " 18  date_login                       datetime64[ns]     \n",
      " 19  user_grade                       int64              \n",
      " 20  user_city                        object             \n",
      " 21  has_teacher_cnt                  int64              \n",
      " 22  is_self_coach                    bool               \n",
      " 23  has_student_cnt                  int64              \n",
      " 24  belongs_to_class_cnt             int64              \n",
      " 25  has_class_cnt                    int64              \n",
      " 26  content_pretty_name              object             \n",
      " 27  content_kind                     object             \n",
      " 28  difficulty                       object             \n",
      " 29  subject                          object             \n",
      " 30  learning_stage                   object             \n",
      " 31  level1_id                        object             \n",
      " 32  level2_id                        object             \n",
      " 33  level3_id                        object             \n",
      " 34  level4_id                        object             \n",
      "dtypes: bool(5), datetime64[ns, UTC](1), datetime64[ns](2), int64(13), object(14)\n",
      "memory usage: 1.0+ GB\n"
     ]
    }
   ],
   "source": [
    "log_problem_info_userdata_info_content_df.info()"
   ]
  },
  {
   "cell_type": "code",
   "execution_count": 25,
   "metadata": {},
   "outputs": [
    {
     "data": {
      "text/plain": [
       "0         2018-09-05\n",
       "1         2018-09-07\n",
       "2         2018-09-05\n",
       "3         2018-09-14\n",
       "4         2018-09-11\n",
       "             ...    \n",
       "4273198   2018-08-09\n",
       "4273199   2018-09-11\n",
       "4273200   2018-09-06\n",
       "4273201   2018-09-03\n",
       "4273202   2018-09-05\n",
       "Name: date_login, Length: 4273203, dtype: datetime64[ns]"
      ]
     },
     "execution_count": 25,
     "metadata": {},
     "output_type": "execute_result"
    }
   ],
   "source": [
    "log_problem_info_userdata_info_content_df['date_login']"
   ]
  },
  {
   "cell_type": "code",
   "execution_count": 26,
   "metadata": {},
   "outputs": [
    {
     "data": {
      "text/plain": [
       "0         2018-09-28\n",
       "1         2018-09-28\n",
       "2         2018-09-05\n",
       "3         2018-09-14\n",
       "4         2018-09-13\n",
       "             ...    \n",
       "4273198   2018-09-23\n",
       "4273199   2018-09-18\n",
       "4273200   2018-09-17\n",
       "4273201   2018-09-29\n",
       "4273202   2018-09-13\n",
       "Name: date_attempt, Length: 4273203, dtype: datetime64[ns]"
      ]
     },
     "execution_count": 26,
     "metadata": {},
     "output_type": "execute_result"
    }
   ],
   "source": [
    "log_problem_info_userdata_info_content_df['date_attempt']"
   ]
  },
  {
   "cell_type": "code",
   "execution_count": 27,
   "metadata": {},
   "outputs": [],
   "source": [
    "log_problem_info_userdata_info_content_df['date_count'] = (log_problem_info_userdata_info_content_df['date_attempt'] - log_problem_info_userdata_info_content_df['date_login']).dt.days"
   ]
  },
  {
   "cell_type": "code",
   "execution_count": 48,
   "metadata": {},
   "outputs": [],
   "source": [
    "user_first_attempt = log_problem_info_userdata_info_content_df.sort_values('date_count').drop_duplicates('uuid')[['uuid','date_count']]"
   ]
  },
  {
   "cell_type": "code",
   "execution_count": 49,
   "metadata": {},
   "outputs": [
    {
     "data": {
      "text/html": [
       "<div>\n",
       "<style scoped>\n",
       "    .dataframe tbody tr th:only-of-type {\n",
       "        vertical-align: middle;\n",
       "    }\n",
       "\n",
       "    .dataframe tbody tr th {\n",
       "        vertical-align: top;\n",
       "    }\n",
       "\n",
       "    .dataframe thead th {\n",
       "        text-align: right;\n",
       "    }\n",
       "</style>\n",
       "<table border=\"1\" class=\"dataframe\">\n",
       "  <thead>\n",
       "    <tr style=\"text-align: right;\">\n",
       "      <th></th>\n",
       "      <th>uuid</th>\n",
       "      <th>date_count</th>\n",
       "    </tr>\n",
       "  </thead>\n",
       "  <tbody>\n",
       "    <tr>\n",
       "      <th>3115412</th>\n",
       "      <td>JusqfdyuRduoKEmZAs0PZhDOGjuSqsQiUvYGF1L1+xw=</td>\n",
       "      <td>-328</td>\n",
       "    </tr>\n",
       "    <tr>\n",
       "      <th>1371878</th>\n",
       "      <td>Ohw4cJaDNLkgSxDa01yHFGNNEnViYW5R5WX6bf0EY+Q=</td>\n",
       "      <td>-297</td>\n",
       "    </tr>\n",
       "    <tr>\n",
       "      <th>1864364</th>\n",
       "      <td>KDrU9L5cBtRrVqVfsPNVle9lnBRO65LWKNjLQ9/d8m8=</td>\n",
       "      <td>-270</td>\n",
       "    </tr>\n",
       "    <tr>\n",
       "      <th>1789345</th>\n",
       "      <td>clOon5FUrNe1OCF3XCZcP1Q3u2WXC1VpugS1a60S0Zg=</td>\n",
       "      <td>-269</td>\n",
       "    </tr>\n",
       "    <tr>\n",
       "      <th>629779</th>\n",
       "      <td>GTa5iGKt8UBfDJVQepMA57fybwVUqm1lW3Owio3X6kI=</td>\n",
       "      <td>-254</td>\n",
       "    </tr>\n",
       "    <tr>\n",
       "      <th>...</th>\n",
       "      <td>...</td>\n",
       "      <td>...</td>\n",
       "    </tr>\n",
       "    <tr>\n",
       "      <th>678293</th>\n",
       "      <td>nNb3j5ROVENVzQnl7m42izZjj6V+97Z3CEwEvNQDYwk=</td>\n",
       "      <td>112</td>\n",
       "    </tr>\n",
       "    <tr>\n",
       "      <th>3670422</th>\n",
       "      <td>NTrmUfzBKB1ha9EzCWe8XU04pgZMbKLciGhwd5FCwUA=</td>\n",
       "      <td>114</td>\n",
       "    </tr>\n",
       "    <tr>\n",
       "      <th>3051806</th>\n",
       "      <td>08eivYx1h8eiFZmCx4wYPKLNnsZrgYeTYhgBregm3Ms=</td>\n",
       "      <td>115</td>\n",
       "    </tr>\n",
       "    <tr>\n",
       "      <th>3381879</th>\n",
       "      <td>JoD4HniCQoGg4hPMSu1g6PAm7bk07hq2aDys9TDU4xQ=</td>\n",
       "      <td>117</td>\n",
       "    </tr>\n",
       "    <tr>\n",
       "      <th>1925576</th>\n",
       "      <td>lIW6h/WN21I3Q9e/ki9Kvbi/rHuQxJrpLuzMC6bGI+I=</td>\n",
       "      <td>117</td>\n",
       "    </tr>\n",
       "  </tbody>\n",
       "</table>\n",
       "<p>34421 rows × 2 columns</p>\n",
       "</div>"
      ],
      "text/plain": [
       "                                                 uuid  date_count\n",
       "3115412  JusqfdyuRduoKEmZAs0PZhDOGjuSqsQiUvYGF1L1+xw=        -328\n",
       "1371878  Ohw4cJaDNLkgSxDa01yHFGNNEnViYW5R5WX6bf0EY+Q=        -297\n",
       "1864364  KDrU9L5cBtRrVqVfsPNVle9lnBRO65LWKNjLQ9/d8m8=        -270\n",
       "1789345  clOon5FUrNe1OCF3XCZcP1Q3u2WXC1VpugS1a60S0Zg=        -269\n",
       "629779   GTa5iGKt8UBfDJVQepMA57fybwVUqm1lW3Owio3X6kI=        -254\n",
       "...                                               ...         ...\n",
       "678293   nNb3j5ROVENVzQnl7m42izZjj6V+97Z3CEwEvNQDYwk=         112\n",
       "3670422  NTrmUfzBKB1ha9EzCWe8XU04pgZMbKLciGhwd5FCwUA=         114\n",
       "3051806  08eivYx1h8eiFZmCx4wYPKLNnsZrgYeTYhgBregm3Ms=         115\n",
       "3381879  JoD4HniCQoGg4hPMSu1g6PAm7bk07hq2aDys9TDU4xQ=         117\n",
       "1925576  lIW6h/WN21I3Q9e/ki9Kvbi/rHuQxJrpLuzMC6bGI+I=         117\n",
       "\n",
       "[34421 rows x 2 columns]"
      ]
     },
     "execution_count": 49,
     "metadata": {},
     "output_type": "execute_result"
    }
   ],
   "source": [
    "user_first_attempt"
   ]
  },
  {
   "cell_type": "code",
   "execution_count": 50,
   "metadata": {},
   "outputs": [
    {
     "data": {
      "text/html": [
       "<div>\n",
       "<style scoped>\n",
       "    .dataframe tbody tr th:only-of-type {\n",
       "        vertical-align: middle;\n",
       "    }\n",
       "\n",
       "    .dataframe tbody tr th {\n",
       "        vertical-align: top;\n",
       "    }\n",
       "\n",
       "    .dataframe thead th {\n",
       "        text-align: right;\n",
       "    }\n",
       "</style>\n",
       "<table border=\"1\" class=\"dataframe\">\n",
       "  <thead>\n",
       "    <tr style=\"text-align: right;\">\n",
       "      <th></th>\n",
       "      <th>uuid</th>\n",
       "      <th>date_count</th>\n",
       "    </tr>\n",
       "  </thead>\n",
       "  <tbody>\n",
       "    <tr>\n",
       "      <th>3115412</th>\n",
       "      <td>JusqfdyuRduoKEmZAs0PZhDOGjuSqsQiUvYGF1L1+xw=</td>\n",
       "      <td>-328</td>\n",
       "    </tr>\n",
       "    <tr>\n",
       "      <th>1371878</th>\n",
       "      <td>Ohw4cJaDNLkgSxDa01yHFGNNEnViYW5R5WX6bf0EY+Q=</td>\n",
       "      <td>-297</td>\n",
       "    </tr>\n",
       "    <tr>\n",
       "      <th>1864364</th>\n",
       "      <td>KDrU9L5cBtRrVqVfsPNVle9lnBRO65LWKNjLQ9/d8m8=</td>\n",
       "      <td>-270</td>\n",
       "    </tr>\n",
       "    <tr>\n",
       "      <th>1789345</th>\n",
       "      <td>clOon5FUrNe1OCF3XCZcP1Q3u2WXC1VpugS1a60S0Zg=</td>\n",
       "      <td>-269</td>\n",
       "    </tr>\n",
       "    <tr>\n",
       "      <th>629779</th>\n",
       "      <td>GTa5iGKt8UBfDJVQepMA57fybwVUqm1lW3Owio3X6kI=</td>\n",
       "      <td>-254</td>\n",
       "    </tr>\n",
       "    <tr>\n",
       "      <th>...</th>\n",
       "      <td>...</td>\n",
       "      <td>...</td>\n",
       "    </tr>\n",
       "    <tr>\n",
       "      <th>1823539</th>\n",
       "      <td>RTATj7xFjppbtGh3uaVnJ/hXsw2ijB8aFpLl/gDWuqM=</td>\n",
       "      <td>-1</td>\n",
       "    </tr>\n",
       "    <tr>\n",
       "      <th>3975827</th>\n",
       "      <td>H/ihozxpLETFl/dI8Dtr1HgNWsj8GXxFGZ6h7/aDmnI=</td>\n",
       "      <td>-1</td>\n",
       "    </tr>\n",
       "    <tr>\n",
       "      <th>1749015</th>\n",
       "      <td>nhZfUaB1m0M3c8NSb2lYkcDZunck7T8v2NMgI6ZqsK4=</td>\n",
       "      <td>-1</td>\n",
       "    </tr>\n",
       "    <tr>\n",
       "      <th>3552248</th>\n",
       "      <td>BNDttkvFrxHYDBdTPHBV7XS/1YwXgDSKMHR1YKO/k3Q=</td>\n",
       "      <td>-1</td>\n",
       "    </tr>\n",
       "    <tr>\n",
       "      <th>2199227</th>\n",
       "      <td>9AAPuQnqwG5t9EvHz/sVrncqvDFJstJpTr52CwG3rkQ=</td>\n",
       "      <td>-1</td>\n",
       "    </tr>\n",
       "  </tbody>\n",
       "</table>\n",
       "<p>540 rows × 2 columns</p>\n",
       "</div>"
      ],
      "text/plain": [
       "                                                 uuid  date_count\n",
       "3115412  JusqfdyuRduoKEmZAs0PZhDOGjuSqsQiUvYGF1L1+xw=        -328\n",
       "1371878  Ohw4cJaDNLkgSxDa01yHFGNNEnViYW5R5WX6bf0EY+Q=        -297\n",
       "1864364  KDrU9L5cBtRrVqVfsPNVle9lnBRO65LWKNjLQ9/d8m8=        -270\n",
       "1789345  clOon5FUrNe1OCF3XCZcP1Q3u2WXC1VpugS1a60S0Zg=        -269\n",
       "629779   GTa5iGKt8UBfDJVQepMA57fybwVUqm1lW3Owio3X6kI=        -254\n",
       "...                                               ...         ...\n",
       "1823539  RTATj7xFjppbtGh3uaVnJ/hXsw2ijB8aFpLl/gDWuqM=          -1\n",
       "3975827  H/ihozxpLETFl/dI8Dtr1HgNWsj8GXxFGZ6h7/aDmnI=          -1\n",
       "1749015  nhZfUaB1m0M3c8NSb2lYkcDZunck7T8v2NMgI6ZqsK4=          -1\n",
       "3552248  BNDttkvFrxHYDBdTPHBV7XS/1YwXgDSKMHR1YKO/k3Q=          -1\n",
       "2199227  9AAPuQnqwG5t9EvHz/sVrncqvDFJstJpTr52CwG3rkQ=          -1\n",
       "\n",
       "[540 rows x 2 columns]"
      ]
     },
     "execution_count": 50,
     "metadata": {},
     "output_type": "execute_result"
    }
   ],
   "source": [
    "user_first_attempt[user_first_attempt.date_count < 0]"
   ]
  },
  {
   "cell_type": "code",
   "execution_count": 53,
   "metadata": {},
   "outputs": [
    {
     "data": {
      "text/html": [
       "<div>\n",
       "<style scoped>\n",
       "    .dataframe tbody tr th:only-of-type {\n",
       "        vertical-align: middle;\n",
       "    }\n",
       "\n",
       "    .dataframe tbody tr th {\n",
       "        vertical-align: top;\n",
       "    }\n",
       "\n",
       "    .dataframe thead th {\n",
       "        text-align: right;\n",
       "    }\n",
       "</style>\n",
       "<table border=\"1\" class=\"dataframe\">\n",
       "  <thead>\n",
       "    <tr style=\"text-align: right;\">\n",
       "      <th></th>\n",
       "      <th>uuid</th>\n",
       "      <th>date_count</th>\n",
       "    </tr>\n",
       "  </thead>\n",
       "  <tbody>\n",
       "    <tr>\n",
       "      <th>3181417</th>\n",
       "      <td>H3WhWZhw/6RU8rFEiN+sBRJXpYjVGl7npJxoaFJWIXU=</td>\n",
       "      <td>0</td>\n",
       "    </tr>\n",
       "    <tr>\n",
       "      <th>3182410</th>\n",
       "      <td>0jSoM69QzVXfrartw0vlYrtVFjwtrNtiUSvES5ADv/A=</td>\n",
       "      <td>0</td>\n",
       "    </tr>\n",
       "    <tr>\n",
       "      <th>460988</th>\n",
       "      <td>OcHOxZCDdYNbEuDq6SLqSTdRyfj9S/CYbpaDjI0Y340=</td>\n",
       "      <td>0</td>\n",
       "    </tr>\n",
       "    <tr>\n",
       "      <th>2369408</th>\n",
       "      <td>MkUgLDAXKm914OxH+KXVhSwdY6UpwFO21s4GWzQl4i4=</td>\n",
       "      <td>0</td>\n",
       "    </tr>\n",
       "    <tr>\n",
       "      <th>1825614</th>\n",
       "      <td>hinvqYdsXQY3wD/W5iqKOFTreZ1q+Er4Qqdmi7r6NIc=</td>\n",
       "      <td>0</td>\n",
       "    </tr>\n",
       "    <tr>\n",
       "      <th>...</th>\n",
       "      <td>...</td>\n",
       "      <td>...</td>\n",
       "    </tr>\n",
       "    <tr>\n",
       "      <th>678293</th>\n",
       "      <td>nNb3j5ROVENVzQnl7m42izZjj6V+97Z3CEwEvNQDYwk=</td>\n",
       "      <td>112</td>\n",
       "    </tr>\n",
       "    <tr>\n",
       "      <th>3670422</th>\n",
       "      <td>NTrmUfzBKB1ha9EzCWe8XU04pgZMbKLciGhwd5FCwUA=</td>\n",
       "      <td>114</td>\n",
       "    </tr>\n",
       "    <tr>\n",
       "      <th>3051806</th>\n",
       "      <td>08eivYx1h8eiFZmCx4wYPKLNnsZrgYeTYhgBregm3Ms=</td>\n",
       "      <td>115</td>\n",
       "    </tr>\n",
       "    <tr>\n",
       "      <th>3381879</th>\n",
       "      <td>JoD4HniCQoGg4hPMSu1g6PAm7bk07hq2aDys9TDU4xQ=</td>\n",
       "      <td>117</td>\n",
       "    </tr>\n",
       "    <tr>\n",
       "      <th>1925576</th>\n",
       "      <td>lIW6h/WN21I3Q9e/ki9Kvbi/rHuQxJrpLuzMC6bGI+I=</td>\n",
       "      <td>117</td>\n",
       "    </tr>\n",
       "  </tbody>\n",
       "</table>\n",
       "<p>33881 rows × 2 columns</p>\n",
       "</div>"
      ],
      "text/plain": [
       "                                                 uuid  date_count\n",
       "3181417  H3WhWZhw/6RU8rFEiN+sBRJXpYjVGl7npJxoaFJWIXU=           0\n",
       "3182410  0jSoM69QzVXfrartw0vlYrtVFjwtrNtiUSvES5ADv/A=           0\n",
       "460988   OcHOxZCDdYNbEuDq6SLqSTdRyfj9S/CYbpaDjI0Y340=           0\n",
       "2369408  MkUgLDAXKm914OxH+KXVhSwdY6UpwFO21s4GWzQl4i4=           0\n",
       "1825614  hinvqYdsXQY3wD/W5iqKOFTreZ1q+Er4Qqdmi7r6NIc=           0\n",
       "...                                               ...         ...\n",
       "678293   nNb3j5ROVENVzQnl7m42izZjj6V+97Z3CEwEvNQDYwk=         112\n",
       "3670422  NTrmUfzBKB1ha9EzCWe8XU04pgZMbKLciGhwd5FCwUA=         114\n",
       "3051806  08eivYx1h8eiFZmCx4wYPKLNnsZrgYeTYhgBregm3Ms=         115\n",
       "3381879  JoD4HniCQoGg4hPMSu1g6PAm7bk07hq2aDys9TDU4xQ=         117\n",
       "1925576  lIW6h/WN21I3Q9e/ki9Kvbi/rHuQxJrpLuzMC6bGI+I=         117\n",
       "\n",
       "[33881 rows x 2 columns]"
      ]
     },
     "execution_count": 53,
     "metadata": {},
     "output_type": "execute_result"
    }
   ],
   "source": [
    "user_first_attempt[user_first_attempt.date_count >= 0]"
   ]
  },
  {
   "cell_type": "code",
   "execution_count": 54,
   "metadata": {},
   "outputs": [],
   "source": [
    "user_first_attempt = user_first_attempt[user_first_attempt.date_count >= 0]"
   ]
  },
  {
   "cell_type": "markdown",
   "metadata": {},
   "source": [
    "The author used inner join to remove those users who do not do any exercises at all."
   ]
  },
  {
   "cell_type": "code",
   "execution_count": 58,
   "metadata": {},
   "outputs": [],
   "source": [
    "info_userdata_df = info_userdata_df.merge(user_first_attempt[['uuid','date_count']],how='inner',on='uuid')"
   ]
  },
  {
   "cell_type": "code",
   "execution_count": 59,
   "metadata": {},
   "outputs": [
    {
     "data": {
      "text/plain": [
       "(33881, 13)"
      ]
     },
     "execution_count": 59,
     "metadata": {},
     "output_type": "execute_result"
    }
   ],
   "source": [
    "info_userdata_df.shape"
   ]
  },
  {
   "cell_type": "code",
   "execution_count": 60,
   "metadata": {},
   "outputs": [
    {
     "data": {
      "text/plain": [
       "count    33881.000000\n",
       "mean         4.527346\n",
       "std         11.573579\n",
       "min          0.000000\n",
       "25%          0.000000\n",
       "50%          0.000000\n",
       "75%          3.000000\n",
       "max        117.000000\n",
       "Name: date_count, dtype: float64"
      ]
     },
     "execution_count": 60,
     "metadata": {},
     "output_type": "execute_result"
    }
   ],
   "source": [
    "info_userdata_df['date_count'].describe()"
   ]
  },
  {
   "cell_type": "markdown",
   "metadata": {},
   "source": [
    "### View the distribution plot day of month"
   ]
  },
  {
   "cell_type": "code",
   "execution_count": 38,
   "metadata": {},
   "outputs": [
    {
     "data": {
      "text/plain": [
       "3030852    7\n",
       "3106405    7\n",
       "18740      7\n",
       "650573     7\n",
       "40167      7\n",
       "Name: datetime_attempt, dtype: int64"
      ]
     },
     "execution_count": 38,
     "metadata": {},
     "output_type": "execute_result"
    }
   ],
   "source": [
    "hour_of_day_problem = log_problem_df['datetime_attempt'].dt.hour\n",
    "hour_of_day_problem.head()"
   ]
  },
  {
   "cell_type": "code",
   "execution_count": 39,
   "metadata": {},
   "outputs": [
    {
     "data": {
      "text/plain": [
       "<matplotlib.axes._subplots.AxesSubplot at 0x1e91e15acc8>"
      ]
     },
     "execution_count": 39,
     "metadata": {},
     "output_type": "execute_result"
    },
    {
     "data": {
      "image/png": "[encoded data removed]",
      "text/plain": [
       "<Figure size 432x288 with 1 Axes>"
      ]
     },
     "metadata": {
      "needs_background": "light"
     },
     "output_type": "display_data"
    }
   ],
   "source": [
    "# remove na's\n",
    "hour_of_day_problem = hour_of_day_problem.dropna()\n",
    "\n",
    "# plot the day of the month\n",
    "sns.distplot(hour_of_day_problem, kde=False, bins=24)"
   ]
  },
  {
   "cell_type": "code",
   "execution_count": 40,
   "metadata": {},
   "outputs": [],
   "source": [
    "log_problem_df['hour_of_day'] = hour_of_day_problem"
   ]
  },
  {
   "cell_type": "code",
   "execution_count": 41,
   "metadata": {},
   "outputs": [
    {
     "data": {
      "text/html": [
       "<div>\n",
       "<style scoped>\n",
       "    .dataframe tbody tr th:only-of-type {\n",
       "        vertical-align: middle;\n",
       "    }\n",
       "\n",
       "    .dataframe tbody tr th {\n",
       "        vertical-align: top;\n",
       "    }\n",
       "\n",
       "    .dataframe thead th {\n",
       "        text-align: right;\n",
       "    }\n",
       "</style>\n",
       "<table border=\"1\" class=\"dataframe\">\n",
       "  <thead>\n",
       "    <tr style=\"text-align: right;\">\n",
       "      <th></th>\n",
       "      <th>upid</th>\n",
       "      <th>datetime_attempt</th>\n",
       "      <th>uuid</th>\n",
       "      <th>ucid</th>\n",
       "      <th>problem_number</th>\n",
       "      <th>exercise_problem_repeat_session</th>\n",
       "      <th>is_correct</th>\n",
       "      <th>total_sec_taken</th>\n",
       "      <th>total_attempt_cnt</th>\n",
       "      <th>used_hint_cnt</th>\n",
       "      <th>is_hint_used</th>\n",
       "      <th>is_downgrade</th>\n",
       "      <th>is_upgrade</th>\n",
       "      <th>level</th>\n",
       "      <th>date_attempt</th>\n",
       "      <th>hour_of_day</th>\n",
       "    </tr>\n",
       "  </thead>\n",
       "  <tbody>\n",
       "    <tr>\n",
       "      <th>3030852</th>\n",
       "      <td>2Q787l3L0G7f5P0iSWUE4hCfJfYo9uHL4pWV1U45JoQ=</td>\n",
       "      <td>2018-08-01 07:45:00+00:00</td>\n",
       "      <td>U+lqK/FKWkPuoNUM1AbGyrKZfXeQrRRoKOToKrjqDt4=</td>\n",
       "      <td>hv7kHCAIdj7thZUmlqz553leG5bFNYgzXmLfB5m4Xvw=</td>\n",
       "      <td>1</td>\n",
       "      <td>1</td>\n",
       "      <td>True</td>\n",
       "      <td>10</td>\n",
       "      <td>1</td>\n",
       "      <td>0</td>\n",
       "      <td>False</td>\n",
       "      <td>False</td>\n",
       "      <td>False</td>\n",
       "      <td>0</td>\n",
       "      <td>2018-08-01</td>\n",
       "      <td>7</td>\n",
       "    </tr>\n",
       "    <tr>\n",
       "      <th>3106405</th>\n",
       "      <td>/Wgjdl2BsldHZDdXXvzwGimusaMX548lqV2b7PgwXAs=</td>\n",
       "      <td>2018-08-01 07:45:00+00:00</td>\n",
       "      <td>U+lqK/FKWkPuoNUM1AbGyrKZfXeQrRRoKOToKrjqDt4=</td>\n",
       "      <td>CPI+5YCeEmhqdk6znJeii6jJUNl1QWGEvwCUJ6uLflg=</td>\n",
       "      <td>1</td>\n",
       "      <td>1</td>\n",
       "      <td>True</td>\n",
       "      <td>10</td>\n",
       "      <td>1</td>\n",
       "      <td>0</td>\n",
       "      <td>False</td>\n",
       "      <td>False</td>\n",
       "      <td>False</td>\n",
       "      <td>0</td>\n",
       "      <td>2018-08-01</td>\n",
       "      <td>7</td>\n",
       "    </tr>\n",
       "    <tr>\n",
       "      <th>18740</th>\n",
       "      <td>9Ksy3bdm0HTi0D+cdKSBKDQJjo5GNahep91FqHUrpts=</td>\n",
       "      <td>2018-08-01 07:45:00+00:00</td>\n",
       "      <td>U+lqK/FKWkPuoNUM1AbGyrKZfXeQrRRoKOToKrjqDt4=</td>\n",
       "      <td>CPI+5YCeEmhqdk6znJeii6jJUNl1QWGEvwCUJ6uLflg=</td>\n",
       "      <td>2</td>\n",
       "      <td>1</td>\n",
       "      <td>True</td>\n",
       "      <td>8</td>\n",
       "      <td>1</td>\n",
       "      <td>0</td>\n",
       "      <td>False</td>\n",
       "      <td>False</td>\n",
       "      <td>False</td>\n",
       "      <td>0</td>\n",
       "      <td>2018-08-01</td>\n",
       "      <td>7</td>\n",
       "    </tr>\n",
       "    <tr>\n",
       "      <th>650573</th>\n",
       "      <td>hYmhOfMMKaQNTrGze5TdATN0HNGJUEjDIYQaocuD4QY=</td>\n",
       "      <td>2018-08-01 07:45:00+00:00</td>\n",
       "      <td>U+lqK/FKWkPuoNUM1AbGyrKZfXeQrRRoKOToKrjqDt4=</td>\n",
       "      <td>hv7kHCAIdj7thZUmlqz553leG5bFNYgzXmLfB5m4Xvw=</td>\n",
       "      <td>2</td>\n",
       "      <td>1</td>\n",
       "      <td>True</td>\n",
       "      <td>6</td>\n",
       "      <td>1</td>\n",
       "      <td>0</td>\n",
       "      <td>False</td>\n",
       "      <td>False</td>\n",
       "      <td>False</td>\n",
       "      <td>0</td>\n",
       "      <td>2018-08-01</td>\n",
       "      <td>7</td>\n",
       "    </tr>\n",
       "    <tr>\n",
       "      <th>40167</th>\n",
       "      <td>VMScsPmyKXsk5k7+abPqyEbDFRSsCE2XZs5lMKHQHEM=</td>\n",
       "      <td>2018-08-01 07:45:00+00:00</td>\n",
       "      <td>U+lqK/FKWkPuoNUM1AbGyrKZfXeQrRRoKOToKrjqDt4=</td>\n",
       "      <td>hv7kHCAIdj7thZUmlqz553leG5bFNYgzXmLfB5m4Xvw=</td>\n",
       "      <td>3</td>\n",
       "      <td>1</td>\n",
       "      <td>True</td>\n",
       "      <td>7</td>\n",
       "      <td>1</td>\n",
       "      <td>0</td>\n",
       "      <td>False</td>\n",
       "      <td>False</td>\n",
       "      <td>False</td>\n",
       "      <td>0</td>\n",
       "      <td>2018-08-01</td>\n",
       "      <td>7</td>\n",
       "    </tr>\n",
       "  </tbody>\n",
       "</table>\n",
       "</div>"
      ],
      "text/plain": [
       "                                                 upid  \\\n",
       "3030852  2Q787l3L0G7f5P0iSWUE4hCfJfYo9uHL4pWV1U45JoQ=   \n",
       "3106405  /Wgjdl2BsldHZDdXXvzwGimusaMX548lqV2b7PgwXAs=   \n",
       "18740    9Ksy3bdm0HTi0D+cdKSBKDQJjo5GNahep91FqHUrpts=   \n",
       "650573   hYmhOfMMKaQNTrGze5TdATN0HNGJUEjDIYQaocuD4QY=   \n",
       "40167    VMScsPmyKXsk5k7+abPqyEbDFRSsCE2XZs5lMKHQHEM=   \n",
       "\n",
       "                 datetime_attempt  \\\n",
       "3030852 2018-08-01 07:45:00+00:00   \n",
       "3106405 2018-08-01 07:45:00+00:00   \n",
       "18740   2018-08-01 07:45:00+00:00   \n",
       "650573  2018-08-01 07:45:00+00:00   \n",
       "40167   2018-08-01 07:45:00+00:00   \n",
       "\n",
       "                                                 uuid  \\\n",
       "3030852  U+lqK/FKWkPuoNUM1AbGyrKZfXeQrRRoKOToKrjqDt4=   \n",
       "3106405  U+lqK/FKWkPuoNUM1AbGyrKZfXeQrRRoKOToKrjqDt4=   \n",
       "18740    U+lqK/FKWkPuoNUM1AbGyrKZfXeQrRRoKOToKrjqDt4=   \n",
       "650573   U+lqK/FKWkPuoNUM1AbGyrKZfXeQrRRoKOToKrjqDt4=   \n",
       "40167    U+lqK/FKWkPuoNUM1AbGyrKZfXeQrRRoKOToKrjqDt4=   \n",
       "\n",
       "                                                 ucid  problem_number  \\\n",
       "3030852  hv7kHCAIdj7thZUmlqz553leG5bFNYgzXmLfB5m4Xvw=               1   \n",
       "3106405  CPI+5YCeEmhqdk6znJeii6jJUNl1QWGEvwCUJ6uLflg=               1   \n",
       "18740    CPI+5YCeEmhqdk6znJeii6jJUNl1QWGEvwCUJ6uLflg=               2   \n",
       "650573   hv7kHCAIdj7thZUmlqz553leG5bFNYgzXmLfB5m4Xvw=               2   \n",
       "40167    hv7kHCAIdj7thZUmlqz553leG5bFNYgzXmLfB5m4Xvw=               3   \n",
       "\n",
       "         exercise_problem_repeat_session  is_correct  total_sec_taken  \\\n",
       "3030852                                1        True               10   \n",
       "3106405                                1        True               10   \n",
       "18740                                  1        True                8   \n",
       "650573                                 1        True                6   \n",
       "40167                                  1        True                7   \n",
       "\n",
       "         total_attempt_cnt  used_hint_cnt  is_hint_used  is_downgrade  \\\n",
       "3030852                  1              0         False         False   \n",
       "3106405                  1              0         False         False   \n",
       "18740                    1              0         False         False   \n",
       "650573                   1              0         False         False   \n",
       "40167                    1              0         False         False   \n",
       "\n",
       "         is_upgrade  level date_attempt  hour_of_day  \n",
       "3030852       False      0   2018-08-01            7  \n",
       "3106405       False      0   2018-08-01            7  \n",
       "18740         False      0   2018-08-01            7  \n",
       "650573        False      0   2018-08-01            7  \n",
       "40167         False      0   2018-08-01            7  "
      ]
     },
     "execution_count": 41,
     "metadata": {},
     "output_type": "execute_result"
    }
   ],
   "source": [
    "log_problem_df.head()"
   ]
  },
  {
   "cell_type": "code",
   "execution_count": 42,
   "metadata": {},
   "outputs": [
    {
     "data": {
      "text/plain": [
       "0    1\n",
       "1    1\n",
       "2    1\n",
       "3    1\n",
       "4    1\n",
       "Name: date_login, dtype: int64"
      ]
     },
     "execution_count": 42,
     "metadata": {},
     "output_type": "execute_result"
    }
   ],
   "source": [
    "# get the day of the month from the date_parsed column\n",
    "day_of_month_userdata = info_userdata_df['date_login'].dt.day\n",
    "day_of_month_userdata.head()"
   ]
  },
  {
   "cell_type": "code",
   "execution_count": 43,
   "metadata": {},
   "outputs": [
    {
     "data": {
      "text/plain": [
       "<matplotlib.axes._subplots.AxesSubplot at 0x1e91dce6448>"
      ]
     },
     "execution_count": 43,
     "metadata": {},
     "output_type": "execute_result"
    },
    {
     "data": {
      "image/png": "[encoded data removed]",
      "text/plain": [
       "<Figure size 432x288 with 1 Axes>"
      ]
     },
     "metadata": {
      "needs_background": "light"
     },
     "output_type": "display_data"
    }
   ],
   "source": [
    "# remove na's\n",
    "day_of_month_userdata = day_of_month_userdata.dropna()\n",
    "\n",
    "# plot the day of the month\n",
    "sns.distplot(day_of_month_userdata, kde=False, bins=31)"
   ]
  },
  {
   "cell_type": "code",
   "execution_count": 44,
   "metadata": {},
   "outputs": [],
   "source": [
    "info_userdata_df['day_of_month'] = day_of_month_userdata"
   ]
  },
  {
   "cell_type": "code",
   "execution_count": 45,
   "metadata": {},
   "outputs": [
    {
     "data": {
      "text/html": [
       "<div>\n",
       "<style scoped>\n",
       "    .dataframe tbody tr th:only-of-type {\n",
       "        vertical-align: middle;\n",
       "    }\n",
       "\n",
       "    .dataframe tbody tr th {\n",
       "        vertical-align: top;\n",
       "    }\n",
       "\n",
       "    .dataframe thead th {\n",
       "        text-align: right;\n",
       "    }\n",
       "</style>\n",
       "<table border=\"1\" class=\"dataframe\">\n",
       "  <thead>\n",
       "    <tr style=\"text-align: right;\">\n",
       "      <th></th>\n",
       "      <th>uuid</th>\n",
       "      <th>gender</th>\n",
       "      <th>points</th>\n",
       "      <th>badges_cnt</th>\n",
       "      <th>date_login</th>\n",
       "      <th>user_grade</th>\n",
       "      <th>user_city</th>\n",
       "      <th>has_teacher_cnt</th>\n",
       "      <th>is_self_coach</th>\n",
       "      <th>has_student_cnt</th>\n",
       "      <th>belongs_to_class_cnt</th>\n",
       "      <th>has_class_cnt</th>\n",
       "      <th>date_count</th>\n",
       "      <th>day_of_month</th>\n",
       "    </tr>\n",
       "  </thead>\n",
       "  <tbody>\n",
       "    <tr>\n",
       "      <th>0</th>\n",
       "      <td>wH1/Qs32k0Ti18bqWb1PxGfnveo4530CBZTZ/y7uW3k=</td>\n",
       "      <td>unspecified</td>\n",
       "      <td>32769</td>\n",
       "      <td>6</td>\n",
       "      <td>2018-08-01</td>\n",
       "      <td>6</td>\n",
       "      <td>cy</td>\n",
       "      <td>1</td>\n",
       "      <td>False</td>\n",
       "      <td>0</td>\n",
       "      <td>1</td>\n",
       "      <td>0</td>\n",
       "      <td>0</td>\n",
       "      <td>1</td>\n",
       "    </tr>\n",
       "    <tr>\n",
       "      <th>1</th>\n",
       "      <td>wH1/Qs32k0Ti18bqWb1PxGfnveo4530CBZTZ/y7uW3k=</td>\n",
       "      <td>unspecified</td>\n",
       "      <td>32769</td>\n",
       "      <td>6</td>\n",
       "      <td>2018-08-01</td>\n",
       "      <td>6</td>\n",
       "      <td>cy</td>\n",
       "      <td>1</td>\n",
       "      <td>False</td>\n",
       "      <td>0</td>\n",
       "      <td>1</td>\n",
       "      <td>0</td>\n",
       "      <td>0</td>\n",
       "      <td>1</td>\n",
       "    </tr>\n",
       "    <tr>\n",
       "      <th>2</th>\n",
       "      <td>wH1/Qs32k0Ti18bqWb1PxGfnveo4530CBZTZ/y7uW3k=</td>\n",
       "      <td>unspecified</td>\n",
       "      <td>32769</td>\n",
       "      <td>6</td>\n",
       "      <td>2018-08-01</td>\n",
       "      <td>6</td>\n",
       "      <td>cy</td>\n",
       "      <td>1</td>\n",
       "      <td>False</td>\n",
       "      <td>0</td>\n",
       "      <td>1</td>\n",
       "      <td>0</td>\n",
       "      <td>0</td>\n",
       "      <td>1</td>\n",
       "    </tr>\n",
       "    <tr>\n",
       "      <th>3</th>\n",
       "      <td>wH1/Qs32k0Ti18bqWb1PxGfnveo4530CBZTZ/y7uW3k=</td>\n",
       "      <td>unspecified</td>\n",
       "      <td>32769</td>\n",
       "      <td>6</td>\n",
       "      <td>2018-08-01</td>\n",
       "      <td>6</td>\n",
       "      <td>cy</td>\n",
       "      <td>1</td>\n",
       "      <td>False</td>\n",
       "      <td>0</td>\n",
       "      <td>1</td>\n",
       "      <td>0</td>\n",
       "      <td>0</td>\n",
       "      <td>1</td>\n",
       "    </tr>\n",
       "    <tr>\n",
       "      <th>4</th>\n",
       "      <td>wH1/Qs32k0Ti18bqWb1PxGfnveo4530CBZTZ/y7uW3k=</td>\n",
       "      <td>unspecified</td>\n",
       "      <td>32769</td>\n",
       "      <td>6</td>\n",
       "      <td>2018-08-01</td>\n",
       "      <td>6</td>\n",
       "      <td>cy</td>\n",
       "      <td>1</td>\n",
       "      <td>False</td>\n",
       "      <td>0</td>\n",
       "      <td>1</td>\n",
       "      <td>0</td>\n",
       "      <td>0</td>\n",
       "      <td>1</td>\n",
       "    </tr>\n",
       "  </tbody>\n",
       "</table>\n",
       "</div>"
      ],
      "text/plain": [
       "                                           uuid       gender  points  \\\n",
       "0  wH1/Qs32k0Ti18bqWb1PxGfnveo4530CBZTZ/y7uW3k=  unspecified   32769   \n",
       "1  wH1/Qs32k0Ti18bqWb1PxGfnveo4530CBZTZ/y7uW3k=  unspecified   32769   \n",
       "2  wH1/Qs32k0Ti18bqWb1PxGfnveo4530CBZTZ/y7uW3k=  unspecified   32769   \n",
       "3  wH1/Qs32k0Ti18bqWb1PxGfnveo4530CBZTZ/y7uW3k=  unspecified   32769   \n",
       "4  wH1/Qs32k0Ti18bqWb1PxGfnveo4530CBZTZ/y7uW3k=  unspecified   32769   \n",
       "\n",
       "   badges_cnt date_login  user_grade user_city  has_teacher_cnt  \\\n",
       "0           6 2018-08-01           6        cy                1   \n",
       "1           6 2018-08-01           6        cy                1   \n",
       "2           6 2018-08-01           6        cy                1   \n",
       "3           6 2018-08-01           6        cy                1   \n",
       "4           6 2018-08-01           6        cy                1   \n",
       "\n",
       "   is_self_coach  has_student_cnt  belongs_to_class_cnt  has_class_cnt  \\\n",
       "0          False                0                     1              0   \n",
       "1          False                0                     1              0   \n",
       "2          False                0                     1              0   \n",
       "3          False                0                     1              0   \n",
       "4          False                0                     1              0   \n",
       "\n",
       "   date_count  day_of_month  \n",
       "0           0             1  \n",
       "1           0             1  \n",
       "2           0             1  \n",
       "3           0             1  \n",
       "4           0             1  "
      ]
     },
     "execution_count": 45,
     "metadata": {},
     "output_type": "execute_result"
    }
   ],
   "source": [
    "info_userdata_df.head()"
   ]
  },
  {
   "cell_type": "code",
   "execution_count": 46,
   "metadata": {},
   "outputs": [
    {
     "data": {
      "text/plain": [
       "3030852    1\n",
       "3106405    1\n",
       "18740      1\n",
       "650573     1\n",
       "40167      1\n",
       "Name: datetime_attempt, dtype: int64"
      ]
     },
     "execution_count": 46,
     "metadata": {},
     "output_type": "execute_result"
    }
   ],
   "source": [
    "# get the day of the month from the date_parsed column\n",
    "day_of_month_problem = log_problem_df['datetime_attempt'].dt.day\n",
    "day_of_month_problem.head()"
   ]
  },
  {
   "cell_type": "code",
   "execution_count": 47,
   "metadata": {},
   "outputs": [
    {
     "data": {
      "text/plain": [
       "<matplotlib.axes._subplots.AxesSubplot at 0x1e91dd9ed88>"
      ]
     },
     "execution_count": 47,
     "metadata": {},
     "output_type": "execute_result"
    },
    {
     "data": {
      "image/png": "[encoded data removed]",
      "text/plain": [
       "<Figure size 432x288 with 1 Axes>"
      ]
     },
     "metadata": {
      "needs_background": "light"
     },
     "output_type": "display_data"
    }
   ],
   "source": [
    "# remove na's\n",
    "day_of_month_problem = day_of_month_problem.dropna()\n",
    "\n",
    "# plot the day of the month\n",
    "sns.distplot(day_of_month_problem, kde=False, bins=31)"
   ]
  },
  {
   "cell_type": "code",
   "execution_count": 48,
   "metadata": {},
   "outputs": [],
   "source": [
    "log_problem_df['day_of_month'] = day_of_month_problem"
   ]
  },
  {
   "cell_type": "code",
   "execution_count": 49,
   "metadata": {},
   "outputs": [
    {
     "data": {
      "text/html": [
       "<div>\n",
       "<style scoped>\n",
       "    .dataframe tbody tr th:only-of-type {\n",
       "        vertical-align: middle;\n",
       "    }\n",
       "\n",
       "    .dataframe tbody tr th {\n",
       "        vertical-align: top;\n",
       "    }\n",
       "\n",
       "    .dataframe thead th {\n",
       "        text-align: right;\n",
       "    }\n",
       "</style>\n",
       "<table border=\"1\" class=\"dataframe\">\n",
       "  <thead>\n",
       "    <tr style=\"text-align: right;\">\n",
       "      <th></th>\n",
       "      <th>upid</th>\n",
       "      <th>datetime_attempt</th>\n",
       "      <th>uuid</th>\n",
       "      <th>ucid</th>\n",
       "      <th>problem_number</th>\n",
       "      <th>exercise_problem_repeat_session</th>\n",
       "      <th>is_correct</th>\n",
       "      <th>total_sec_taken</th>\n",
       "      <th>total_attempt_cnt</th>\n",
       "      <th>used_hint_cnt</th>\n",
       "      <th>is_hint_used</th>\n",
       "      <th>is_downgrade</th>\n",
       "      <th>is_upgrade</th>\n",
       "      <th>level</th>\n",
       "      <th>date_attempt</th>\n",
       "      <th>hour_of_day</th>\n",
       "      <th>day_of_month</th>\n",
       "    </tr>\n",
       "  </thead>\n",
       "  <tbody>\n",
       "    <tr>\n",
       "      <th>3030852</th>\n",
       "      <td>2Q787l3L0G7f5P0iSWUE4hCfJfYo9uHL4pWV1U45JoQ=</td>\n",
       "      <td>2018-08-01 07:45:00+00:00</td>\n",
       "      <td>U+lqK/FKWkPuoNUM1AbGyrKZfXeQrRRoKOToKrjqDt4=</td>\n",
       "      <td>hv7kHCAIdj7thZUmlqz553leG5bFNYgzXmLfB5m4Xvw=</td>\n",
       "      <td>1</td>\n",
       "      <td>1</td>\n",
       "      <td>True</td>\n",
       "      <td>10</td>\n",
       "      <td>1</td>\n",
       "      <td>0</td>\n",
       "      <td>False</td>\n",
       "      <td>False</td>\n",
       "      <td>False</td>\n",
       "      <td>0</td>\n",
       "      <td>2018-08-01</td>\n",
       "      <td>7</td>\n",
       "      <td>1</td>\n",
       "    </tr>\n",
       "    <tr>\n",
       "      <th>3106405</th>\n",
       "      <td>/Wgjdl2BsldHZDdXXvzwGimusaMX548lqV2b7PgwXAs=</td>\n",
       "      <td>2018-08-01 07:45:00+00:00</td>\n",
       "      <td>U+lqK/FKWkPuoNUM1AbGyrKZfXeQrRRoKOToKrjqDt4=</td>\n",
       "      <td>CPI+5YCeEmhqdk6znJeii6jJUNl1QWGEvwCUJ6uLflg=</td>\n",
       "      <td>1</td>\n",
       "      <td>1</td>\n",
       "      <td>True</td>\n",
       "      <td>10</td>\n",
       "      <td>1</td>\n",
       "      <td>0</td>\n",
       "      <td>False</td>\n",
       "      <td>False</td>\n",
       "      <td>False</td>\n",
       "      <td>0</td>\n",
       "      <td>2018-08-01</td>\n",
       "      <td>7</td>\n",
       "      <td>1</td>\n",
       "    </tr>\n",
       "    <tr>\n",
       "      <th>18740</th>\n",
       "      <td>9Ksy3bdm0HTi0D+cdKSBKDQJjo5GNahep91FqHUrpts=</td>\n",
       "      <td>2018-08-01 07:45:00+00:00</td>\n",
       "      <td>U+lqK/FKWkPuoNUM1AbGyrKZfXeQrRRoKOToKrjqDt4=</td>\n",
       "      <td>CPI+5YCeEmhqdk6znJeii6jJUNl1QWGEvwCUJ6uLflg=</td>\n",
       "      <td>2</td>\n",
       "      <td>1</td>\n",
       "      <td>True</td>\n",
       "      <td>8</td>\n",
       "      <td>1</td>\n",
       "      <td>0</td>\n",
       "      <td>False</td>\n",
       "      <td>False</td>\n",
       "      <td>False</td>\n",
       "      <td>0</td>\n",
       "      <td>2018-08-01</td>\n",
       "      <td>7</td>\n",
       "      <td>1</td>\n",
       "    </tr>\n",
       "    <tr>\n",
       "      <th>650573</th>\n",
       "      <td>hYmhOfMMKaQNTrGze5TdATN0HNGJUEjDIYQaocuD4QY=</td>\n",
       "      <td>2018-08-01 07:45:00+00:00</td>\n",
       "      <td>U+lqK/FKWkPuoNUM1AbGyrKZfXeQrRRoKOToKrjqDt4=</td>\n",
       "      <td>hv7kHCAIdj7thZUmlqz553leG5bFNYgzXmLfB5m4Xvw=</td>\n",
       "      <td>2</td>\n",
       "      <td>1</td>\n",
       "      <td>True</td>\n",
       "      <td>6</td>\n",
       "      <td>1</td>\n",
       "      <td>0</td>\n",
       "      <td>False</td>\n",
       "      <td>False</td>\n",
       "      <td>False</td>\n",
       "      <td>0</td>\n",
       "      <td>2018-08-01</td>\n",
       "      <td>7</td>\n",
       "      <td>1</td>\n",
       "    </tr>\n",
       "    <tr>\n",
       "      <th>40167</th>\n",
       "      <td>VMScsPmyKXsk5k7+abPqyEbDFRSsCE2XZs5lMKHQHEM=</td>\n",
       "      <td>2018-08-01 07:45:00+00:00</td>\n",
       "      <td>U+lqK/FKWkPuoNUM1AbGyrKZfXeQrRRoKOToKrjqDt4=</td>\n",
       "      <td>hv7kHCAIdj7thZUmlqz553leG5bFNYgzXmLfB5m4Xvw=</td>\n",
       "      <td>3</td>\n",
       "      <td>1</td>\n",
       "      <td>True</td>\n",
       "      <td>7</td>\n",
       "      <td>1</td>\n",
       "      <td>0</td>\n",
       "      <td>False</td>\n",
       "      <td>False</td>\n",
       "      <td>False</td>\n",
       "      <td>0</td>\n",
       "      <td>2018-08-01</td>\n",
       "      <td>7</td>\n",
       "      <td>1</td>\n",
       "    </tr>\n",
       "  </tbody>\n",
       "</table>\n",
       "</div>"
      ],
      "text/plain": [
       "                                                 upid  \\\n",
       "3030852  2Q787l3L0G7f5P0iSWUE4hCfJfYo9uHL4pWV1U45JoQ=   \n",
       "3106405  /Wgjdl2BsldHZDdXXvzwGimusaMX548lqV2b7PgwXAs=   \n",
       "18740    9Ksy3bdm0HTi0D+cdKSBKDQJjo5GNahep91FqHUrpts=   \n",
       "650573   hYmhOfMMKaQNTrGze5TdATN0HNGJUEjDIYQaocuD4QY=   \n",
       "40167    VMScsPmyKXsk5k7+abPqyEbDFRSsCE2XZs5lMKHQHEM=   \n",
       "\n",
       "                 datetime_attempt  \\\n",
       "3030852 2018-08-01 07:45:00+00:00   \n",
       "3106405 2018-08-01 07:45:00+00:00   \n",
       "18740   2018-08-01 07:45:00+00:00   \n",
       "650573  2018-08-01 07:45:00+00:00   \n",
       "40167   2018-08-01 07:45:00+00:00   \n",
       "\n",
       "                                                 uuid  \\\n",
       "3030852  U+lqK/FKWkPuoNUM1AbGyrKZfXeQrRRoKOToKrjqDt4=   \n",
       "3106405  U+lqK/FKWkPuoNUM1AbGyrKZfXeQrRRoKOToKrjqDt4=   \n",
       "18740    U+lqK/FKWkPuoNUM1AbGyrKZfXeQrRRoKOToKrjqDt4=   \n",
       "650573   U+lqK/FKWkPuoNUM1AbGyrKZfXeQrRRoKOToKrjqDt4=   \n",
       "40167    U+lqK/FKWkPuoNUM1AbGyrKZfXeQrRRoKOToKrjqDt4=   \n",
       "\n",
       "                                                 ucid  problem_number  \\\n",
       "3030852  hv7kHCAIdj7thZUmlqz553leG5bFNYgzXmLfB5m4Xvw=               1   \n",
       "3106405  CPI+5YCeEmhqdk6znJeii6jJUNl1QWGEvwCUJ6uLflg=               1   \n",
       "18740    CPI+5YCeEmhqdk6znJeii6jJUNl1QWGEvwCUJ6uLflg=               2   \n",
       "650573   hv7kHCAIdj7thZUmlqz553leG5bFNYgzXmLfB5m4Xvw=               2   \n",
       "40167    hv7kHCAIdj7thZUmlqz553leG5bFNYgzXmLfB5m4Xvw=               3   \n",
       "\n",
       "         exercise_problem_repeat_session  is_correct  total_sec_taken  \\\n",
       "3030852                                1        True               10   \n",
       "3106405                                1        True               10   \n",
       "18740                                  1        True                8   \n",
       "650573                                 1        True                6   \n",
       "40167                                  1        True                7   \n",
       "\n",
       "         total_attempt_cnt  used_hint_cnt  is_hint_used  is_downgrade  \\\n",
       "3030852                  1              0         False         False   \n",
       "3106405                  1              0         False         False   \n",
       "18740                    1              0         False         False   \n",
       "650573                   1              0         False         False   \n",
       "40167                    1              0         False         False   \n",
       "\n",
       "         is_upgrade  level date_attempt  hour_of_day  day_of_month  \n",
       "3030852       False      0   2018-08-01            7             1  \n",
       "3106405       False      0   2018-08-01            7             1  \n",
       "18740         False      0   2018-08-01            7             1  \n",
       "650573        False      0   2018-08-01            7             1  \n",
       "40167         False      0   2018-08-01            7             1  "
      ]
     },
     "execution_count": 49,
     "metadata": {},
     "output_type": "execute_result"
    }
   ],
   "source": [
    "log_problem_df.head()"
   ]
  },
  {
   "cell_type": "markdown",
   "metadata": {},
   "source": [
    "The author has parsed the date correctly."
   ]
  },
  {
   "cell_type": "markdown",
   "metadata": {},
   "source": [
    "---\n",
    "\n",
    "### 1.2 Data Integration\n",
    "\n",
    "**Help Python recognize dates as composed of day, month, and year.**\n",
    "\n",
    "Merge all the dataframe"
   ]
  },
  {
   "cell_type": "code",
   "execution_count": 50,
   "metadata": {},
   "outputs": [
    {
     "data": {
      "text/plain": [
       "(4273203, 17)"
      ]
     },
     "execution_count": 50,
     "metadata": {},
     "output_type": "execute_result"
    }
   ],
   "source": [
    "log_problem_df.shape"
   ]
  },
  {
   "cell_type": "code",
   "execution_count": 51,
   "metadata": {},
   "outputs": [
    {
     "data": {
      "text/plain": [
       "(4273203, 14)"
      ]
     },
     "execution_count": 51,
     "metadata": {},
     "output_type": "execute_result"
    }
   ],
   "source": [
    "info_userdata_df.shape"
   ]
  },
  {
   "cell_type": "code",
   "execution_count": null,
   "metadata": {},
   "outputs": [],
   "source": [
    "log_problem_df.merge(info_userdata_df,how='left',on='uuid')"
   ]
  },
  {
   "cell_type": "code",
   "execution_count": null,
   "metadata": {},
   "outputs": [],
   "source": [
    "log_problem_info_userdata_info_content_df = log_problem_info_userdata_df.merge(info_content_df,how='left',on='ucid')"
   ]
  },
  {
   "cell_type": "code",
   "execution_count": null,
   "metadata": {},
   "outputs": [],
   "source": [
    "log_problem_info_userdata_info_content_df.head()"
   ]
  },
  {
   "cell_type": "code",
   "execution_count": null,
   "metadata": {},
   "outputs": [],
   "source": [
    "log_problem_info_userdata_info_content_df.shape"
   ]
  },
  {
   "cell_type": "code",
   "execution_count": null,
   "metadata": {},
   "outputs": [],
   "source": [
    "log_problem_info_userdata_info_content_df.columns"
   ]
  },
  {
   "cell_type": "code",
   "execution_count": null,
   "metadata": {},
   "outputs": [],
   "source": [
    "log_problem_info_userdata_info_content_df.info()"
   ]
  },
  {
   "cell_type": "code",
   "execution_count": null,
   "metadata": {},
   "outputs": [],
   "source": [
    "info_userdata_and_info_content_df = log_problem_info_userdata_info_content_df.groupby(by=['uuid','ucid']).agg({'problem_number': 'max',\n",
    "                                                                           'is_correct': 'count',\n",
    "                                                                           'total_sec_taken': 'mean',\n",
    "                                                                           'total_attempt_cnt': 'mean',\n",
    "                                                                           'used_hint_cnt': 'mean',\n",
    "                                                                           'level': 'max',\n",
    "                                                                           'points': 'mean',\n",
    "                                                                           'badges_cnt': 'mean',\n",
    "                                                                           'user_grade': 'mean',\n",
    "                                                                           'has_teacher_cnt': 'mean',\n",
    "                                                                           'is_self_coach': 'count',\n",
    "                                                                           'difficulty': 'mean',\n",
    "                                                                           'learning_stage': 'mean'\n",
    "                                                                          }).reset_index()"
   ]
  },
  {
   "cell_type": "code",
   "execution_count": null,
   "metadata": {},
   "outputs": [],
   "source": [
    "info_userdata_and_info_content_df.head()"
   ]
  },
  {
   "cell_type": "code",
   "execution_count": null,
   "metadata": {},
   "outputs": [],
   "source": [
    "categorical_columns = log_problem_info_userdata_info_content_df.select_dtypes(exclude=['int64']).columns"
   ]
  },
  {
   "cell_type": "code",
   "execution_count": null,
   "metadata": {},
   "outputs": [],
   "source": [
    "categorical_columns"
   ]
  },
  {
   "cell_type": "code",
   "execution_count": null,
   "metadata": {},
   "outputs": [],
   "source": [
    "#log_problem_info_userdata_info_content_df.groupby(by=['uuid','ucid'])['level2_id', 'level3_id', 'level4_id'].mean()"
   ]
  },
  {
   "cell_type": "code",
   "execution_count": null,
   "metadata": {},
   "outputs": [],
   "source": []
  },
  {
   "cell_type": "markdown",
   "metadata": {},
   "source": [
    "---\n",
    "\n",
    "### 1.3 Handling categorical attributes\n",
    "\n",
    "An error will occur if these categorical varriables are included into most of the machine learning models without preprocessing them first. There are three approach to prepare the categorical data.\n",
    "\n",
    "- Drop\n",
    "- Label Encoding\n",
    "- One-Hot Encoding"
   ]
  },
  {
   "cell_type": "code",
   "execution_count": null,
   "metadata": {},
   "outputs": [],
   "source": [
    "info_content_df.head()"
   ]
  },
  {
   "cell_type": "code",
   "execution_count": null,
   "metadata": {},
   "outputs": [],
   "source": [
    "info_userdata_df.head()"
   ]
  },
  {
   "cell_type": "code",
   "execution_count": null,
   "metadata": {},
   "outputs": [],
   "source": [
    "log_problem_df.head()"
   ]
  },
  {
   "cell_type": "markdown",
   "metadata": {},
   "source": [
    "## Identifying categorical attributes"
   ]
  },
  {
   "cell_type": "code",
   "execution_count": null,
   "metadata": {},
   "outputs": [],
   "source": [
    "s = info_content_df.dtypes == 'object'\n",
    "object_cols_info_content = list(s[s].index)\n",
    "\n",
    "print(\"Categorical variables: \")\n",
    "print(object_cols_info_content)"
   ]
  },
  {
   "cell_type": "code",
   "execution_count": null,
   "metadata": {},
   "outputs": [],
   "source": [
    "s = info_userdata_df.dtypes == 'object'\n",
    "object_cols_info_userdata = list(s[s].index)\n",
    "\n",
    "print(\"Categorical variables: \")\n",
    "print(object_cols_info_userdata)"
   ]
  },
  {
   "cell_type": "code",
   "execution_count": null,
   "metadata": {},
   "outputs": [],
   "source": [
    "s = log_problem_df.dtypes == 'object'\n",
    "object_cols_log_problem = list(s[s].index)\n",
    "\n",
    "print(\"Categorical variables: \")\n",
    "print(object_cols_log_problem)"
   ]
  },
  {
   "cell_type": "markdown",
   "metadata": {},
   "source": [
    "### Drop categorical variables\n",
    "\n",
    "The easiest way to deal with categorical variable is to simply remove the columns from the datasets if the attributes do not contain useful information.\n",
    "\n",
    "The content_kind and subject attribute only contain one unique value. This would not affect"
   ]
  },
  {
   "cell_type": "code",
   "execution_count": null,
   "metadata": {},
   "outputs": [],
   "source": [
    "selected_columns = ['ucid','difficulty','learning_stage','level2_id','level3_id','level4_id']"
   ]
  },
  {
   "cell_type": "code",
   "execution_count": null,
   "metadata": {},
   "outputs": [],
   "source": [
    "info_content_df = info_content_df[selected_columns].copy()\n",
    "info_content_df.head()"
   ]
  },
  {
   "cell_type": "markdown",
   "metadata": {},
   "source": [
    "### Label Encoding\n",
    "\n",
    "**Mapping ordinal features**\n",
    "\n",
    "To make sure that the learning algorithm interprets the ordinal features correctly, we need to convert the categorical string values into integers. Unfortunately, there is no convenient function that can automatically derive the correct order of the labels of our size feature, so we have to define the mapping manually. In the following simple example, let's assume that we know the numerical difference between features, for example, hard = normal + 1 = easy + 2 = unset + 3."
   ]
  },
  {
   "cell_type": "code",
   "execution_count": null,
   "metadata": {},
   "outputs": [],
   "source": [
    "difficulty_mapping = {\n",
    "    'easy': 1,\n",
    "    'normal': 2,\n",
    "    'hard': 3,\n",
    "    'unset': 0\n",
    "}\n",
    "learning_stage_mapping = {\n",
    "    'elementary': 1,\n",
    "    'junior': 2,\n",
    "    'senior': 3\n",
    "}"
   ]
  },
  {
   "cell_type": "code",
   "execution_count": null,
   "metadata": {},
   "outputs": [],
   "source": [
    "info_content_df['difficulty'] = info_content_df['difficulty'].map(difficulty_mapping)\n",
    "info_content_df['learning_stage'] = info_content_df['learning_stage'].map(learning_stage_mapping)"
   ]
  },
  {
   "cell_type": "code",
   "execution_count": null,
   "metadata": {},
   "outputs": [],
   "source": [
    "info_content_df.head()"
   ]
  },
  {
   "cell_type": "code",
   "execution_count": null,
   "metadata": {},
   "outputs": [],
   "source": [
    "info_content_df.describe()"
   ]
  },
  {
   "cell_type": "markdown",
   "metadata": {},
   "source": [
    "### One-hot encoding - Nominal\n",
    "\n",
    "By including dummy variable in a regression model however, one should be careful of the Dummy Variable Trap. The Dummy Variable trap is a scenario in which the independent variables are multicollinear - a scenario in which two or more variables are highly correlated; in simple terms one variable can be predicted from the others."
   ]
  },
  {
   "cell_type": "code",
   "execution_count": null,
   "metadata": {},
   "outputs": [],
   "source": [
    "is_downgrade_mapping = {\n",
    "    True: 1,\n",
    "    False: 0\n",
    "}\n",
    "is_upgrade_mapping = {\n",
    "    True: 1,\n",
    "    False: 0\n",
    "}"
   ]
  },
  {
   "cell_type": "code",
   "execution_count": null,
   "metadata": {},
   "outputs": [],
   "source": [
    "log_problem_df['is_downgrade'] = log_problem_df['is_downgrade'].map(is_downgrade_mapping)\n",
    "log_problem_df['is_upgrade'] = log_problem_df['is_upgrade'].map(is_upgrade_mapping)"
   ]
  },
  {
   "cell_type": "code",
   "execution_count": null,
   "metadata": {},
   "outputs": [],
   "source": [
    "from sklearn.preprocessing import OneHotEncoder\n",
    "\n",
    "# Apply one-hot encoder to each column with categorical data\n",
    "OH_encoder = OneHotEncoder(handle_unknown='ignore', sparse=False)\n",
    "x=pd.DataFrame(OH_encoder.fit_transform(info_content_df[['level2_id','level3_id','level4_id']]))\n"
   ]
  },
  {
   "cell_type": "code",
   "execution_count": null,
   "metadata": {},
   "outputs": [],
   "source": [
    "info_content_df.head()"
   ]
  },
  {
   "cell_type": "code",
   "execution_count": null,
   "metadata": {},
   "outputs": [],
   "source": [
    "pd.concat([info_content_df, x], axis=1)"
   ]
  },
  {
   "cell_type": "code",
   "execution_count": null,
   "metadata": {},
   "outputs": [],
   "source": [
    "log_problem_df.head()"
   ]
  },
  {
   "cell_type": "code",
   "execution_count": null,
   "metadata": {},
   "outputs": [],
   "source": [
    "info_userdata_gender = pd.get_dummies(info_userdata_df.gender, prefix='gender').iloc[:,:-1]\n",
    "info_userdata_df = pd.concat([info_userdata_df, info_userdata_gender], axis=1, sort=False)"
   ]
  },
  {
   "cell_type": "code",
   "execution_count": null,
   "metadata": {},
   "outputs": [],
   "source": [
    "info_userdata_city = pd.get_dummies(info_userdata_df.user_city, prefix='user_city').iloc[:,:-1]\n",
    "info_userdata_df = pd.concat([info_userdata_df, info_userdata_city], axis=1, sort=False)"
   ]
  },
  {
   "cell_type": "code",
   "execution_count": null,
   "metadata": {},
   "outputs": [],
   "source": [
    "info_userdata_df = info_userdata_df.drop(columns = ['gender','user_city'])"
   ]
  },
  {
   "cell_type": "markdown",
   "metadata": {},
   "source": [
    "The info_userdata dataframe can be glanced through head()."
   ]
  },
  {
   "cell_type": "code",
   "execution_count": null,
   "metadata": {},
   "outputs": [],
   "source": [
    "info_userdata_df.head()"
   ]
  },
  {
   "cell_type": "code",
   "execution_count": null,
   "metadata": {},
   "outputs": [],
   "source": [
    "info_userdata_df.describe()"
   ]
  },
  {
   "cell_type": "markdown",
   "metadata": {},
   "source": [
    "---\n",
    "\n",
    "### 1.3 Data Integration\n",
    "\n",
    "**Help Python recognize dates as composed of day, month, and year.**\n",
    "\n",
    "Merge all the dataframe"
   ]
  },
  {
   "cell_type": "code",
   "execution_count": null,
   "metadata": {},
   "outputs": [],
   "source": [
    "log_problem_info_userdata_df = log_problem_df.merge(info_userdata_df,how='left',on='uuid')\n",
    "log_problem_info_userdata_info_content_df = log_problem_info_userdata_df.merge(info_content_df,how='left',on='ucid')"
   ]
  },
  {
   "cell_type": "code",
   "execution_count": null,
   "metadata": {},
   "outputs": [],
   "source": [
    "log_problem_info_userdata_info_content_df.head()"
   ]
  },
  {
   "cell_type": "code",
   "execution_count": null,
   "metadata": {},
   "outputs": [],
   "source": [
    "log_problem_info_userdata_info_content_df.shape"
   ]
  },
  {
   "cell_type": "code",
   "execution_count": null,
   "metadata": {},
   "outputs": [],
   "source": [
    "log_problem_info_userdata_info_content_df.columns"
   ]
  },
  {
   "cell_type": "code",
   "execution_count": null,
   "metadata": {},
   "outputs": [],
   "source": [
    "log_problem_info_userdata_info_content_df.info()"
   ]
  },
  {
   "cell_type": "code",
   "execution_count": null,
   "metadata": {},
   "outputs": [],
   "source": [
    "info_userdata_and_info_content_df = log_problem_info_userdata_info_content_df.groupby(by=['uuid','ucid']).agg({'problem_number': 'max',\n",
    "                                                                           'is_correct': 'count',\n",
    "                                                                           'total_sec_taken': 'mean',\n",
    "                                                                           'total_attempt_cnt': 'mean',\n",
    "                                                                           'used_hint_cnt': 'mean',\n",
    "                                                                           'level': 'max',\n",
    "                                                                           'points': 'mean',\n",
    "                                                                           'badges_cnt': 'mean',\n",
    "                                                                           'user_grade': 'mean',\n",
    "                                                                           'has_teacher_cnt': 'mean',\n",
    "                                                                           'is_self_coach': 'count',\n",
    "                                                                           'difficulty': 'mean',\n",
    "                                                                           'learning_stage': 'mean'\n",
    "                                                                          }).reset_index()"
   ]
  },
  {
   "cell_type": "code",
   "execution_count": null,
   "metadata": {},
   "outputs": [],
   "source": [
    "info_userdata_and_info_content_df.head()"
   ]
  },
  {
   "cell_type": "code",
   "execution_count": null,
   "metadata": {},
   "outputs": [],
   "source": [
    "categorical_columns = log_problem_info_userdata_info_content_df.select_dtypes(exclude=['int64']).columns"
   ]
  },
  {
   "cell_type": "code",
   "execution_count": null,
   "metadata": {},
   "outputs": [],
   "source": [
    "categorical_columns"
   ]
  },
  {
   "cell_type": "code",
   "execution_count": null,
   "metadata": {},
   "outputs": [],
   "source": [
    "#log_problem_info_userdata_info_content_df.groupby(by=['uuid','ucid'])['level2_id', 'level3_id', 'level4_id'].mean()"
   ]
  },
  {
   "cell_type": "markdown",
   "metadata": {},
   "source": [
    "### Exporting Data\n",
    "\n",
    "The data is in DataFrame form, it can manipulate it by adding a body mass index column. The transformed data is exported to the interim data folder which stores the intermediate data that has been transformed."
   ]
  },
  {
   "cell_type": "code",
   "execution_count": null,
   "metadata": {},
   "outputs": [],
   "source": [
    "%%time\n",
    "\n",
    "info_content_df.to_hdf('../data/interim/Info_Content.h5',key='info_content')\n",
    "info_userdata_df.to_hdf('../data/interim/Info_UserData.h5',key='info_userdata')\n",
    "log_problem_df.to_hdf('../data/interim/Log_Problem.h5',key='log_problem')\n",
    "log_problem_info_userdata_info_content_df.to_hdf('../data/interim/Log_Problem_Info_UserData_Info_Content.h5',key='log_problem')"
   ]
  }
 ],
 "metadata": {
  "kernelspec": {
   "display_name": "Python 3",
   "language": "python",
   "name": "python3"
  },
  "language_info": {
   "codemirror_mode": {
    "name": "ipython",
    "version": 3
   },
   "file_extension": ".py",
   "mimetype": "text/x-python",
   "name": "python",
   "nbconvert_exporter": "python",
   "pygments_lexer": "ipython3",
   "version": "3.7.6"
  }
 },
 "nbformat": 4,
 "nbformat_minor": 4
}

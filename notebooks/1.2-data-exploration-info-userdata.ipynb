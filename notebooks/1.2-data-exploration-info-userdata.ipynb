{
 "cells": [
  {
   "cell_type": "markdown",
   "metadata": {},
   "source": [
    "[![Open In Colab](https://colab.research.google.com/assets/colab-badge.svg)](https://colab.research.google.com/drive/1nmRz-pOLEc0zjeG6MIaqtMXgdql4wpi0?usp=sharing)"
   ]
  },
  {
   "cell_type": "markdown",
   "metadata": {},
   "source": [
    "# 1.2 - Data Exploration\n",
    "\n",
    "## Info Userdata\n",
    "\n",
    "This notebook provides the in depth analysis on the student performance in exams at public schools.\n",
    "\n",
    "**Info_UserData.csv**\n",
    "\n",
    "This table contains the metadata for the **72,758** select users for this dataset\n",
    "\n",
    "All of the select users are students who meet the following filtering criteria:\n",
    "\n",
    "The registered date is between `2018-08-01` and `2019-07-31`\n",
    "User grade is between `1` and `12`\n",
    "User city is not null\n",
    "Energy Points are earned from Junyi Academy after completing exercises, watching videos, and when the user receives a badge.\n",
    "\n",
    "A user earns 750 * (effective watching time / video length) energy points after watching a video.\n",
    "(Effective watching time for a 10-minute video at 2X speed will be only 5-minute)\n",
    "\n",
    "A user earns a base of 75 energy points after completing an exercise at level 0.\n",
    "(Details of the leveling system will be described in the Proficiency Mechanism Section in Log_Problem's description)\n",
    "\n",
    "This might increase to at most 225 due to fast answering speed or repeated correct attempts.\n",
    "The points earned will decrease to as few as 5 as the user's level of that exercise increase to encourage the user to practice other exercises.\n",
    "\n",
    "The users might have teachers that can assign exercises to a student and look at the progress and results of the assignments.\n",
    "The student can also add himself/herself as a teacher of their own or other students.\n",
    "Classes are a group of students with a certain teacher.\n",
    "\n",
    "| Variable Name | Description |\n",
    "|:-|:-|\n",
    "| uuid | The unique ID of this user |\n",
    "| gender | The gender of this user. There are four possible values: `male`, `female`, `unspecified` and `null`. |\n",
    "| points | The user will receive energy points from the Junyi Academy after completing exercises, watching videos, and when the user receives a badge. |\n",
    "| badges_cnt | Badges are awarded to the users when the user achieves certain conditions. |\n",
    "| first_login_date_TW | The first login date after the user registers to Junyi Academy. |\n",
    "| user_grade | The grade of the user. The possible values are between 1 and 12. |\n",
    "| user_city | The resident city of the user. |\n",
    "| has_teacher_cnt | The number of teachers this user has in the Junyi Academy. |\n",
    "| is_self_coach | Does the user add himself/herself as a teacher of their own? |\n",
    "| has_student_cnt | The number of students this user has in the Junyi Academy. Despite the user role of this user is a student, this user can still add another user as a student. |\n",
    "| belongs_to_class_cnt | The number of classes this user belongs to. |\n",
    "| has_class_cnt | The number of classes this user created to add other users. Despite the user role of this user is a student, this user can still create a class to add other users in. |"
   ]
  },
  {
   "cell_type": "markdown",
   "metadata": {},
   "source": [
    "## Importing Libraries"
   ]
  },
  {
   "cell_type": "code",
   "execution_count": 6,
   "metadata": {},
   "outputs": [],
   "source": [
    "import numpy as np # linear algebra\n",
    "import pandas as pd # data processing, CSV file I/O\n",
    "import matplotlib.pyplot as plt"
   ]
  },
  {
   "cell_type": "markdown",
   "metadata": {},
   "source": [
    "## Loading Data"
   ]
  },
  {
   "cell_type": "code",
   "execution_count": 7,
   "metadata": {},
   "outputs": [
    {
     "name": "stdout",
     "output_type": "stream",
     "text": [
      "Wall time: 124 ms\n"
     ]
    }
   ],
   "source": [
    "%%time\n",
    "info_userdata_raw_df = pd.read_csv('../data/raw/Info_Userdata.csv', index_col='uuid')"
   ]
  },
  {
   "cell_type": "code",
   "execution_count": 8,
   "metadata": {},
   "outputs": [
    {
     "data": {
      "text/html": [
       "<div>\n",
       "<style scoped>\n",
       "    .dataframe tbody tr th:only-of-type {\n",
       "        vertical-align: middle;\n",
       "    }\n",
       "\n",
       "    .dataframe tbody tr th {\n",
       "        vertical-align: top;\n",
       "    }\n",
       "\n",
       "    .dataframe thead th {\n",
       "        text-align: right;\n",
       "    }\n",
       "</style>\n",
       "<table border=\"1\" class=\"dataframe\">\n",
       "  <thead>\n",
       "    <tr style=\"text-align: right;\">\n",
       "      <th></th>\n",
       "      <th>gender</th>\n",
       "      <th>points</th>\n",
       "      <th>badges_cnt</th>\n",
       "      <th>first_login_date_TW</th>\n",
       "      <th>user_grade</th>\n",
       "      <th>user_city</th>\n",
       "      <th>has_teacher_cnt</th>\n",
       "      <th>is_self_coach</th>\n",
       "      <th>has_student_cnt</th>\n",
       "      <th>belongs_to_class_cnt</th>\n",
       "      <th>has_class_cnt</th>\n",
       "    </tr>\n",
       "    <tr>\n",
       "      <th>uuid</th>\n",
       "      <th></th>\n",
       "      <th></th>\n",
       "      <th></th>\n",
       "      <th></th>\n",
       "      <th></th>\n",
       "      <th></th>\n",
       "      <th></th>\n",
       "      <th></th>\n",
       "      <th></th>\n",
       "      <th></th>\n",
       "      <th></th>\n",
       "    </tr>\n",
       "  </thead>\n",
       "  <tbody>\n",
       "    <tr>\n",
       "      <th>Y2RcCdmUJAYPUAIDElo4nE9KrkLLFzUIRdexG+ipaZQ=</th>\n",
       "      <td>NaN</td>\n",
       "      <td>18300</td>\n",
       "      <td>1</td>\n",
       "      <td>2019-01-24</td>\n",
       "      <td>1</td>\n",
       "      <td>kh</td>\n",
       "      <td>0</td>\n",
       "      <td>False</td>\n",
       "      <td>0</td>\n",
       "      <td>0</td>\n",
       "      <td>0</td>\n",
       "    </tr>\n",
       "    <tr>\n",
       "      <th>lw/Rchfvl9q1UDaQRmeE6QJDJeXAK7nt56RvUvqxD/8=</th>\n",
       "      <td>NaN</td>\n",
       "      <td>6468</td>\n",
       "      <td>0</td>\n",
       "      <td>2019-01-24</td>\n",
       "      <td>1</td>\n",
       "      <td>ntpc</td>\n",
       "      <td>1</td>\n",
       "      <td>False</td>\n",
       "      <td>0</td>\n",
       "      <td>1</td>\n",
       "      <td>0</td>\n",
       "    </tr>\n",
       "    <tr>\n",
       "      <th>ncVYyCw3osV77X9M+4NbI7LvBR5UiB4ix6Ca+baQArA=</th>\n",
       "      <td>male</td>\n",
       "      <td>4703</td>\n",
       "      <td>0</td>\n",
       "      <td>2019-01-24</td>\n",
       "      <td>1</td>\n",
       "      <td>tp</td>\n",
       "      <td>0</td>\n",
       "      <td>False</td>\n",
       "      <td>0</td>\n",
       "      <td>0</td>\n",
       "      <td>0</td>\n",
       "    </tr>\n",
       "    <tr>\n",
       "      <th>J7Tbo1x2WtRpPuXeX7lWT9tkzWlSJeubl8UWjNmHh+4=</th>\n",
       "      <td>NaN</td>\n",
       "      <td>15525</td>\n",
       "      <td>1</td>\n",
       "      <td>2019-01-24</td>\n",
       "      <td>2</td>\n",
       "      <td>ntpc</td>\n",
       "      <td>0</td>\n",
       "      <td>False</td>\n",
       "      <td>0</td>\n",
       "      <td>0</td>\n",
       "      <td>0</td>\n",
       "    </tr>\n",
       "    <tr>\n",
       "      <th>qijKzROzz1LmCaCxHJ3mOBOtjW/q4kW80tnpPmXHVYQ=</th>\n",
       "      <td>NaN</td>\n",
       "      <td>7945</td>\n",
       "      <td>0</td>\n",
       "      <td>2019-01-24</td>\n",
       "      <td>2</td>\n",
       "      <td>km</td>\n",
       "      <td>1</td>\n",
       "      <td>False</td>\n",
       "      <td>0</td>\n",
       "      <td>1</td>\n",
       "      <td>0</td>\n",
       "    </tr>\n",
       "  </tbody>\n",
       "</table>\n",
       "</div>"
      ],
      "text/plain": [
       "                                             gender  points  badges_cnt  \\\n",
       "uuid                                                                      \n",
       "Y2RcCdmUJAYPUAIDElo4nE9KrkLLFzUIRdexG+ipaZQ=    NaN   18300           1   \n",
       "lw/Rchfvl9q1UDaQRmeE6QJDJeXAK7nt56RvUvqxD/8=    NaN    6468           0   \n",
       "ncVYyCw3osV77X9M+4NbI7LvBR5UiB4ix6Ca+baQArA=   male    4703           0   \n",
       "J7Tbo1x2WtRpPuXeX7lWT9tkzWlSJeubl8UWjNmHh+4=    NaN   15525           1   \n",
       "qijKzROzz1LmCaCxHJ3mOBOtjW/q4kW80tnpPmXHVYQ=    NaN    7945           0   \n",
       "\n",
       "                                             first_login_date_TW  user_grade  \\\n",
       "uuid                                                                           \n",
       "Y2RcCdmUJAYPUAIDElo4nE9KrkLLFzUIRdexG+ipaZQ=          2019-01-24           1   \n",
       "lw/Rchfvl9q1UDaQRmeE6QJDJeXAK7nt56RvUvqxD/8=          2019-01-24           1   \n",
       "ncVYyCw3osV77X9M+4NbI7LvBR5UiB4ix6Ca+baQArA=          2019-01-24           1   \n",
       "J7Tbo1x2WtRpPuXeX7lWT9tkzWlSJeubl8UWjNmHh+4=          2019-01-24           2   \n",
       "qijKzROzz1LmCaCxHJ3mOBOtjW/q4kW80tnpPmXHVYQ=          2019-01-24           2   \n",
       "\n",
       "                                             user_city  has_teacher_cnt  \\\n",
       "uuid                                                                      \n",
       "Y2RcCdmUJAYPUAIDElo4nE9KrkLLFzUIRdexG+ipaZQ=        kh                0   \n",
       "lw/Rchfvl9q1UDaQRmeE6QJDJeXAK7nt56RvUvqxD/8=      ntpc                1   \n",
       "ncVYyCw3osV77X9M+4NbI7LvBR5UiB4ix6Ca+baQArA=        tp                0   \n",
       "J7Tbo1x2WtRpPuXeX7lWT9tkzWlSJeubl8UWjNmHh+4=      ntpc                0   \n",
       "qijKzROzz1LmCaCxHJ3mOBOtjW/q4kW80tnpPmXHVYQ=        km                1   \n",
       "\n",
       "                                              is_self_coach  has_student_cnt  \\\n",
       "uuid                                                                           \n",
       "Y2RcCdmUJAYPUAIDElo4nE9KrkLLFzUIRdexG+ipaZQ=          False                0   \n",
       "lw/Rchfvl9q1UDaQRmeE6QJDJeXAK7nt56RvUvqxD/8=          False                0   \n",
       "ncVYyCw3osV77X9M+4NbI7LvBR5UiB4ix6Ca+baQArA=          False                0   \n",
       "J7Tbo1x2WtRpPuXeX7lWT9tkzWlSJeubl8UWjNmHh+4=          False                0   \n",
       "qijKzROzz1LmCaCxHJ3mOBOtjW/q4kW80tnpPmXHVYQ=          False                0   \n",
       "\n",
       "                                              belongs_to_class_cnt  \\\n",
       "uuid                                                                 \n",
       "Y2RcCdmUJAYPUAIDElo4nE9KrkLLFzUIRdexG+ipaZQ=                     0   \n",
       "lw/Rchfvl9q1UDaQRmeE6QJDJeXAK7nt56RvUvqxD/8=                     1   \n",
       "ncVYyCw3osV77X9M+4NbI7LvBR5UiB4ix6Ca+baQArA=                     0   \n",
       "J7Tbo1x2WtRpPuXeX7lWT9tkzWlSJeubl8UWjNmHh+4=                     0   \n",
       "qijKzROzz1LmCaCxHJ3mOBOtjW/q4kW80tnpPmXHVYQ=                     1   \n",
       "\n",
       "                                              has_class_cnt  \n",
       "uuid                                                         \n",
       "Y2RcCdmUJAYPUAIDElo4nE9KrkLLFzUIRdexG+ipaZQ=              0  \n",
       "lw/Rchfvl9q1UDaQRmeE6QJDJeXAK7nt56RvUvqxD/8=              0  \n",
       "ncVYyCw3osV77X9M+4NbI7LvBR5UiB4ix6Ca+baQArA=              0  \n",
       "J7Tbo1x2WtRpPuXeX7lWT9tkzWlSJeubl8UWjNmHh+4=              0  \n",
       "qijKzROzz1LmCaCxHJ3mOBOtjW/q4kW80tnpPmXHVYQ=              0  "
      ]
     },
     "execution_count": 8,
     "metadata": {},
     "output_type": "execute_result"
    }
   ],
   "source": [
    "info_userdata_raw_df.head()"
   ]
  },
  {
   "cell_type": "markdown",
   "metadata": {},
   "source": [
    "From the look of above table, the gender column has some null values\n",
    "\n",
    "Let’s have a look at data dimensionality, feature names, and feature types."
   ]
  },
  {
   "cell_type": "code",
   "execution_count": 9,
   "metadata": {},
   "outputs": [
    {
     "data": {
      "text/plain": [
       "(72758, 11)"
      ]
     },
     "execution_count": 9,
     "metadata": {},
     "output_type": "execute_result"
    }
   ],
   "source": [
    "info_userdata_raw_df.shape"
   ]
  },
  {
   "cell_type": "markdown",
   "metadata": {},
   "source": [
    "From the output, we can see that the table contains 1330 rows and 9 columns.\n",
    "\n",
    "Now let's try printing out column names using columns:"
   ]
  },
  {
   "cell_type": "code",
   "execution_count": 10,
   "metadata": {},
   "outputs": [
    {
     "data": {
      "text/plain": [
       "Index(['gender', 'points', 'badges_cnt', 'first_login_date_TW', 'user_grade',\n",
       "       'user_city', 'has_teacher_cnt', 'is_self_coach', 'has_student_cnt',\n",
       "       'belongs_to_class_cnt', 'has_class_cnt'],\n",
       "      dtype='object')"
      ]
     },
     "execution_count": 10,
     "metadata": {},
     "output_type": "execute_result"
    }
   ],
   "source": [
    "info_userdata_raw_df.columns"
   ]
  },
  {
   "cell_type": "code",
   "execution_count": 11,
   "metadata": {},
   "outputs": [
    {
     "name": "stdout",
     "output_type": "stream",
     "text": [
      "<class 'pandas.core.frame.DataFrame'>\n",
      "Index: 72758 entries, Y2RcCdmUJAYPUAIDElo4nE9KrkLLFzUIRdexG+ipaZQ= to hkZZTOTi9MpjU38ctwOSK3O4g12JZt2ykeYS7nJsJkc=\n",
      "Data columns (total 11 columns):\n",
      " #   Column                Non-Null Count  Dtype \n",
      "---  ------                --------------  ----- \n",
      " 0   gender                32905 non-null  object\n",
      " 1   points                72758 non-null  int64 \n",
      " 2   badges_cnt            72758 non-null  int64 \n",
      " 3   first_login_date_TW   72758 non-null  object\n",
      " 4   user_grade            72758 non-null  int64 \n",
      " 5   user_city             72758 non-null  object\n",
      " 6   has_teacher_cnt       72758 non-null  int64 \n",
      " 7   is_self_coach         72758 non-null  bool  \n",
      " 8   has_student_cnt       72758 non-null  int64 \n",
      " 9   belongs_to_class_cnt  72758 non-null  int64 \n",
      " 10  has_class_cnt         72758 non-null  int64 \n",
      "dtypes: bool(1), int64(7), object(3)\n",
      "memory usage: 6.2+ MB\n"
     ]
    }
   ],
   "source": [
    "info_userdata_raw_df.info()"
   ]
  },
  {
   "cell_type": "markdown",
   "metadata": {},
   "source": [
    "object, int64 and bool is the data types of our features. With this same method, we can easily see if there are any missing values. Here, there are none because each column contains 1330 observations, the same number of rows we saw before with shape."
   ]
  },
  {
   "cell_type": "code",
   "execution_count": 18,
   "metadata": {},
   "outputs": [],
   "source": [
    "info_userdata_raw_df['is_self_coach'] = info_userdata_raw_df['is_self_coach'].astype('int64')"
   ]
  },
  {
   "cell_type": "markdown",
   "metadata": {},
   "source": [
    "The `describe` method shows basic statistical characteristics of each numerical feature (`int64` and `float64` types): number of non-missing values, mean, standard deviation, range, median, 0.25 and 0.75 quartiles."
   ]
  },
  {
   "cell_type": "code",
   "execution_count": 19,
   "metadata": {},
   "outputs": [
    {
     "data": {
      "text/html": [
       "<div>\n",
       "<style scoped>\n",
       "    .dataframe tbody tr th:only-of-type {\n",
       "        vertical-align: middle;\n",
       "    }\n",
       "\n",
       "    .dataframe tbody tr th {\n",
       "        vertical-align: top;\n",
       "    }\n",
       "\n",
       "    .dataframe thead th {\n",
       "        text-align: right;\n",
       "    }\n",
       "</style>\n",
       "<table border=\"1\" class=\"dataframe\">\n",
       "  <thead>\n",
       "    <tr style=\"text-align: right;\">\n",
       "      <th></th>\n",
       "      <th>points</th>\n",
       "      <th>badges_cnt</th>\n",
       "      <th>user_grade</th>\n",
       "      <th>has_teacher_cnt</th>\n",
       "      <th>is_self_coach</th>\n",
       "      <th>has_student_cnt</th>\n",
       "      <th>belongs_to_class_cnt</th>\n",
       "      <th>has_class_cnt</th>\n",
       "    </tr>\n",
       "  </thead>\n",
       "  <tbody>\n",
       "    <tr>\n",
       "      <th>count</th>\n",
       "      <td>7.275800e+04</td>\n",
       "      <td>72758.000000</td>\n",
       "      <td>72758.000000</td>\n",
       "      <td>72758.000000</td>\n",
       "      <td>72758.000000</td>\n",
       "      <td>72758.000000</td>\n",
       "      <td>72758.000000</td>\n",
       "      <td>72758.000000</td>\n",
       "    </tr>\n",
       "    <tr>\n",
       "      <th>mean</th>\n",
       "      <td>6.304759e+04</td>\n",
       "      <td>9.543789</td>\n",
       "      <td>5.620715</td>\n",
       "      <td>0.884810</td>\n",
       "      <td>0.008205</td>\n",
       "      <td>0.203304</td>\n",
       "      <td>0.873306</td>\n",
       "      <td>0.046442</td>\n",
       "    </tr>\n",
       "    <tr>\n",
       "      <th>std</th>\n",
       "      <td>1.242042e+05</td>\n",
       "      <td>19.036328</td>\n",
       "      <td>2.041178</td>\n",
       "      <td>1.552795</td>\n",
       "      <td>0.090211</td>\n",
       "      <td>6.413944</td>\n",
       "      <td>1.961188</td>\n",
       "      <td>0.315060</td>\n",
       "    </tr>\n",
       "    <tr>\n",
       "      <th>min</th>\n",
       "      <td>1.000000e+00</td>\n",
       "      <td>0.000000</td>\n",
       "      <td>1.000000</td>\n",
       "      <td>0.000000</td>\n",
       "      <td>0.000000</td>\n",
       "      <td>0.000000</td>\n",
       "      <td>0.000000</td>\n",
       "      <td>0.000000</td>\n",
       "    </tr>\n",
       "    <tr>\n",
       "      <th>25%</th>\n",
       "      <td>6.285000e+03</td>\n",
       "      <td>0.000000</td>\n",
       "      <td>4.000000</td>\n",
       "      <td>0.000000</td>\n",
       "      <td>0.000000</td>\n",
       "      <td>0.000000</td>\n",
       "      <td>0.000000</td>\n",
       "      <td>0.000000</td>\n",
       "    </tr>\n",
       "    <tr>\n",
       "      <th>50%</th>\n",
       "      <td>2.040000e+04</td>\n",
       "      <td>3.000000</td>\n",
       "      <td>6.000000</td>\n",
       "      <td>1.000000</td>\n",
       "      <td>0.000000</td>\n",
       "      <td>0.000000</td>\n",
       "      <td>1.000000</td>\n",
       "      <td>0.000000</td>\n",
       "    </tr>\n",
       "    <tr>\n",
       "      <th>75%</th>\n",
       "      <td>6.531375e+04</td>\n",
       "      <td>10.000000</td>\n",
       "      <td>7.000000</td>\n",
       "      <td>1.000000</td>\n",
       "      <td>0.000000</td>\n",
       "      <td>0.000000</td>\n",
       "      <td>1.000000</td>\n",
       "      <td>0.000000</td>\n",
       "    </tr>\n",
       "    <tr>\n",
       "      <th>max</th>\n",
       "      <td>4.047528e+06</td>\n",
       "      <td>760.000000</td>\n",
       "      <td>12.000000</td>\n",
       "      <td>106.000000</td>\n",
       "      <td>1.000000</td>\n",
       "      <td>966.000000</td>\n",
       "      <td>120.000000</td>\n",
       "      <td>24.000000</td>\n",
       "    </tr>\n",
       "  </tbody>\n",
       "</table>\n",
       "</div>"
      ],
      "text/plain": [
       "             points    badges_cnt    user_grade  has_teacher_cnt  \\\n",
       "count  7.275800e+04  72758.000000  72758.000000     72758.000000   \n",
       "mean   6.304759e+04      9.543789      5.620715         0.884810   \n",
       "std    1.242042e+05     19.036328      2.041178         1.552795   \n",
       "min    1.000000e+00      0.000000      1.000000         0.000000   \n",
       "25%    6.285000e+03      0.000000      4.000000         0.000000   \n",
       "50%    2.040000e+04      3.000000      6.000000         1.000000   \n",
       "75%    6.531375e+04     10.000000      7.000000         1.000000   \n",
       "max    4.047528e+06    760.000000     12.000000       106.000000   \n",
       "\n",
       "       is_self_coach  has_student_cnt  belongs_to_class_cnt  has_class_cnt  \n",
       "count   72758.000000     72758.000000          72758.000000   72758.000000  \n",
       "mean        0.008205         0.203304              0.873306       0.046442  \n",
       "std         0.090211         6.413944              1.961188       0.315060  \n",
       "min         0.000000         0.000000              0.000000       0.000000  \n",
       "25%         0.000000         0.000000              0.000000       0.000000  \n",
       "50%         0.000000         0.000000              1.000000       0.000000  \n",
       "75%         0.000000         0.000000              1.000000       0.000000  \n",
       "max         1.000000       966.000000            120.000000      24.000000  "
      ]
     },
     "execution_count": 19,
     "metadata": {},
     "output_type": "execute_result"
    }
   ],
   "source": [
    "info_userdata_raw_df.describe()"
   ]
  },
  {
   "cell_type": "markdown",
   "metadata": {},
   "source": [
    "The datatypes have to indicate in the `include` parameter to see statistics on non-numerical features. Object parameter has been indicated to see the statistics on the object features."
   ]
  },
  {
   "cell_type": "code",
   "execution_count": 20,
   "metadata": {},
   "outputs": [
    {
     "data": {
      "text/html": [
       "<div>\n",
       "<style scoped>\n",
       "    .dataframe tbody tr th:only-of-type {\n",
       "        vertical-align: middle;\n",
       "    }\n",
       "\n",
       "    .dataframe tbody tr th {\n",
       "        vertical-align: top;\n",
       "    }\n",
       "\n",
       "    .dataframe thead th {\n",
       "        text-align: right;\n",
       "    }\n",
       "</style>\n",
       "<table border=\"1\" class=\"dataframe\">\n",
       "  <thead>\n",
       "    <tr style=\"text-align: right;\">\n",
       "      <th></th>\n",
       "      <th>gender</th>\n",
       "      <th>first_login_date_TW</th>\n",
       "      <th>user_city</th>\n",
       "    </tr>\n",
       "  </thead>\n",
       "  <tbody>\n",
       "    <tr>\n",
       "      <th>count</th>\n",
       "      <td>32905</td>\n",
       "      <td>72758</td>\n",
       "      <td>72758</td>\n",
       "    </tr>\n",
       "    <tr>\n",
       "      <th>unique</th>\n",
       "      <td>3</td>\n",
       "      <td>365</td>\n",
       "      <td>20</td>\n",
       "    </tr>\n",
       "    <tr>\n",
       "      <th>top</th>\n",
       "      <td>female</td>\n",
       "      <td>2018-08-31</td>\n",
       "      <td>tp</td>\n",
       "    </tr>\n",
       "    <tr>\n",
       "      <th>freq</th>\n",
       "      <td>13099</td>\n",
       "      <td>1008</td>\n",
       "      <td>12494</td>\n",
       "    </tr>\n",
       "  </tbody>\n",
       "</table>\n",
       "</div>"
      ],
      "text/plain": [
       "        gender first_login_date_TW user_city\n",
       "count    32905               72758     72758\n",
       "unique       3                 365        20\n",
       "top     female          2018-08-31        tp\n",
       "freq     13099                1008     12494"
      ]
     },
     "execution_count": 20,
     "metadata": {},
     "output_type": "execute_result"
    }
   ],
   "source": [
    "info_userdata_raw_df.describe(include=['object'])"
   ]
  },
  {
   "cell_type": "markdown",
   "metadata": {},
   "source": [
    "For categorical (type object) feature we can use the `value_counts` method. Let's have a look at the distribution of Churn:"
   ]
  },
  {
   "cell_type": "code",
   "execution_count": 24,
   "metadata": {},
   "outputs": [
    {
     "data": {
      "text/plain": [
       "2018-08-31    1008\n",
       "2018-09-20     926\n",
       "2018-09-11     888\n",
       "2018-09-13     865\n",
       "2018-09-10     862\n",
       "              ... \n",
       "2019-02-03      29\n",
       "2019-02-06      25\n",
       "2019-02-04      24\n",
       "2019-02-05      20\n",
       "2019-02-02      20\n",
       "Name: first_login_date_TW, Length: 365, dtype: int64"
      ]
     },
     "execution_count": 24,
     "metadata": {},
     "output_type": "execute_result"
    }
   ],
   "source": [
    "info_userdata_raw_df['first_login_date_TW'].value_counts().sort_values(ascending=False)"
   ]
  },
  {
   "cell_type": "markdown",
   "metadata": {},
   "source": [
    "Some content_pretty_name has the frequency of 2."
   ]
  },
  {
   "cell_type": "code",
   "execution_count": 26,
   "metadata": {},
   "outputs": [
    {
     "data": {
      "text/plain": [
       "tp      12494\n",
       "ntpc    10808\n",
       "tc      10710\n",
       "ty       7615\n",
       "kh       6888\n",
       "Name: user_city, dtype: int64"
      ]
     },
     "execution_count": 26,
     "metadata": {},
     "output_type": "execute_result"
    }
   ],
   "source": [
    "info_userdata_raw_df['user_city'].value_counts().head()"
   ]
  },
  {
   "cell_type": "code",
   "execution_count": 27,
   "metadata": {},
   "outputs": [
    {
     "data": {
      "text/plain": [
       "tp      0.171720\n",
       "ntpc    0.148547\n",
       "tc      0.147200\n",
       "ty      0.104662\n",
       "kh      0.094670\n",
       "Name: user_city, dtype: float64"
      ]
     },
     "execution_count": 27,
     "metadata": {},
     "output_type": "execute_result"
    }
   ],
   "source": [
    "info_userdata_raw_df['user_city'].value_counts(normalize=True).head()"
   ]
  },
  {
   "cell_type": "markdown",
   "metadata": {},
   "source": [
    "1330 records are the kind of exercise. The current dataset release only includes `Exercise`. The `content_kind` column can be drop since all rows have the same values."
   ]
  },
  {
   "cell_type": "code",
   "execution_count": 16,
   "metadata": {},
   "outputs": [
    {
     "data": {
      "text/plain": [
       "False    72161\n",
       "True       597\n",
       "Name: is_self_coach, dtype: int64"
      ]
     },
     "execution_count": 16,
     "metadata": {},
     "output_type": "execute_result"
    }
   ],
   "source": [
    "info_userdata_raw_df['is_self_coach'].value_counts()"
   ]
  },
  {
   "cell_type": "code",
   "execution_count": 17,
   "metadata": {},
   "outputs": [
    {
     "data": {
      "text/plain": [
       "False    0.991795\n",
       "True     0.008205\n",
       "Name: is_self_coach, dtype: float64"
      ]
     },
     "execution_count": 17,
     "metadata": {},
     "output_type": "execute_result"
    }
   ],
   "source": [
    "info_userdata_raw_df['is_self_coach'].value_counts(normalize=True)"
   ]
  },
  {
   "cell_type": "markdown",
   "metadata": {},
   "source": [
    "835 problems are easy, 305 problems are normal, 149 problems are hard difficulty and 41 problems are unset."
   ]
  }
 ],
 "metadata": {
  "kernelspec": {
   "display_name": "Python 3",
   "language": "python",
   "name": "python3"
  },
  "language_info": {
   "codemirror_mode": {
    "name": "ipython",
    "version": 3
   },
   "file_extension": ".py",
   "mimetype": "text/x-python",
   "name": "python",
   "nbconvert_exporter": "python",
   "pygments_lexer": "ipython3",
   "version": "3.7.6"
  }
 },
 "nbformat": 4,
 "nbformat_minor": 4
}

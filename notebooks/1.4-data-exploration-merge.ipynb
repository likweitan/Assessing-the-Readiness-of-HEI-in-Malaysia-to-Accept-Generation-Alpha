{
 "cells": [
  {
   "cell_type": "markdown",
   "metadata": {},
   "source": [
    "[![Open In Colab](https://colab.research.google.com/assets/colab-badge.svg)](https://colab.research.google.com/drive/1nmRz-pOLEc0zjeG6MIaqtMXgdql4wpi0?usp=sharing)"
   ]
  },
  {
   "cell_type": "markdown",
   "metadata": {},
   "source": [
    "# 1.1 - Data Exploration (Merge Content)\n",
    "\n",
    "This notebook provides the in depth analysis on the student performance in exams at public schools.\n",
    "\n",
    "**Info_Content.csv**\n",
    "\n",
    "The content in Junyi Academy contains exercises, videos, and exams.\n",
    "All the content in this dataset is in the type of exercise.\n",
    "\n",
    "An exercise is a basic unit for students to learn a certain concept.\n",
    "There are multiple problems in a single exercise that all relate to a certain concept.\n",
    "\n",
    "This table records the metadata and hierarchy structure of each exercise in Junyi Academy.\n",
    "There are three difficulty settings for each content, which indicates how hard it is to learn the concept.\n",
    "The learning stage is separated into three stages: Elementary, Junior, and Senior.\n",
    "\n",
    "The exercises in Junyi Academy are organized in a tree-like structure.\n",
    "The current dataset release has four levels in the hierarchy.\n",
    "\n",
    "| Variable Name | Description |\n",
    "|:-|:-|\n",
    "| ucid | The hashed unique ID of the content. |\n",
    "| content_pretty_name | The Chinese display name of this content. |\n",
    "| content_kind | The kind of this content. The current dataset release only includes `Exercise` |\n",
    "| difficulty | The difficulty of this content. There are four possible values: `Easy`, `Normal`, `Hard` and `Unset`. Unset means |\n",
    "| learning stage | The subject of this content. The current dataset release only includes `math` |\n",
    "| subject | The learning stage of this content. There are three possible values: `Elementary`, `Junior` and `Senior`. |\n",
    "| level1_id | The hashed level 1 layer ID of this content. The levels form the tree-like hierarchy structure of contents in Junyi |\n",
    "| level2_id | The hashed level 2 layer ID of this content. The levels form the tree-like hierarchy structure of contents in Junyi |\n",
    "| level3_id | The hashed level 3 layer ID of this content. The levels form the tree-like hierarchy structure of contents in Junyi |\n",
    "| level4_id | The hashed level 4 layer ID of this content. The levels form the tree-like hierarchy structure of contents in Junyi |"
   ]
  },
  {
   "cell_type": "markdown",
   "metadata": {},
   "source": [
    "## Importing Libraries"
   ]
  },
  {
   "cell_type": "code",
   "execution_count": 2,
   "metadata": {},
   "outputs": [],
   "source": [
    "import numpy as np # linear algebra\n",
    "import pandas as pd # data processing, CSV file I/O\n",
    "import matplotlib.pyplot as plt"
   ]
  },
  {
   "cell_type": "markdown",
   "metadata": {},
   "source": [
    "## Loading Data"
   ]
  },
  {
   "cell_type": "code",
   "execution_count": 3,
   "metadata": {},
   "outputs": [
    {
     "name": "stdout",
     "output_type": "stream",
     "text": [
      "Wall time: 20.1 ms\n"
     ]
    }
   ],
   "source": [
    "%%time\n",
    "info_content_raw_df = pd.read_csv('../data/raw/Info_Content.csv', index_col='ucid')\n",
    "info_userdata_raw_df = pd.read_csv('../data/raw/Info_UserData.csv', index_col='uuid')\n",
    "log_problem_raw_df = pd.read_csv('../data/raw/Log_Problem.csv', index_col='upid')"
   ]
  },
  {
   "cell_type": "markdown",
   "metadata": {},
   "source": [
    "## Merging Data\n",
    "\n",
    "This is one of the most important steps for our solution. The users, contents and problems are stored in seperate datasets. For purpose of model, the datasets have to be merged in very carefull way so that they are useful for the model.\n",
    "\n",
    "1. One users can attempt multiple problems.\n",
    "2. One content can have multiple problems."
   ]
  },
  {
   "cell_type": "code",
   "execution_count": null,
   "metadata": {},
   "outputs": [],
   "source": [
    "merge_df = log_problem_raw_df.merge(info_userdata_df, how='left', on='uuid')"
   ]
  },
  {
   "cell_type": "code",
   "execution_count": null,
   "metadata": {},
   "outputs": [],
   "source": [
    "merge_df = merge_df.merge(info_content_raw_df, how='left', on='ucid')"
   ]
  },
  {
   "cell_type": "code",
   "execution_count": 4,
   "metadata": {},
   "outputs": [
    {
     "data": {
      "text/html": [
       "<div>\n",
       "<style scoped>\n",
       "    .dataframe tbody tr th:only-of-type {\n",
       "        vertical-align: middle;\n",
       "    }\n",
       "\n",
       "    .dataframe tbody tr th {\n",
       "        vertical-align: top;\n",
       "    }\n",
       "\n",
       "    .dataframe thead th {\n",
       "        text-align: right;\n",
       "    }\n",
       "</style>\n",
       "<table border=\"1\" class=\"dataframe\">\n",
       "  <thead>\n",
       "    <tr style=\"text-align: right;\">\n",
       "      <th></th>\n",
       "      <th>content_pretty_name</th>\n",
       "      <th>content_kind</th>\n",
       "      <th>difficulty</th>\n",
       "      <th>subject</th>\n",
       "      <th>learning_stage</th>\n",
       "      <th>level1_id</th>\n",
       "      <th>level2_id</th>\n",
       "      <th>level3_id</th>\n",
       "      <th>level4_id</th>\n",
       "    </tr>\n",
       "    <tr>\n",
       "      <th>ucid</th>\n",
       "      <th></th>\n",
       "      <th></th>\n",
       "      <th></th>\n",
       "      <th></th>\n",
       "      <th></th>\n",
       "      <th></th>\n",
       "      <th></th>\n",
       "      <th></th>\n",
       "      <th></th>\n",
       "    </tr>\n",
       "  </thead>\n",
       "  <tbody>\n",
       "    <tr>\n",
       "      <th>odIwFdIiecFwVUAEEV40K3MSuCSlIZkbq92Zp9tkZq8=</th>\n",
       "      <td>【基礎】怎樣解題：數量關係</td>\n",
       "      <td>Exercise</td>\n",
       "      <td>easy</td>\n",
       "      <td>math</td>\n",
       "      <td>elementary</td>\n",
       "      <td>aH0Dz0KdH9gio7rrcGRHvrmd9vcd/0WJbeEFB7qeUKA=</td>\n",
       "      <td>ICgke8JJv5eapCPwyj1aco8PEtoBkUbTZYIqxmYtqBk=</td>\n",
       "      <td>bo3jsx1beVLEZ+2sckxdZNYnlLpVS7hb5lWU2baQ66k=</td>\n",
       "      <td>KPJMQebU0O24+NzlQ4udb2BXLlKV1Hte61+hV5Xb+oU=</td>\n",
       "    </tr>\n",
       "    <tr>\n",
       "      <th>dfeeBaa8zDhWS6nu7zeXKwLyi4zqEajI3tJM9/fSBPM=</th>\n",
       "      <td>【基礎】和差問題 1</td>\n",
       "      <td>Exercise</td>\n",
       "      <td>easy</td>\n",
       "      <td>math</td>\n",
       "      <td>elementary</td>\n",
       "      <td>aH0Dz0KdH9gio7rrcGRHvrmd9vcd/0WJbeEFB7qeUKA=</td>\n",
       "      <td>ICgke8JJv5eapCPwyj1aco8PEtoBkUbTZYIqxmYtqBk=</td>\n",
       "      <td>bo3jsx1beVLEZ+2sckxdZNYnlLpVS7hb5lWU2baQ66k=</td>\n",
       "      <td>KPJMQebU0O24+NzlQ4udb2BXLlKV1Hte61+hV5Xb+oU=</td>\n",
       "    </tr>\n",
       "    <tr>\n",
       "      <th>C2AT0OBTUn+PRxEVd39enhW/DJtka1Tk90DUAR6yVdA=</th>\n",
       "      <td>【基礎】雞兔問題 1</td>\n",
       "      <td>Exercise</td>\n",
       "      <td>easy</td>\n",
       "      <td>math</td>\n",
       "      <td>elementary</td>\n",
       "      <td>aH0Dz0KdH9gio7rrcGRHvrmd9vcd/0WJbeEFB7qeUKA=</td>\n",
       "      <td>ICgke8JJv5eapCPwyj1aco8PEtoBkUbTZYIqxmYtqBk=</td>\n",
       "      <td>bo3jsx1beVLEZ+2sckxdZNYnlLpVS7hb5lWU2baQ66k=</td>\n",
       "      <td>KPJMQebU0O24+NzlQ4udb2BXLlKV1Hte61+hV5Xb+oU=</td>\n",
       "    </tr>\n",
       "    <tr>\n",
       "      <th>jZvYpEa6VB/WrlKKmQHnfbv/xJ4OypBzq0epVcn500Q=</th>\n",
       "      <td>【基礎】年齡問題 1</td>\n",
       "      <td>Exercise</td>\n",
       "      <td>easy</td>\n",
       "      <td>math</td>\n",
       "      <td>elementary</td>\n",
       "      <td>aH0Dz0KdH9gio7rrcGRHvrmd9vcd/0WJbeEFB7qeUKA=</td>\n",
       "      <td>ICgke8JJv5eapCPwyj1aco8PEtoBkUbTZYIqxmYtqBk=</td>\n",
       "      <td>bo3jsx1beVLEZ+2sckxdZNYnlLpVS7hb5lWU2baQ66k=</td>\n",
       "      <td>KPJMQebU0O24+NzlQ4udb2BXLlKV1Hte61+hV5Xb+oU=</td>\n",
       "    </tr>\n",
       "    <tr>\n",
       "      <th>M+UxJPgRIW57a0YS3eik8A9YDj+AwaMpTa5yWYn/kAw=</th>\n",
       "      <td>【基礎】追趕問題</td>\n",
       "      <td>Exercise</td>\n",
       "      <td>easy</td>\n",
       "      <td>math</td>\n",
       "      <td>elementary</td>\n",
       "      <td>aH0Dz0KdH9gio7rrcGRHvrmd9vcd/0WJbeEFB7qeUKA=</td>\n",
       "      <td>ICgke8JJv5eapCPwyj1aco8PEtoBkUbTZYIqxmYtqBk=</td>\n",
       "      <td>bo3jsx1beVLEZ+2sckxdZNYnlLpVS7hb5lWU2baQ66k=</td>\n",
       "      <td>KPJMQebU0O24+NzlQ4udb2BXLlKV1Hte61+hV5Xb+oU=</td>\n",
       "    </tr>\n",
       "  </tbody>\n",
       "</table>\n",
       "</div>"
      ],
      "text/plain": [
       "                                             content_pretty_name content_kind  \\\n",
       "ucid                                                                            \n",
       "odIwFdIiecFwVUAEEV40K3MSuCSlIZkbq92Zp9tkZq8=       【基礎】怎樣解題：數量關係     Exercise   \n",
       "dfeeBaa8zDhWS6nu7zeXKwLyi4zqEajI3tJM9/fSBPM=          【基礎】和差問題 1     Exercise   \n",
       "C2AT0OBTUn+PRxEVd39enhW/DJtka1Tk90DUAR6yVdA=          【基礎】雞兔問題 1     Exercise   \n",
       "jZvYpEa6VB/WrlKKmQHnfbv/xJ4OypBzq0epVcn500Q=          【基礎】年齡問題 1     Exercise   \n",
       "M+UxJPgRIW57a0YS3eik8A9YDj+AwaMpTa5yWYn/kAw=            【基礎】追趕問題     Exercise   \n",
       "\n",
       "                                             difficulty subject  \\\n",
       "ucid                                                              \n",
       "odIwFdIiecFwVUAEEV40K3MSuCSlIZkbq92Zp9tkZq8=       easy    math   \n",
       "dfeeBaa8zDhWS6nu7zeXKwLyi4zqEajI3tJM9/fSBPM=       easy    math   \n",
       "C2AT0OBTUn+PRxEVd39enhW/DJtka1Tk90DUAR6yVdA=       easy    math   \n",
       "jZvYpEa6VB/WrlKKmQHnfbv/xJ4OypBzq0epVcn500Q=       easy    math   \n",
       "M+UxJPgRIW57a0YS3eik8A9YDj+AwaMpTa5yWYn/kAw=       easy    math   \n",
       "\n",
       "                                             learning_stage  \\\n",
       "ucid                                                          \n",
       "odIwFdIiecFwVUAEEV40K3MSuCSlIZkbq92Zp9tkZq8=     elementary   \n",
       "dfeeBaa8zDhWS6nu7zeXKwLyi4zqEajI3tJM9/fSBPM=     elementary   \n",
       "C2AT0OBTUn+PRxEVd39enhW/DJtka1Tk90DUAR6yVdA=     elementary   \n",
       "jZvYpEa6VB/WrlKKmQHnfbv/xJ4OypBzq0epVcn500Q=     elementary   \n",
       "M+UxJPgRIW57a0YS3eik8A9YDj+AwaMpTa5yWYn/kAw=     elementary   \n",
       "\n",
       "                                                                                 level1_id  \\\n",
       "ucid                                                                                         \n",
       "odIwFdIiecFwVUAEEV40K3MSuCSlIZkbq92Zp9tkZq8=  aH0Dz0KdH9gio7rrcGRHvrmd9vcd/0WJbeEFB7qeUKA=   \n",
       "dfeeBaa8zDhWS6nu7zeXKwLyi4zqEajI3tJM9/fSBPM=  aH0Dz0KdH9gio7rrcGRHvrmd9vcd/0WJbeEFB7qeUKA=   \n",
       "C2AT0OBTUn+PRxEVd39enhW/DJtka1Tk90DUAR6yVdA=  aH0Dz0KdH9gio7rrcGRHvrmd9vcd/0WJbeEFB7qeUKA=   \n",
       "jZvYpEa6VB/WrlKKmQHnfbv/xJ4OypBzq0epVcn500Q=  aH0Dz0KdH9gio7rrcGRHvrmd9vcd/0WJbeEFB7qeUKA=   \n",
       "M+UxJPgRIW57a0YS3eik8A9YDj+AwaMpTa5yWYn/kAw=  aH0Dz0KdH9gio7rrcGRHvrmd9vcd/0WJbeEFB7qeUKA=   \n",
       "\n",
       "                                                                                 level2_id  \\\n",
       "ucid                                                                                         \n",
       "odIwFdIiecFwVUAEEV40K3MSuCSlIZkbq92Zp9tkZq8=  ICgke8JJv5eapCPwyj1aco8PEtoBkUbTZYIqxmYtqBk=   \n",
       "dfeeBaa8zDhWS6nu7zeXKwLyi4zqEajI3tJM9/fSBPM=  ICgke8JJv5eapCPwyj1aco8PEtoBkUbTZYIqxmYtqBk=   \n",
       "C2AT0OBTUn+PRxEVd39enhW/DJtka1Tk90DUAR6yVdA=  ICgke8JJv5eapCPwyj1aco8PEtoBkUbTZYIqxmYtqBk=   \n",
       "jZvYpEa6VB/WrlKKmQHnfbv/xJ4OypBzq0epVcn500Q=  ICgke8JJv5eapCPwyj1aco8PEtoBkUbTZYIqxmYtqBk=   \n",
       "M+UxJPgRIW57a0YS3eik8A9YDj+AwaMpTa5yWYn/kAw=  ICgke8JJv5eapCPwyj1aco8PEtoBkUbTZYIqxmYtqBk=   \n",
       "\n",
       "                                                                                 level3_id  \\\n",
       "ucid                                                                                         \n",
       "odIwFdIiecFwVUAEEV40K3MSuCSlIZkbq92Zp9tkZq8=  bo3jsx1beVLEZ+2sckxdZNYnlLpVS7hb5lWU2baQ66k=   \n",
       "dfeeBaa8zDhWS6nu7zeXKwLyi4zqEajI3tJM9/fSBPM=  bo3jsx1beVLEZ+2sckxdZNYnlLpVS7hb5lWU2baQ66k=   \n",
       "C2AT0OBTUn+PRxEVd39enhW/DJtka1Tk90DUAR6yVdA=  bo3jsx1beVLEZ+2sckxdZNYnlLpVS7hb5lWU2baQ66k=   \n",
       "jZvYpEa6VB/WrlKKmQHnfbv/xJ4OypBzq0epVcn500Q=  bo3jsx1beVLEZ+2sckxdZNYnlLpVS7hb5lWU2baQ66k=   \n",
       "M+UxJPgRIW57a0YS3eik8A9YDj+AwaMpTa5yWYn/kAw=  bo3jsx1beVLEZ+2sckxdZNYnlLpVS7hb5lWU2baQ66k=   \n",
       "\n",
       "                                                                                 level4_id  \n",
       "ucid                                                                                        \n",
       "odIwFdIiecFwVUAEEV40K3MSuCSlIZkbq92Zp9tkZq8=  KPJMQebU0O24+NzlQ4udb2BXLlKV1Hte61+hV5Xb+oU=  \n",
       "dfeeBaa8zDhWS6nu7zeXKwLyi4zqEajI3tJM9/fSBPM=  KPJMQebU0O24+NzlQ4udb2BXLlKV1Hte61+hV5Xb+oU=  \n",
       "C2AT0OBTUn+PRxEVd39enhW/DJtka1Tk90DUAR6yVdA=  KPJMQebU0O24+NzlQ4udb2BXLlKV1Hte61+hV5Xb+oU=  \n",
       "jZvYpEa6VB/WrlKKmQHnfbv/xJ4OypBzq0epVcn500Q=  KPJMQebU0O24+NzlQ4udb2BXLlKV1Hte61+hV5Xb+oU=  \n",
       "M+UxJPgRIW57a0YS3eik8A9YDj+AwaMpTa5yWYn/kAw=  KPJMQebU0O24+NzlQ4udb2BXLlKV1Hte61+hV5Xb+oU=  "
      ]
     },
     "execution_count": 4,
     "metadata": {},
     "output_type": "execute_result"
    }
   ],
   "source": [
    "info_content_raw_df.head()"
   ]
  },
  {
   "cell_type": "markdown",
   "metadata": {},
   "source": [
    "Let’s have a look at data dimensionality, feature names, and feature types."
   ]
  },
  {
   "cell_type": "code",
   "execution_count": 5,
   "metadata": {},
   "outputs": [
    {
     "data": {
      "text/plain": [
       "(1330, 9)"
      ]
     },
     "execution_count": 5,
     "metadata": {},
     "output_type": "execute_result"
    }
   ],
   "source": [
    "info_content_raw_df.shape"
   ]
  },
  {
   "cell_type": "markdown",
   "metadata": {},
   "source": [
    "From the output, we can see that the table contains 1330 rows and 9 columns.\n",
    "\n",
    "Now let's try printing out column names using columns:"
   ]
  },
  {
   "cell_type": "code",
   "execution_count": 6,
   "metadata": {},
   "outputs": [
    {
     "data": {
      "text/plain": [
       "Index(['content_pretty_name', 'content_kind', 'difficulty', 'subject',\n",
       "       'learning_stage', 'level1_id', 'level2_id', 'level3_id', 'level4_id'],\n",
       "      dtype='object')"
      ]
     },
     "execution_count": 6,
     "metadata": {},
     "output_type": "execute_result"
    }
   ],
   "source": [
    "info_content_raw_df.columns"
   ]
  },
  {
   "cell_type": "code",
   "execution_count": 7,
   "metadata": {},
   "outputs": [
    {
     "name": "stdout",
     "output_type": "stream",
     "text": [
      "<class 'pandas.core.frame.DataFrame'>\n",
      "Index: 1330 entries, odIwFdIiecFwVUAEEV40K3MSuCSlIZkbq92Zp9tkZq8= to gvez7GFXUbuQl27U5+p/4QwFZZyXP2QFYQdoor8ZkeE=\n",
      "Data columns (total 9 columns):\n",
      " #   Column               Non-Null Count  Dtype \n",
      "---  ------               --------------  ----- \n",
      " 0   content_pretty_name  1330 non-null   object\n",
      " 1   content_kind         1330 non-null   object\n",
      " 2   difficulty           1330 non-null   object\n",
      " 3   subject              1330 non-null   object\n",
      " 4   learning_stage       1330 non-null   object\n",
      " 5   level1_id            1330 non-null   object\n",
      " 6   level2_id            1330 non-null   object\n",
      " 7   level3_id            1330 non-null   object\n",
      " 8   level4_id            1330 non-null   object\n",
      "dtypes: object(9)\n",
      "memory usage: 103.9+ KB\n"
     ]
    }
   ],
   "source": [
    "info_content_raw_df.info()"
   ]
  },
  {
   "cell_type": "markdown",
   "metadata": {},
   "source": [
    "object is the data types of our features. With this same method, we can easily see if there are any missing values. Here, there are none because each column contains 1330 observations, the same number of rows we saw before with shape."
   ]
  },
  {
   "cell_type": "code",
   "execution_count": 8,
   "metadata": {},
   "outputs": [
    {
     "data": {
      "text/html": [
       "<div>\n",
       "<style scoped>\n",
       "    .dataframe tbody tr th:only-of-type {\n",
       "        vertical-align: middle;\n",
       "    }\n",
       "\n",
       "    .dataframe tbody tr th {\n",
       "        vertical-align: top;\n",
       "    }\n",
       "\n",
       "    .dataframe thead th {\n",
       "        text-align: right;\n",
       "    }\n",
       "</style>\n",
       "<table border=\"1\" class=\"dataframe\">\n",
       "  <thead>\n",
       "    <tr style=\"text-align: right;\">\n",
       "      <th></th>\n",
       "      <th>content_pretty_name</th>\n",
       "      <th>content_kind</th>\n",
       "      <th>difficulty</th>\n",
       "      <th>subject</th>\n",
       "      <th>learning_stage</th>\n",
       "      <th>level1_id</th>\n",
       "      <th>level2_id</th>\n",
       "      <th>level3_id</th>\n",
       "      <th>level4_id</th>\n",
       "    </tr>\n",
       "  </thead>\n",
       "  <tbody>\n",
       "    <tr>\n",
       "      <th>count</th>\n",
       "      <td>1330</td>\n",
       "      <td>1330</td>\n",
       "      <td>1330</td>\n",
       "      <td>1330</td>\n",
       "      <td>1330</td>\n",
       "      <td>1330</td>\n",
       "      <td>1330</td>\n",
       "      <td>1330</td>\n",
       "      <td>1330</td>\n",
       "    </tr>\n",
       "    <tr>\n",
       "      <th>unique</th>\n",
       "      <td>1320</td>\n",
       "      <td>1</td>\n",
       "      <td>4</td>\n",
       "      <td>1</td>\n",
       "      <td>3</td>\n",
       "      <td>1</td>\n",
       "      <td>10</td>\n",
       "      <td>42</td>\n",
       "      <td>171</td>\n",
       "    </tr>\n",
       "    <tr>\n",
       "      <th>top</th>\n",
       "      <td>【基礎】因數與倍數</td>\n",
       "      <td>Exercise</td>\n",
       "      <td>easy</td>\n",
       "      <td>math</td>\n",
       "      <td>elementary</td>\n",
       "      <td>aH0Dz0KdH9gio7rrcGRHvrmd9vcd/0WJbeEFB7qeUKA=</td>\n",
       "      <td>7f73q332BKPBXaixasa4EkUb+pF6VAsLxNIg4506JJs=</td>\n",
       "      <td>scsWmkZsfmdmD2IzB24sQ1Au1BOXYgQEx9zO3+4glq8=</td>\n",
       "      <td>364ml6jwsO0pO5l86JBpC+KFYvYr7mn7S9gVuhoBnUE=</td>\n",
       "    </tr>\n",
       "    <tr>\n",
       "      <th>freq</th>\n",
       "      <td>2</td>\n",
       "      <td>1330</td>\n",
       "      <td>835</td>\n",
       "      <td>1330</td>\n",
       "      <td>784</td>\n",
       "      <td>1330</td>\n",
       "      <td>553</td>\n",
       "      <td>146</td>\n",
       "      <td>18</td>\n",
       "    </tr>\n",
       "  </tbody>\n",
       "</table>\n",
       "</div>"
      ],
      "text/plain": [
       "       content_pretty_name content_kind difficulty subject learning_stage  \\\n",
       "count                 1330         1330       1330    1330           1330   \n",
       "unique                1320            1          4       1              3   \n",
       "top              【基礎】因數與倍數     Exercise       easy    math     elementary   \n",
       "freq                     2         1330        835    1330            784   \n",
       "\n",
       "                                           level1_id  \\\n",
       "count                                           1330   \n",
       "unique                                             1   \n",
       "top     aH0Dz0KdH9gio7rrcGRHvrmd9vcd/0WJbeEFB7qeUKA=   \n",
       "freq                                            1330   \n",
       "\n",
       "                                           level2_id  \\\n",
       "count                                           1330   \n",
       "unique                                            10   \n",
       "top     7f73q332BKPBXaixasa4EkUb+pF6VAsLxNIg4506JJs=   \n",
       "freq                                             553   \n",
       "\n",
       "                                           level3_id  \\\n",
       "count                                           1330   \n",
       "unique                                            42   \n",
       "top     scsWmkZsfmdmD2IzB24sQ1Au1BOXYgQEx9zO3+4glq8=   \n",
       "freq                                             146   \n",
       "\n",
       "                                           level4_id  \n",
       "count                                           1330  \n",
       "unique                                           171  \n",
       "top     364ml6jwsO0pO5l86JBpC+KFYvYr7mn7S9gVuhoBnUE=  \n",
       "freq                                              18  "
      ]
     },
     "execution_count": 8,
     "metadata": {},
     "output_type": "execute_result"
    }
   ],
   "source": [
    "info_content_raw_df.describe()"
   ]
  },
  {
   "cell_type": "markdown",
   "metadata": {},
   "source": [
    "For categorical (type object) feature we can use the value_counts method. Let's have a look at the distribution of Churn:"
   ]
  },
  {
   "cell_type": "code",
   "execution_count": 9,
   "metadata": {},
   "outputs": [
    {
     "data": {
      "text/plain": [
       "【基礎】因數與倍數          2\n",
       "【一般】函數關係式          2\n",
       "【基礎】線對稱圖形          2\n",
       "【進階】因數與倍數          2\n",
       "【基礎】質數與合數          2\n",
       "                  ..\n",
       "【基礎】認識函數的對應關係      1\n",
       "【進階】運用小數乘法解題       1\n",
       "【基礎】變換符號，做十字交乘法    1\n",
       "【進階】公里綜合習題         1\n",
       "【基礎】被乘數和積的關係       1\n",
       "Name: content_pretty_name, Length: 1320, dtype: int64"
      ]
     },
     "execution_count": 9,
     "metadata": {},
     "output_type": "execute_result"
    }
   ],
   "source": [
    "info_content_raw_df['content_pretty_name'].value_counts()"
   ]
  },
  {
   "cell_type": "markdown",
   "metadata": {},
   "source": [
    "Some content_pretty_name has the frequency of 2."
   ]
  },
  {
   "cell_type": "code",
   "execution_count": 10,
   "metadata": {},
   "outputs": [
    {
     "data": {
      "text/plain": [
       "Exercise    1330\n",
       "Name: content_kind, dtype: int64"
      ]
     },
     "execution_count": 10,
     "metadata": {},
     "output_type": "execute_result"
    }
   ],
   "source": [
    "info_content_raw_df['content_kind'].value_counts()"
   ]
  },
  {
   "cell_type": "markdown",
   "metadata": {},
   "source": [
    "1330 records are the kind of exercise. The current dataset release only includes `Exercise`. The `content_kind` column can be drop since all rows have the same values."
   ]
  },
  {
   "cell_type": "code",
   "execution_count": 11,
   "metadata": {},
   "outputs": [
    {
     "data": {
      "text/plain": [
       "easy      835\n",
       "normal    305\n",
       "hard      149\n",
       "unset      41\n",
       "Name: difficulty, dtype: int64"
      ]
     },
     "execution_count": 11,
     "metadata": {},
     "output_type": "execute_result"
    }
   ],
   "source": [
    "info_content_raw_df['difficulty'].value_counts()"
   ]
  },
  {
   "cell_type": "markdown",
   "metadata": {},
   "source": [
    "835 problems are easy, 305 problems are normal, 149 problems are hard difficulty and 41 problems are unset."
   ]
  },
  {
   "cell_type": "code",
   "execution_count": 12,
   "metadata": {},
   "outputs": [
    {
     "data": {
      "text/plain": [
       "math    1330\n",
       "Name: subject, dtype: int64"
      ]
     },
     "execution_count": 12,
     "metadata": {},
     "output_type": "execute_result"
    }
   ],
   "source": [
    "info_content_raw_df['subject'].value_counts()"
   ]
  },
  {
   "cell_type": "markdown",
   "metadata": {},
   "source": [
    "The subject of all 1330 content records are `math`. The current dataset release only includes `math`."
   ]
  },
  {
   "cell_type": "code",
   "execution_count": 13,
   "metadata": {},
   "outputs": [
    {
     "data": {
      "text/plain": [
       "elementary    784\n",
       "junior        543\n",
       "senior          3\n",
       "Name: learning_stage, dtype: int64"
      ]
     },
     "execution_count": 13,
     "metadata": {},
     "output_type": "execute_result"
    }
   ],
   "source": [
    "info_content_raw_df['learning_stage'].value_counts()"
   ]
  },
  {
   "cell_type": "markdown",
   "metadata": {},
   "source": [
    "There are 784 problems are elementary learning stage, 543 problems are junior learning stage and 3 problems are senior stage."
   ]
  },
  {
   "cell_type": "code",
   "execution_count": 14,
   "metadata": {},
   "outputs": [
    {
     "data": {
      "text/plain": [
       "aH0Dz0KdH9gio7rrcGRHvrmd9vcd/0WJbeEFB7qeUKA=    1330\n",
       "Name: level1_id, dtype: int64"
      ]
     },
     "execution_count": 14,
     "metadata": {},
     "output_type": "execute_result"
    }
   ],
   "source": [
    "info_content_raw_df['level1_id'].value_counts()"
   ]
  },
  {
   "cell_type": "code",
   "execution_count": 15,
   "metadata": {},
   "outputs": [
    {
     "data": {
      "text/plain": [
       "7f73q332BKPBXaixasa4EkUb+pF6VAsLxNIg4506JJs=    553\n",
       "R81Sqc8LAYj8amTPwFRvoPgbGpdaZoQLNX0hTg0DMB4=    224\n",
       "xYDz4OEv0xsri1IpmXlrgMLJ848rgySf+39xWpq4DBI=    162\n",
       "MfUX4BrIuFzJjm97tCQVisXbonyvtYtwCUJo6JpmoyU=    136\n",
       "1EzKLzTq9Ax8/wlR9cJNrtthvk9lBi/SFdx/4L1PIaE=    115\n",
       "ICgke8JJv5eapCPwyj1aco8PEtoBkUbTZYIqxmYtqBk=    100\n",
       "2YwsqJH0U7Zguyun1OaStQsIHbUoYvgJNK0QCGC5BQI=     21\n",
       "jXSXg7CfDboPEXlnqJTGuQOb0VIgOXCpaU/Sl+/m3n0=     16\n",
       "5Np4fxxPeBgmNpeEOcXqarZIVsOEzZ1fSssL8cytQAc=      2\n",
       "rzRcsBurW8jbUhivGAdZozPksRAZ5xM898ohJEBg93g=      1\n",
       "Name: level2_id, dtype: int64"
      ]
     },
     "execution_count": 15,
     "metadata": {},
     "output_type": "execute_result"
    }
   ],
   "source": [
    "info_content_raw_df['level2_id'].value_counts()"
   ]
  },
  {
   "cell_type": "code",
   "execution_count": 16,
   "metadata": {},
   "outputs": [
    {
     "data": {
      "text/plain": [
       "scsWmkZsfmdmD2IzB24sQ1Au1BOXYgQEx9zO3+4glq8=    146\n",
       "zM75Dhur9om41RTSUIivWvZ07gckl2Hi0cd3/Kx4sN4=    132\n",
       "YM8uggtD5HZBGCCzNJLU90fC9C+B8/bZP3x483rb7PI=     97\n",
       "4cISKCt3nXWe4r6Q8bzjOiL2EYYsZyT6Z0mNNJckqEc=     84\n",
       "nLqsiSA2CPPgbpIk8GE3OSF94E4F7ogLig3ETQnOw4g=     78\n",
       "CFq991L5i+mxDSbH+06jz+rWPf+FmW8hT4uxQjzwxpM=     49\n",
       "/yqeM1FRP1rB9WuQWBkStMqrBQgjEexaeyWIhBC7ov4=     43\n",
       "Dnl0P09LJllOG2eS2nB9pQax0ZixH7aCXPTKjB6O/dg=     37\n",
       "xJYDWrjKoWhvx5w88UZja7WZgWHm2o9jmUQR8V911qc=     37\n",
       "adBGt1t/h6kVwnNoQ/bmRj5KcQLWM8NKNR9HeqJy9ZA=     37\n",
       "ItasYR+er/FlZlRvL66/NB3wY0AvmlrZKoqe4gmPyD0=     34\n",
       "mS7VsK5w8e8Fw12vi9+tqcFfvw+I2J9+ot6NAMLgGno=     34\n",
       "t9kdlRkqrUJUBY1Ill0Lt1UDYGQG08slJLdM3z+3to4=     34\n",
       "APMXggE9pI1fpPhZYSwqSQGw/eQmPpLFBY7s9oBPWIk=     31\n",
       "X5gAB0OLUqA8Rp3qGLuJyf6kyY16/nSreFkh68gpFzc=     31\n",
       "a2w4FdOiBsy7t1fsstano3rtWKyay8qPhPd4U6Er7YQ=     27\n",
       "hnFTwzVTapuqt9dsYhFFSgSgU0i7cBjbx0itZHp3gXw=     26\n",
       "bnTxSNli6FmYFjFpnuPi5RDuC2L3MsoN4XIz7sdfdvI=     26\n",
       "sl7IabghdxfoS9yuKX/dLgRCIZfVrkT6fO1pbXV30cI=     24\n",
       "1B4NV31TSyP4bLmP6zbniKc01IeroOFi4KeZVsvWr7o=     24\n",
       "byyCU6NaraWhgyjXkt9R1RZVgu0ZxsL22jS4UxVY6Ew=     23\n",
       "t28teuC5ahPcOEtWJFv3k5eJZfLOFiyFCDL10Ktqu7Q=     23\n",
       "RaHaiGdqikWWUXScrUcgSP/rjWdSy3i6EZ4p8eAPUYw=     21\n",
       "kPy7IhYLwTHngKzp5/qneBv4L9KwwJ/xLWomT8kXrpE=     20\n",
       "o91QgDqF3F9aBsG9Hkj9t4iSWIwpYTe35Qvzt6liOq4=     19\n",
       "QdGKgDnnqgC77msy0sEBtbf4K+UaE00QCPNJJveO6l8=     19\n",
       "3K6i70RxArAjJBg/nT9AMCCNRQsNrr32YMy7N31uJCU=     18\n",
       "ls/y6S49d4XllF0S7f/RbTdoVAUnVFywHWp5SL66hpM=     18\n",
       "bo3jsx1beVLEZ+2sckxdZNYnlLpVS7hb5lWU2baQ66k=     16\n",
       "y3DisyzHxXkHzY6dwzju7SLxSfpowEusVisWi6I8Xaw=     15\n",
       "gNfvqveMYfgA/24bthu07e23yBnXcBBhU8/Zl7V5Mw4=     15\n",
       "3fgcSGTzD9uuOjoB5R7onIyqBhvluj0aVuSIpMfqLdQ=     15\n",
       "jGhUUjg94EaD/hHImiFXSyies5ALErVlma00y6AybTM=     14\n",
       "8OFhw5s0EmQIKBlKbJL+Dvp+u3ss4rN3foLwLM4xXls=     14\n",
       "oBYwVLa5y1p8BXITCAGb6mktep09ev+hSPXi7sMX6QU=     10\n",
       "DySOBHaLZsTiveM9ydb+JDF/4r3E/4RpX2HijyrUOMQ=      9\n",
       "31v13N8GN4hIUpg1IsMv4DVkK8Hlb0XhHnHnBR1Ivcs=      7\n",
       "3TpEcN+JUz/mQq8c1Q/Fxn66B9E2Z4mLxjxvFqLRKHo=      7\n",
       "0lUnR0ktOyp/k6AP59LT6LLleMy0sApv3Wx0P1IBU6c=      7\n",
       "SbjJOr6qtjsiqb5cTT/nQEFCsgNyP8xGaOQS4zHdQ0s=      6\n",
       "YGQ1eLjWtWHIAkAB6yUTdT2zGIiWF5fEjTY7D5Xy9ms=      2\n",
       "M6LwO5bdmAp0UUI8HyVFE9ATzSpeduEOnKfvx9921Y4=      1\n",
       "Name: level3_id, dtype: int64"
      ]
     },
     "execution_count": 16,
     "metadata": {},
     "output_type": "execute_result"
    }
   ],
   "source": [
    "info_content_raw_df['level3_id'].value_counts()"
   ]
  },
  {
   "cell_type": "code",
   "execution_count": 17,
   "metadata": {},
   "outputs": [
    {
     "data": {
      "text/plain": [
       "364ml6jwsO0pO5l86JBpC+KFYvYr7mn7S9gVuhoBnUE=    18\n",
       "FpQ/ONFxc3KG9UipcD2MZd0AB2A4C4QihnPIu1ilshs=    16\n",
       "B7VcZ+GXaXxwo0f9JJv1LLU2KkDNcrDt2cL6+KwnfrA=    16\n",
       "hq6uCe9NmtCc+0wlbGGIsxegP2cqYAdFebGd+v4/o8Q=    15\n",
       "SoFA3oYx02KwW6utJm+Op0W9ZI/wGVzDyVDAAZRiRng=    15\n",
       "                                                ..\n",
       "UgkV1PV2Qm1SUXkTKRK7ojztDA68vDv33Vg2mv+oWa0=     2\n",
       "18hZrFpMhRCzG1ntJLj9spv2bCK65XhZBR1+fdEQMaQ=     1\n",
       "k9h8WnipCeqQzCoBIlopbBZspaDYdQKbtmsv18qlUZM=     1\n",
       "zyVjBuMRkEs/hVTbayt34VrOAU1KNtk5Tt0EvU+/xhk=     1\n",
       "du5oJdoBN5kRI9HOeBz42j8tba4SuHf0PmdkaF97Nlg=     1\n",
       "Name: level4_id, Length: 171, dtype: int64"
      ]
     },
     "execution_count": 17,
     "metadata": {},
     "output_type": "execute_result"
    }
   ],
   "source": [
    "info_content_raw_df['level4_id'].value_counts()"
   ]
  }
 ],
 "metadata": {
  "kernelspec": {
   "display_name": "Python 3",
   "language": "python",
   "name": "python3"
  },
  "language_info": {
   "codemirror_mode": {
    "name": "ipython",
    "version": 3
   },
   "file_extension": ".py",
   "mimetype": "text/x-python",
   "name": "python",
   "nbconvert_exporter": "python",
   "pygments_lexer": "ipython3",
   "version": "3.7.6"
  }
 },
 "nbformat": 4,
 "nbformat_minor": 4
}
